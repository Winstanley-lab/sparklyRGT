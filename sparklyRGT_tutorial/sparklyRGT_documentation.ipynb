{
 "cells": [
  {
   "cell_type": "markdown",
   "metadata": {},
   "source": [
    "# SparklyRGT: rGT functions for data manipulation and visualization\n",
    "\n",
    "**About:** The purpose of this Notebook is to demonstrate how to summarize, manipulate, and plot rGT data using the sparklyRGT package. It serves as a reference point for data analysis, and should not be edited. \n",
    "\n",
    "**Contact:**\n",
    "* Dexter Kim: dexterkim2000@gmail.com\n",
    "* Brett Hathaway: bretthathaway@psych.ubc.ca\n",
    "\n",
    "**Requirements**\n",
    "* Familiarity with Jupyter Notebook (https://www.youtube.com/watch?v=jZ952vChhuI)\n",
    "* Please read the `readme.md` file before starting\n",
    "* The data must be an excel file from MEDPC2XL (trial by trial data) \n",
    "* The data, sparklyRGT.py file, and this notebook must all be in the same folder\n",
    "    * See [Section 4](#Changing-your-working-directory) if you want to have your data stored in a different folder\n",
    "\n",
    "## Table of contents\n",
    "* Section 1: [Loading data into Python](#1\\)-Load-data-into-Python)\n",
    "* Section 2: Baseline & Acquisition Analysis\n",
    "    * 2A: [Data cleaning and processing](#2A\\)-Baseline-&-Acquisition-Analysis)\n",
    "    * 2B: [Plotting](#2B\\)-Baseline-&-Acquisition-Analysis:-Plotting)\n",
    "* Section 3: Latin Square Analysis and Plotting\n",
    "    * 3A: [Data cleaning and processing](#3A\\)-Latin-Square-Analysis)\n",
    "    * 3B: [Plotting](#3B\\)-Latin-Square-Analysis:-Plotting)\n",
    "* Section 4: [Choice rGT](#4\\)-Choice-rGT)\n",
    "* Section 5: [Miscellaneous](#5\\)-Miscellaneous)\n",
    "\n",
    "\n",
    "\n",
    "**Please run the following cell before starting!**"
   ]
  },
  {
   "cell_type": "code",
   "execution_count": 1,
   "metadata": {},
   "outputs": [
    {
     "name": "stdout",
     "output_type": "stream",
     "text": [
      "I am being executed!\n"
     ]
    }
   ],
   "source": [
    "#MEDPC rat gambling task functions imports, will print \"I am being executed!\" if functional\n",
    "import sparklyRGT as rgt\n",
    "\n",
    "#main imports \n",
    "import os\n",
    "import pandas as pd\n",
    "import numpy as np\n",
    "\n",
    "# plotting imports \n",
    "import matplotlib.pyplot as plt\n",
    "from matplotlib.ticker import MaxNLocator\n",
    "\n",
    "# stats imports \n",
    "import scipy.stats as stats\n",
    "\n",
    "#the following lines prevents pandas from giving unecessary errors and increases the number of rows you can view \n",
    "pd.options.mode.chained_assignment = None\n",
    "pd.set_option('display.max_rows',100)"
   ]
  },
  {
   "cell_type": "markdown",
   "metadata": {},
   "source": [
    "***\n",
    "\n",
    "# 1) Load data into Python\n",
    "\n",
    "[back to top](#rGT-functions-for-data-manipulation-and-visualization)\n",
    "\n",
    "* Write the names of the files that you want to load in as a list to `file_names`\n",
    "\n",
    "`df = load_data(file_names, reset_sessions = False)` \n",
    "* creates a table similar to the excel sheet(s) you loaded in. (in the order established in `file_names`) \n",
    "* `df` stands for dataframe, and will store the data you load in as a table\n",
    "* passing `reset_sessions = True`:\n",
    "    * makes the session numbers start from 1 again (you may want to do this for baseline analysis or if you're loading in multiple projects)\n",
    "    \n",
    "`df = load_multiple_data(file_names, reset_sessions = False)` \n",
    "* loads in multiple cohorts (with the same subject numbers) and assigns them unique subject numbers (ex. subject 1 of cohort 1 --> subject 101) \n",
    "\n"
   ]
  },
  {
   "cell_type": "code",
   "execution_count": 7,
   "metadata": {},
   "outputs": [
    {
     "data": {
      "text/html": [
       "<div>\n",
       "<style scoped>\n",
       "    .dataframe tbody tr th:only-of-type {\n",
       "        vertical-align: middle;\n",
       "    }\n",
       "\n",
       "    .dataframe tbody tr th {\n",
       "        vertical-align: top;\n",
       "    }\n",
       "\n",
       "    .dataframe thead th {\n",
       "        text-align: right;\n",
       "    }\n",
       "</style>\n",
       "<table border=\"1\" class=\"dataframe\">\n",
       "  <thead>\n",
       "    <tr style=\"text-align: right;\">\n",
       "      <th></th>\n",
       "      <th>MSN</th>\n",
       "      <th>StartDate</th>\n",
       "      <th>StartTime</th>\n",
       "      <th>Subject</th>\n",
       "      <th>Group</th>\n",
       "      <th>Box</th>\n",
       "      <th>Experiment</th>\n",
       "      <th>Comment</th>\n",
       "      <th>Session</th>\n",
       "      <th>Trial</th>\n",
       "      <th>...</th>\n",
       "      <th>Premature_Resp</th>\n",
       "      <th>Premature_Hole</th>\n",
       "      <th>Rew_Persev_H1</th>\n",
       "      <th>Rew_Persev_H2</th>\n",
       "      <th>Rew_Persev_H4</th>\n",
       "      <th>Rew_Persev_H5</th>\n",
       "      <th>Lever_Latency</th>\n",
       "      <th>Uncued_Chosen</th>\n",
       "      <th>Cued_Chosen</th>\n",
       "      <th>Choice_Omit</th>\n",
       "    </tr>\n",
       "  </thead>\n",
       "  <tbody>\n",
       "    <tr>\n",
       "      <th>0</th>\n",
       "      <td>ChoicerGT_A-gold</td>\n",
       "      <td>2004-06-21 00:00:00</td>\n",
       "      <td>11:37:02</td>\n",
       "      <td>1.0</td>\n",
       "      <td>0.0</td>\n",
       "      <td>1.0</td>\n",
       "      <td>0.0</td>\n",
       "      <td>NaN</td>\n",
       "      <td>1.0</td>\n",
       "      <td>1.0</td>\n",
       "      <td>...</td>\n",
       "      <td>0.0</td>\n",
       "      <td>0.0</td>\n",
       "      <td>0.0</td>\n",
       "      <td>0.0</td>\n",
       "      <td>0.0</td>\n",
       "      <td>0.0</td>\n",
       "      <td>0.97</td>\n",
       "      <td>1.0</td>\n",
       "      <td>0.0</td>\n",
       "      <td>0.0</td>\n",
       "    </tr>\n",
       "    <tr>\n",
       "      <th>1</th>\n",
       "      <td>ChoicerGT_A-gold</td>\n",
       "      <td>2004-06-21 00:00:00</td>\n",
       "      <td>11:37:02</td>\n",
       "      <td>1.0</td>\n",
       "      <td>0.0</td>\n",
       "      <td>1.0</td>\n",
       "      <td>0.0</td>\n",
       "      <td>NaN</td>\n",
       "      <td>1.0</td>\n",
       "      <td>2.1</td>\n",
       "      <td>...</td>\n",
       "      <td>1.0</td>\n",
       "      <td>5.0</td>\n",
       "      <td>0.0</td>\n",
       "      <td>0.0</td>\n",
       "      <td>0.0</td>\n",
       "      <td>0.0</td>\n",
       "      <td>2.17</td>\n",
       "      <td>0.0</td>\n",
       "      <td>1.0</td>\n",
       "      <td>0.0</td>\n",
       "    </tr>\n",
       "    <tr>\n",
       "      <th>2</th>\n",
       "      <td>ChoicerGT_A-gold</td>\n",
       "      <td>2004-06-21 00:00:00</td>\n",
       "      <td>11:37:02</td>\n",
       "      <td>1.0</td>\n",
       "      <td>0.0</td>\n",
       "      <td>1.0</td>\n",
       "      <td>0.0</td>\n",
       "      <td>NaN</td>\n",
       "      <td>1.0</td>\n",
       "      <td>2.1</td>\n",
       "      <td>...</td>\n",
       "      <td>1.0</td>\n",
       "      <td>5.0</td>\n",
       "      <td>0.0</td>\n",
       "      <td>0.0</td>\n",
       "      <td>0.0</td>\n",
       "      <td>0.0</td>\n",
       "      <td>1.75</td>\n",
       "      <td>1.0</td>\n",
       "      <td>0.0</td>\n",
       "      <td>0.0</td>\n",
       "    </tr>\n",
       "    <tr>\n",
       "      <th>3</th>\n",
       "      <td>ChoicerGT_A-gold</td>\n",
       "      <td>2004-06-21 00:00:00</td>\n",
       "      <td>11:37:02</td>\n",
       "      <td>1.0</td>\n",
       "      <td>0.0</td>\n",
       "      <td>1.0</td>\n",
       "      <td>0.0</td>\n",
       "      <td>NaN</td>\n",
       "      <td>1.0</td>\n",
       "      <td>2.1</td>\n",
       "      <td>...</td>\n",
       "      <td>1.0</td>\n",
       "      <td>5.0</td>\n",
       "      <td>0.0</td>\n",
       "      <td>0.0</td>\n",
       "      <td>0.0</td>\n",
       "      <td>0.0</td>\n",
       "      <td>1.81</td>\n",
       "      <td>1.0</td>\n",
       "      <td>0.0</td>\n",
       "      <td>0.0</td>\n",
       "    </tr>\n",
       "    <tr>\n",
       "      <th>4</th>\n",
       "      <td>ChoicerGT_A-gold</td>\n",
       "      <td>2004-06-21 00:00:00</td>\n",
       "      <td>11:37:02</td>\n",
       "      <td>1.0</td>\n",
       "      <td>0.0</td>\n",
       "      <td>1.0</td>\n",
       "      <td>0.0</td>\n",
       "      <td>NaN</td>\n",
       "      <td>1.0</td>\n",
       "      <td>2.0</td>\n",
       "      <td>...</td>\n",
       "      <td>0.0</td>\n",
       "      <td>0.0</td>\n",
       "      <td>0.0</td>\n",
       "      <td>0.0</td>\n",
       "      <td>0.0</td>\n",
       "      <td>0.0</td>\n",
       "      <td>1.65</td>\n",
       "      <td>1.0</td>\n",
       "      <td>0.0</td>\n",
       "      <td>0.0</td>\n",
       "    </tr>\n",
       "  </tbody>\n",
       "</table>\n",
       "<p>5 rows × 33 columns</p>\n",
       "</div>"
      ],
      "text/plain": [
       "                MSN            StartDate StartTime  Subject  Group  Box  \\\n",
       "0  ChoicerGT_A-gold  2004-06-21 00:00:00  11:37:02      1.0    0.0  1.0   \n",
       "1  ChoicerGT_A-gold  2004-06-21 00:00:00  11:37:02      1.0    0.0  1.0   \n",
       "2  ChoicerGT_A-gold  2004-06-21 00:00:00  11:37:02      1.0    0.0  1.0   \n",
       "3  ChoicerGT_A-gold  2004-06-21 00:00:00  11:37:02      1.0    0.0  1.0   \n",
       "4  ChoicerGT_A-gold  2004-06-21 00:00:00  11:37:02      1.0    0.0  1.0   \n",
       "\n",
       "   Experiment  Comment  Session  Trial  ...  Premature_Resp  Premature_Hole  \\\n",
       "0         0.0      NaN      1.0    1.0  ...             0.0             0.0   \n",
       "1         0.0      NaN      1.0    2.1  ...             1.0             5.0   \n",
       "2         0.0      NaN      1.0    2.1  ...             1.0             5.0   \n",
       "3         0.0      NaN      1.0    2.1  ...             1.0             5.0   \n",
       "4         0.0      NaN      1.0    2.0  ...             0.0             0.0   \n",
       "\n",
       "   Rew_Persev_H1  Rew_Persev_H2  Rew_Persev_H4  Rew_Persev_H5  Lever_Latency  \\\n",
       "0            0.0            0.0            0.0            0.0           0.97   \n",
       "1            0.0            0.0            0.0            0.0           2.17   \n",
       "2            0.0            0.0            0.0            0.0           1.75   \n",
       "3            0.0            0.0            0.0            0.0           1.81   \n",
       "4            0.0            0.0            0.0            0.0           1.65   \n",
       "\n",
       "   Uncued_Chosen  Cued_Chosen  Choice_Omit  \n",
       "0            1.0          0.0          0.0  \n",
       "1            0.0          1.0          0.0  \n",
       "2            1.0          0.0          0.0  \n",
       "3            1.0          0.0          0.0  \n",
       "4            1.0          0.0          0.0  \n",
       "\n",
       "[5 rows x 33 columns]"
      ]
     },
     "execution_count": 7,
     "metadata": {},
     "output_type": "execute_result"
    }
   ],
   "source": [
    "file_names = ['KH10B-Free-raw.xlsx'] \n",
    "\n",
    "df = rgt.load_data(file_names)\n",
    "\n",
    "#load_data won't print the dataframe. Use the following function to view the top of your dataframe. \n",
    "#Note: it should look the exact same as your first excel file. \n",
    "\n",
    "df.head()\n"
   ]
  },
  {
   "cell_type": "markdown",
   "metadata": {},
   "source": [
    "***\n",
    "# 2A) Baseline & Acquisition Analysis\n",
    "\n",
    "[back to top](#rGT-functions-for-data-manipulation-and-visualization)\n",
    "\n",
    "Set your objects! These will be used in the rest of section 2A and 2B. Examples are left in for clarity.\n",
    "* Assign the rat subject numbers for each group to `exp_group` and `control_group`\n",
    "    * you can add additional groups - just ensure you also add them to the group_list and group_names\n",
    "* Assign the names of your groups to `group_names`\n",
    "    * as a dictionary\n",
    "* Put your groups together into a list\n",
    "    * **must** be in the same order as they are in group_names \n",
    "* For plotting:\n",
    "    * Assign the title of the project to `title`\n",
    "    * Assign the range of sessions you want to include in figures to `startsess` and `endsess`\n"
   ]
  },
  {
   "cell_type": "code",
   "execution_count": null,
   "metadata": {},
   "outputs": [],
   "source": [
    "control_group = [3, 4, 5, 6, 9, 13, 14, 15, 17, 18, 23, 24, 27, 28, 30, 31] #In this example: Tg negative rats\n",
    "\n",
    "exp_group = [1, 2, 7, 8, 11, 12, 16, 19, 20, 21, 22, 25, 26, 29, 32] #In this example: Tg positive rats\n",
    "\n",
    "group_names = {0: 'Tg negative',\n",
    "              1: 'Tg positive'} \n",
    "\n",
    "group_list = [control_group, exp_group]\n",
    "\n",
    "#for plotting: \n",
    "title = 'Nigrostriatal activation during acquisition' \n",
    "\n",
    "startsess = 29 #first session you would like to include in figures\n",
    "endsess = 30 #last session you would like to include in figures"
   ]
  },
  {
   "cell_type": "markdown",
   "metadata": {},
   "source": [
    "## Data cleaning\n",
    "\n",
    "### Check your session data\n",
    "* `check_sessions` gives us a summary for each rat including session numbers, session dates and # of trials for each session.\n",
    "* This allows us to see if there are any missing/incorrect session numbers, and if MED-PC exported all of the desired data into the Excel file you loaded in (`file_names`).  "
   ]
  },
  {
   "cell_type": "code",
   "execution_count": null,
   "metadata": {},
   "outputs": [],
   "source": [
    "rgt.check_sessions(df)"
   ]
  },
  {
   "cell_type": "markdown",
   "metadata": {},
   "source": [
    "### Dropping & editing session numbers\n",
    "* `rgt.drop_sessions(df, [session numbers])`\n",
    "    * pass the df you loaded in and the session number(s) you'd like to remove (as a list)\n",
    "    * For example, to remove all data from session 28 and 29, I would write: `rgt.drop_sessions(df, [28, 29])`\n",
    "    * Requirement: session number must exist in the session column of df\n",
    "    \n",
    "    \n",
    "* `rgt.edit_sessions(df, orig_sess = [list], new_sess = [list], subs = 'all')`\n",
    "    * write the original session numbers you want to remove in `orig_sess`, and the numbers you want to replace them with in `new_sess`, in the correct order \n",
    "    * For example, to change **all** 30s to 29s, and 31s to 30s, I would write: `rgt.edit_sessions(df2, orig_sess = [30, 31], new_sess = [29, 30], subs = \"all\")`\n",
    "    * If you want to make edits, **for certain subjects**, I would assign the subject numbers to  `subs`. For example, I would write `subs = [17, 21]`\n",
    "    \n",
    "\n",
    "* **in both cases:** assign to a new object (i.e., `df2`), or if you are sure you want to make these edits, you can save over the original df (assign to `df`)\n"
   ]
  },
  {
   "cell_type": "code",
   "execution_count": null,
   "metadata": {},
   "outputs": [],
   "source": [
    "df2 = rgt.drop_sessions(df, [28])\n",
    "\n",
    "#example for edit_sessions: \n",
    "#df2 = rgt.edit_sessions(df2, orig_sess = [30, 31], new_sess = [29, 30], subs = \"all\")"
   ]
  },
  {
   "cell_type": "markdown",
   "metadata": {},
   "source": [
    "#### Check that you dropped/edited the desired session(s)"
   ]
  },
  {
   "cell_type": "code",
   "execution_count": null,
   "metadata": {},
   "outputs": [],
   "source": [
    "rgt.check_sessions(df2) "
   ]
  },
  {
   "cell_type": "markdown",
   "metadata": {},
   "source": [
    "## Data processing\n",
    "\n",
    "### Calculate variables for each rat\n",
    "\n",
    "`df_sum = rgt.get_summary_data(df, mode = 'Session')`\n",
    "\n",
    "In df_sum, the rows represent subjects (rats 1 to n)\n",
    "\n",
    "The columns are explained below:\n",
    "* `##P#` represents the percent choice of each option. For example, `29P1` represents the percentage of times P1 was selected during the 29th session. \n",
    "* `risk##` represents the risk score for each session: (P1 + P2) - (P3 + P4) \n",
    "* `collect_lat##` represents the mean collect latency for each session\n",
    "* `choice_lat##` represents the mean choice latency for each session \n",
    "* `omit##` represents the number of omissions for each session\n",
    "* `trial##` represents the number of trials completed for each session\n",
    "* `prem##` represents the percentage of premature responses for each session"
   ]
  },
  {
   "cell_type": "code",
   "execution_count": null,
   "metadata": {},
   "outputs": [],
   "source": [
    "df_sum = rgt.get_summary_data(df2) #change to df instead of df2 if you didn't do any session editing\n",
    "df_sum #prints the dataset "
   ]
  },
  {
   "cell_type": "markdown",
   "metadata": {},
   "source": [
    "### Missing data\n",
    "\n",
    "Check out the `impute_missing_data()` function in the [Miscellaneous section](#Impute-missing-data-by-taking-the-mean)\n",
    "\n",
    "\n",
    "### Get the risk status of the rats\n",
    "\n",
    "`df_sum, risky, optimal = rgt.get_risk_status(df_sum, startsess, endsess)`\n",
    "\n",
    "\n",
    "This code adds two columns to your df: `mean_risk` and `risk_status`\n",
    "\n",
    "\n",
    "* `risk_status == 1` indicates a positive risk score (optimal) \n",
    "* `risk_status == 2` indicates a negative risk score (risky)\n",
    "* `mean_risk` is the mean risk score averaged across the sessions between `startsess` and `endsess` for a given subject\n",
    "    * You can change `startsess` and `endsess` by passing the session numbers instead. For example, `rgt.get_risk_status(df_sum, 28, 30)`\n",
    "    * Requirement: `startsess` and `endsess` must be in the df\n",
    "* `print(risky, optimal)` prints out 2 lists of rat subjects: the risky rats, and the optimal rats "
   ]
  },
  {
   "cell_type": "code",
   "execution_count": null,
   "metadata": {},
   "outputs": [],
   "source": [
    "df_sum, risky, optimal = rgt.get_risk_status(df_sum, startsess, endsess)\n",
    "\n",
    "print(df_sum[['mean_risk','risk_status']]) \n",
    "print(risky, optimal) "
   ]
  },
  {
   "cell_type": "markdown",
   "metadata": {},
   "source": [
    "### Export your data to an Excel file \n",
    "\n",
    "`export_to_excel(df, groups = None, column_name = 'group', new_file_name = 'summary_data', asin = False)`\n",
    "\n",
    "* `groups`(optional): pass the group_list defined at the beginning of this Notebook to add a column that specifies which experimental group each rat is in\n",
    "    * numbers will be assigned according to their order in group_list (in this example: `Tg negative rats == 0`, `Tg positive rat == 1`)\n",
    "* `column_name`: Assign a name to the column in the exported Excel file that will specify the control vs. experimental group. In this example: `tg_status`\n",
    "* `new_file_name`: Assign the name of the **new** Excel file that you're exporting\n",
    "* `asin`: False by default; passing `asin = True` will perform an arcsine transformation on percentage variables: P1-P4 and premature responding\n",
    "    * can then be imported into SPSS for analysis"
   ]
  },
  {
   "cell_type": "code",
   "execution_count": null,
   "metadata": {},
   "outputs": [],
   "source": [
    "rgt.export_to_excel(df_sum, groups = group_list, column_name = 'tg_status', new_file_name = 'BH07_free_S29-30.xlsx', asin = True)"
   ]
  },
  {
   "cell_type": "markdown",
   "metadata": {},
   "source": [
    "## Calculate means and SEMs for your experimental groups\n",
    "\n",
    "`mean_scores, SEM = rgt.get_means_sem(df_sum, groups = None, group_names = None)`\n",
    "\n",
    "* `df_sum`: the summary dataframe you created above, with the variables calculated per rat\n",
    "* `groups`: the list of groups created at the start of this section (`group_list`)\n",
    "* `group_names`: the dictionary of group names created at the start of this section (`group_names`)\n",
    "\n",
    "Output:\n",
    "* `mean_scores`: each value is the mean for that variable (ex. `29P1`) for each experimental group (in this example: `tg negative` and `tg positive`) \n",
    "* `SEM`: each value is the standard error of the mean for that variable for each experimental group\n",
    "* If you want to view certain columns, specify them as a list in square brackets following `mean_scores` or `SEM`\n",
    "    * For example, `mean_scores[['risk29', 'risk30']]` will display a table with only those 2 columns\n",
    "\n",
    "\n",
    "These can also be exported to an excel file, using `mean_scores.to_excel('file name.xlsx')` or `SEM.to_excel('file name.xlsx')`\n",
    "* check out [this link](https://pandas.pydata.org/docs/reference/api/pandas.DataFrame.to_excel.html) for more details\n"
   ]
  },
  {
   "cell_type": "code",
   "execution_count": null,
   "metadata": {},
   "outputs": [],
   "source": [
    "mean_scores, SEM = rgt.get_means_sem(df_sum, groups = group_list, group_names = group_names)\n",
    "mean_scores #view all mean scores (truncated)\n",
    "# mean_scores[['risk29', 'risk30']] #view certain columns\n"
   ]
  },
  {
   "cell_type": "markdown",
   "metadata": {},
   "source": [
    "### Calculate means and SEMS for your experimental groups, split by risk status and/or sex\n",
    "\n",
    "* Can use a technique called list comprehension to create lists of experimental risky rats, experimental optimal rats, etc.\n",
    "    * example given below\n",
    "    \n",
    "    \n",
    "* Alternatively, you can just manually type in the lists: \n",
    "    * e.g., `control_risky` = [1,2,3]\n",
    "    \n",
    "    \n",
    "* You can adapt this code to split by sex, or further split risk groups by sex:\n",
    "    * First, create a list of female and male subjects: `female = [1,2,3]`; `male = [4,5,6]`\n",
    "    * `control_female = [subject for subject in control_group if subject in female]`\n",
    "    * `control_risky_female = [subject for subject in control_risky if subject in female]`\n",
    "\n",
    "\n",
    "* You can create as many groups as you like, just make sure you add them to `group_list_risk` and `group_names_risk`!"
   ]
  },
  {
   "cell_type": "code",
   "execution_count": null,
   "metadata": {},
   "outputs": [],
   "source": [
    "\n",
    "control_risky = [subject for subject in control_group if subject in risky]\n",
    "exp_risky = [subject for subject in exp_group if subject in risky]\n",
    "\n",
    "control_optimal = [subject for subject in control_group if subject in optimal]\n",
    "exp_optimal = [subject for subject in exp_group if subject in optimal]\n",
    "\n",
    "\n",
    "group_list_risk = [control_risky,exp_risky, control_optimal, exp_optimal]\n",
    "\n",
    "#make sure the group names are in the same order as the group list!\n",
    "group_names_risk = {0:'Control risky', \n",
    "                    1: 'Experimental risky',\n",
    "                    2: 'Control optimal',\n",
    "                    3: 'Experimental optimal'}\n",
    "\n",
    "mean_scores_risk, SEM_risk = rgt.get_means_sem(df_sum, group_list_risk, group_names_risk)\n",
    "\n",
    "mean_scores_risk\n",
    "\n",
    "    "
   ]
  },
  {
   "cell_type": "markdown",
   "metadata": {},
   "source": [
    "# 2B) Baseline & Acquisition Analysis: Plotting\n",
    "\n",
    "[back to top](#rGT-functions-for-data-manipulation-and-visualization)\n",
    "\n",
    "**For all plotting functions**: If you are missing data for a particular rat, error bars will not appear on the figures"
   ]
  },
  {
   "cell_type": "markdown",
   "metadata": {},
   "source": [
    "## Bar plot of P1-P4 % choice\n",
    "\n",
    "`rgt.choice_bar_plot(startsess, endsess, mean_scores, SEM)`\n",
    "\n",
    "* This function plots the mean P1-P4 choices for the experimental groups \n",
    "    * You can change startsess and endsess to calculate the mean over whichever sessions you like"
   ]
  },
  {
   "cell_type": "code",
   "execution_count": null,
   "metadata": {},
   "outputs": [],
   "source": [
    "rgt.choice_bar_plot(startsess, endsess, mean_scores, SEM)\n",
    "\n",
    "#to save this figure (or any other figure):\n",
    "plt.savefig('BH07 Choice S29-30',facecolor = 'white')"
   ]
  },
  {
   "cell_type": "markdown",
   "metadata": {},
   "source": [
    "## Line plot of other variables\n",
    "\n",
    "`rgt.rgt_plot('variable', startsess, endsess, title, mean_scores, SEM, group_names = group_names, y_label = 'variable name', highlight = None)`\n",
    "* `variable`: specifies the variable you want to plot. \n",
    "    * For example, if I want to plot `choice_lat`, I would replace `variable` with `'choice_lat'` (just the variable name, don't include session numbers)\n",
    "* `startsess` and `endsess`: specifies the range of session numbers you'd like to plot \n",
    "    * For example, if I want to plot `choice_lat` over sessions 29 to 31, I would replace `startsess` and `endsess` with `29` and `31` respectively\n",
    "    * Requirement: `startsess` and `endsess` must be in the df\n",
    "* `group_names`: pass a dictionary with the `mean_scores` index for each group as the keys and the names of groups as the values (defined at beginning of this Notebook)\n",
    "* `y_label`: specifies the Y axis label\n",
    "* `highlight`: specify a session number - a line will be added at that session and the figure will be shaded gray to the right of the line\n",
    "    * useful if you take your rats off of a drug or otherwise change your experimental manipulation, and want to represent that on the figure"
   ]
  },
  {
   "cell_type": "code",
   "execution_count": null,
   "metadata": {},
   "outputs": [],
   "source": [
    "rgt.rgt_plot('risk', startsess, endsess, title, mean_scores, SEM, group_names = group_names, y_label = 'Risk score') "
   ]
  },
  {
   "cell_type": "markdown",
   "metadata": {},
   "source": [
    "## Bar plot of other variables\n",
    "\n",
    "`rgt.rgt_bar_plot('variable', startsess, endsess, title, mean_scores, SEM, group_names = group_names, y_label = 'Variable name')`\n",
    "\n",
    "* takes the mean of specified `variable` over session range specified by `startsess` and `endsess`\n",
    "* plots as bar plot for each group specified in `group_names` dictionary\n",
    "* `y_label`: Y axis label"
   ]
  },
  {
   "cell_type": "code",
   "execution_count": null,
   "metadata": {},
   "outputs": [],
   "source": [
    "rgt.rgt_bar_plot('risk', startsess, endsess, title, mean_scores, SEM, group_names, y_label = 'Risk score')"
   ]
  },
  {
   "cell_type": "markdown",
   "metadata": {},
   "source": [
    "## Plotting by risk status\n",
    "\n",
    "### Bar plot of P1-P4 % Choice\n",
    "\n",
    "* Use the functions above but pass `group_names_risk`, `mean_scores_risk` and `SEM_risk` instead"
   ]
  },
  {
   "cell_type": "code",
   "execution_count": null,
   "metadata": {},
   "outputs": [],
   "source": [
    "rgt.choice_bar_plot(startsess, endsess, mean_scores_risk, SEM_risk)"
   ]
  },
  {
   "cell_type": "code",
   "execution_count": null,
   "metadata": {},
   "outputs": [],
   "source": [
    "rgt.rgt_plot('risk', startsess, endsess, title, mean_scores_risk, SEM_risk, group_names = group_names_risk, y_label = 'Risk score') "
   ]
  },
  {
   "cell_type": "code",
   "execution_count": null,
   "metadata": {},
   "outputs": [],
   "source": [
    "rgt.rgt_bar_plot('prem', startsess, endsess, title, mean_scores_risk, SEM_risk, group_names = group_names_risk,y_label = 'Premature responding')"
   ]
  },
  {
   "cell_type": "markdown",
   "metadata": {},
   "source": [
    "***\n",
    "# 3A) Latin Square Analysis\n",
    "\n",
    "[back to top](#rGT-functions-for-data-manipulation-and-visualization)\n",
    "\n",
    "**This section assumes you have assigned dosing information to the 'Group' variable in MEDPC**\n",
    "* in this example: vehicle = 1 in Group column, low dose = 2, mid dose = 3, high dose = 4\n",
    "\n",
    "Set your objects! These will be used in the rest of section 3A and 3B. Examples are left in for clarity.\n",
    "* Assign the names of the files that you want to analyze to `file_names`\n",
    "* Assign a title, for plotting\n",
    "* Assign the startdose and enddose variables - 1 and 4 in this example \n",
    "\n",
    "**Note:** This section assumes all of your rats received the same manipulation; if you have multiple experimental groups (e.g., different brain regions, Tg+/Tg-) in your dataset, see [Miscellaneous section](#Example:-between-subjects-analysis-for-Latin-Square-dataset) for an example of how to do so"
   ]
  },
  {
   "cell_type": "code",
   "execution_count": null,
   "metadata": {},
   "outputs": [],
   "source": [
    "file_names = ['BH06_raw_round1-infusions.xlsx', 'BH06_raw_round1-makeup.xlsx'] \n",
    "\n",
    "df = rgt.load_data(file_names)\n",
    "\n",
    "#for plotting: \n",
    "title = '5-HT2c Antagonist' \n",
    "\n",
    "#lowest group number\n",
    "startdose =  1\n",
    "#highest group number\n",
    "enddose = 4"
   ]
  },
  {
   "cell_type": "markdown",
   "metadata": {},
   "source": [
    "## Data cleaning\n",
    "\n",
    "### Check the Group numbers for each rat\n",
    "\n",
    "`rgt.check_groups(df)`\n",
    "* This function will show you the Group numbers and trials completed for each rat"
   ]
  },
  {
   "cell_type": "code",
   "execution_count": null,
   "metadata": {},
   "outputs": [],
   "source": [
    "rgt.check_groups(df)"
   ]
  },
  {
   "cell_type": "markdown",
   "metadata": {},
   "source": [
    "### Drop subjects & edit Group numbers\n",
    "\n",
    "`df2 = rgt.edit_groups(df, orig_group = [list], new_group = [list], subs = 'all')`\n",
    "\n",
    "* `orig_group`: enter the group number(s) that you want to change in square brackets \n",
    "* `new_group`: enter the new group number(s) you want to change to \n",
    "    * pay attention to order: first group number in `orig_group` will be changed to first group number in `new_group`, and so on for additional numbers    \n",
    "* `subs`: by default this equals 'all' (changes will be made for all subjects)\n",
    "    * pass a list of subject numbers if you only want to change the group numbers for certain subjects\n",
    "\n",
    "`df2 = rgt.drop_subjects(df, subs = [list])`\n",
    "\n",
    "* `subs`: enter a list of subjects that you want to remove the data for\n",
    "\n",
    "**in both cases:** assign to a new object (i.e., `df2`), or if you are sure you want to make these edits, you can save over the original df (assign to `df`)\n"
   ]
  },
  {
   "cell_type": "code",
   "execution_count": null,
   "metadata": {},
   "outputs": [],
   "source": [
    "df2 = rgt.edit_groups(df, orig_group = [0], new_group = [3], subs = [5])\n",
    "\n",
    "df2 = rgt.drop_subjects(df, subs = [7])\n"
   ]
  },
  {
   "cell_type": "markdown",
   "metadata": {},
   "source": [
    "### Check that you edited the Group number/dropped subjects as desired"
   ]
  },
  {
   "cell_type": "code",
   "execution_count": null,
   "metadata": {},
   "outputs": [],
   "source": [
    "rgt.check_groups(df2)"
   ]
  },
  {
   "cell_type": "markdown",
   "metadata": {},
   "source": [
    "## Data processing\n",
    "\n",
    "### Calculate variables for each rat at each dose\n",
    "\n",
    "`df_sum = rgt.get_summary_data(df, mode = 'Group')`\n",
    "* **for Latin Square data, make sure you pass `mode = 'Group'` to this function (will calculate by Session by default)**\n",
    "\n",
    "The rows represent subjects (rats 1 to n)\n",
    "\n",
    "The columns are explained below:\n",
    "* `##P#` represents the percent choice of each option. For example `1P1` represents the percent choice of P1 at dose 1\n",
    "* `risk##` represents the risk score for each dose: (P1 + P2) - (P3 + P4) \n",
    "* `collect_lat##` represents the mean collect latency for each dose\n",
    "* `choice_lat##` represents the mean choice latency for each dose\n",
    "* `omit##` represents the number of omissions for each dose\n",
    "* `trial##` represents the number of trials completed for each dose\n",
    "* `prem##` represents the number of premature responses for each dose"
   ]
  },
  {
   "cell_type": "code",
   "execution_count": null,
   "metadata": {},
   "outputs": [],
   "source": [
    "df_sum = rgt.get_summary_data(df2, mode = 'Group')\n",
    "df_sum"
   ]
  },
  {
   "cell_type": "markdown",
   "metadata": {},
   "source": [
    "### Impute missing data\n",
    "`rgt.impute_missing_data(df, session = None, subject = None, choice = 'all', vars = 'all')`\n",
    "\n",
    "* This function is described in the [Miscellaneous section](#Impute-missing-data-by-taking-the-mean)\n"
   ]
  },
  {
   "cell_type": "code",
   "execution_count": null,
   "metadata": {},
   "outputs": [],
   "source": [
    "df_sum = rgt.impute_missing_data(df_sum, session = 2, subject = 12, choice = 'all', vars = 'all')"
   ]
  },
  {
   "cell_type": "markdown",
   "metadata": {},
   "source": [
    "### Get risk status based on vehicle dose data\n",
    "\n",
    "`df_sum,risky,optimal = rgt.get_risk_status_vehicle(df_sum)`\n",
    "\n",
    "This function adds a column to your df: `risk_status`, calculated from the Vehicle dose data\n",
    "\n",
    "* Note: \n",
    "    * `risk_status == 1` indicates a positive risk score (optimal) \n",
    "    * `risk_status == 2` indicates a negative risk score (risky)\n",
    "    * `print(risky, optimal)` prints out 2 lists of rat subjects: the risky rats, and the optimal rats \n"
   ]
  },
  {
   "cell_type": "code",
   "execution_count": null,
   "metadata": {},
   "outputs": [],
   "source": [
    "df_sum,risky,optimal = rgt.get_risk_status_vehicle(df_sum)\n",
    "print(risky, optimal)"
   ]
  },
  {
   "cell_type": "markdown",
   "metadata": {},
   "source": [
    "### Export your data to an Excel file!\n",
    "\n",
    "`export_to_excel(df, groups = None, column_name = 'group', new_file_name = 'summary_data', asin = False)`\n",
    "\n",
    "* In this example: only one experimental condition, so optional groups and column_name arguments are not included\n",
    "* `new_file_name`: Assign the name of the **new** Excel file that you're exporting\n",
    "* `asin`: False by default; passing `asin = True` will perform an arcsine transformation on percentage variables: P1-P4 and premature responding\n",
    "    * can then be imported into SPSS for analysis "
   ]
  },
  {
   "cell_type": "code",
   "execution_count": null,
   "metadata": {},
   "outputs": [],
   "source": [
    "rgt.export_to_excel(df_sum, new_file_name = 'BH06_all-data.xlsx', asin = True)"
   ]
  },
  {
   "cell_type": "markdown",
   "metadata": {},
   "source": [
    "## Calculate means and SEMs for each dose\n",
    "\n",
    "`mean_scores, SEM = rgt.get_means_sem(df_sum, groups = None, group_names = None)`\n",
    "\n",
    "* `df_sum`: the summary dataframe you created above, with the variables calculated per rat\n",
    "* `groups`: None by default, so doesn't need to be included \n",
    "* `group_names`: None by default, so doesn't need to be included\n",
    "    * if not included, group name will be automatically assigned as 'All rats'\n",
    "\n",
    "Output:\n",
    "* `mean_scores`: each value is the mean for that variable (ex. `29P1`) for all rats \n",
    "* `SEM`: each value is the standard error of the mean for that variable for all rats\n",
    "* If you want to view certain columns, specify them as a list in square brackets following `mean_scores` or `SEM`\n",
    "    * For example, `mean_scores[['risk1', 'risk2']]` will display a table with only those 2 columns\n",
    "\n",
    "\n",
    "These can also be exported to an excel file, using `mean_scores.to_excel('file name.xlsx')` or `SEM.to_excel('file name.xlsx')`\n",
    "* check out [this link](https://pandas.pydata.org/docs/reference/api/pandas.DataFrame.to_excel.html) for more details"
   ]
  },
  {
   "cell_type": "code",
   "execution_count": null,
   "metadata": {},
   "outputs": [],
   "source": [
    "mean_scores, SEM = rgt.get_means_sem(df_sum)\n",
    "mean_scores\n",
    "# mean_scores[['omit3', 'omit4']]"
   ]
  },
  {
   "cell_type": "markdown",
   "metadata": {},
   "source": [
    "### Calculating means and SEMS separately for risky and optimal rats\n",
    "\n",
    "* you can pass risky and optimal lists, along with the group names, to the `get_means_sem` function to calculate mean/SEM values separately"
   ]
  },
  {
   "cell_type": "code",
   "execution_count": null,
   "metadata": {},
   "outputs": [],
   "source": [
    "\n",
    "groups_risk = [risky,optimal]\n",
    "group_names_risk = {0: 'Risky',\n",
    "                    1: 'Optimal'}\n",
    "\n",
    "means_risk, SEM_risk = rgt.get_means_sem(df_sum, groups = groups_risk, group_names = group_names_risk)\n",
    "\n",
    "means_risk\n"
   ]
  },
  {
   "cell_type": "markdown",
   "metadata": {},
   "source": [
    "# 3B) Latin Square Analysis: Plotting\n",
    "\n",
    "[back to top](#rGT-functions-for-data-manipulation-and-visualization)\n",
    "\n",
    "**For all plotting functions**: If you are missing data for a particular rat, error bars will not appear on the figures\n",
    "\n",
    "## Bar plot for P1-P4 % Choice\n",
    "\n",
    "`rgt.ls_bar_plot('group name',mean_scores,SEM)`\n",
    "\n",
    "* `'group name'`: replace with the group name that you would like to plot\n",
    "    * assigned as 'All rats' if group names are not passed to the function `rgt.get_means_SEM`"
   ]
  },
  {
   "cell_type": "code",
   "execution_count": null,
   "metadata": {},
   "outputs": [],
   "source": [
    "rgt.ls_bar_plot('All rats',mean_scores,SEM)"
   ]
  },
  {
   "cell_type": "markdown",
   "metadata": {},
   "source": [
    "## Line plot of other variables\n",
    "\n",
    "`rgt.rgt_plot('variable', startsess, endsess, title, mean_scores, SEM, y_label = 'variable', x_label = 'Session')`\n",
    "* `variable`: specifies the variable you want to plot. \n",
    "    * For example, if I want to plot `choice_lat`, I would replace `variable` with `'choice_lat'` (just the variable name, don't include session numbers)\n",
    "* `startsess` and `endsess`: specifies the range of session numbers you'd like to plot \n",
    "    * **For Latin Square analysis**: We will pass the start and end Dose numbers (assigned to Group in MEDPC) - 1 and 4 in this example (startdose and enddose defined at beginning of this section)\n",
    "* `y_label`: specifies the Y axis label\n",
    "* `x_label`: specifies the X axis label; 'Session' by default, but here we want it to be 'Dose'\n"
   ]
  },
  {
   "cell_type": "code",
   "execution_count": null,
   "metadata": {},
   "outputs": [],
   "source": [
    "rgt.rgt_plot('risk',startdose,enddose,title,mean_scores,SEM,y_label = 'Risk score', x_label = 'Dose')"
   ]
  },
  {
   "cell_type": "markdown",
   "metadata": {},
   "source": [
    "## Plotting by risk status\n",
    "\n",
    "for `rgt.ls_bar_plot('group', means, SEM)`:\n",
    "* pass 'Risky' or 'Optimal' as the first argument, instead of 'All rats'\n",
    "* use `means_risk` and `SEM_risk` instead"
   ]
  },
  {
   "cell_type": "code",
   "execution_count": null,
   "metadata": {},
   "outputs": [],
   "source": [
    "rgt.ls_bar_plot('Risky',means_risk,SEM_risk)\n",
    "rgt.ls_bar_plot('Optimal',means_risk,SEM_risk)"
   ]
  },
  {
   "cell_type": "markdown",
   "metadata": {},
   "source": [
    "### Line plots for other variables by risk status\n",
    "\n",
    "`rgt.rgt_plot('variable',startdose,enddose,title,means,SEM,group_names = None, y_label = 'variable', x_label = 'Dose')`\n",
    "\n",
    "* pass an additional argument to `rgt.rgt_plot`: group_names = group_names_risk\n",
    "* use means_risk and SEM_risk instead \n",
    "* assign `x_label` as 'Dose' (`x_label = 'Session'` by default)\n"
   ]
  },
  {
   "cell_type": "code",
   "execution_count": null,
   "metadata": {},
   "outputs": [],
   "source": [
    "rgt.rgt_plot('risk',startdose,enddose,title,means_risk,SEM_risk,group_names = group_names_risk, y_label = 'Risk score', x_label = 'Dose')"
   ]
  },
  {
   "cell_type": "markdown",
   "metadata": {},
   "source": [
    "***\n",
    "# 4) Choice rGT\n",
    "\n",
    "[back to top](#SparklyRGT:-rGT-functions-for-data-manipulation-and-visualization)"
   ]
  },
  {
   "cell_type": "markdown",
   "metadata": {},
   "source": [
    "Set your objects! These will be used in the rest of section 4. Examples are left in for clarity.\n",
    "* Assign the rat subject numbers for each group to `males` and `females`\n",
    "    * you can add additional groups - just ensure you also add them to the group_list and group_names\n",
    "* Assign the names of your groups to `group_names`\n",
    "    * as a dictionary\n",
    "* Put your groups together into a list\n",
    "    * **must** be in the same order as they are in group_names \n",
    "* For plotting:\n",
    "    * Assign the title of the project to `title`\n",
    "    * Assign the range of sessions you want to include in figures to `startsess` and `endsess`\n"
   ]
  },
  {
   "cell_type": "code",
   "execution_count": 3,
   "metadata": {},
   "outputs": [],
   "source": [
    "males = list(range(1,33))\n",
    "\n",
    "females = []\n",
    "\n",
    "group_names = {0: 'males',\n",
    "              1: 'females'} \n",
    "\n",
    "group_list = [males,females]\n",
    "\n",
    "#for plotting: \n",
    "title = 'Choice rGT' \n",
    "\n",
    "startsess = 1 #first session you would like to include in figures\n",
    "endsess = 15 #last session you would like to include in figures\n"
   ]
  },
  {
   "cell_type": "markdown",
   "metadata": {},
   "source": [
    "**To be added**: check_sessions, drop and edit_sessions, etc. \n",
    "\n",
    "A detailed description of the following functions can be found in section 2A"
   ]
  },
  {
   "cell_type": "code",
   "execution_count": 5,
   "metadata": {},
   "outputs": [],
   "source": [
    "# rgt.check_sessions(df)\n",
    "# df2 = rgt.drop_sessions(df, [28])\n",
    "# df2 = rgt.edit_sessions(df2, orig_sess = [30, 31], new_sess = [29, 30], subs = \"all\") "
   ]
  },
  {
   "cell_type": "markdown",
   "metadata": {},
   "source": [
    "## Data processing\n",
    "\n",
    "### Calculate variables for each rat\n",
    "\n",
    "`df_sum = rgt.get_summary_data(df, mode = 'Session', task = 'choiceRGT)`\n",
    "\n",
    "In df_sum, the rows represent subjects (rats 1 to n)\n",
    "\n",
    "The columns are explained below:\n",
    "* `#_(un)cued_P#` represents the percent choice of each option in the cued/uncued task. For example, `2_cued_P1` represents the percentage of times P1 was selected during the 2nd session. \n",
    "* `risk_(un)cued_#` represents the risk score for each session: (P1 + P2) - (P3 + P4) \n",
    "* `co_lat_(un)cued#` represents the mean collect latency for each session ***not alternating \n",
    "* `ch_lat_(un)cued#` represents the mean choice latency for each session ***not alternating\n",
    "* `(un)cued_lev_lat#` represents the mean lever latency for each session\n",
    "* `(un)cued_omit#` represents the number of choice omissions for each session\n",
    "* `lev_omit#` represents the number of lever omissions for each session\n",
    "* `trial_(un)cued_#` represents the number of trials completed for each session\n",
    "* `prem_(un)cued_#` represents the percentage of premature responses for each session\n",
    "* `pref#` represents the percentage of choosing cuedRGT over uncuedRGT [cued / (cued + uncued)] for each session\n",
    "\n",
    "**Note** if you get a ValueError: \"ValueError: Cannot convert non-finite values (NA or inf) to integer\", then run the following lines of code prior to `rgt.get_summary_data`\n",
    "\n",
    "`df.dropna(how = 'all', inplace = True)\n",
    "df.reset_index(drop = True, inplace = True)\n",
    "df['Session'] = df['Session'].astype(int)\n",
    "df['Subject'] = df['Subject'].astype(int)`"
   ]
  },
  {
   "cell_type": "code",
   "execution_count": 15,
   "metadata": {},
   "outputs": [],
   "source": [
    "df.dropna(how = 'all', inplace = True)\n",
    "df.reset_index(drop=True, inplace = True)\n",
    "df['Session'] = df['Session'].astype(int)\n",
    "df['Subject'] = df['Subject'].astype(int)"
   ]
  },
  {
   "cell_type": "code",
   "execution_count": 18,
   "metadata": {},
   "outputs": [
    {
     "name": "stdout",
     "output_type": "stream",
     "text": [
      "   1_cued_P1 1_cued_P2 1_cued_P3 1_cued_P4 1_uncued_P1 1_uncued_P2  \\\n",
      "1    11.3208   56.6038   32.0755         0     17.2414     48.2759   \n",
      "2    9.09091   88.6364   2.27273         0     4.44444     88.8889   \n",
      "3    10.9091   81.8182   3.63636   3.63636     37.1429          60   \n",
      "4    26.3158   19.2982   52.6316   1.75439     23.5294     41.1765   \n",
      "5    22.2222   77.7778         0         0           4          96   \n",
      "6    11.6667   81.6667   6.66667         0           6          90   \n",
      "7    1.96078         0   96.0784   1.96078           0           0   \n",
      "8    32.0988   14.8148   46.9136   6.17284           0          20   \n",
      "9    11.1111   88.8889         0         0           0        87.5   \n",
      "10         0       100         0         0     6.66667     93.3333   \n",
      "11         0        70         0        30           0     53.8462   \n",
      "12   18.1818   63.6364   18.1818         0     19.2982     75.4386   \n",
      "13       100         0         0         0           0         100   \n",
      "14         0       100         0         0           0         100   \n",
      "15         0        75        25         0           0         100   \n",
      "16   11.5385        50         0   38.4615     16.3636     65.4545   \n",
      "17         0    27.027   24.3243   48.6486           0     31.5789   \n",
      "18         0        98         2         0           0         100   \n",
      "19         0   86.2069         0   13.7931     3.84615     61.5385   \n",
      "20   14.5833   83.3333   2.08333         0     12.2449     87.7551   \n",
      "21   14.2857         0         0   85.7143           0           0   \n",
      "22         0       100         0         0           0         100   \n",
      "23   11.1111   25.9259    62.963         0           0          20   \n",
      "24   13.0435   65.2174   8.69565   13.0435     12.1212     48.4848   \n",
      "25         0   15.3846   76.9231   7.69231           0     2.63158   \n",
      "26   16.6667   66.6667         0   16.6667           0         100   \n",
      "27   6.66667   13.3333   68.8889   11.1111     3.84615     30.7692   \n",
      "28    1.6129   95.1613   3.22581         0           0         100   \n",
      "29   13.0435   82.6087   4.34783         0     22.2222     66.6667   \n",
      "30         0         0       100         0     1.96078           0   \n",
      "31   7.14286         0   85.7143   7.14286     31.0345     6.89655   \n",
      "32   3.22581   6.45161   90.3226         0      3.0303     9.09091   \n",
      "\n",
      "   1_uncued_P3 1_uncued_P4 2_cued_P1 2_cued_P2  ...    pref15    pref16  \\\n",
      "1      34.4828           0   13.2075   3.77358  ...  0.879518  0.853659   \n",
      "2      6.66667           0   19.1489   74.4681  ...  0.900990  0.936170   \n",
      "3      2.85714           0   19.1176   80.8824  ...  0.242424  0.153846   \n",
      "4      35.2941           0   36.7647   10.2941  ...  0.732759  0.715686   \n",
      "5            0           0         0       100  ...  0.033898  0.033898   \n",
      "6            2           2   6.41026   82.0513  ...  0.855769  0.850000   \n",
      "7          100           0   1.85185         0  ...  0.964706  0.905882   \n",
      "8           80           0   53.3333   22.2222  ...  0.843750  0.885965   \n",
      "9         6.25        6.25   9.67742    83.871  ...  0.775362  0.672269   \n",
      "10           0           0         0   98.7805  ...  0.826667  0.734694   \n",
      "11           0     46.1538         0    65.625  ...  0.525641  0.478873   \n",
      "12     5.26316           0   14.7059   76.4706  ...  0.336634  0.283019   \n",
      "13           0           0   1.53846   96.9231  ...  0.661290  0.754237   \n",
      "14           0           0         0   96.9231  ...  0.463158  0.561983   \n",
      "15           0           0   6.77966   89.8305  ...  0.471831  0.352941   \n",
      "16           0     18.1818         0         0  ...  0.349515  0.252174   \n",
      "17     10.5263     57.8947         0   21.6216  ...  0.783333  0.875000   \n",
      "18           0           0         0       100  ...  0.888889  0.894737   \n",
      "19           0     34.6154         0   73.6842  ...  0.400000  0.328947   \n",
      "20           0           0   14.6341   82.9268  ...  0.489130  0.537037   \n",
      "21           0         100         0         0  ...  0.468354  0.444444   \n",
      "22           0           0         0       100  ...  0.272727  0.226891   \n",
      "23          80           0   12.9032   12.9032  ...  0.923913  0.916667   \n",
      "24     15.1515     24.2424   16.6667        65  ...  0.693333  0.606061   \n",
      "25     73.6842     23.6842         0   10.5263  ...  0.407407  0.518987   \n",
      "26           0           0   8.42105   88.4211  ...  0.571429  0.616822   \n",
      "27     46.1538     19.2308   24.4444   13.3333  ...  0.785714  0.708861   \n",
      "28           0           0   3.22581   90.3226  ...  0.872000  0.842520   \n",
      "29     9.52381      1.5873   23.5294   70.5882  ...  0.294118  0.357143   \n",
      "30     92.1569     5.88235   15.3846         0  ...  0.353659  0.410256   \n",
      "31     55.1724     6.89655   45.7143   2.85714  ...  0.727273  0.681319   \n",
      "32     84.8485      3.0303    4.7619   23.8095  ...  0.520000  0.390244   \n",
      "\n",
      "      pref17    pref18    pref19    pref20    pref21    pref22    pref23  \\\n",
      "1   0.855422  0.945055  0.896907  0.886364  0.813187  0.888889  0.925926   \n",
      "2   0.925532  0.892562  0.914634  0.897959  0.825243  0.807018  0.754545   \n",
      "3   0.132653  0.294118  0.103448  0.258929  0.130435  0.153153  0.196262   \n",
      "4   0.770642  0.798077  0.879630  0.810345  0.709402  0.830508  0.808333   \n",
      "5   0.080000  0.101695  0.048387  0.045455  0.126437  0.132530  0.204545   \n",
      "6   0.702970  0.781818  0.801887  0.736364  0.774775  0.894231  0.765957   \n",
      "7   0.950000  0.959184  0.988235  0.977528  0.950617  0.973684  0.951807   \n",
      "8   0.882353  0.777778  0.914062  0.795455  0.923077  0.886179  0.922414   \n",
      "9   0.754098  0.775194  0.804511  0.821705  0.760870  0.725926  0.753968   \n",
      "10  0.690647  0.651613  0.625850  0.619048  0.586957  0.732877  0.708333   \n",
      "11  0.371429  0.555556  0.538462  0.554054  0.578947  0.542857  0.591549   \n",
      "12  0.189873  0.509804  0.323232  0.360465  0.423423  0.235955  0.306122   \n",
      "13  0.776786  0.804878  0.789474  0.714286  0.816667  0.813953  0.796296   \n",
      "14  0.470588  0.598131  0.604839  0.627119  0.607143  0.743363  0.565217   \n",
      "15  0.403509  0.500000  0.381250  0.455172  0.489510  0.324324  0.402778   \n",
      "16  0.295918  0.285714  0.321429  0.325843  0.366071  0.287037  0.301887   \n",
      "17  0.871429  0.866667  0.880597  0.906250  0.890625  0.921875  0.815789   \n",
      "18  0.881481  0.814815  0.954545  0.887218  0.872881  0.891473  0.954545   \n",
      "19  0.457143  0.516854  0.406977  0.524390  0.285714  0.390805  0.348315   \n",
      "20  0.554348  0.710526  0.635294  0.588235  0.541284  0.588785  0.607143   \n",
      "21  0.587500       NaN  0.742424  0.642857  0.771429  0.815385  0.576271   \n",
      "22  0.226804  0.210526  0.232143  0.245614  0.144068  0.300000  0.187500   \n",
      "23  0.768293  0.904762  0.911392  0.850575  0.858824  0.846154  0.779070   \n",
      "24  0.553191  0.653333  0.753846  0.756410  0.805970  0.826087  0.682540   \n",
      "25       NaN       NaN       NaN  0.312500  0.348485  0.322581  0.300000   \n",
      "26  0.550000  0.619355  0.593333  0.601266  0.390411  0.436242  0.516779   \n",
      "27  0.671429  0.670455  0.764706  0.563380  0.695652  0.641026  0.641791   \n",
      "28       NaN  0.859375  0.928000  0.864000  0.910569  0.954198  0.930233   \n",
      "29  0.278846  0.258929  0.281690  0.384615  0.265487  0.288889  0.207792   \n",
      "30  0.363636  0.466667  0.370370  0.423529  0.544304  0.454545  0.525000   \n",
      "31  0.747253  0.673077  0.690722  0.642857  0.608247  0.793478  0.714286   \n",
      "32  0.455696  0.477273  0.275362  0.412500  0.436782  0.372549  0.400000   \n",
      "\n",
      "      pref24  \n",
      "1   0.831169  \n",
      "2   0.859813  \n",
      "3   0.107843  \n",
      "4   0.831933  \n",
      "5   0.120690  \n",
      "6   0.833333  \n",
      "7   0.929412  \n",
      "8   0.843137  \n",
      "9   0.721739  \n",
      "10  0.683824  \n",
      "11  0.594595  \n",
      "12  0.337209  \n",
      "13  0.839286  \n",
      "14  0.586538  \n",
      "15  0.489796  \n",
      "16  0.277228  \n",
      "17  1.000000  \n",
      "18  0.937500  \n",
      "19  0.294737  \n",
      "20  0.537634  \n",
      "21  0.689655  \n",
      "22  0.224000  \n",
      "23  0.831169  \n",
      "24  0.727273  \n",
      "25  0.265823  \n",
      "26  0.537415  \n",
      "27  0.616667  \n",
      "28  0.946970  \n",
      "29  0.372093  \n",
      "30  0.445946  \n",
      "31  0.678161  \n",
      "32  0.303797  \n",
      "\n",
      "[32 rows x 576 columns]\n"
     ]
    }
   ],
   "source": [
    "df_sum = rgt.get_summary_data(df, task = 'choiceRGT')\n",
    "print(df_sum)"
   ]
  },
  {
   "cell_type": "markdown",
   "metadata": {},
   "source": [
    "### Export your data to an Excel file \n",
    "\n",
    "`export_to_excel(df, groups = None, column_name = 'group', new_file_name = 'summary_data', asin = False)`\n",
    "\n",
    "* `groups`(optional): pass the group_list defined at the beginning of this Notebook to add a column that specifies which experimental group each rat is in\n",
    "    * numbers will be assigned according to their order in group_list (in this example: `Tg negative rats == 0`, `Tg positive rat == 1`)\n",
    "* `column_name`: Assign a name to the column in the exported Excel file that will specify the control vs. experimental group. In this example: `tg_status`\n",
    "* `new_file_name`: Assign the name of the **new** Excel file that you're exporting\n",
    "* `asin`: False by default; passing `asin = True` will perform an arcsine transformation on percentage variables: P1-P4 and premature responding\n",
    "    * can then be imported into SPSS for analysis"
   ]
  },
  {
   "cell_type": "code",
   "execution_count": 17,
   "metadata": {},
   "outputs": [],
   "source": [
    "rgt.export_to_excel(df_sum, groups = group_list, column_name = 'gender', new_file_name = 'trials_edited.xlsx', asin = False)"
   ]
  },
  {
   "cell_type": "markdown",
   "metadata": {},
   "source": [
    "***\n",
    "# 5) Miscellaneous\n",
    "\n",
    "[back to top](#rGT-functions-for-data-manipulation-and-visualization)"
   ]
  },
  {
   "cell_type": "markdown",
   "metadata": {},
   "source": [
    "## Changing your working directory\n",
    "\n",
    "* Check your current working directory by running `os.getcwd()` \n",
    "    * by default, this will be wherever the jupyter notebook file is saved\n",
    "* After loading in rgt_functions.py, you may want to move to the folder where your data is saved\n",
    "* Change your working directory using `os.chdir('C:\\\\...)`\n",
    "    * can be absolute or relative file path\n",
    "* For example, my current working directory is `'C:\\\\Users\\\\dexte\\\\hathaway_1'`, I can change this by running `os.chdir('C:\\\\Users\\\\dexte\\\\hathaway_1\\\\data')` \n",
    "    * slashes will be different if you are not using Windows\n",
    "* Data files can now be loaded in from and saved to the folder you moved to"
   ]
  },
  {
   "cell_type": "code",
   "execution_count": null,
   "metadata": {},
   "outputs": [],
   "source": [
    "#checks current working directory\n",
    "os.getcwd()\n",
    "\n",
    "#changes working directory to whatever is included in brackets\n",
    "os.chdir('C:\\\\Users\\\\dexte\\\\hathaway_1\\\\data') "
   ]
  },
  {
   "cell_type": "markdown",
   "metadata": {},
   "source": [
    "## Impute missing data by taking the mean\n",
    "\n",
    "`rgt.impute_missing_data(df, session = None, subject = None, choice = 'all', vars = 'all')`\n",
    "\n",
    "* this function takes the mean of the session before and after the missing data, for the specified session and subject\n",
    "    * You can also specify a Group number in the session variable for Latin Square analysis\n",
    "* For example, if you have missing data for subject 12, dose 2, this function will calculate the mean of dose 1 and 3\n",
    "    * Code: `df = rgt.impute_missing_data(df, session = 2, subject = 12, choice = 'all', vars = 'all')`\n",
    "* You can specify which P1-P4 options you'd like to impute by passing a list to `choice`\n",
    "    * `choice = [1,3]`\n",
    "* You can specify which variables by passing the variable names as a list to `vars`\n",
    "    * `vars = ['prem', 'choice_lat']`"
   ]
  },
  {
   "cell_type": "markdown",
   "metadata": {},
   "source": [
    "## Making changes to the rgt_functions.py file\n",
    "\n",
    "* If you make changes in the .py file, run the following cell\n",
    "* Every time you change & save the .py file, the changes will automatically be loaded into the Notebook!"
   ]
  },
  {
   "cell_type": "code",
   "execution_count": null,
   "metadata": {},
   "outputs": [],
   "source": [
    "%load_ext autoreload\n",
    "%autoreload 2"
   ]
  },
  {
   "cell_type": "markdown",
   "metadata": {},
   "source": [
    "## Example: between-subjects analysis for Latin Square dataset\n",
    "\n",
    "* This example combines information from Section 2 and Section 3\n",
    "* See Section 2 for guidance on how to export to excel, further split by risky/optimal, etc while taking experimental group information into account\n",
    "\n",
    "### Define objects\n",
    "\n",
    "This is similar to defining experimental groups in 2A:\n",
    "* `group_names`: create a dictionary for your group names (here, I'm specifying different brain regions, but you could also specify any number of different experimental groups, e.g., Tg positive and Tg negative, as done in 2A) \n",
    "* `group_list`: create lists of subject numbers for your different groups, then put them together into group_list\n",
    "* load in data using the `load_data(file_names)` function, as described in Section 1"
   ]
  },
  {
   "cell_type": "code",
   "execution_count": null,
   "metadata": {},
   "outputs": [],
   "source": [
    "group_names = {0:'lOFC',\n",
    "               1:'PrL'} \n",
    "\n",
    "lOFC = [1,2,3,4,5,6,8,9,11,12,13,14,15,16,24,25,26,32]\n",
    "\n",
    "PrL = [18,19,20,21,22,23,27,28,29,30,31]\n",
    "\n",
    "group_list = [lOFC, PrL]\n",
    "\n",
    "file_names = ['BH06_raw_round1-infusions.xlsx',\n",
    "              'BH06_raw_round1-makeup.xlsx',\n",
    "              'BH06_raw_round2-infusions.xlsx']\n",
    "\n",
    "#for plotting:\n",
    "startdose = 1\n",
    "enddose = 4\n",
    "title = '5-HT2c Antagonist'\n"
   ]
  },
  {
   "cell_type": "code",
   "execution_count": null,
   "metadata": {},
   "outputs": [],
   "source": [
    "df = rgt.load_data(file_names)\n",
    "df = rgt.edit_groups(df, orig_group = [0], new_group = [3], subs = [5])"
   ]
  },
  {
   "cell_type": "markdown",
   "metadata": {},
   "source": [
    "### Calculate descriptive statistics\n",
    "\n",
    "* This is very similar to Section 3A, except that you are passing your group_list and group_names to the `rgt.get_means_sem` function"
   ]
  },
  {
   "cell_type": "code",
   "execution_count": null,
   "metadata": {},
   "outputs": [],
   "source": [
    "df_sum = rgt.get_summary_data(df, mode = 'Group')\n",
    "\n",
    "df_sum = rgt.impute_missing_data(df_sum, session = 2, subject = 12, choice = 'all', vars = 'all')\n",
    "\n",
    "mean_scores, SEM = rgt.get_means_sem(df_sum, groups = group_list, group_names = group_names)\n",
    "\n"
   ]
  },
  {
   "cell_type": "markdown",
   "metadata": {},
   "source": [
    "### Plotting\n",
    "\n",
    "* Again, this is similar to 3B, except that you will pass the group names for the Choice bar plot instead of 'All rats'\n",
    "* And pass `group_names = group_names` to the `rgt.rgt_plot()` function"
   ]
  },
  {
   "cell_type": "code",
   "execution_count": null,
   "metadata": {},
   "outputs": [],
   "source": [
    "rgt.ls_bar_plot('lOFC',mean_scores,SEM)\n",
    "rgt.ls_bar_plot('PrL',mean_scores,SEM)"
   ]
  },
  {
   "cell_type": "code",
   "execution_count": null,
   "metadata": {},
   "outputs": [],
   "source": [
    "rgt.rgt_plot('prem',startdose,enddose,title,mean_scores,SEM, group_names = group_names, y_label = 'Premature response',x_label = 'Dose')"
   ]
  }
 ],
 "metadata": {
  "kernelspec": {
   "display_name": "Python 3",
   "language": "python",
   "name": "python3"
  },
  "language_info": {
   "codemirror_mode": {
    "name": "ipython",
    "version": 3
   },
   "file_extension": ".py",
   "mimetype": "text/x-python",
   "name": "python",
   "nbconvert_exporter": "python",
   "pygments_lexer": "ipython3",
   "version": "3.8.5"
  }
 },
 "nbformat": 4,
 "nbformat_minor": 4
}
