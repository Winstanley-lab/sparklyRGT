{
 "cells": [
  {
   "cell_type": "markdown",
   "metadata": {},
   "source": [
    "### SparklyRGT Template: choiceRGT\n",
    "\n",
    "**Requirements**\n",
    "* The data must be an excel file from MEDPC2XL (trial by trial data) \n",
    "* The data, sparklyRGT.py file, and this notebook must all be in the same folder (current working directory) \n",
    "\n",
    "**Getting started: Please make a copy of this (sparklyRGT_template_4) for each analysis**\n",
    "- Refer to sparklyRGT_documentation for function information\n",
    "- Note: depending on your analysis, you will only have to complete certain sections of the sparklyRGT_documentation (ex. template_4 uses section 1 and 4) \n",
    "- Note: feel free to create a personal template once you've become comfortable - this is just an example"
   ]
  },
  {
   "cell_type": "code",
   "execution_count": null,
   "metadata": {},
   "outputs": [],
   "source": [
    "import sparklyRGT as rgt\n",
    "import os\n",
    "import pandas as pd\n",
    "import numpy as np\n",
    "import matplotlib.pyplot as plt\n",
    "from matplotlib.ticker import MaxNLocator\n",
    "import scipy.stats as stats\n",
    "import seaborn as sns\n",
    "import pingouin as pg\n",
    "pd.options.mode.chained_assignment = None\n",
    "pd.set_option('display.max_rows',100)\n",
    "%load_ext autoreload\n",
    "%autoreload 2 "
   ]
  },
  {
   "cell_type": "markdown",
   "metadata": {},
   "source": [
    "***\n",
    "\n",
    "# 1) Load data into Python\n",
    "\n"
   ]
  },
  {
   "cell_type": "code",
   "execution_count": null,
   "metadata": {},
   "outputs": [],
   "source": [
    "file_names = ['Free S33-37 Raw.xlsx'] \n",
    "df = rgt.load_data(file_names)\n",
    "df.head()"
   ]
  },
  {
   "cell_type": "markdown",
   "metadata": {},
   "source": [
    "# 4) Choice rGT"
   ]
  },
  {
   "cell_type": "markdown",
   "metadata": {},
   "source": [
    "Set your variables!"
   ]
  },
  {
   "cell_type": "code",
   "execution_count": null,
   "metadata": {},
   "outputs": [],
   "source": [
    "#for plotting: \n",
    "title = 'Choice rGT' \n",
    "\n",
    "startsess = 33 #first session you would like to include in figures\n",
    "endsess = 37 #last session you would like to include in figures"
   ]
  },
  {
   "cell_type": "code",
   "execution_count": null,
   "metadata": {},
   "outputs": [],
   "source": [
    "#This cell is optional if you want to split by group\n",
    "\n",
    "males = [1,2,3,4,5] #rats 1 to 5\n",
    "\n",
    "females = [6,7,8,9,10] #rats 6 to 10\n",
    "\n",
    "group_names = {0: 'males',\n",
    "              1: 'females'} \n",
    "\n",
    "group_list = [males,females]"
   ]
  },
  {
   "cell_type": "markdown",
   "metadata": {},
   "source": [
    "## Data cleaning"
   ]
  },
  {
   "cell_type": "code",
   "execution_count": null,
   "metadata": {},
   "outputs": [],
   "source": [
    "# rgt.check_sessions(df)"
   ]
  },
  {
   "cell_type": "code",
   "execution_count": null,
   "metadata": {},
   "outputs": [],
   "source": [
    "# df2 = rgt.drop_sessions(df, [28])\n",
    "# df2 = rgt.edit_sessions(df2, orig_sess = [30, 31], new_sess = [29, 30], subs = \"all\") "
   ]
  },
  {
   "cell_type": "markdown",
   "metadata": {},
   "source": [
    "## Data processing\n",
    "\n",
    "### Calculate variables for each rat\n"
   ]
  },
  {
   "cell_type": "code",
   "execution_count": null,
   "metadata": {},
   "outputs": [],
   "source": [
    "df_sum = rgt.get_summary_data(df, task = 'choiceRGT') #use df instead of df2 if you didn't do any session editing, v.v.\n",
    "df_sum"
   ]
  },
  {
   "cell_type": "code",
   "execution_count": null,
   "metadata": {},
   "outputs": [],
   "source": [
    "df_long = rgt.get_long_summary_data(df, df_sum, task = 'choiceRGT')\n",
    "df_long.head()"
   ]
  },
  {
   "cell_type": "code",
   "execution_count": null,
   "metadata": {},
   "outputs": [],
   "source": [
    "df_long = rgt.get_group_long(df_long, group_list)"
   ]
  },
  {
   "cell_type": "markdown",
   "metadata": {},
   "source": [
    "### Export your data to an Excel file \n"
   ]
  },
  {
   "cell_type": "code",
   "execution_count": null,
   "metadata": {},
   "outputs": [],
   "source": [
    "# rgt.export_to_excel(df_sum, groups = group_list, column_name = 'sex', new_file_name = 'compare_access2.xlsx', asin = False)\n",
    "df_sum.to_excel(\"test_file_name.xlsx\")\n",
    "# make sure new_file_name is a string that ends in .xlsx"
   ]
  },
  {
   "cell_type": "markdown",
   "metadata": {},
   "source": [
    "## Run Anova on selected variables"
   ]
  },
  {
   "cell_type": "code",
   "execution_count": null,
   "metadata": {},
   "outputs": [],
   "source": [
    "rgt.rm_anova(df_long, task = 'choiceRGT')"
   ]
  },
  {
   "cell_type": "code",
   "execution_count": null,
   "metadata": {},
   "outputs": [],
   "source": [
    "rgt.mixed_anova(df_long, \"group\", task = 'choiceRGT')"
   ]
  },
  {
   "cell_type": "markdown",
   "metadata": {},
   "source": [
    "## Calculate means and SEMs for your experimental groups\n",
    "\n",
    "Note: there must be at least 3 subjects in each group in group_list"
   ]
  },
  {
   "cell_type": "code",
   "execution_count": null,
   "metadata": {},
   "outputs": [],
   "source": [
    "# mean_scores, SEM = rgt.get_means_sem(df_sum, groups = group_list, group_names = group_names) #run this code to group by groups assigned to group_list\n",
    "# mean_scores\n",
    "\n",
    "mean_scores, SEM = rgt.get_means_sem(df_sum) #run this code to bypass group_list, will run analysis for all rats \n",
    "mean_scores"
   ]
  },
  {
   "cell_type": "markdown",
   "metadata": {},
   "source": [
    "## Plotting\n",
    "\n",
    "Refer to documentation in section 2B for the rest of this notebook"
   ]
  },
  {
   "cell_type": "code",
   "execution_count": null,
   "metadata": {},
   "outputs": [],
   "source": [
    "rgt.choice_bar_plot(startsess, endsess, mean_scores, SEM, task = 'choiceRGT')\n",
    "\n",
    "#to save this figure (or any other figure):\n",
    "# plt.savefig('BH07 Choice S29-30',facecolor = 'white')"
   ]
  },
  {
   "cell_type": "code",
   "execution_count": null,
   "metadata": {},
   "outputs": [],
   "source": [
    "#in both functions, pass \"group_names = None\" if you are working with \"All rats\"\n",
    "#if you are splitting by group_names (object assigned at the start of this notebook), simply pass \"group_names\" instead of \"group_names = None\"\n",
    "rgt.rgt_plot('risk_cued', startsess, endsess, title, mean_scores, SEM, group_names = None, y_label = 'y-axis-title') \n",
    "rgt.rgt_plot('risk_uncued', startsess, endsess, title, mean_scores, SEM, group_names = None, y_label = 'y-axis-title') "
   ]
  },
  {
   "cell_type": "code",
   "execution_count": null,
   "metadata": {},
   "outputs": [],
   "source": [
    "rgt.rgt_bar_plot('prem_cued', startsess, endsess, title, mean_scores, SEM, group_names, y_label = 'y-axis-title')"
   ]
  },
  {
   "cell_type": "code",
   "execution_count": null,
   "metadata": {},
   "outputs": [],
   "source": [
    "rgt.rgt_bar_plot('prem_uncued', startsess, endsess, title, mean_scores, SEM, group_names, y_label = 'y-axis-title') "
   ]
  }
 ],
 "metadata": {
  "kernelspec": {
   "display_name": "Python 3",
   "language": "python",
   "name": "python3"
  },
  "language_info": {
   "codemirror_mode": {
    "name": "ipython",
    "version": 3
   },
   "file_extension": ".py",
   "mimetype": "text/x-python",
   "name": "python",
   "nbconvert_exporter": "python",
   "pygments_lexer": "ipython3",
   "version": "3.8.5"
  }
 },
 "nbformat": 4,
 "nbformat_minor": 4
}
