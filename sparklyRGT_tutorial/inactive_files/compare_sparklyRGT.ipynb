{
 "cells": [
  {
   "cell_type": "code",
   "execution_count": 5,
   "metadata": {},
   "outputs": [
    {
     "name": "stdout",
     "output_type": "stream",
     "text": [
      "False\n",
      "False\n"
     ]
    }
   ],
   "source": [
    "# import filecmp \n",
    "\n",
    "# f1 = 'C:\\\\Users\\\\dexte\\\\sparklyRGT\\\\sparklyRGT_tutorial\\\\sparklyRGT.py'\n",
    "# f2 = 'C:\\\\Users\\\\dexte\\\\sparklyRGT\\\\sparklyRGT_tutorial\\\\used_templates\\\\sparklyRGT.py'\n",
    "  \n",
    "# # shallow comparison\n",
    "# result = filecmp.cmp(f1, f2)\n",
    "# print(result)\n",
    "# # deep comparison\n",
    "# result = filecmp.cmp(f1, f2, shallow=False)\n",
    "# print(result)"
   ]
  },
  {
   "cell_type": "code",
   "execution_count": 4,
   "metadata": {},
   "outputs": [
    {
     "data": {
      "text/plain": [
       "'C:\\\\Users\\\\dexte\\\\sparklyRGT\\\\sparklyRGT_tutorial\\\\inactive_files'"
      ]
     },
     "execution_count": 4,
     "metadata": {},
     "output_type": "execute_result"
    }
   ],
   "source": [
    "# import os\n",
    "# os.getcwd()"
   ]
  },
  {
   "cell_type": "code",
   "execution_count": 12,
   "metadata": {},
   "outputs": [],
   "source": [
    "# # reading files\n",
    "# f1 = 'C:\\\\Users\\\\dexte\\\\sparklyRGT\\\\sparklyRGT_tutorial\\\\sparklyRGT.py'\n",
    "# f2 = 'C:\\\\Users\\\\dexte\\\\sparklyRGT\\\\sparklyRGT_tutorial\\\\used_templates\\\\sparklyRGT.py'\n",
    "\n",
    "# i = 0\n",
    "\n",
    "# for line1 in f1:\n",
    "# \ti += 1\n",
    "\t\n",
    "# \tfor line2 in f2:\n",
    "\t\t\n",
    "# \t\t# matching line1 from both files\n",
    "# \t\tif line1 == line2:\n",
    "# \t\t\t# print IDENTICAL if similar\n",
    "# \t\t\tprint(\"Line \", i, \": IDENTICAL\")\t\n",
    "# \t\telse:\n",
    "# \t\t\tprint(\"Line \", i, \":\")\n",
    "# \t\t\t# else print that line from both files\n",
    "# \t\t\tprint(\"\\tFile 1:\", line1, end='')\n",
    "# \t\t\tprint(\"\\tFile 2:\", line2, end='')\n",
    "# \t\tbreak\n",
    "\n",
    "# # closing files\n",
    "# f1.close()\t\t\t\t\t\t\t\t\t\n",
    "# f2.close()\t\t\t\t\t\t\t\t\t\n"
   ]
  },
  {
   "cell_type": "code",
   "execution_count": 11,
   "metadata": {},
   "outputs": [],
   "source": [
    "with open(f1, 'r') as file1:\n",
    "    with open(f2, 'r') as file2:\n",
    "        same = set(file1).difference(file2)\n",
    "\n",
    "same.discard('\\n')\n",
    "\n",
    "with open('some_output_file.txt2', 'w') as file_out:\n",
    "    for line in same:\n",
    "        file_out.write(line)"
   ]
  }
 ],
 "metadata": {
  "kernelspec": {
   "display_name": "Python 3",
   "language": "python",
   "name": "python3"
  },
  "language_info": {
   "codemirror_mode": {
    "name": "ipython",
    "version": 3
   },
   "file_extension": ".py",
   "mimetype": "text/x-python",
   "name": "python",
   "nbconvert_exporter": "python",
   "pygments_lexer": "ipython3",
   "version": "3.8.5"
  }
 },
 "nbformat": 4,
 "nbformat_minor": 4
}
