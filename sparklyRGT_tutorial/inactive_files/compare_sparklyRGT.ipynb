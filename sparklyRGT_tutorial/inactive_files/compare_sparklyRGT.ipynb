{
 "cells": [
  {
   "cell_type": "code",
   "execution_count": 5,
   "metadata": {},
   "outputs": [
    {
     "name": "stdout",
     "output_type": "stream",
     "text": [
      "False\n",
      "False\n"
     ]
    }
   ],
   "source": [
    "import filecmp \n",
    "\n",
    "f1 = 'C:\\\\Users\\\\dexte\\\\sparklyRGT\\\\sparklyRGT_tutorial\\\\sparklyRGT.py'\n",
    "f2 = 'C:\\\\Users\\\\dexte\\\\sparklyRGT\\\\sparklyRGT_tutorial\\\\used_templates\\\\sparklyRGT.py'\n",
    "  \n",
    "# shallow comparison\n",
    "result = filecmp.cmp(f1, f2)\n",
    "print(result)\n",
    "# deep comparison\n",
    "result = filecmp.cmp(f1, f2, shallow=False)\n",
    "print(result)"
   ]
  },
  {
   "cell_type": "code",
   "execution_count": 4,
   "metadata": {},
   "outputs": [
    {
     "data": {
      "text/plain": [
       "'C:\\\\Users\\\\dexte\\\\sparklyRGT\\\\sparklyRGT_tutorial\\\\inactive_files'"
      ]
     },
     "execution_count": 4,
     "metadata": {},
     "output_type": "execute_result"
    }
   ],
   "source": [
    "import os\n",
    "os.getcwd()"
   ]
  },
  {
   "cell_type": "code",
   "execution_count": 7,
   "metadata": {},
   "outputs": [
    {
     "name": "stdout",
     "output_type": "stream",
     "text": [
      "Line  1 : IDENTICAL\n",
      "Line  2 :\n",
      "\tFile 1: :\tFile 2: CLine  3 :\n",
      "\tFile 1: \\\tFile 2: CLine  4 :\n",
      "\tFile 1: U\tFile 2: CLine  5 :\n",
      "\tFile 1: s\tFile 2: CLine  6 :\n",
      "\tFile 1: e\tFile 2: CLine  7 :\n",
      "\tFile 1: r\tFile 2: CLine  8 :\n",
      "\tFile 1: s\tFile 2: CLine  9 :\n",
      "\tFile 1: \\\tFile 2: CLine  10 :\n",
      "\tFile 1: d\tFile 2: CLine  11 :\n",
      "\tFile 1: e\tFile 2: CLine  12 :\n",
      "\tFile 1: x\tFile 2: CLine  13 :\n",
      "\tFile 1: t\tFile 2: CLine  14 :\n",
      "\tFile 1: e\tFile 2: CLine  15 :\n",
      "\tFile 1: \\\tFile 2: CLine  16 :\n",
      "\tFile 1: s\tFile 2: CLine  17 :\n",
      "\tFile 1: p\tFile 2: CLine  18 :\n",
      "\tFile 1: a\tFile 2: CLine  19 :\n",
      "\tFile 1: r\tFile 2: CLine  20 :\n",
      "\tFile 1: k\tFile 2: CLine  21 :\n",
      "\tFile 1: l\tFile 2: CLine  22 :\n",
      "\tFile 1: y\tFile 2: CLine  23 :\n",
      "\tFile 1: R\tFile 2: CLine  24 :\n",
      "\tFile 1: G\tFile 2: CLine  25 :\n",
      "\tFile 1: T\tFile 2: CLine  26 :\n",
      "\tFile 1: \\\tFile 2: CLine  27 :\n",
      "\tFile 1: s\tFile 2: CLine  28 :\n",
      "\tFile 1: p\tFile 2: CLine  29 :\n",
      "\tFile 1: a\tFile 2: CLine  30 :\n",
      "\tFile 1: r\tFile 2: CLine  31 :\n",
      "\tFile 1: k\tFile 2: CLine  32 :\n",
      "\tFile 1: l\tFile 2: CLine  33 :\n",
      "\tFile 1: y\tFile 2: CLine  34 :\n",
      "\tFile 1: R\tFile 2: CLine  35 :\n",
      "\tFile 1: G\tFile 2: CLine  36 :\n",
      "\tFile 1: T\tFile 2: CLine  37 :\n",
      "\tFile 1: _\tFile 2: CLine  38 :\n",
      "\tFile 1: t\tFile 2: CLine  39 :\n",
      "\tFile 1: u\tFile 2: CLine  40 :\n",
      "\tFile 1: t\tFile 2: CLine  41 :\n",
      "\tFile 1: o\tFile 2: CLine  42 :\n",
      "\tFile 1: r\tFile 2: CLine  43 :\n",
      "\tFile 1: i\tFile 2: CLine  44 :\n",
      "\tFile 1: a\tFile 2: CLine  45 :\n",
      "\tFile 1: l\tFile 2: CLine  46 :\n",
      "\tFile 1: \\\tFile 2: CLine  47 :\n",
      "\tFile 1: s\tFile 2: CLine  48 :\n",
      "\tFile 1: p\tFile 2: CLine  49 :\n",
      "\tFile 1: a\tFile 2: CLine  50 :\n",
      "\tFile 1: r\tFile 2: CLine  51 :\n",
      "\tFile 1: k\tFile 2: CLine  52 :\n",
      "\tFile 1: l\tFile 2: CLine  53 :\n",
      "\tFile 1: y\tFile 2: CLine  54 :\n",
      "\tFile 1: R\tFile 2: CLine  55 :\n",
      "\tFile 1: G\tFile 2: CLine  56 :\n",
      "\tFile 1: T\tFile 2: CLine  57 :\n",
      "\tFile 1: .\tFile 2: CLine  58 :\n",
      "\tFile 1: p\tFile 2: CLine  59 :\n",
      "\tFile 1: y\tFile 2: C"
     ]
    },
    {
     "ename": "AttributeError",
     "evalue": "'str' object has no attribute 'close'",
     "output_type": "error",
     "traceback": [
      "\u001b[1;31m---------------------------------------------------------------------------\u001b[0m",
      "\u001b[1;31mAttributeError\u001b[0m                            Traceback (most recent call last)",
      "\u001b[1;32m<ipython-input-7-e3ae3abe6d1b>\u001b[0m in \u001b[0;36m<module>\u001b[1;34m\u001b[0m\n\u001b[0;32m     22\u001b[0m \u001b[1;33m\u001b[0m\u001b[0m\n\u001b[0;32m     23\u001b[0m \u001b[1;31m# closing files\u001b[0m\u001b[1;33m\u001b[0m\u001b[1;33m\u001b[0m\u001b[1;33m\u001b[0m\u001b[0m\n\u001b[1;32m---> 24\u001b[1;33m \u001b[0mf1\u001b[0m\u001b[1;33m.\u001b[0m\u001b[0mclose\u001b[0m\u001b[1;33m(\u001b[0m\u001b[1;33m)\u001b[0m\u001b[1;33m\u001b[0m\u001b[1;33m\u001b[0m\u001b[0m\n\u001b[0m\u001b[0;32m     25\u001b[0m \u001b[0mf2\u001b[0m\u001b[1;33m.\u001b[0m\u001b[0mclose\u001b[0m\u001b[1;33m(\u001b[0m\u001b[1;33m)\u001b[0m\u001b[1;33m\u001b[0m\u001b[1;33m\u001b[0m\u001b[0m\n",
      "\u001b[1;31mAttributeError\u001b[0m: 'str' object has no attribute 'close'"
     ]
    }
   ],
   "source": [
    "# reading files\n",
    "f1 = 'C:\\\\Users\\\\dexte\\\\sparklyRGT\\\\sparklyRGT_tutorial\\\\sparklyRGT.py'\n",
    "f2 = 'C:\\\\Users\\\\dexte\\\\sparklyRGT\\\\sparklyRGT_tutorial\\\\used_templates\\\\sparklyRGT.py'\n",
    "\n",
    "i = 0\n",
    "\n",
    "for line1 in f1:\n",
    "\ti += 1\n",
    "\t\n",
    "\tfor line2 in f2:\n",
    "\t\t\n",
    "\t\t# matching line1 from both files\n",
    "\t\tif line1 == line2:\n",
    "\t\t\t# print IDENTICAL if similar\n",
    "\t\t\tprint(\"Line \", i, \": IDENTICAL\")\t\n",
    "\t\telse:\n",
    "\t\t\tprint(\"Line \", i, \":\")\n",
    "\t\t\t# else print that line from both files\n",
    "\t\t\tprint(\"\\tFile 1:\", line1, end='')\n",
    "\t\t\tprint(\"\\tFile 2:\", line2, end='')\n",
    "\t\tbreak\n",
    "\n",
    "# closing files\n",
    "f1.close()\t\t\t\t\t\t\t\t\t\n",
    "f2.close()\t\t\t\t\t\t\t\t\t\n"
   ]
  },
  {
   "cell_type": "code",
   "execution_count": 11,
   "metadata": {},
   "outputs": [],
   "source": [
    "with open(f1, 'r') as file1:\n",
    "    with open(f2, 'r') as file2:\n",
    "        same = set(file1).difference(file2)\n",
    "\n",
    "same.discard('\\n')\n",
    "\n",
    "with open('some_output_file.txt2', 'w') as file_out:\n",
    "    for line in same:\n",
    "        file_out.write(line)"
   ]
  },
  {
   "cell_type": "code",
   "execution_count": null,
   "metadata": {},
   "outputs": [],
   "source": []
  }
 ],
 "metadata": {
  "kernelspec": {
   "display_name": "Python 3",
   "language": "python",
   "name": "python3"
  },
  "language_info": {
   "codemirror_mode": {
    "name": "ipython",
    "version": 3
   },
   "file_extension": ".py",
   "mimetype": "text/x-python",
   "name": "python",
   "nbconvert_exporter": "python",
   "pygments_lexer": "ipython3",
   "version": "3.8.5"
  }
 },
 "nbformat": 4,
 "nbformat_minor": 4
}
