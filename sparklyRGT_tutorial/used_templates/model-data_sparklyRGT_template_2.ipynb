{
 "cells": [
  {
   "cell_type": "markdown",
   "metadata": {},
   "source": [
    "### SparklyRGT Template: Baseline and Acquisition Analysis \n",
    "\n",
    "**Requirements**\n",
    "* The data must be an excel file from MEDPC2XL (trial by trial data) \n",
    "* The data, sparklyRGT.py file, and this notebook must all be in the same folder\n",
    "\n",
    "**Getting started: Please make a copy of this (sparklyRGT_template_2) for each analysis**\n",
    "- Refer to sparklyRGT_documentation for function information\n",
    "- Note: depending on your analysis, you will only have to complete certain sections of the sparklyRGT_documentation\n",
    "- Note: feel free to create a personal template once you've become comfortable - this is just an example"
   ]
  },
  {
   "cell_type": "code",
   "execution_count": null,
   "metadata": {},
   "outputs": [],
   "source": [
    "import os\n",
    "os.chdir('..')\n",
    "import sparklyRGT as rgt \n",
    "import pandas as pd\n",
    "import numpy as np\n",
    "import matplotlib.pyplot as plt\n",
    "from matplotlib.ticker import MaxNLocator\n",
    "import scipy.stats as stats\n",
    "pd.options.mode.chained_assignment = None\n",
    "pd.set_option('display.max_rows',100)"
   ]
  },
  {
   "cell_type": "markdown",
   "metadata": {},
   "source": [
    "***\n",
    "\n",
    "# 1) Load data into Python\n",
    "\n"
   ]
  },
  {
   "cell_type": "code",
   "execution_count": null,
   "metadata": {},
   "outputs": [],
   "source": [
    "#remove the leading 'M' from the TF file subject numbers and convert to integer/float "
   ]
  },
  {
   "cell_type": "code",
   "execution_count": null,
   "metadata": {},
   "outputs": [],
   "source": [
    "#add header names from BH03 to other files so they can be concatenated properly "
   ]
  },
  {
   "cell_type": "code",
   "execution_count": null,
   "metadata": {},
   "outputs": [],
   "source": [
    "#data needs to be loaded in from OSF\n",
    "#either download them from OSF and upload to github, or load in directly from OSF \n",
    "\n",
    "#OSF files are CSVs (except BH03 is xlsx) and load_multiple_data loads in excel files\n",
    "#sparklyrgt.py needs to be edited so that either excel files or CSVs can be loaded in\n",
    "\n",
    "#should be 14 file names\n",
    "file_names = ['','',''] \n",
    "\n",
    "df = rgt.load_multiple_data(file_names, reset_sessions = True)\n",
    "\n",
    "df.head()"
   ]
  },
  {
   "cell_type": "markdown",
   "metadata": {},
   "source": [
    "## Data cleaning\n",
    "\n",
    "### Check session numbers for each rat and drop subjects"
   ]
  },
  {
   "cell_type": "code",
   "execution_count": null,
   "metadata": {},
   "outputs": [],
   "source": [
    "#missing data\n",
    "\n",
    "#we need to only take rats that have consecutive sessions from 1 to 5\n",
    "#some rats will be missing sessions and need to be excluded\n",
    "\n",
    "\n",
    "#look for ambiguous/erroneous?\n",
    "rgt.check_sessions(df)\n",
    "\n",
    "#to drop subjects:\n",
    "df2 = rgt.drop_subjects(df, [])"
   ]
  },
  {
   "cell_type": "code",
   "execution_count": null,
   "metadata": {},
   "outputs": [],
   "source": [
    "#check if there are any subjects that were run on more than one task version (including 5CSRT, FC)\n",
    "\n",
    "#to display all the task names in the dataframe:\n",
    "df2.MSN.unique()\n",
    "\n",
    "#drop any subjects that were run on more than one task "
   ]
  },
  {
   "cell_type": "code",
   "execution_count": null,
   "metadata": {},
   "outputs": [],
   "source": [
    "# split the dataframe by cued and classic rats, and save them as two separate CSVs (both with column headers)\n",
    "\n",
    "#all cued tasks will have 'cue' in the MSN (A and B version)\n",
    "#all classic tasks should have 'Classic' (A and B) - either rGT or RGT \n",
    "\n",
    "#upload to sparklyRGT/data "
   ]
  }
 ],
 "metadata": {
  "kernelspec": {
   "display_name": "Python 3",
   "language": "python",
   "name": "python3"
  },
  "language_info": {
   "codemirror_mode": {
    "name": "ipython",
    "version": 3
   },
   "file_extension": ".py",
   "mimetype": "text/x-python",
   "name": "python",
   "nbconvert_exporter": "python",
   "pygments_lexer": "ipython3",
   "version": "3.8.5"
  }
 },
 "nbformat": 4,
 "nbformat_minor": 4
}
