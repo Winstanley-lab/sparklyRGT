{
 "cells": [
  {
   "cell_type": "markdown",
   "metadata": {},
   "source": [
    "### SparklyRGT Template: Baseline and Acquisition Analysis \n",
    "\n",
    "**Requirements**\n",
    "* The data must be an excel file from MEDPC2XL (trial by trial data) \n",
    "* The data, sparklyRGT.py file, and this notebook must all be in the same folder\n",
    "\n",
    "**Getting started: Please make a copy of this (sparklyRGT_template_2) for each analysis**\n",
    "- Refer to sparklyRGT_documentation for function information\n",
    "- Note: depending on your analysis, you will only have to complete certain sections of the sparklyRGT_documentation\n",
    "- Note: feel free to create a personal template once you've become comfortable - this is just an example"
   ]
  },
  {
   "cell_type": "code",
   "execution_count": null,
   "metadata": {},
   "outputs": [],
   "source": [
    "import sparklyRGT as rgt \n",
    "import os\n",
    "import pandas as pd\n",
    "import numpy as np\n",
    "import matplotlib.pyplot as plt\n",
    "from matplotlib.ticker import MaxNLocator\n",
    "import scipy.stats as stats\n",
    "pd.options.mode.chained_assignment = None\n",
    "pd.set_option('display.max_rows',100)"
   ]
  },
  {
   "cell_type": "markdown",
   "metadata": {},
   "source": [
    "***\n",
    "\n",
    "# 1) Load data into Python\n",
    "\n"
   ]
  },
  {
   "cell_type": "code",
   "execution_count": null,
   "metadata": {},
   "outputs": [],
   "source": [
    "file_names = [''] \n",
    "\n",
    "df = rgt.load_data(file_names)\n",
    "\n",
    "df.head()\n"
   ]
  },
  {
   "cell_type": "markdown",
   "metadata": {},
   "source": [
    "***\n",
    "# 2A) Baseline & Acquisition Analysis\n"
   ]
  },
  {
   "cell_type": "code",
   "execution_count": null,
   "metadata": {},
   "outputs": [],
   "source": [
    "control_group = [] #In this example: Tg negative rats\n",
    "\n",
    "exp_group = [] #In this example: Tg positive rats\n",
    "\n",
    "group_names = {0: '',\n",
    "              1: ''} \n",
    "\n",
    "group_list = []\n",
    "\n",
    "title = '' #for plotting\n",
    "\n",
    "startsess = 29 #first session you would like to include in figures\n",
    "endsess = 30 #last session you would like to include in figures"
   ]
  },
  {
   "cell_type": "markdown",
   "metadata": {},
   "source": [
    "## Data cleaning\n",
    "\n",
    "### Check session numbers for each rat"
   ]
  },
  {
   "cell_type": "code",
   "execution_count": null,
   "metadata": {},
   "outputs": [],
   "source": [
    "rgt.check_sessions(df)"
   ]
  },
  {
   "cell_type": "markdown",
   "metadata": {},
   "source": [
    "### Drop/edit session numbers"
   ]
  },
  {
   "cell_type": "code",
   "execution_count": null,
   "metadata": {},
   "outputs": [],
   "source": [
    "df2 = rgt.drop_sessions(df, [])"
   ]
  },
  {
   "cell_type": "markdown",
   "metadata": {},
   "source": [
    "### Check that you dropped/edited the desired session(s)"
   ]
  },
  {
   "cell_type": "code",
   "execution_count": null,
   "metadata": {},
   "outputs": [],
   "source": [
    "rgt.check_sessions(df2) "
   ]
  },
  {
   "cell_type": "markdown",
   "metadata": {},
   "source": [
    "## Data processing\n",
    "\n",
    "### Calculate variables for each rat\n"
   ]
  },
  {
   "cell_type": "code",
   "execution_count": null,
   "metadata": {},
   "outputs": [],
   "source": [
    "df_sum = rgt.get_summary_data(df2) #change to df instead of df2 if you didn't do any session editing\n",
    "df_sum "
   ]
  },
  {
   "cell_type": "markdown",
   "metadata": {},
   "source": [
    "### Get the risk status of the rats\n"
   ]
  },
  {
   "cell_type": "code",
   "execution_count": null,
   "metadata": {},
   "outputs": [],
   "source": [
    "df_sum, risky, optimal = rgt.get_risk_status(df_sum, startsess, endsess)\n",
    "\n",
    "print(df_sum[['mean_risk','risk_status']]) \n",
    "print(risky, optimal) "
   ]
  },
  {
   "cell_type": "markdown",
   "metadata": {},
   "source": [
    "### Export your data to an Excel file \n"
   ]
  },
  {
   "cell_type": "code",
   "execution_count": null,
   "metadata": {},
   "outputs": [],
   "source": [
    "rgt.export_to_excel(df_sum, groups = group_list, column_name = '', new_file_name = '', asin = True)"
   ]
  },
  {
   "cell_type": "markdown",
   "metadata": {},
   "source": [
    "## Calculate means and SEMs for your experimental groups\n",
    "\n"
   ]
  },
  {
   "cell_type": "code",
   "execution_count": null,
   "metadata": {},
   "outputs": [],
   "source": [
    "mean_scores, SEM = rgt.get_means_sem(df_sum, groups = group_list, group_names = group_names)\n",
    "mean_scores\n",
    "# SEM"
   ]
  },
  {
   "cell_type": "markdown",
   "metadata": {},
   "source": [
    "### Calculate means and SEMS for your experimental groups, split by risk status and/or sex"
   ]
  },
  {
   "cell_type": "code",
   "execution_count": null,
   "metadata": {},
   "outputs": [],
   "source": [
    "control_risky = [subject for subject in control_group if subject in risky]\n",
    "exp_risky = [subject for subject in exp_group if subject in risky]\n",
    "\n",
    "control_optimal = [subject for subject in control_group if subject in optimal]\n",
    "exp_optimal = [subject for subject in exp_group if subject in optimal]\n",
    "\n",
    "\n",
    "group_list_risk = [control_risky,exp_risky, control_optimal, exp_optimal]\n",
    "\n",
    "#make sure the group names are in the same order as the group list!\n",
    "group_names_risk = {0:'Control risky', \n",
    "                    1: 'Experimental risky',\n",
    "                    2: 'Control optimal',\n",
    "                    3: 'Experimental optimal'}\n",
    "\n",
    "mean_scores_risk, SEM_risk = rgt.get_means_sem(df_sum, group_list_risk, group_names_risk)\n",
    "\n",
    "mean_scores_risk"
   ]
  },
  {
   "cell_type": "markdown",
   "metadata": {},
   "source": [
    "# 2B) Baseline & Acquisition Analysis: Plotting\n"
   ]
  },
  {
   "cell_type": "markdown",
   "metadata": {},
   "source": [
    "## Bar plot of P1-P4 % choice\n"
   ]
  },
  {
   "cell_type": "code",
   "execution_count": null,
   "metadata": {},
   "outputs": [],
   "source": [
    "rgt.choice_bar_plot(startsess, endsess, mean_scores, SEM)\n",
    "\n",
    "#To save figure:\n",
    "plt.savefig('BH07 Choice S29-30',facecolor = 'white')"
   ]
  },
  {
   "cell_type": "markdown",
   "metadata": {},
   "source": [
    "## Line plot of other variables\n"
   ]
  },
  {
   "cell_type": "code",
   "execution_count": null,
   "metadata": {},
   "outputs": [],
   "source": [
    "rgt.rgt_plot('risk', startsess, endsess, title, mean_scores, SEM, group_names = group_names, y_label = 'Risk score') \n",
    "\n",
    "rgt.rgt_plot('prem', startsess, endsess, title, mean_scores, SEM, group_names = group_names, y_label = 'Premature responding') "
   ]
  },
  {
   "cell_type": "markdown",
   "metadata": {},
   "source": [
    "## Bar plot of other variables\n",
    "\n"
   ]
  },
  {
   "cell_type": "code",
   "execution_count": null,
   "metadata": {},
   "outputs": [],
   "source": [
    "rgt.rgt_bar_plot('risk', startsess, endsess, title, mean_scores, SEM, group_names, y_label = 'Risk score')"
   ]
  },
  {
   "cell_type": "markdown",
   "metadata": {},
   "source": [
    "## Plotting by risk status "
   ]
  },
  {
   "cell_type": "code",
   "execution_count": null,
   "metadata": {},
   "outputs": [],
   "source": [
    "rgt.choice_bar_plot(startsess, endsess, mean_scores_risk, SEM_risk)"
   ]
  },
  {
   "cell_type": "code",
   "execution_count": null,
   "metadata": {},
   "outputs": [],
   "source": [
    "rgt.rgt_plot('risk', startsess, endsess, title, mean_scores_risk, SEM_risk, group_names = group_names_risk, y_label = 'Risk score') "
   ]
  },
  {
   "cell_type": "code",
   "execution_count": null,
   "metadata": {},
   "outputs": [],
   "source": [
    "rgt.rgt_bar_plot('prem', startsess, endsess, title, mean_scores_risk, SEM_risk, group_names = group_names_risk,y_label = 'Premature responding')"
   ]
  }
 ],
 "metadata": {
  "kernelspec": {
   "display_name": "Python 3",
   "language": "python",
   "name": "python3"
  },
  "language_info": {
   "codemirror_mode": {
    "name": "ipython",
    "version": 3
   },
   "file_extension": ".py",
   "mimetype": "text/x-python",
   "name": "python",
   "nbconvert_exporter": "python",
   "pygments_lexer": "ipython3",
   "version": "3.8.5"
  }
 },
 "nbformat": 4,
 "nbformat_minor": 4
}
