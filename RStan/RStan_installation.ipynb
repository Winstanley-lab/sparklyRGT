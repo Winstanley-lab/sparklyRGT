{
 "cells": [
  {
   "cell_type": "code",
   "execution_count": 10,
   "metadata": {},
   "outputs": [
    {
     "name": "stdout",
     "output_type": "stream",
     "text": [
      "package 'pkgbuild' successfully unpacked and MD5 sums checked\n",
      "\n",
      "The downloaded binary packages are in\n",
      "\tC:\\Users\\dexte\\AppData\\Local\\Temp\\RtmpGcMjIx\\downloaded_packages\n"
     ]
    }
   ],
   "source": [
    "install.packages(\"pkgbuild\")"
   ]
  },
  {
   "cell_type": "code",
   "execution_count": 11,
   "metadata": {},
   "outputs": [],
   "source": [
    "rt_path = gsub(\"\\\\\",\"/\",pkgbuild::rtools_path(),fixed=T)\n",
    "rt_bin = paste0(substr(rt_path,1,nchar(rt_path)-4),\"/mingw_$(WIN)/bin/\")\n",
    "writeLines(paste0('PATH=\"',rt_path,';${PATH}\"'), con = \"~/.Renviron\")\n",
    "writeLines(paste0('Sys.setenv(BINPREF = \"',rt_bin,'\")'), con = \"~/.Rprofile\")\n",
    "\n",
    "##do not run this cell again, it creates a .Rprofile file that we don't want. "
   ]
  },
  {
   "cell_type": "code",
   "execution_count": 1,
   "metadata": {},
   "outputs": [
    {
     "data": {
      "text/html": [
       "''"
      ],
      "text/latex": [
       "''"
      ],
      "text/markdown": [
       "''"
      ],
      "text/plain": [
       "[1] \"\""
      ]
     },
     "metadata": {},
     "output_type": "display_data"
    }
   ],
   "source": [
    "Sys.getenv(\"BINPREF\")"
   ]
  },
  {
   "cell_type": "code",
   "execution_count": 2,
   "metadata": {},
   "outputs": [
    {
     "name": "stderr",
     "output_type": "stream",
     "text": [
      "Warning message in readLines(\"~/.Renviron\"):\n",
      "\"incomplete final line found on '~/.Renviron'\"\n"
     ]
    },
    {
     "data": {
      "text/html": [
       "<style>\n",
       ".list-inline {list-style: none; margin:0; padding: 0}\n",
       ".list-inline>li {display: inline-block}\n",
       ".list-inline>li:not(:last-child)::after {content: \"\\00b7\"; padding: 0 .5ex}\n",
       "</style>\n",
       "<ol class=list-inline><li>'PATH=\"C:/rtools40/usr/bin;${PATH}\"'</li><li>''</li><li>'CXX14=\"C:\\\\Rtools\\\\mingw_64\\\\bin\\\\g++.exe\"'</li></ol>\n"
      ],
      "text/latex": [
       "\\begin{enumerate*}\n",
       "\\item 'PATH=\"C:/rtools40/usr/bin;\\$\\{PATH\\}\"'\n",
       "\\item ''\n",
       "\\item 'CXX14=\"C:\\textbackslash{}\\textbackslash{}Rtools\\textbackslash{}\\textbackslash{}mingw\\_64\\textbackslash{}\\textbackslash{}bin\\textbackslash{}\\textbackslash{}g++.exe\"'\n",
       "\\end{enumerate*}\n"
      ],
      "text/markdown": [
       "1. 'PATH=\"C:/rtools40/usr/bin;${PATH}\"'\n",
       "2. ''\n",
       "3. 'CXX14=\"C:\\\\Rtools\\\\mingw_64\\\\bin\\\\g++.exe\"'\n",
       "\n",
       "\n"
      ],
      "text/plain": [
       "[1] \"PATH=\\\"C:/rtools40/usr/bin;${PATH}\\\"\"        \n",
       "[2] \"\"                                            \n",
       "[3] \"CXX14=\\\"C:\\\\Rtools\\\\mingw_64\\\\bin\\\\g++.exe\\\"\""
      ]
     },
     "metadata": {},
     "output_type": "display_data"
    }
   ],
   "source": [
    "readLines(\"~/.Renviron\")"
   ]
  },
  {
   "cell_type": "code",
   "execution_count": 3,
   "metadata": {},
   "outputs": [
    {
     "data": {
      "text/html": [
       "'C:\\\\Users\\\\dexte\\\\OneDrive\\\\Documents/.R/Makevars.win'"
      ],
      "text/latex": [
       "'C:\\textbackslash{}\\textbackslash{}Users\\textbackslash{}\\textbackslash{}dexte\\textbackslash{}\\textbackslash{}OneDrive\\textbackslash{}\\textbackslash{}Documents/.R/Makevars.win'"
      ],
      "text/markdown": [
       "'C:\\\\Users\\\\dexte\\\\OneDrive\\\\Documents/.R/Makevars.win'"
      ],
      "text/plain": [
       "[1] \"C:\\\\Users\\\\dexte\\\\OneDrive\\\\Documents/.R/Makevars.win\""
      ]
     },
     "metadata": {},
     "output_type": "display_data"
    }
   ],
   "source": [
    "file.path(Sys.getenv(\"HOME\"), \".Renviron\")"
   ]
  },
  {
   "cell_type": "markdown",
   "metadata": {},
   "source": [
    "Deleted .Rprofile"
   ]
  },
  {
   "cell_type": "code",
   "execution_count": 6,
   "metadata": {},
   "outputs": [],
   "source": [
    "writeLines('PATH=\"${RTOOLS40_HOME}\\\\usr\\\\bin;${PATH}\"', con = \"~/.Renviron\")"
   ]
  },
  {
   "cell_type": "code",
   "execution_count": 7,
   "metadata": {},
   "outputs": [
    {
     "data": {
      "text/html": [
       "<strong>make:</strong> ''"
      ],
      "text/latex": [
       "\\textbf{make:} ''"
      ],
      "text/markdown": [
       "**make:** ''"
      ],
      "text/plain": [
       "make \n",
       "  \"\" "
      ]
     },
     "metadata": {},
     "output_type": "display_data"
    }
   ],
   "source": [
    "Sys.which(\"make\")\n",
    "## \"C:\\\\rtools40\\\\usr\\\\bin\\\\make.exe\""
   ]
  },
  {
   "cell_type": "code",
   "execution_count": 8,
   "metadata": {},
   "outputs": [
    {
     "name": "stderr",
     "output_type": "stream",
     "text": [
      "Warning message in install.packages(\"jsonlite\", type = \"source\"):\n",
      "\"installation of package 'jsonlite' had non-zero exit status\"\n"
     ]
    }
   ],
   "source": [
    "install.packages(\"jsonlite\", type = \"source\")"
   ]
  },
  {
   "cell_type": "code",
   "execution_count": 2,
   "metadata": {},
   "outputs": [
    {
     "name": "stderr",
     "output_type": "stream",
     "text": [
      "also installing the dependencies 'checkmate', 'matrixStats', 'StanHeaders', 'inline', 'RcppParallel', 'loo', 'V8', 'RcppEigen', 'BH'\n",
      "\n",
      "\n"
     ]
    },
    {
     "name": "stdout",
     "output_type": "stream",
     "text": [
      "package 'checkmate' successfully unpacked and MD5 sums checked\n",
      "package 'matrixStats' successfully unpacked and MD5 sums checked\n",
      "package 'StanHeaders' successfully unpacked and MD5 sums checked\n",
      "package 'inline' successfully unpacked and MD5 sums checked\n",
      "package 'RcppParallel' successfully unpacked and MD5 sums checked\n",
      "package 'loo' successfully unpacked and MD5 sums checked\n",
      "package 'V8' successfully unpacked and MD5 sums checked\n",
      "package 'RcppEigen' successfully unpacked and MD5 sums checked\n",
      "package 'BH' successfully unpacked and MD5 sums checked\n",
      "package 'rstan' successfully unpacked and MD5 sums checked\n",
      "\n",
      "The downloaded binary packages are in\n",
      "\tC:\\Users\\dexte\\AppData\\Local\\Temp\\RtmpMNLmW6\\downloaded_packages\n"
     ]
    }
   ],
   "source": [
    "install.packages(\"rstan\")"
   ]
  },
  {
   "cell_type": "code",
   "execution_count": 4,
   "metadata": {},
   "outputs": [
    {
     "data": {
      "text/html": [
       "'C:\\\\Users\\\\dexte\\\\OneDrive\\\\Documents/.R/Makevars.win'"
      ],
      "text/latex": [
       "'C:\\textbackslash{}\\textbackslash{}Users\\textbackslash{}\\textbackslash{}dexte\\textbackslash{}\\textbackslash{}OneDrive\\textbackslash{}\\textbackslash{}Documents/.R/Makevars.win'"
      ],
      "text/markdown": [
       "'C:\\\\Users\\\\dexte\\\\OneDrive\\\\Documents/.R/Makevars.win'"
      ],
      "text/plain": [
       "[1] \"C:\\\\Users\\\\dexte\\\\OneDrive\\\\Documents/.R/Makevars.win\""
      ]
     },
     "metadata": {},
     "output_type": "display_data"
    }
   ],
   "source": [
    "file.path(Sys.getenv(\"HOME\"), \".R/Makevars.win\")"
   ]
  },
  {
   "cell_type": "code",
   "execution_count": null,
   "metadata": {},
   "outputs": [],
   "source": []
  }
 ],
 "metadata": {
  "kernelspec": {
   "display_name": "R",
   "language": "R",
   "name": "ir"
  },
  "language_info": {
   "codemirror_mode": "r",
   "file_extension": ".r",
   "mimetype": "text/x-r-source",
   "name": "R",
   "pygments_lexer": "r",
   "version": "4.0.3"
  }
 },
 "nbformat": 4,
 "nbformat_minor": 4
}
