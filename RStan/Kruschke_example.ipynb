{
 "cells": [
  {
   "cell_type": "code",
   "execution_count": 1,
   "metadata": {},
   "outputs": [
    {
     "name": "stderr",
     "output_type": "stream",
     "text": [
      "Warning message:\n",
      "\"package 'rstan' was built under R version 4.0.5\"\n",
      "Loading required package: StanHeaders\n",
      "\n",
      "Warning message:\n",
      "\"package 'StanHeaders' was built under R version 4.0.5\"\n",
      "Loading required package: ggplot2\n",
      "\n",
      "rstan (Version 2.21.2, GitRev: 2e1f913d3ca3)\n",
      "\n",
      "For execution on a local, multicore CPU with excess RAM we recommend calling\n",
      "options(mc.cores = parallel::detectCores()).\n",
      "To avoid recompilation of unchanged Stan programs, we recommend calling\n",
      "rstan_options(auto_write = TRUE)\n",
      "\n",
      "Do not specify '-march=native' in 'LOCAL_CPPFLAGS' or a Makevars file\n",
      "\n"
     ]
    }
   ],
   "source": [
    "library(rstan)"
   ]
  },
  {
   "cell_type": "code",
   "execution_count": 2,
   "metadata": {},
   "outputs": [],
   "source": [
    "modelString = \"\n",
    "    data {\n",
    "        int<lower=0> N ;\n",
    "        int y[N] ; // y is a length-N vector of integers\n",
    "    }\n",
    "    parameters {\n",
    "        real<lower=0,upper=1> theta ;\n",
    "    }\n",
    "    model {\n",
    "        theta ~ beta(1,1) ;\n",
    "        y ~ bernoulli(theta) ;\n",
    "    }\n",
    "\" # close quote for modelString\n",
    "## make sure to retype \"~\""
   ]
  },
  {
   "cell_type": "code",
   "execution_count": 3,
   "metadata": {},
   "outputs": [],
   "source": [
    "# stanDso = stan_model(model_code=modelString, verbose = FALSE)\n",
    "# ?stan_model\n",
    "##note: I added a line from https://stackoverflow.com/questions/56256884/error-on-the-stan-file-compilation-using-r-3-6-0-and-win-10/56328910#56328910 to .REnviron"
   ]
  },
  {
   "cell_type": "code",
   "execution_count": null,
   "metadata": {},
   "outputs": [],
   "source": [
    "# Create some fictitious data:\n",
    "N = 50 ; z = 10 ; y = c(rep(1,z),rep(0,N-z))\n",
    "dataList = list( y = y , N = N )\n",
    "stanFit = sampling( object=stanDso , data=dataList ,\n",
    "chains=3 , iter=1000 , warmup=200 , thin=1 )\n",
    "dataList"
   ]
  },
  {
   "cell_type": "code",
   "execution_count": null,
   "metadata": {},
   "outputs": [],
   "source": [
    "# Load rjags, coda, and DBDA2E functions:\n",
    "source(\"DBDA2E-utilities.R\")\n",
    "# Convert stan format to coda format:\n",
    "mcmcCoda = mcmc.list( lapply( 1:ncol(stanFit) ,\n",
    "function(x) { mcmc(as.array(stanFit)[,x,]) } ) )\n",
    "# Graph chain diagnostics using DBDA2E function:\n",
    "diagMCMC( mcmcCoda , parName=c(\"theta\") )"
   ]
  },
  {
   "cell_type": "markdown",
   "metadata": {},
   "source": [
    "### General structure of Stan (complex) model specification "
   ]
  },
  {
   "cell_type": "code",
   "execution_count": null,
   "metadata": {},
   "outputs": [],
   "source": [
    "data {\n",
    "... declarations ...\n",
    "}\n",
    "transformed data {\n",
    "... declarations ... statements ...\n",
    "}\n",
    "parameters {\n",
    "... declarations ...\n",
    "}\n",
    "transformed parameters {\n",
    "... declarations ... statements ...\n",
    "}\n",
    "model {\n",
    "... declarations ... statements ...\n",
    "}\n",
    "generated quantities {\n",
    "... declarations ... statements ...\n",
    "}"
   ]
  },
  {
   "cell_type": "markdown",
   "metadata": {},
   "source": [
    "### Sampling the prior in Stan"
   ]
  },
  {
   "cell_type": "code",
   "execution_count": null,
   "metadata": {},
   "outputs": [],
   "source": [
    "modelString = \"\n",
    "data {\n",
    "int<lower=0> N ;\n",
    "int y[N] ;\n",
    "}\n",
    "parameters {\n",
    "real<lower=0,upper=1> theta ;\n",
    "}\n",
    "model {\n",
    "theta ˜ beta(1,1) ;\n",
    "y ˜ bernoulli(theta) ;\n",
    "}\n",
    "\" # close quote for modelString"
   ]
  },
  {
   "cell_type": "code",
   "execution_count": null,
   "metadata": {},
   "outputs": [],
   "source": [
    "stanDso = stan_model(model_code=modelString)"
   ]
  },
  {
   "cell_type": "markdown",
   "metadata": {},
   "source": [
    "### simplified scripts for frequently used analyses"
   ]
  },
  {
   "cell_type": "code",
   "execution_count": 6,
   "metadata": {},
   "outputs": [
    {
     "name": "stderr",
     "output_type": "stream",
     "text": [
      "Warning message in file(filename, \"r\", encoding = encoding):\n",
      "\"cannot open file 'Stan-Ydich-Xnom1subj-MbernBeta.R': No such file or directory\"\n"
     ]
    },
    {
     "ename": "ERROR",
     "evalue": "Error in file(filename, \"r\", encoding = encoding): cannot open the connection\n",
     "output_type": "error",
     "traceback": [
      "Error in file(filename, \"r\", encoding = encoding): cannot open the connection\nTraceback:\n",
      "1. source(\"Stan-Ydich-Xnom1subj-MbernBeta.R\")",
      "2. file(filename, \"r\", encoding = encoding)"
     ]
    }
   ],
   "source": [
    "# Load The data\n",
    "myData = read.csv(\"https://raw.githubusercontent.com/boboppie/kruschke-doing_bayesian_data_analysis/master/2e/z15N50.csv\") #switched to url \n",
    "# Load the functions genMCMC, smryMCMC, and plotMCMC:\n",
    "source(\"Stan-Ydich-Xnom1subj-MbernBeta.R\")\n",
    "# Specify filename root and graphical format for saving output.\n",
    "fileNameRoot = \"Stan-Ydich-Xnom1subj-MbernBeta-\"\n",
    "graphFileType = \"eps\" # or \"png\" or \"pdf\" etc.\n",
    "# Generate the MCMC chain:\n",
    "mcmcCoda = genMCMC( data=myData , numSavedSteps=10000 , saveName=fileNameRoot )\n",
    "# Display diagnostics of chain, for specified parameters:\n",
    "parameterNames = varnames(mcmcCoda) # get all parameter names\n",
    "for ( parName in parameterNames ) {\n",
    "diagMCMC( mcmcCoda , parName=parName ,\n",
    "saveName=fileNameRoot , saveType=graphFileType )\n",
    "}\n",
    "# Get summary statistics of chain:\n",
    "summaryInfo = smryMCMC( mcmcCoda , compVal=0.5 , rope=c(0.45,0.55) ,\n",
    "saveName=fileNameRoot )\n",
    "# Display posterior information:\n",
    "plotMCMC( mcmcCoda , data=myData , # compVal=0.5 , rope=c(0.45,0.55) ,\n",
    "saveName=fileNameRoot , saveType=graphFileType )\n",
    "# Use Stan display functions instead of DBDA2E functions:\n",
    "# Load the stanFit object that was saved by genMCMC:\n",
    "load(\"Stan-Ydich-Xnom1subj-MbernBeta-StanFit.Rdata\")\n",
    "# Display information:\n",
    "show(stanFit)\n",
    "openGraph()\n",
    "traceplot(stanFit,pars=c(\"theta\"))\n",
    "openGraph()\n",
    "plot(stanFit,pars=c(\"theta\"))"
   ]
  },
  {
   "cell_type": "code",
   "execution_count": null,
   "metadata": {},
   "outputs": [],
   "source": []
  }
 ],
 "metadata": {
  "kernelspec": {
   "display_name": "R",
   "language": "R",
   "name": "ir"
  },
  "language_info": {
   "codemirror_mode": "r",
   "file_extension": ".r",
   "mimetype": "text/x-r-source",
   "name": "R",
   "pygments_lexer": "r",
   "version": "4.0.3"
  }
 },
 "nbformat": 4,
 "nbformat_minor": 4
}
