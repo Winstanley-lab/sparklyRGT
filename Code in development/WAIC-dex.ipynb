{
 "cells": [
  {
   "cell_type": "markdown",
   "metadata": {},
   "source": [
    "## Maximum likelihood model fitting"
   ]
  },
  {
   "cell_type": "code",
   "execution_count": 1,
   "metadata": {},
   "outputs": [],
   "source": [
    "import numpy as np\n",
    "import os \n",
    "import arviz as az\n",
    "import scipy as sp\n",
    "import scipy.io as sio\n",
    "import scipy.stats as stats\n",
    "from scipy.optimize import minimize\n",
    "import matplotlib.pyplot as plt\n",
    "import seaborn as sns\n",
    "import pandas as pd\n",
    "import pickle\n",
    "import importlib\n",
    "import math\n",
    "import xarray as xr"
   ]
  },
  {
   "cell_type": "code",
   "execution_count": 2,
   "metadata": {},
   "outputs": [],
   "source": [
    "os.chdir('..\\\\Pystan\\\\nc_files')"
   ]
  },
  {
   "cell_type": "code",
   "execution_count": 3,
   "metadata": {},
   "outputs": [],
   "source": [
    "standard_basic_fit = az.from_netcdf('standard_basic_fit.nc')\n",
    "uncued_basic_fit = az.from_netcdf('uncued_basic_fit.nc')"
   ]
  },
  {
   "cell_type": "code",
   "execution_count": 4,
   "metadata": {},
   "outputs": [
    {
     "data": {
      "text/html": [
       "\n",
       "            <div>\n",
       "              <div class='xr-header'>\n",
       "                <div class=\"xr-obj-type\">arviz.InferenceData</div>\n",
       "              </div>\n",
       "              <ul class=\"xr-sections group-sections\">\n",
       "              \n",
       "            <li class = \"xr-section-item\">\n",
       "                  <input id=\"idata_posterior9167509e-971a-4a69-96bd-5d3cc3245899\" class=\"xr-section-summary-in\" type=\"checkbox\">\n",
       "                  <label for=\"idata_posterior9167509e-971a-4a69-96bd-5d3cc3245899\" class = \"xr-section-summary\">posterior</label>\n",
       "                  <div class=\"xr-section-inline-details\"></div>\n",
       "                  <div class=\"xr-section-details\">\n",
       "                      <ul id=\"xr-dataset-coord-list\" class=\"xr-var-list\">\n",
       "                          <div style=\"padding-left:2rem;\"><div><svg style=\"position: absolute; width: 0; height: 0; overflow: hidden\">\n",
       "<defs>\n",
       "<symbol id=\"icon-database\" viewBox=\"0 0 32 32\">\n",
       "<path d=\"M16 0c-8.837 0-16 2.239-16 5v4c0 2.761 7.163 5 16 5s16-2.239 16-5v-4c0-2.761-7.163-5-16-5z\"></path>\n",
       "<path d=\"M16 17c-8.837 0-16-2.239-16-5v6c0 2.761 7.163 5 16 5s16-2.239 16-5v-6c0 2.761-7.163 5-16 5z\"></path>\n",
       "<path d=\"M16 26c-8.837 0-16-2.239-16-5v6c0 2.761 7.163 5 16 5s16-2.239 16-5v-6c0 2.761-7.163 5-16 5z\"></path>\n",
       "</symbol>\n",
       "<symbol id=\"icon-file-text2\" viewBox=\"0 0 32 32\">\n",
       "<path d=\"M28.681 7.159c-0.694-0.947-1.662-2.053-2.724-3.116s-2.169-2.030-3.116-2.724c-1.612-1.182-2.393-1.319-2.841-1.319h-15.5c-1.378 0-2.5 1.121-2.5 2.5v27c0 1.378 1.122 2.5 2.5 2.5h23c1.378 0 2.5-1.122 2.5-2.5v-19.5c0-0.448-0.137-1.23-1.319-2.841zM24.543 5.457c0.959 0.959 1.712 1.825 2.268 2.543h-4.811v-4.811c0.718 0.556 1.584 1.309 2.543 2.268zM28 29.5c0 0.271-0.229 0.5-0.5 0.5h-23c-0.271 0-0.5-0.229-0.5-0.5v-27c0-0.271 0.229-0.5 0.5-0.5 0 0 15.499-0 15.5 0v7c0 0.552 0.448 1 1 1h7v19.5z\"></path>\n",
       "<path d=\"M23 26h-14c-0.552 0-1-0.448-1-1s0.448-1 1-1h14c0.552 0 1 0.448 1 1s-0.448 1-1 1z\"></path>\n",
       "<path d=\"M23 22h-14c-0.552 0-1-0.448-1-1s0.448-1 1-1h14c0.552 0 1 0.448 1 1s-0.448 1-1 1z\"></path>\n",
       "<path d=\"M23 18h-14c-0.552 0-1-0.448-1-1s0.448-1 1-1h14c0.552 0 1 0.448 1 1s-0.448 1-1 1z\"></path>\n",
       "</symbol>\n",
       "</defs>\n",
       "</svg>\n",
       "<style>/* CSS stylesheet for displaying xarray objects in jupyterlab.\n",
       " *\n",
       " */\n",
       "\n",
       ":root {\n",
       "  --xr-font-color0: var(--jp-content-font-color0, rgba(0, 0, 0, 1));\n",
       "  --xr-font-color2: var(--jp-content-font-color2, rgba(0, 0, 0, 0.54));\n",
       "  --xr-font-color3: var(--jp-content-font-color3, rgba(0, 0, 0, 0.38));\n",
       "  --xr-border-color: var(--jp-border-color2, #e0e0e0);\n",
       "  --xr-disabled-color: var(--jp-layout-color3, #bdbdbd);\n",
       "  --xr-background-color: var(--jp-layout-color0, white);\n",
       "  --xr-background-color-row-even: var(--jp-layout-color1, white);\n",
       "  --xr-background-color-row-odd: var(--jp-layout-color2, #eeeeee);\n",
       "}\n",
       "\n",
       "html[theme=dark],\n",
       "body.vscode-dark {\n",
       "  --xr-font-color0: rgba(255, 255, 255, 1);\n",
       "  --xr-font-color2: rgba(255, 255, 255, 0.54);\n",
       "  --xr-font-color3: rgba(255, 255, 255, 0.38);\n",
       "  --xr-border-color: #1F1F1F;\n",
       "  --xr-disabled-color: #515151;\n",
       "  --xr-background-color: #111111;\n",
       "  --xr-background-color-row-even: #111111;\n",
       "  --xr-background-color-row-odd: #313131;\n",
       "}\n",
       "\n",
       ".xr-wrap {\n",
       "  display: block;\n",
       "  min-width: 300px;\n",
       "  max-width: 700px;\n",
       "}\n",
       "\n",
       ".xr-text-repr-fallback {\n",
       "  /* fallback to plain text repr when CSS is not injected (untrusted notebook) */\n",
       "  display: none;\n",
       "}\n",
       "\n",
       ".xr-header {\n",
       "  padding-top: 6px;\n",
       "  padding-bottom: 6px;\n",
       "  margin-bottom: 4px;\n",
       "  border-bottom: solid 1px var(--xr-border-color);\n",
       "}\n",
       "\n",
       ".xr-header > div,\n",
       ".xr-header > ul {\n",
       "  display: inline;\n",
       "  margin-top: 0;\n",
       "  margin-bottom: 0;\n",
       "}\n",
       "\n",
       ".xr-obj-type,\n",
       ".xr-array-name {\n",
       "  margin-left: 2px;\n",
       "  margin-right: 10px;\n",
       "}\n",
       "\n",
       ".xr-obj-type {\n",
       "  color: var(--xr-font-color2);\n",
       "}\n",
       "\n",
       ".xr-sections {\n",
       "  padding-left: 0 !important;\n",
       "  display: grid;\n",
       "  grid-template-columns: 150px auto auto 1fr 20px 20px;\n",
       "}\n",
       "\n",
       ".xr-section-item {\n",
       "  display: contents;\n",
       "}\n",
       "\n",
       ".xr-section-item input {\n",
       "  display: none;\n",
       "}\n",
       "\n",
       ".xr-section-item input + label {\n",
       "  color: var(--xr-disabled-color);\n",
       "}\n",
       "\n",
       ".xr-section-item input:enabled + label {\n",
       "  cursor: pointer;\n",
       "  color: var(--xr-font-color2);\n",
       "}\n",
       "\n",
       ".xr-section-item input:enabled + label:hover {\n",
       "  color: var(--xr-font-color0);\n",
       "}\n",
       "\n",
       ".xr-section-summary {\n",
       "  grid-column: 1;\n",
       "  color: var(--xr-font-color2);\n",
       "  font-weight: 500;\n",
       "}\n",
       "\n",
       ".xr-section-summary > span {\n",
       "  display: inline-block;\n",
       "  padding-left: 0.5em;\n",
       "}\n",
       "\n",
       ".xr-section-summary-in:disabled + label {\n",
       "  color: var(--xr-font-color2);\n",
       "}\n",
       "\n",
       ".xr-section-summary-in + label:before {\n",
       "  display: inline-block;\n",
       "  content: '►';\n",
       "  font-size: 11px;\n",
       "  width: 15px;\n",
       "  text-align: center;\n",
       "}\n",
       "\n",
       ".xr-section-summary-in:disabled + label:before {\n",
       "  color: var(--xr-disabled-color);\n",
       "}\n",
       "\n",
       ".xr-section-summary-in:checked + label:before {\n",
       "  content: '▼';\n",
       "}\n",
       "\n",
       ".xr-section-summary-in:checked + label > span {\n",
       "  display: none;\n",
       "}\n",
       "\n",
       ".xr-section-summary,\n",
       ".xr-section-inline-details {\n",
       "  padding-top: 4px;\n",
       "  padding-bottom: 4px;\n",
       "}\n",
       "\n",
       ".xr-section-inline-details {\n",
       "  grid-column: 2 / -1;\n",
       "}\n",
       "\n",
       ".xr-section-details {\n",
       "  display: none;\n",
       "  grid-column: 1 / -1;\n",
       "  margin-bottom: 5px;\n",
       "}\n",
       "\n",
       ".xr-section-summary-in:checked ~ .xr-section-details {\n",
       "  display: contents;\n",
       "}\n",
       "\n",
       ".xr-array-wrap {\n",
       "  grid-column: 1 / -1;\n",
       "  display: grid;\n",
       "  grid-template-columns: 20px auto;\n",
       "}\n",
       "\n",
       ".xr-array-wrap > label {\n",
       "  grid-column: 1;\n",
       "  vertical-align: top;\n",
       "}\n",
       "\n",
       ".xr-preview {\n",
       "  color: var(--xr-font-color3);\n",
       "}\n",
       "\n",
       ".xr-array-preview,\n",
       ".xr-array-data {\n",
       "  padding: 0 5px !important;\n",
       "  grid-column: 2;\n",
       "}\n",
       "\n",
       ".xr-array-data,\n",
       ".xr-array-in:checked ~ .xr-array-preview {\n",
       "  display: none;\n",
       "}\n",
       "\n",
       ".xr-array-in:checked ~ .xr-array-data,\n",
       ".xr-array-preview {\n",
       "  display: inline-block;\n",
       "}\n",
       "\n",
       ".xr-dim-list {\n",
       "  display: inline-block !important;\n",
       "  list-style: none;\n",
       "  padding: 0 !important;\n",
       "  margin: 0;\n",
       "}\n",
       "\n",
       ".xr-dim-list li {\n",
       "  display: inline-block;\n",
       "  padding: 0;\n",
       "  margin: 0;\n",
       "}\n",
       "\n",
       ".xr-dim-list:before {\n",
       "  content: '(';\n",
       "}\n",
       "\n",
       ".xr-dim-list:after {\n",
       "  content: ')';\n",
       "}\n",
       "\n",
       ".xr-dim-list li:not(:last-child):after {\n",
       "  content: ',';\n",
       "  padding-right: 5px;\n",
       "}\n",
       "\n",
       ".xr-has-index {\n",
       "  font-weight: bold;\n",
       "}\n",
       "\n",
       ".xr-var-list,\n",
       ".xr-var-item {\n",
       "  display: contents;\n",
       "}\n",
       "\n",
       ".xr-var-item > div,\n",
       ".xr-var-item label,\n",
       ".xr-var-item > .xr-var-name span {\n",
       "  background-color: var(--xr-background-color-row-even);\n",
       "  margin-bottom: 0;\n",
       "}\n",
       "\n",
       ".xr-var-item > .xr-var-name:hover span {\n",
       "  padding-right: 5px;\n",
       "}\n",
       "\n",
       ".xr-var-list > li:nth-child(odd) > div,\n",
       ".xr-var-list > li:nth-child(odd) > label,\n",
       ".xr-var-list > li:nth-child(odd) > .xr-var-name span {\n",
       "  background-color: var(--xr-background-color-row-odd);\n",
       "}\n",
       "\n",
       ".xr-var-name {\n",
       "  grid-column: 1;\n",
       "}\n",
       "\n",
       ".xr-var-dims {\n",
       "  grid-column: 2;\n",
       "}\n",
       "\n",
       ".xr-var-dtype {\n",
       "  grid-column: 3;\n",
       "  text-align: right;\n",
       "  color: var(--xr-font-color2);\n",
       "}\n",
       "\n",
       ".xr-var-preview {\n",
       "  grid-column: 4;\n",
       "}\n",
       "\n",
       ".xr-var-name,\n",
       ".xr-var-dims,\n",
       ".xr-var-dtype,\n",
       ".xr-preview,\n",
       ".xr-attrs dt {\n",
       "  white-space: nowrap;\n",
       "  overflow: hidden;\n",
       "  text-overflow: ellipsis;\n",
       "  padding-right: 10px;\n",
       "}\n",
       "\n",
       ".xr-var-name:hover,\n",
       ".xr-var-dims:hover,\n",
       ".xr-var-dtype:hover,\n",
       ".xr-attrs dt:hover {\n",
       "  overflow: visible;\n",
       "  width: auto;\n",
       "  z-index: 1;\n",
       "}\n",
       "\n",
       ".xr-var-attrs,\n",
       ".xr-var-data {\n",
       "  display: none;\n",
       "  background-color: var(--xr-background-color) !important;\n",
       "  padding-bottom: 5px !important;\n",
       "}\n",
       "\n",
       ".xr-var-attrs-in:checked ~ .xr-var-attrs,\n",
       ".xr-var-data-in:checked ~ .xr-var-data {\n",
       "  display: block;\n",
       "}\n",
       "\n",
       ".xr-var-data > table {\n",
       "  float: right;\n",
       "}\n",
       "\n",
       ".xr-var-name span,\n",
       ".xr-var-data,\n",
       ".xr-attrs {\n",
       "  padding-left: 25px !important;\n",
       "}\n",
       "\n",
       ".xr-attrs,\n",
       ".xr-var-attrs,\n",
       ".xr-var-data {\n",
       "  grid-column: 1 / -1;\n",
       "}\n",
       "\n",
       "dl.xr-attrs {\n",
       "  padding: 0;\n",
       "  margin: 0;\n",
       "  display: grid;\n",
       "  grid-template-columns: 125px auto;\n",
       "}\n",
       "\n",
       ".xr-attrs dt,\n",
       ".xr-attrs dd {\n",
       "  padding: 0;\n",
       "  margin: 0;\n",
       "  float: left;\n",
       "  padding-right: 10px;\n",
       "  width: auto;\n",
       "}\n",
       "\n",
       ".xr-attrs dt {\n",
       "  font-weight: normal;\n",
       "  grid-column: 1;\n",
       "}\n",
       "\n",
       ".xr-attrs dt:hover span {\n",
       "  display: inline-block;\n",
       "  background: var(--xr-background-color);\n",
       "  padding-right: 10px;\n",
       "}\n",
       "\n",
       ".xr-attrs dd {\n",
       "  grid-column: 2;\n",
       "  white-space: pre-wrap;\n",
       "  word-break: break-all;\n",
       "}\n",
       "\n",
       ".xr-icon-database,\n",
       ".xr-icon-file-text2 {\n",
       "  display: inline-block;\n",
       "  vertical-align: middle;\n",
       "  width: 1em;\n",
       "  height: 1.5em !important;\n",
       "  stroke-width: 0;\n",
       "  stroke: currentColor;\n",
       "  fill: currentColor;\n",
       "}\n",
       "</style><pre class='xr-text-repr-fallback'>&lt;xarray.Dataset&gt;\n",
       "Dimensions:                 (beta_dim_0: 24, beta_samp_dim_0: 24, chain: 4, draw: 1000, etaNegative_dim_0: 24, etaNegative_samp_dim_0: 24, etaPositive_dim_0: 24, etaPositive_samp_dim_0: 24, m_dim_0: 24, m_samp_dim_0: 24, mu_pr_dim_0: 4, sigma_dim_0: 4)\n",
       "Coordinates:\n",
       "  * chain                   (chain) int64 0 1 2 3\n",
       "  * draw                    (draw) int64 0 1 2 3 4 5 ... 994 995 996 997 998 999\n",
       "  * mu_pr_dim_0             (mu_pr_dim_0) int64 0 1 2 3\n",
       "  * sigma_dim_0             (sigma_dim_0) int64 0 1 2 3\n",
       "  * beta_samp_dim_0         (beta_samp_dim_0) int64 0 1 2 3 4 ... 19 20 21 22 23\n",
       "  * etaPositive_samp_dim_0  (etaPositive_samp_dim_0) int64 0 1 2 3 ... 21 22 23\n",
       "  * etaNegative_samp_dim_0  (etaNegative_samp_dim_0) int64 0 1 2 3 ... 21 22 23\n",
       "  * m_samp_dim_0            (m_samp_dim_0) int64 0 1 2 3 4 5 ... 19 20 21 22 23\n",
       "  * beta_dim_0              (beta_dim_0) int64 0 1 2 3 4 5 ... 18 19 20 21 22 23\n",
       "  * etaPositive_dim_0       (etaPositive_dim_0) int64 0 1 2 3 4 ... 20 21 22 23\n",
       "  * etaNegative_dim_0       (etaNegative_dim_0) int64 0 1 2 3 4 ... 20 21 22 23\n",
       "  * m_dim_0                 (m_dim_0) int64 0 1 2 3 4 5 6 ... 18 19 20 21 22 23\n",
       "Data variables:\n",
       "    mu_pr                   (chain, draw, mu_pr_dim_0) float64 -1.51 ... 0.01818\n",
       "    sigma                   (chain, draw, sigma_dim_0) float64 0.5446 ... 0.0...\n",
       "    beta_samp               (chain, draw, beta_samp_dim_0) float64 -0.4569 .....\n",
       "    etaPositive_samp        (chain, draw, etaPositive_samp_dim_0) float64 0.2...\n",
       "    etaNegative_samp        (chain, draw, etaNegative_samp_dim_0) float64 -0....\n",
       "    m_samp                  (chain, draw, m_samp_dim_0) float64 0.4956 ... -1...\n",
       "    beta                    (chain, draw, beta_dim_0) float64 3.942 ... 2.231\n",
       "    etaPositive             (chain, draw, etaPositive_dim_0) float64 0.01078 ...\n",
       "    etaNegative             (chain, draw, etaNegative_dim_0) float64 0.03304 ...\n",
       "    m                       (chain, draw, m_dim_0) float64 0.04403 ... -0.006462\n",
       "Attributes:\n",
       "    created_at:         2021-07-12T23:59:34.499196\n",
       "    arviz_version:      0.11.2\n",
       "    inference_library:  stan\n",
       "    num_chains:         4\n",
       "    num_samples:        1000\n",
       "    num_thin:           1\n",
       "    num_warmup:         1000\n",
       "    save_warmup:        0</pre><div class='xr-wrap' hidden><div class='xr-header'><div class='xr-obj-type'>xarray.Dataset</div></div><ul class='xr-sections'><li class='xr-section-item'><input id='section-3e6adcba-f22e-463b-b1b7-802dde00aadb' class='xr-section-summary-in' type='checkbox' disabled ><label for='section-3e6adcba-f22e-463b-b1b7-802dde00aadb' class='xr-section-summary'  title='Expand/collapse section'>Dimensions:</label><div class='xr-section-inline-details'><ul class='xr-dim-list'><li><span class='xr-has-index'>beta_dim_0</span>: 24</li><li><span class='xr-has-index'>beta_samp_dim_0</span>: 24</li><li><span class='xr-has-index'>chain</span>: 4</li><li><span class='xr-has-index'>draw</span>: 1000</li><li><span class='xr-has-index'>etaNegative_dim_0</span>: 24</li><li><span class='xr-has-index'>etaNegative_samp_dim_0</span>: 24</li><li><span class='xr-has-index'>etaPositive_dim_0</span>: 24</li><li><span class='xr-has-index'>etaPositive_samp_dim_0</span>: 24</li><li><span class='xr-has-index'>m_dim_0</span>: 24</li><li><span class='xr-has-index'>m_samp_dim_0</span>: 24</li><li><span class='xr-has-index'>mu_pr_dim_0</span>: 4</li><li><span class='xr-has-index'>sigma_dim_0</span>: 4</li></ul></div><div class='xr-section-details'></div></li><li class='xr-section-item'><input id='section-a8edc0d2-9f17-447e-b0d3-308eeeaf0284' class='xr-section-summary-in' type='checkbox'  checked><label for='section-a8edc0d2-9f17-447e-b0d3-308eeeaf0284' class='xr-section-summary' >Coordinates: <span>(12)</span></label><div class='xr-section-inline-details'></div><div class='xr-section-details'><ul class='xr-var-list'><li class='xr-var-item'><div class='xr-var-name'><span class='xr-has-index'>chain</span></div><div class='xr-var-dims'>(chain)</div><div class='xr-var-dtype'>int64</div><div class='xr-var-preview xr-preview'>0 1 2 3</div><input id='attrs-d3bfe9ae-55b6-4f00-9e48-35ef7fd63e41' class='xr-var-attrs-in' type='checkbox' disabled><label for='attrs-d3bfe9ae-55b6-4f00-9e48-35ef7fd63e41' title='Show/Hide attributes'><svg class='icon xr-icon-file-text2'><use xlink:href='#icon-file-text2'></use></svg></label><input id='data-c0bbebd1-4a94-4aaf-b391-e491b8b540af' class='xr-var-data-in' type='checkbox'><label for='data-c0bbebd1-4a94-4aaf-b391-e491b8b540af' title='Show/Hide data repr'><svg class='icon xr-icon-database'><use xlink:href='#icon-database'></use></svg></label><div class='xr-var-attrs'><dl class='xr-attrs'></dl></div><div class='xr-var-data'><pre>array([0, 1, 2, 3], dtype=int64)</pre></div></li><li class='xr-var-item'><div class='xr-var-name'><span class='xr-has-index'>draw</span></div><div class='xr-var-dims'>(draw)</div><div class='xr-var-dtype'>int64</div><div class='xr-var-preview xr-preview'>0 1 2 3 4 5 ... 995 996 997 998 999</div><input id='attrs-16d3b7f4-76b2-438e-acff-a17e7ac99fc3' class='xr-var-attrs-in' type='checkbox' disabled><label for='attrs-16d3b7f4-76b2-438e-acff-a17e7ac99fc3' title='Show/Hide attributes'><svg class='icon xr-icon-file-text2'><use xlink:href='#icon-file-text2'></use></svg></label><input id='data-e326a3b2-9b8b-447d-bf58-0958771e5288' class='xr-var-data-in' type='checkbox'><label for='data-e326a3b2-9b8b-447d-bf58-0958771e5288' title='Show/Hide data repr'><svg class='icon xr-icon-database'><use xlink:href='#icon-database'></use></svg></label><div class='xr-var-attrs'><dl class='xr-attrs'></dl></div><div class='xr-var-data'><pre>array([  0,   1,   2, ..., 997, 998, 999], dtype=int64)</pre></div></li><li class='xr-var-item'><div class='xr-var-name'><span class='xr-has-index'>mu_pr_dim_0</span></div><div class='xr-var-dims'>(mu_pr_dim_0)</div><div class='xr-var-dtype'>int64</div><div class='xr-var-preview xr-preview'>0 1 2 3</div><input id='attrs-82e9ce12-68c5-4072-8a85-52090c30d129' class='xr-var-attrs-in' type='checkbox' disabled><label for='attrs-82e9ce12-68c5-4072-8a85-52090c30d129' title='Show/Hide attributes'><svg class='icon xr-icon-file-text2'><use xlink:href='#icon-file-text2'></use></svg></label><input id='data-8488e1a8-6214-438f-a386-9d94314d32e6' class='xr-var-data-in' type='checkbox'><label for='data-8488e1a8-6214-438f-a386-9d94314d32e6' title='Show/Hide data repr'><svg class='icon xr-icon-database'><use xlink:href='#icon-database'></use></svg></label><div class='xr-var-attrs'><dl class='xr-attrs'></dl></div><div class='xr-var-data'><pre>array([0, 1, 2, 3], dtype=int64)</pre></div></li><li class='xr-var-item'><div class='xr-var-name'><span class='xr-has-index'>sigma_dim_0</span></div><div class='xr-var-dims'>(sigma_dim_0)</div><div class='xr-var-dtype'>int64</div><div class='xr-var-preview xr-preview'>0 1 2 3</div><input id='attrs-10880dab-7df0-4744-b2bb-40ad75595b56' class='xr-var-attrs-in' type='checkbox' disabled><label for='attrs-10880dab-7df0-4744-b2bb-40ad75595b56' title='Show/Hide attributes'><svg class='icon xr-icon-file-text2'><use xlink:href='#icon-file-text2'></use></svg></label><input id='data-85498835-1687-4851-b454-68802c676c28' class='xr-var-data-in' type='checkbox'><label for='data-85498835-1687-4851-b454-68802c676c28' title='Show/Hide data repr'><svg class='icon xr-icon-database'><use xlink:href='#icon-database'></use></svg></label><div class='xr-var-attrs'><dl class='xr-attrs'></dl></div><div class='xr-var-data'><pre>array([0, 1, 2, 3], dtype=int64)</pre></div></li><li class='xr-var-item'><div class='xr-var-name'><span class='xr-has-index'>beta_samp_dim_0</span></div><div class='xr-var-dims'>(beta_samp_dim_0)</div><div class='xr-var-dtype'>int64</div><div class='xr-var-preview xr-preview'>0 1 2 3 4 5 6 ... 18 19 20 21 22 23</div><input id='attrs-66ed7346-a3ed-46cb-b0fa-86cbd6cbad42' class='xr-var-attrs-in' type='checkbox' disabled><label for='attrs-66ed7346-a3ed-46cb-b0fa-86cbd6cbad42' title='Show/Hide attributes'><svg class='icon xr-icon-file-text2'><use xlink:href='#icon-file-text2'></use></svg></label><input id='data-803a3dd5-6e1c-47c4-b652-e3121f9e5aae' class='xr-var-data-in' type='checkbox'><label for='data-803a3dd5-6e1c-47c4-b652-e3121f9e5aae' title='Show/Hide data repr'><svg class='icon xr-icon-database'><use xlink:href='#icon-database'></use></svg></label><div class='xr-var-attrs'><dl class='xr-attrs'></dl></div><div class='xr-var-data'><pre>array([ 0,  1,  2,  3,  4,  5,  6,  7,  8,  9, 10, 11, 12, 13, 14, 15, 16, 17,\n",
       "       18, 19, 20, 21, 22, 23], dtype=int64)</pre></div></li><li class='xr-var-item'><div class='xr-var-name'><span class='xr-has-index'>etaPositive_samp_dim_0</span></div><div class='xr-var-dims'>(etaPositive_samp_dim_0)</div><div class='xr-var-dtype'>int64</div><div class='xr-var-preview xr-preview'>0 1 2 3 4 5 6 ... 18 19 20 21 22 23</div><input id='attrs-0c88ad7c-f2b6-4399-a93f-6006abff6cdd' class='xr-var-attrs-in' type='checkbox' disabled><label for='attrs-0c88ad7c-f2b6-4399-a93f-6006abff6cdd' title='Show/Hide attributes'><svg class='icon xr-icon-file-text2'><use xlink:href='#icon-file-text2'></use></svg></label><input id='data-19cfa7cd-2a75-4969-a50a-d8ba8b4f1be3' class='xr-var-data-in' type='checkbox'><label for='data-19cfa7cd-2a75-4969-a50a-d8ba8b4f1be3' title='Show/Hide data repr'><svg class='icon xr-icon-database'><use xlink:href='#icon-database'></use></svg></label><div class='xr-var-attrs'><dl class='xr-attrs'></dl></div><div class='xr-var-data'><pre>array([ 0,  1,  2,  3,  4,  5,  6,  7,  8,  9, 10, 11, 12, 13, 14, 15, 16, 17,\n",
       "       18, 19, 20, 21, 22, 23], dtype=int64)</pre></div></li><li class='xr-var-item'><div class='xr-var-name'><span class='xr-has-index'>etaNegative_samp_dim_0</span></div><div class='xr-var-dims'>(etaNegative_samp_dim_0)</div><div class='xr-var-dtype'>int64</div><div class='xr-var-preview xr-preview'>0 1 2 3 4 5 6 ... 18 19 20 21 22 23</div><input id='attrs-fafac63e-1d6e-42fb-bd4f-ad6a59e54f81' class='xr-var-attrs-in' type='checkbox' disabled><label for='attrs-fafac63e-1d6e-42fb-bd4f-ad6a59e54f81' title='Show/Hide attributes'><svg class='icon xr-icon-file-text2'><use xlink:href='#icon-file-text2'></use></svg></label><input id='data-cb1984f0-1a11-4a78-a1c1-29a1aaf71fda' class='xr-var-data-in' type='checkbox'><label for='data-cb1984f0-1a11-4a78-a1c1-29a1aaf71fda' title='Show/Hide data repr'><svg class='icon xr-icon-database'><use xlink:href='#icon-database'></use></svg></label><div class='xr-var-attrs'><dl class='xr-attrs'></dl></div><div class='xr-var-data'><pre>array([ 0,  1,  2,  3,  4,  5,  6,  7,  8,  9, 10, 11, 12, 13, 14, 15, 16, 17,\n",
       "       18, 19, 20, 21, 22, 23], dtype=int64)</pre></div></li><li class='xr-var-item'><div class='xr-var-name'><span class='xr-has-index'>m_samp_dim_0</span></div><div class='xr-var-dims'>(m_samp_dim_0)</div><div class='xr-var-dtype'>int64</div><div class='xr-var-preview xr-preview'>0 1 2 3 4 5 6 ... 18 19 20 21 22 23</div><input id='attrs-ea4af6b7-808a-4c40-a969-6d91fc601fb1' class='xr-var-attrs-in' type='checkbox' disabled><label for='attrs-ea4af6b7-808a-4c40-a969-6d91fc601fb1' title='Show/Hide attributes'><svg class='icon xr-icon-file-text2'><use xlink:href='#icon-file-text2'></use></svg></label><input id='data-e0aedb0b-5c40-427b-8711-3fb122224742' class='xr-var-data-in' type='checkbox'><label for='data-e0aedb0b-5c40-427b-8711-3fb122224742' title='Show/Hide data repr'><svg class='icon xr-icon-database'><use xlink:href='#icon-database'></use></svg></label><div class='xr-var-attrs'><dl class='xr-attrs'></dl></div><div class='xr-var-data'><pre>array([ 0,  1,  2,  3,  4,  5,  6,  7,  8,  9, 10, 11, 12, 13, 14, 15, 16, 17,\n",
       "       18, 19, 20, 21, 22, 23], dtype=int64)</pre></div></li><li class='xr-var-item'><div class='xr-var-name'><span class='xr-has-index'>beta_dim_0</span></div><div class='xr-var-dims'>(beta_dim_0)</div><div class='xr-var-dtype'>int64</div><div class='xr-var-preview xr-preview'>0 1 2 3 4 5 6 ... 18 19 20 21 22 23</div><input id='attrs-56c9e974-4275-46b6-a2b2-548e52bd9609' class='xr-var-attrs-in' type='checkbox' disabled><label for='attrs-56c9e974-4275-46b6-a2b2-548e52bd9609' title='Show/Hide attributes'><svg class='icon xr-icon-file-text2'><use xlink:href='#icon-file-text2'></use></svg></label><input id='data-f21f44fa-6f62-450c-bd34-082a9f25f9d8' class='xr-var-data-in' type='checkbox'><label for='data-f21f44fa-6f62-450c-bd34-082a9f25f9d8' title='Show/Hide data repr'><svg class='icon xr-icon-database'><use xlink:href='#icon-database'></use></svg></label><div class='xr-var-attrs'><dl class='xr-attrs'></dl></div><div class='xr-var-data'><pre>array([ 0,  1,  2,  3,  4,  5,  6,  7,  8,  9, 10, 11, 12, 13, 14, 15, 16, 17,\n",
       "       18, 19, 20, 21, 22, 23], dtype=int64)</pre></div></li><li class='xr-var-item'><div class='xr-var-name'><span class='xr-has-index'>etaPositive_dim_0</span></div><div class='xr-var-dims'>(etaPositive_dim_0)</div><div class='xr-var-dtype'>int64</div><div class='xr-var-preview xr-preview'>0 1 2 3 4 5 6 ... 18 19 20 21 22 23</div><input id='attrs-bc3df1f6-532f-4897-aaf0-8f351c507502' class='xr-var-attrs-in' type='checkbox' disabled><label for='attrs-bc3df1f6-532f-4897-aaf0-8f351c507502' title='Show/Hide attributes'><svg class='icon xr-icon-file-text2'><use xlink:href='#icon-file-text2'></use></svg></label><input id='data-c4a81ca3-6c73-4ac7-947c-d0e615106a6b' class='xr-var-data-in' type='checkbox'><label for='data-c4a81ca3-6c73-4ac7-947c-d0e615106a6b' title='Show/Hide data repr'><svg class='icon xr-icon-database'><use xlink:href='#icon-database'></use></svg></label><div class='xr-var-attrs'><dl class='xr-attrs'></dl></div><div class='xr-var-data'><pre>array([ 0,  1,  2,  3,  4,  5,  6,  7,  8,  9, 10, 11, 12, 13, 14, 15, 16, 17,\n",
       "       18, 19, 20, 21, 22, 23], dtype=int64)</pre></div></li><li class='xr-var-item'><div class='xr-var-name'><span class='xr-has-index'>etaNegative_dim_0</span></div><div class='xr-var-dims'>(etaNegative_dim_0)</div><div class='xr-var-dtype'>int64</div><div class='xr-var-preview xr-preview'>0 1 2 3 4 5 6 ... 18 19 20 21 22 23</div><input id='attrs-f97453b1-9436-48b2-9b76-58c64f9772e3' class='xr-var-attrs-in' type='checkbox' disabled><label for='attrs-f97453b1-9436-48b2-9b76-58c64f9772e3' title='Show/Hide attributes'><svg class='icon xr-icon-file-text2'><use xlink:href='#icon-file-text2'></use></svg></label><input id='data-2c562b18-6470-445e-8b1c-12a2d6d6b76c' class='xr-var-data-in' type='checkbox'><label for='data-2c562b18-6470-445e-8b1c-12a2d6d6b76c' title='Show/Hide data repr'><svg class='icon xr-icon-database'><use xlink:href='#icon-database'></use></svg></label><div class='xr-var-attrs'><dl class='xr-attrs'></dl></div><div class='xr-var-data'><pre>array([ 0,  1,  2,  3,  4,  5,  6,  7,  8,  9, 10, 11, 12, 13, 14, 15, 16, 17,\n",
       "       18, 19, 20, 21, 22, 23], dtype=int64)</pre></div></li><li class='xr-var-item'><div class='xr-var-name'><span class='xr-has-index'>m_dim_0</span></div><div class='xr-var-dims'>(m_dim_0)</div><div class='xr-var-dtype'>int64</div><div class='xr-var-preview xr-preview'>0 1 2 3 4 5 6 ... 18 19 20 21 22 23</div><input id='attrs-2ed58838-e3f1-42c8-ab47-bc9c3a9c49af' class='xr-var-attrs-in' type='checkbox' disabled><label for='attrs-2ed58838-e3f1-42c8-ab47-bc9c3a9c49af' title='Show/Hide attributes'><svg class='icon xr-icon-file-text2'><use xlink:href='#icon-file-text2'></use></svg></label><input id='data-a167825b-1ef5-44a4-9d93-1148699d2da1' class='xr-var-data-in' type='checkbox'><label for='data-a167825b-1ef5-44a4-9d93-1148699d2da1' title='Show/Hide data repr'><svg class='icon xr-icon-database'><use xlink:href='#icon-database'></use></svg></label><div class='xr-var-attrs'><dl class='xr-attrs'></dl></div><div class='xr-var-data'><pre>array([ 0,  1,  2,  3,  4,  5,  6,  7,  8,  9, 10, 11, 12, 13, 14, 15, 16, 17,\n",
       "       18, 19, 20, 21, 22, 23], dtype=int64)</pre></div></li></ul></div></li><li class='xr-section-item'><input id='section-c3b5cfa6-281b-4bec-a9e2-7107cf7079ec' class='xr-section-summary-in' type='checkbox'  checked><label for='section-c3b5cfa6-281b-4bec-a9e2-7107cf7079ec' class='xr-section-summary' >Data variables: <span>(10)</span></label><div class='xr-section-inline-details'></div><div class='xr-section-details'><ul class='xr-var-list'><li class='xr-var-item'><div class='xr-var-name'><span>mu_pr</span></div><div class='xr-var-dims'>(chain, draw, mu_pr_dim_0)</div><div class='xr-var-dtype'>float64</div><div class='xr-var-preview xr-preview'>...</div><input id='attrs-e1fcae4b-2300-4b6a-94df-640cb39dc013' class='xr-var-attrs-in' type='checkbox' disabled><label for='attrs-e1fcae4b-2300-4b6a-94df-640cb39dc013' title='Show/Hide attributes'><svg class='icon xr-icon-file-text2'><use xlink:href='#icon-file-text2'></use></svg></label><input id='data-6b8d2a4c-b9f1-474e-872d-9b5c37e93656' class='xr-var-data-in' type='checkbox'><label for='data-6b8d2a4c-b9f1-474e-872d-9b5c37e93656' title='Show/Hide data repr'><svg class='icon xr-icon-database'><use xlink:href='#icon-database'></use></svg></label><div class='xr-var-attrs'><dl class='xr-attrs'></dl></div><div class='xr-var-data'><pre>array([[[-1.509723, -2.401326, -1.511898,  0.029564],\n",
       "        [-1.671181, -2.286256, -1.388097,  0.020082],\n",
       "        ...,\n",
       "        [-1.544192, -2.377212, -1.889349,  0.037092],\n",
       "        [-1.569644, -2.393245, -1.931448,  0.039329]],\n",
       "\n",
       "       [[-1.595073, -2.373073, -1.650282,  0.012738],\n",
       "        [-1.354704, -2.532652, -1.601037,  0.014281],\n",
       "        ...,\n",
       "        [-1.30475 , -2.315303, -1.752403,  0.017045],\n",
       "        [-1.626895, -2.432161, -1.63747 ,  0.021104]],\n",
       "\n",
       "       [[-1.710771, -2.356389, -1.649932,  0.036324],\n",
       "        [-1.645685, -2.393015, -1.696341,  0.061083],\n",
       "        ...,\n",
       "        [-1.613619, -2.320102, -1.529688,  0.02113 ],\n",
       "        [-1.622863, -2.321453, -1.489366,  0.02228 ]],\n",
       "\n",
       "       [[-1.347548, -2.200376, -1.586802,  0.015113],\n",
       "        [-1.523315, -2.310747, -1.681228,  0.034169],\n",
       "        ...,\n",
       "        [-1.426364, -2.585811, -1.339534,  0.016923],\n",
       "        [-1.581431, -2.203761, -1.578768,  0.01818 ]]])</pre></div></li><li class='xr-var-item'><div class='xr-var-name'><span>sigma</span></div><div class='xr-var-dims'>(chain, draw, sigma_dim_0)</div><div class='xr-var-dtype'>float64</div><div class='xr-var-preview xr-preview'>...</div><input id='attrs-f84b1e8c-36c9-4aa0-85eb-eee04362766d' class='xr-var-attrs-in' type='checkbox' disabled><label for='attrs-f84b1e8c-36c9-4aa0-85eb-eee04362766d' title='Show/Hide attributes'><svg class='icon xr-icon-file-text2'><use xlink:href='#icon-file-text2'></use></svg></label><input id='data-2eb123a0-e80a-4d75-90ca-e8d88e627eb4' class='xr-var-data-in' type='checkbox'><label for='data-2eb123a0-e80a-4d75-90ca-e8d88e627eb4' title='Show/Hide data repr'><svg class='icon xr-icon-database'><use xlink:href='#icon-database'></use></svg></label><div class='xr-var-attrs'><dl class='xr-attrs'></dl></div><div class='xr-var-data'><pre>array([[[0.544611, 0.46046 , 0.693582, 0.02919 ],\n",
       "        [0.40301 , 0.546149, 0.613575, 0.017732],\n",
       "        ...,\n",
       "        [0.321614, 0.371059, 0.79079 , 0.030082],\n",
       "        [0.331621, 0.394804, 0.802052, 0.02874 ]],\n",
       "\n",
       "       [[0.394304, 0.366506, 0.437924, 0.01981 ],\n",
       "        [0.484904, 0.347995, 0.610098, 0.013296],\n",
       "        ...,\n",
       "        [0.67142 , 0.456381, 0.532699, 0.018923],\n",
       "        [0.291344, 0.386009, 0.396357, 0.024883]],\n",
       "\n",
       "       [[0.306604, 0.337982, 0.291379, 0.043732],\n",
       "        [0.4377  , 0.465721, 0.688379, 0.035902],\n",
       "        ...,\n",
       "        [0.389707, 0.359876, 0.580811, 0.016699],\n",
       "        [0.524666, 0.351064, 0.45704 , 0.018627]],\n",
       "\n",
       "       [[0.467473, 0.361831, 0.508076, 0.012842],\n",
       "        [0.591914, 0.428399, 0.483308, 0.042831],\n",
       "        ...,\n",
       "        [0.475088, 0.512691, 0.574979, 0.012058],\n",
       "        [0.479788, 0.5096  , 0.551794, 0.018464]]])</pre></div></li><li class='xr-var-item'><div class='xr-var-name'><span>beta_samp</span></div><div class='xr-var-dims'>(chain, draw, beta_samp_dim_0)</div><div class='xr-var-dtype'>float64</div><div class='xr-var-preview xr-preview'>...</div><input id='attrs-c4f600a5-d839-43e2-9d09-4321bdb1840d' class='xr-var-attrs-in' type='checkbox' disabled><label for='attrs-c4f600a5-d839-43e2-9d09-4321bdb1840d' title='Show/Hide attributes'><svg class='icon xr-icon-file-text2'><use xlink:href='#icon-file-text2'></use></svg></label><input id='data-cef8f296-9181-468b-a6c0-688e41207d56' class='xr-var-data-in' type='checkbox'><label for='data-cef8f296-9181-468b-a6c0-688e41207d56' title='Show/Hide data repr'><svg class='icon xr-icon-database'><use xlink:href='#icon-database'></use></svg></label><div class='xr-var-attrs'><dl class='xr-attrs'></dl></div><div class='xr-var-data'><pre>array([[[-0.456912,  0.71695 , ...,  1.783579, -1.305381],\n",
       "        [-0.209373,  1.273824, ...,  2.857859, -1.218217],\n",
       "        ...,\n",
       "        [-0.158917,  0.525416, ...,  1.598687, -1.476749],\n",
       "        [-0.127135,  0.418707, ...,  1.571953, -1.432965]],\n",
       "\n",
       "       [[-0.491558,  0.814472, ...,  3.072359, -1.376801],\n",
       "        [ 0.622313,  0.914338, ...,  1.225632, -1.170341],\n",
       "        ...,\n",
       "        [-0.500942,  0.804464, ...,  0.615429, -0.719626],\n",
       "        [-0.1106  ,  0.465466, ...,  3.160113,  2.095772]],\n",
       "\n",
       "       [[-0.507259,  0.426587, ...,  2.869589, -1.102965],\n",
       "        [-0.498925,  0.861555, ...,  1.861942, -1.109962],\n",
       "        ...,\n",
       "        [-0.413787,  0.915957, ...,  2.943691, -1.192599],\n",
       "        [-0.122867,  0.855016, ...,  3.128712, -0.934569]],\n",
       "\n",
       "       [[-0.630075,  0.092619, ...,  1.338998, -1.612647],\n",
       "        [-0.363969,  0.179995, ...,  2.167239, -0.713604],\n",
       "        ...,\n",
       "        [-0.062667,  0.140591, ...,  2.409987, -1.616958],\n",
       "        [-0.221226,  2.041813, ...,  1.079157, -0.889941]]])</pre></div></li><li class='xr-var-item'><div class='xr-var-name'><span>etaPositive_samp</span></div><div class='xr-var-dims'>(chain, draw, etaPositive_samp_dim_0)</div><div class='xr-var-dtype'>float64</div><div class='xr-var-preview xr-preview'>...</div><input id='attrs-32e3edfc-752f-4aae-bfa6-0501cdb44a53' class='xr-var-attrs-in' type='checkbox' disabled><label for='attrs-32e3edfc-752f-4aae-bfa6-0501cdb44a53' title='Show/Hide attributes'><svg class='icon xr-icon-file-text2'><use xlink:href='#icon-file-text2'></use></svg></label><input id='data-7dc0882a-e031-4518-872d-0a2c1dc92145' class='xr-var-data-in' type='checkbox'><label for='data-7dc0882a-e031-4518-872d-0a2c1dc92145' title='Show/Hide data repr'><svg class='icon xr-icon-database'><use xlink:href='#icon-database'></use></svg></label><div class='xr-var-attrs'><dl class='xr-attrs'></dl></div><div class='xr-var-data'><pre>array([[[ 0.231296, -1.059728, ..., -0.84751 ,  1.478854],\n",
       "        [-0.087454, -1.071446, ..., -0.989477,  0.890588],\n",
       "        ...,\n",
       "        [-0.499393, -1.10302 , ..., -0.51329 ,  0.738956],\n",
       "        [-0.144964, -0.862117, ..., -0.672753,  0.990164]],\n",
       "\n",
       "       [[ 0.500128, -1.229058, ..., -1.313067,  1.210106],\n",
       "        [-0.548191, -1.34797 , ..., -0.304307,  0.839041],\n",
       "        ...,\n",
       "        [-0.204684, -1.570975, ..., -0.784194, -0.026953],\n",
       "        [ 0.138525, -0.706927, ..., -0.766392, -0.950848]],\n",
       "\n",
       "       [[ 0.39431 , -0.651727, ..., -1.020931,  1.508394],\n",
       "        [ 0.503718, -1.056625, ..., -0.675476,  0.815561],\n",
       "        ...,\n",
       "        [ 0.550526, -1.227398, ..., -1.333896,  1.496938],\n",
       "        [ 0.274994, -1.526714, ..., -1.770655,  1.839541]],\n",
       "\n",
       "       [[-0.171469, -1.628941, ..., -1.315109,  0.965176],\n",
       "        [ 0.008838, -1.08825 , ..., -1.321317,  0.29898 ],\n",
       "        ...,\n",
       "        [ 0.165783, -0.312801, ..., -0.607978,  2.049463],\n",
       "        [-0.159276, -1.849501, ..., -0.740579,  0.356812]]])</pre></div></li><li class='xr-var-item'><div class='xr-var-name'><span>etaNegative_samp</span></div><div class='xr-var-dims'>(chain, draw, etaNegative_samp_dim_0)</div><div class='xr-var-dtype'>float64</div><div class='xr-var-preview xr-preview'>...</div><input id='attrs-4d1549f7-2a95-4c1d-94c2-9d8d1518361b' class='xr-var-attrs-in' type='checkbox' disabled><label for='attrs-4d1549f7-2a95-4c1d-94c2-9d8d1518361b' title='Show/Hide attributes'><svg class='icon xr-icon-file-text2'><use xlink:href='#icon-file-text2'></use></svg></label><input id='data-67fe750f-a39d-4599-bf6b-fe8da14d651f' class='xr-var-data-in' type='checkbox'><label for='data-67fe750f-a39d-4599-bf6b-fe8da14d651f' title='Show/Hide data repr'><svg class='icon xr-icon-database'><use xlink:href='#icon-database'></use></svg></label><div class='xr-var-attrs'><dl class='xr-attrs'></dl></div><div class='xr-var-data'><pre>array([[[-0.471457, -1.180863, ...,  0.581933, -0.984918],\n",
       "        [-0.837622, -1.17891 , ...,  0.378625, -0.968052],\n",
       "        ...,\n",
       "        [-0.194561, -0.408048, ...,  1.102349,  0.251982],\n",
       "        [-0.053614, -0.30884 , ...,  0.942401,  0.338377]],\n",
       "\n",
       "       [[-0.135939, -1.111372, ...,  1.21632 , -1.430347],\n",
       "        [-0.04217 , -0.951687, ...,  1.071977,  0.047426],\n",
       "        ...,\n",
       "        [-0.011226, -0.579621, ...,  1.284335,  0.535295],\n",
       "        [-0.250603, -1.529407, ...,  1.476217,  1.08475 ]],\n",
       "\n",
       "       [[-0.744212, -1.725162, ...,  1.735325,  1.178348],\n",
       "        [-0.272557, -1.081784, ...,  0.81381 , -0.585815],\n",
       "        ...,\n",
       "        [-0.17003 , -0.922915, ...,  0.738429, -0.335277],\n",
       "        [-0.262114, -1.177387, ...,  1.101608,  0.640931]],\n",
       "\n",
       "       [[ 0.066763, -1.039219, ...,  1.006469, -0.1138  ],\n",
       "        [-0.580843, -0.922931, ...,  1.379109,  0.693994],\n",
       "        ...,\n",
       "        [-0.597576, -1.205085, ...,  0.492705,  0.13928 ],\n",
       "        [-0.183617, -1.577172, ...,  0.935713, -0.294994]]])</pre></div></li><li class='xr-var-item'><div class='xr-var-name'><span>m_samp</span></div><div class='xr-var-dims'>(chain, draw, m_samp_dim_0)</div><div class='xr-var-dtype'>float64</div><div class='xr-var-preview xr-preview'>...</div><input id='attrs-3d74e756-de94-4131-a9f8-134b47b97297' class='xr-var-attrs-in' type='checkbox' disabled><label for='attrs-3d74e756-de94-4131-a9f8-134b47b97297' title='Show/Hide attributes'><svg class='icon xr-icon-file-text2'><use xlink:href='#icon-file-text2'></use></svg></label><input id='data-3b195571-8927-4838-90a3-48dd4133b221' class='xr-var-data-in' type='checkbox'><label for='data-3b195571-8927-4838-90a3-48dd4133b221' title='Show/Hide data repr'><svg class='icon xr-icon-database'><use xlink:href='#icon-database'></use></svg></label><div class='xr-var-attrs'><dl class='xr-attrs'></dl></div><div class='xr-var-data'><pre>array([[[ 0.495556,  1.171003, ..., -1.005023,  1.598094],\n",
       "        [ 2.129328,  0.579135, ..., -1.112922,  0.36875 ],\n",
       "        ...,\n",
       "        [ 0.332059,  0.631553, ..., -1.138264, -1.332446],\n",
       "        [ 0.718001,  0.803863, ..., -1.268789, -1.54615 ]],\n",
       "\n",
       "       [[ 1.632066,  1.316779, ..., -0.622645, -0.660168],\n",
       "        [-0.50164 ,  0.737373, ..., -1.014774, -0.679672],\n",
       "        ...,\n",
       "        [ 0.794772, -0.201526, ..., -0.850085, -0.918715],\n",
       "        [ 0.568316,  2.313181, ..., -0.819687, -0.867929]],\n",
       "\n",
       "       [[ 0.937135,  1.029665, ..., -0.817987, -0.708586],\n",
       "        [ 0.733165,  0.431765, ..., -1.686315, -1.587131],\n",
       "        ...,\n",
       "        [ 1.366278,  0.777479, ..., -1.240404, -0.506048],\n",
       "        [ 0.400866,  0.15923 , ..., -1.189322, -0.091331]],\n",
       "\n",
       "       [[ 0.556404,  1.897812, ..., -1.136714, -0.008353],\n",
       "        [ 1.115589,  0.149806, ..., -0.786582, -0.644317],\n",
       "        ...,\n",
       "        [ 0.314589,  1.278776, ..., -1.310632,  0.661396],\n",
       "        [ 1.107658,  1.010785, ..., -0.786882, -1.334563]]])</pre></div></li><li class='xr-var-item'><div class='xr-var-name'><span>beta</span></div><div class='xr-var-dims'>(chain, draw, beta_dim_0)</div><div class='xr-var-dtype'>float64</div><div class='xr-var-preview xr-preview'>...</div><input id='attrs-fdaa18b5-3b0b-4d78-af34-a5c765f23e6f' class='xr-var-attrs-in' type='checkbox' disabled><label for='attrs-fdaa18b5-3b0b-4d78-af34-a5c765f23e6f' title='Show/Hide attributes'><svg class='icon xr-icon-file-text2'><use xlink:href='#icon-file-text2'></use></svg></label><input id='data-4e61f284-c4b3-4262-8bda-0c55adec70fb' class='xr-var-data-in' type='checkbox'><label for='data-4e61f284-c4b3-4262-8bda-0c55adec70fb' title='Show/Hide data repr'><svg class='icon xr-icon-database'><use xlink:href='#icon-database'></use></svg></label><div class='xr-var-attrs'><dl class='xr-attrs'></dl></div><div class='xr-var-data'><pre>array([[[ 3.942185, 13.157858, ..., 29.502447,  1.312035],\n",
       "        [ 3.967852, 12.354884, ..., 30.159008,  1.525582],\n",
       "        ...,\n",
       "        [ 5.545509,  8.466796, ..., 15.152527,  2.174027],\n",
       "        [ 5.363246,  7.638508, ..., 14.727393,  2.042914]],\n",
       "\n",
       "       [[ 3.690236, 10.146084, ..., 35.049385,  1.622058],\n",
       "        [14.622125, 18.103349, ..., 22.342416,  2.733009],\n",
       "        ...,\n",
       "        [ 5.051414, 22.216511, ..., 18.628639,  3.69813 ],\n",
       "        [ 4.866737,  6.808464, ..., 23.992242, 15.476352]],\n",
       "\n",
       "       [[ 3.106038,  5.719079, ..., 20.294326,  2.022633],\n",
       "        [ 3.121763, 10.240917, ..., 20.300848,  1.648584],\n",
       "        ...,\n",
       "        [ 3.805034, 10.454872, ..., 32.030982,  1.881868],\n",
       "        [ 4.588528, 12.022983, ..., 50.745464,  1.726086]],\n",
       "\n",
       "       [[ 5.041036,  9.619663, ..., 23.51701 ,  1.777541],\n",
       "        [ 4.114078,  7.841385, ..., 40.487384,  2.58764 ],\n",
       "        ...,\n",
       "        [ 7.281869,  8.711567, ..., 38.908789,  1.403874],\n",
       "        [ 4.586165, 27.352643, ..., 14.378251,  2.230742]]])</pre></div></li><li class='xr-var-item'><div class='xr-var-name'><span>etaPositive</span></div><div class='xr-var-dims'>(chain, draw, etaPositive_dim_0)</div><div class='xr-var-dtype'>float64</div><div class='xr-var-preview xr-preview'>...</div><input id='attrs-4c311697-e419-405e-a733-747c541036ec' class='xr-var-attrs-in' type='checkbox' disabled><label for='attrs-4c311697-e419-405e-a733-747c541036ec' title='Show/Hide attributes'><svg class='icon xr-icon-file-text2'><use xlink:href='#icon-file-text2'></use></svg></label><input id='data-9cb69bb2-cca8-427d-b699-f04997a67c69' class='xr-var-data-in' type='checkbox'><label for='data-9cb69bb2-cca8-427d-b699-f04997a67c69' title='Show/Hide data repr'><svg class='icon xr-icon-database'><use xlink:href='#icon-database'></use></svg></label><div class='xr-var-attrs'><dl class='xr-attrs'></dl></div><div class='xr-var-data'><pre>array([[[0.010783, 0.001801, ..., 0.002485, 0.042789],\n",
       "        [0.009699, 0.001912, ..., 0.002217, 0.036024],\n",
       "        ...,\n",
       "        [0.005061, 0.002527, ..., 0.004984, 0.017705],\n",
       "        [0.007012, 0.002993, ..., 0.003781, 0.022635]],\n",
       "\n",
       "       [[0.014213, 0.00224 , ..., 0.002023, 0.026868],\n",
       "        [0.003091, 0.001224, ..., 0.004024, 0.012451],\n",
       "        ...,\n",
       "        [0.00789 , 0.0011  , ..., 0.003617, 0.00987 ],\n",
       "        [0.008579, 0.003275, ..., 0.003046, 0.002425]],\n",
       "\n",
       "       [[0.013036, 0.004852, ..., 0.003312, 0.032472],\n",
       "        [0.015401, 0.001826, ..., 0.003249, 0.022053],\n",
       "        ...,\n",
       "        [0.016886, 0.002736, ..., 0.002417, 0.037513],\n",
       "        [0.012975, 0.002003, ..., 0.0015  , 0.04702 ]],\n",
       "\n",
       "       [[0.011756, 0.0025  , ..., 0.003583, 0.03214 ],\n",
       "        [0.010437, 0.002606, ..., 0.001878, 0.014475],\n",
       "        ...,\n",
       "        [0.006067, 0.002876, ..., 0.001751, 0.062523],\n",
       "        [0.011073, 0.000728, ..., 0.004787, 0.021594]]])</pre></div></li><li class='xr-var-item'><div class='xr-var-name'><span>etaNegative</span></div><div class='xr-var-dims'>(chain, draw, etaNegative_dim_0)</div><div class='xr-var-dtype'>float64</div><div class='xr-var-preview xr-preview'>...</div><input id='attrs-54c95d38-e480-4cb2-b430-a5a12bb158c4' class='xr-var-attrs-in' type='checkbox' disabled><label for='attrs-54c95d38-e480-4cb2-b430-a5a12bb158c4' title='Show/Hide attributes'><svg class='icon xr-icon-file-text2'><use xlink:href='#icon-file-text2'></use></svg></label><input id='data-f56939e3-42a6-412b-83cb-8f66b6a2412e' class='xr-var-data-in' type='checkbox'><label for='data-f56939e3-42a6-412b-83cb-8f66b6a2412e' title='Show/Hide data repr'><svg class='icon xr-icon-database'><use xlink:href='#icon-database'></use></svg></label><div class='xr-var-attrs'><dl class='xr-attrs'></dl></div><div class='xr-var-data'><pre>array([[[0.033036, 0.009781, ..., 0.133931, 0.014022],\n",
       "        [0.028631, 0.017337, ..., 0.123964, 0.023753],\n",
       "        ...,\n",
       "        [0.020511, 0.013418, ..., 0.154451, 0.04562 ],\n",
       "        [0.024186, 0.014606, ..., 0.119964, 0.048573]],\n",
       "\n",
       "       [[0.04376 , 0.01626 , ..., 0.131927, 0.01132 ],\n",
       "        [0.052021, 0.014513, ..., 0.171804, 0.058099],\n",
       "        ...,\n",
       "        [0.039437, 0.019632, ..., 0.14275 , 0.071295],\n",
       "        [0.041314, 0.012353, ..., 0.146355, 0.113712]],\n",
       "\n",
       "       [[0.031027, 0.01563 , ..., 0.126325, 0.0958  ],\n",
       "        [0.029839, 0.007203, ..., 0.128022, 0.017856],\n",
       "        ...,\n",
       "        [0.051843, 0.019413, ..., 0.135549, 0.042422],\n",
       "        [0.053921, 0.021307, ..., 0.162102, 0.115856]],\n",
       "\n",
       "       [[0.060364, 0.017192, ..., 0.141136, 0.050148],\n",
       "        [0.024909, 0.016662, ..., 0.155147, 0.089312],\n",
       "        ...,\n",
       "        [0.046291, 0.021054, ..., 0.145469, 0.104046],\n",
       "        [0.046587, 0.00704 , ..., 0.144058, 0.040895]]])</pre></div></li><li class='xr-var-item'><div class='xr-var-name'><span>m</span></div><div class='xr-var-dims'>(chain, draw, m_dim_0)</div><div class='xr-var-dtype'>float64</div><div class='xr-var-preview xr-preview'>...</div><input id='attrs-2302f96e-8597-4d9a-b600-8d4dfcc78b05' class='xr-var-attrs-in' type='checkbox' disabled><label for='attrs-2302f96e-8597-4d9a-b600-8d4dfcc78b05' title='Show/Hide attributes'><svg class='icon xr-icon-file-text2'><use xlink:href='#icon-file-text2'></use></svg></label><input id='data-fae930b4-7154-4fcd-ae5a-096b09b82b21' class='xr-var-data-in' type='checkbox'><label for='data-fae930b4-7154-4fcd-ae5a-096b09b82b21' title='Show/Hide data repr'><svg class='icon xr-icon-database'><use xlink:href='#icon-database'></use></svg></label><div class='xr-var-attrs'><dl class='xr-attrs'></dl></div><div class='xr-var-data'><pre>array([[[ 0.04403 ,  0.063746, ...,  0.000228,  0.076212],\n",
       "        [ 0.05784 ,  0.030351, ...,  0.000347,  0.026621],\n",
       "        ...,\n",
       "        [ 0.047081,  0.05609 , ...,  0.002851, -0.00299 ],\n",
       "        [ 0.059964,  0.062432, ...,  0.002864, -0.005107]],\n",
       "\n",
       "       [[ 0.045069,  0.038823, ...,  0.000404, -0.000339],\n",
       "        [ 0.007611,  0.024085, ...,  0.000789,  0.005244],\n",
       "        ...,\n",
       "        [ 0.032084,  0.013231, ...,  0.000958, -0.000341],\n",
       "        [ 0.035245,  0.078662, ...,  0.000707, -0.000493]],\n",
       "\n",
       "       [[ 0.077307,  0.081354, ...,  0.000552,  0.005336],\n",
       "        [ 0.087405,  0.076584, ...,  0.000541,  0.004102],\n",
       "        ...,\n",
       "        [ 0.043946,  0.034113, ...,  0.000416,  0.012679],\n",
       "        [ 0.029747,  0.025246, ...,  0.000127,  0.020579]],\n",
       "\n",
       "       [[ 0.022259,  0.039486, ...,  0.000515,  0.015006],\n",
       "        [ 0.08195 ,  0.040585, ...,  0.000478,  0.006572],\n",
       "        ...,\n",
       "        [ 0.020717,  0.032343, ...,  0.00112 ,  0.024898],\n",
       "        [ 0.038632,  0.036843, ...,  0.00365 , -0.006462]]])</pre></div></li></ul></div></li><li class='xr-section-item'><input id='section-2346e880-82c7-4fbf-934c-d07673d79d53' class='xr-section-summary-in' type='checkbox'  checked><label for='section-2346e880-82c7-4fbf-934c-d07673d79d53' class='xr-section-summary' >Attributes: <span>(8)</span></label><div class='xr-section-inline-details'></div><div class='xr-section-details'><dl class='xr-attrs'><dt><span>created_at :</span></dt><dd>2021-07-12T23:59:34.499196</dd><dt><span>arviz_version :</span></dt><dd>0.11.2</dd><dt><span>inference_library :</span></dt><dd>stan</dd><dt><span>num_chains :</span></dt><dd>4</dd><dt><span>num_samples :</span></dt><dd>1000</dd><dt><span>num_thin :</span></dt><dd>1</dd><dt><span>num_warmup :</span></dt><dd>1000</dd><dt><span>save_warmup :</span></dt><dd>0</dd></dl></div></li></ul></div></div><br></div>\n",
       "                      </ul>\n",
       "                  </div>\n",
       "            </li>\n",
       "            \n",
       "            <li class = \"xr-section-item\">\n",
       "                  <input id=\"idata_sample_statsd6949df0-5ce3-43f4-b2e1-847bb96bf1c0\" class=\"xr-section-summary-in\" type=\"checkbox\">\n",
       "                  <label for=\"idata_sample_statsd6949df0-5ce3-43f4-b2e1-847bb96bf1c0\" class = \"xr-section-summary\">sample_stats</label>\n",
       "                  <div class=\"xr-section-inline-details\"></div>\n",
       "                  <div class=\"xr-section-details\">\n",
       "                      <ul id=\"xr-dataset-coord-list\" class=\"xr-var-list\">\n",
       "                          <div style=\"padding-left:2rem;\"><div><svg style=\"position: absolute; width: 0; height: 0; overflow: hidden\">\n",
       "<defs>\n",
       "<symbol id=\"icon-database\" viewBox=\"0 0 32 32\">\n",
       "<path d=\"M16 0c-8.837 0-16 2.239-16 5v4c0 2.761 7.163 5 16 5s16-2.239 16-5v-4c0-2.761-7.163-5-16-5z\"></path>\n",
       "<path d=\"M16 17c-8.837 0-16-2.239-16-5v6c0 2.761 7.163 5 16 5s16-2.239 16-5v-6c0 2.761-7.163 5-16 5z\"></path>\n",
       "<path d=\"M16 26c-8.837 0-16-2.239-16-5v6c0 2.761 7.163 5 16 5s16-2.239 16-5v-6c0 2.761-7.163 5-16 5z\"></path>\n",
       "</symbol>\n",
       "<symbol id=\"icon-file-text2\" viewBox=\"0 0 32 32\">\n",
       "<path d=\"M28.681 7.159c-0.694-0.947-1.662-2.053-2.724-3.116s-2.169-2.030-3.116-2.724c-1.612-1.182-2.393-1.319-2.841-1.319h-15.5c-1.378 0-2.5 1.121-2.5 2.5v27c0 1.378 1.122 2.5 2.5 2.5h23c1.378 0 2.5-1.122 2.5-2.5v-19.5c0-0.448-0.137-1.23-1.319-2.841zM24.543 5.457c0.959 0.959 1.712 1.825 2.268 2.543h-4.811v-4.811c0.718 0.556 1.584 1.309 2.543 2.268zM28 29.5c0 0.271-0.229 0.5-0.5 0.5h-23c-0.271 0-0.5-0.229-0.5-0.5v-27c0-0.271 0.229-0.5 0.5-0.5 0 0 15.499-0 15.5 0v7c0 0.552 0.448 1 1 1h7v19.5z\"></path>\n",
       "<path d=\"M23 26h-14c-0.552 0-1-0.448-1-1s0.448-1 1-1h14c0.552 0 1 0.448 1 1s-0.448 1-1 1z\"></path>\n",
       "<path d=\"M23 22h-14c-0.552 0-1-0.448-1-1s0.448-1 1-1h14c0.552 0 1 0.448 1 1s-0.448 1-1 1z\"></path>\n",
       "<path d=\"M23 18h-14c-0.552 0-1-0.448-1-1s0.448-1 1-1h14c0.552 0 1 0.448 1 1s-0.448 1-1 1z\"></path>\n",
       "</symbol>\n",
       "</defs>\n",
       "</svg>\n",
       "<style>/* CSS stylesheet for displaying xarray objects in jupyterlab.\n",
       " *\n",
       " */\n",
       "\n",
       ":root {\n",
       "  --xr-font-color0: var(--jp-content-font-color0, rgba(0, 0, 0, 1));\n",
       "  --xr-font-color2: var(--jp-content-font-color2, rgba(0, 0, 0, 0.54));\n",
       "  --xr-font-color3: var(--jp-content-font-color3, rgba(0, 0, 0, 0.38));\n",
       "  --xr-border-color: var(--jp-border-color2, #e0e0e0);\n",
       "  --xr-disabled-color: var(--jp-layout-color3, #bdbdbd);\n",
       "  --xr-background-color: var(--jp-layout-color0, white);\n",
       "  --xr-background-color-row-even: var(--jp-layout-color1, white);\n",
       "  --xr-background-color-row-odd: var(--jp-layout-color2, #eeeeee);\n",
       "}\n",
       "\n",
       "html[theme=dark],\n",
       "body.vscode-dark {\n",
       "  --xr-font-color0: rgba(255, 255, 255, 1);\n",
       "  --xr-font-color2: rgba(255, 255, 255, 0.54);\n",
       "  --xr-font-color3: rgba(255, 255, 255, 0.38);\n",
       "  --xr-border-color: #1F1F1F;\n",
       "  --xr-disabled-color: #515151;\n",
       "  --xr-background-color: #111111;\n",
       "  --xr-background-color-row-even: #111111;\n",
       "  --xr-background-color-row-odd: #313131;\n",
       "}\n",
       "\n",
       ".xr-wrap {\n",
       "  display: block;\n",
       "  min-width: 300px;\n",
       "  max-width: 700px;\n",
       "}\n",
       "\n",
       ".xr-text-repr-fallback {\n",
       "  /* fallback to plain text repr when CSS is not injected (untrusted notebook) */\n",
       "  display: none;\n",
       "}\n",
       "\n",
       ".xr-header {\n",
       "  padding-top: 6px;\n",
       "  padding-bottom: 6px;\n",
       "  margin-bottom: 4px;\n",
       "  border-bottom: solid 1px var(--xr-border-color);\n",
       "}\n",
       "\n",
       ".xr-header > div,\n",
       ".xr-header > ul {\n",
       "  display: inline;\n",
       "  margin-top: 0;\n",
       "  margin-bottom: 0;\n",
       "}\n",
       "\n",
       ".xr-obj-type,\n",
       ".xr-array-name {\n",
       "  margin-left: 2px;\n",
       "  margin-right: 10px;\n",
       "}\n",
       "\n",
       ".xr-obj-type {\n",
       "  color: var(--xr-font-color2);\n",
       "}\n",
       "\n",
       ".xr-sections {\n",
       "  padding-left: 0 !important;\n",
       "  display: grid;\n",
       "  grid-template-columns: 150px auto auto 1fr 20px 20px;\n",
       "}\n",
       "\n",
       ".xr-section-item {\n",
       "  display: contents;\n",
       "}\n",
       "\n",
       ".xr-section-item input {\n",
       "  display: none;\n",
       "}\n",
       "\n",
       ".xr-section-item input + label {\n",
       "  color: var(--xr-disabled-color);\n",
       "}\n",
       "\n",
       ".xr-section-item input:enabled + label {\n",
       "  cursor: pointer;\n",
       "  color: var(--xr-font-color2);\n",
       "}\n",
       "\n",
       ".xr-section-item input:enabled + label:hover {\n",
       "  color: var(--xr-font-color0);\n",
       "}\n",
       "\n",
       ".xr-section-summary {\n",
       "  grid-column: 1;\n",
       "  color: var(--xr-font-color2);\n",
       "  font-weight: 500;\n",
       "}\n",
       "\n",
       ".xr-section-summary > span {\n",
       "  display: inline-block;\n",
       "  padding-left: 0.5em;\n",
       "}\n",
       "\n",
       ".xr-section-summary-in:disabled + label {\n",
       "  color: var(--xr-font-color2);\n",
       "}\n",
       "\n",
       ".xr-section-summary-in + label:before {\n",
       "  display: inline-block;\n",
       "  content: '►';\n",
       "  font-size: 11px;\n",
       "  width: 15px;\n",
       "  text-align: center;\n",
       "}\n",
       "\n",
       ".xr-section-summary-in:disabled + label:before {\n",
       "  color: var(--xr-disabled-color);\n",
       "}\n",
       "\n",
       ".xr-section-summary-in:checked + label:before {\n",
       "  content: '▼';\n",
       "}\n",
       "\n",
       ".xr-section-summary-in:checked + label > span {\n",
       "  display: none;\n",
       "}\n",
       "\n",
       ".xr-section-summary,\n",
       ".xr-section-inline-details {\n",
       "  padding-top: 4px;\n",
       "  padding-bottom: 4px;\n",
       "}\n",
       "\n",
       ".xr-section-inline-details {\n",
       "  grid-column: 2 / -1;\n",
       "}\n",
       "\n",
       ".xr-section-details {\n",
       "  display: none;\n",
       "  grid-column: 1 / -1;\n",
       "  margin-bottom: 5px;\n",
       "}\n",
       "\n",
       ".xr-section-summary-in:checked ~ .xr-section-details {\n",
       "  display: contents;\n",
       "}\n",
       "\n",
       ".xr-array-wrap {\n",
       "  grid-column: 1 / -1;\n",
       "  display: grid;\n",
       "  grid-template-columns: 20px auto;\n",
       "}\n",
       "\n",
       ".xr-array-wrap > label {\n",
       "  grid-column: 1;\n",
       "  vertical-align: top;\n",
       "}\n",
       "\n",
       ".xr-preview {\n",
       "  color: var(--xr-font-color3);\n",
       "}\n",
       "\n",
       ".xr-array-preview,\n",
       ".xr-array-data {\n",
       "  padding: 0 5px !important;\n",
       "  grid-column: 2;\n",
       "}\n",
       "\n",
       ".xr-array-data,\n",
       ".xr-array-in:checked ~ .xr-array-preview {\n",
       "  display: none;\n",
       "}\n",
       "\n",
       ".xr-array-in:checked ~ .xr-array-data,\n",
       ".xr-array-preview {\n",
       "  display: inline-block;\n",
       "}\n",
       "\n",
       ".xr-dim-list {\n",
       "  display: inline-block !important;\n",
       "  list-style: none;\n",
       "  padding: 0 !important;\n",
       "  margin: 0;\n",
       "}\n",
       "\n",
       ".xr-dim-list li {\n",
       "  display: inline-block;\n",
       "  padding: 0;\n",
       "  margin: 0;\n",
       "}\n",
       "\n",
       ".xr-dim-list:before {\n",
       "  content: '(';\n",
       "}\n",
       "\n",
       ".xr-dim-list:after {\n",
       "  content: ')';\n",
       "}\n",
       "\n",
       ".xr-dim-list li:not(:last-child):after {\n",
       "  content: ',';\n",
       "  padding-right: 5px;\n",
       "}\n",
       "\n",
       ".xr-has-index {\n",
       "  font-weight: bold;\n",
       "}\n",
       "\n",
       ".xr-var-list,\n",
       ".xr-var-item {\n",
       "  display: contents;\n",
       "}\n",
       "\n",
       ".xr-var-item > div,\n",
       ".xr-var-item label,\n",
       ".xr-var-item > .xr-var-name span {\n",
       "  background-color: var(--xr-background-color-row-even);\n",
       "  margin-bottom: 0;\n",
       "}\n",
       "\n",
       ".xr-var-item > .xr-var-name:hover span {\n",
       "  padding-right: 5px;\n",
       "}\n",
       "\n",
       ".xr-var-list > li:nth-child(odd) > div,\n",
       ".xr-var-list > li:nth-child(odd) > label,\n",
       ".xr-var-list > li:nth-child(odd) > .xr-var-name span {\n",
       "  background-color: var(--xr-background-color-row-odd);\n",
       "}\n",
       "\n",
       ".xr-var-name {\n",
       "  grid-column: 1;\n",
       "}\n",
       "\n",
       ".xr-var-dims {\n",
       "  grid-column: 2;\n",
       "}\n",
       "\n",
       ".xr-var-dtype {\n",
       "  grid-column: 3;\n",
       "  text-align: right;\n",
       "  color: var(--xr-font-color2);\n",
       "}\n",
       "\n",
       ".xr-var-preview {\n",
       "  grid-column: 4;\n",
       "}\n",
       "\n",
       ".xr-var-name,\n",
       ".xr-var-dims,\n",
       ".xr-var-dtype,\n",
       ".xr-preview,\n",
       ".xr-attrs dt {\n",
       "  white-space: nowrap;\n",
       "  overflow: hidden;\n",
       "  text-overflow: ellipsis;\n",
       "  padding-right: 10px;\n",
       "}\n",
       "\n",
       ".xr-var-name:hover,\n",
       ".xr-var-dims:hover,\n",
       ".xr-var-dtype:hover,\n",
       ".xr-attrs dt:hover {\n",
       "  overflow: visible;\n",
       "  width: auto;\n",
       "  z-index: 1;\n",
       "}\n",
       "\n",
       ".xr-var-attrs,\n",
       ".xr-var-data {\n",
       "  display: none;\n",
       "  background-color: var(--xr-background-color) !important;\n",
       "  padding-bottom: 5px !important;\n",
       "}\n",
       "\n",
       ".xr-var-attrs-in:checked ~ .xr-var-attrs,\n",
       ".xr-var-data-in:checked ~ .xr-var-data {\n",
       "  display: block;\n",
       "}\n",
       "\n",
       ".xr-var-data > table {\n",
       "  float: right;\n",
       "}\n",
       "\n",
       ".xr-var-name span,\n",
       ".xr-var-data,\n",
       ".xr-attrs {\n",
       "  padding-left: 25px !important;\n",
       "}\n",
       "\n",
       ".xr-attrs,\n",
       ".xr-var-attrs,\n",
       ".xr-var-data {\n",
       "  grid-column: 1 / -1;\n",
       "}\n",
       "\n",
       "dl.xr-attrs {\n",
       "  padding: 0;\n",
       "  margin: 0;\n",
       "  display: grid;\n",
       "  grid-template-columns: 125px auto;\n",
       "}\n",
       "\n",
       ".xr-attrs dt,\n",
       ".xr-attrs dd {\n",
       "  padding: 0;\n",
       "  margin: 0;\n",
       "  float: left;\n",
       "  padding-right: 10px;\n",
       "  width: auto;\n",
       "}\n",
       "\n",
       ".xr-attrs dt {\n",
       "  font-weight: normal;\n",
       "  grid-column: 1;\n",
       "}\n",
       "\n",
       ".xr-attrs dt:hover span {\n",
       "  display: inline-block;\n",
       "  background: var(--xr-background-color);\n",
       "  padding-right: 10px;\n",
       "}\n",
       "\n",
       ".xr-attrs dd {\n",
       "  grid-column: 2;\n",
       "  white-space: pre-wrap;\n",
       "  word-break: break-all;\n",
       "}\n",
       "\n",
       ".xr-icon-database,\n",
       ".xr-icon-file-text2 {\n",
       "  display: inline-block;\n",
       "  vertical-align: middle;\n",
       "  width: 1em;\n",
       "  height: 1.5em !important;\n",
       "  stroke-width: 0;\n",
       "  stroke: currentColor;\n",
       "  fill: currentColor;\n",
       "}\n",
       "</style><pre class='xr-text-repr-fallback'>&lt;xarray.Dataset&gt;\n",
       "Dimensions:      (chain: 4, draw: 1000)\n",
       "Coordinates:\n",
       "  * chain        (chain) int64 0 1 2 3\n",
       "  * draw         (draw) int64 0 1 2 3 4 5 6 7 ... 993 994 995 996 997 998 999\n",
       "Data variables:\n",
       "    accept_stat  (chain, draw) float64 0.9608 0.7573 0.9885 ... 0.9866 0.9976\n",
       "    stepsize     (chain, draw) float64 0.01681 0.01681 ... 0.01374 0.01374\n",
       "    treedepth    (chain, draw) int64 8 8 8 8 8 9 8 8 8 8 ... 9 8 9 9 9 9 9 9 9 9\n",
       "    n_leapfrog   (chain, draw) int64 255 511 511 255 511 ... 511 511 1023 511\n",
       "    diverging    (chain, draw) bool False False False ... False False False\n",
       "    energy       (chain, draw) float64 1e+04 1.001e+04 1.001e+04 ... 1e+04 1e+04\n",
       "    lp           (chain, draw) float64 -9.947e+03 -9.95e+03 ... -9.953e+03\n",
       "Attributes:\n",
       "    created_at:         2021-07-12T23:59:34.559991\n",
       "    arviz_version:      0.11.2\n",
       "    inference_library:  stan\n",
       "    num_chains:         4\n",
       "    num_samples:        1000\n",
       "    num_thin:           1\n",
       "    num_warmup:         1000\n",
       "    save_warmup:        0</pre><div class='xr-wrap' hidden><div class='xr-header'><div class='xr-obj-type'>xarray.Dataset</div></div><ul class='xr-sections'><li class='xr-section-item'><input id='section-4c99d891-bcc7-4161-8dd1-932bef95676a' class='xr-section-summary-in' type='checkbox' disabled ><label for='section-4c99d891-bcc7-4161-8dd1-932bef95676a' class='xr-section-summary'  title='Expand/collapse section'>Dimensions:</label><div class='xr-section-inline-details'><ul class='xr-dim-list'><li><span class='xr-has-index'>chain</span>: 4</li><li><span class='xr-has-index'>draw</span>: 1000</li></ul></div><div class='xr-section-details'></div></li><li class='xr-section-item'><input id='section-9adb7cee-2e64-4bdb-a0d4-1a8a4d061a62' class='xr-section-summary-in' type='checkbox'  checked><label for='section-9adb7cee-2e64-4bdb-a0d4-1a8a4d061a62' class='xr-section-summary' >Coordinates: <span>(2)</span></label><div class='xr-section-inline-details'></div><div class='xr-section-details'><ul class='xr-var-list'><li class='xr-var-item'><div class='xr-var-name'><span class='xr-has-index'>chain</span></div><div class='xr-var-dims'>(chain)</div><div class='xr-var-dtype'>int64</div><div class='xr-var-preview xr-preview'>0 1 2 3</div><input id='attrs-6c625994-ad05-4e48-b550-2ae77cccdfd0' class='xr-var-attrs-in' type='checkbox' disabled><label for='attrs-6c625994-ad05-4e48-b550-2ae77cccdfd0' title='Show/Hide attributes'><svg class='icon xr-icon-file-text2'><use xlink:href='#icon-file-text2'></use></svg></label><input id='data-da764940-0910-4724-8154-03294fe35ad2' class='xr-var-data-in' type='checkbox'><label for='data-da764940-0910-4724-8154-03294fe35ad2' title='Show/Hide data repr'><svg class='icon xr-icon-database'><use xlink:href='#icon-database'></use></svg></label><div class='xr-var-attrs'><dl class='xr-attrs'></dl></div><div class='xr-var-data'><pre>array([0, 1, 2, 3], dtype=int64)</pre></div></li><li class='xr-var-item'><div class='xr-var-name'><span class='xr-has-index'>draw</span></div><div class='xr-var-dims'>(draw)</div><div class='xr-var-dtype'>int64</div><div class='xr-var-preview xr-preview'>0 1 2 3 4 5 ... 995 996 997 998 999</div><input id='attrs-207e605d-3c87-4305-b8e4-051f8f5a27cf' class='xr-var-attrs-in' type='checkbox' disabled><label for='attrs-207e605d-3c87-4305-b8e4-051f8f5a27cf' title='Show/Hide attributes'><svg class='icon xr-icon-file-text2'><use xlink:href='#icon-file-text2'></use></svg></label><input id='data-dde9533b-5095-49a5-8a5d-4ef21df135f5' class='xr-var-data-in' type='checkbox'><label for='data-dde9533b-5095-49a5-8a5d-4ef21df135f5' title='Show/Hide data repr'><svg class='icon xr-icon-database'><use xlink:href='#icon-database'></use></svg></label><div class='xr-var-attrs'><dl class='xr-attrs'></dl></div><div class='xr-var-data'><pre>array([  0,   1,   2, ..., 997, 998, 999], dtype=int64)</pre></div></li></ul></div></li><li class='xr-section-item'><input id='section-bba46c55-7e3c-4fa4-b1e9-d4fff56dad60' class='xr-section-summary-in' type='checkbox'  checked><label for='section-bba46c55-7e3c-4fa4-b1e9-d4fff56dad60' class='xr-section-summary' >Data variables: <span>(7)</span></label><div class='xr-section-inline-details'></div><div class='xr-section-details'><ul class='xr-var-list'><li class='xr-var-item'><div class='xr-var-name'><span>accept_stat</span></div><div class='xr-var-dims'>(chain, draw)</div><div class='xr-var-dtype'>float64</div><div class='xr-var-preview xr-preview'>...</div><input id='attrs-b2e6e063-6129-4834-80a1-a8b8bb0bbb0f' class='xr-var-attrs-in' type='checkbox' disabled><label for='attrs-b2e6e063-6129-4834-80a1-a8b8bb0bbb0f' title='Show/Hide attributes'><svg class='icon xr-icon-file-text2'><use xlink:href='#icon-file-text2'></use></svg></label><input id='data-0365877e-cb76-45e2-8411-43a1f72b1eab' class='xr-var-data-in' type='checkbox'><label for='data-0365877e-cb76-45e2-8411-43a1f72b1eab' title='Show/Hide data repr'><svg class='icon xr-icon-database'><use xlink:href='#icon-database'></use></svg></label><div class='xr-var-attrs'><dl class='xr-attrs'></dl></div><div class='xr-var-data'><pre>array([[0.96079 , 0.757282, 0.988523, ..., 0.998608, 0.868442, 0.955033],\n",
       "       [0.951536, 0.988941, 0.963745, ..., 0.982562, 0.891931, 0.917917],\n",
       "       [0.999189, 0.874701, 0.608276, ..., 0.743291, 0.855137, 0.970055],\n",
       "       [0.970976, 0.966114, 0.99824 , ..., 0.969562, 0.986602, 0.997553]])</pre></div></li><li class='xr-var-item'><div class='xr-var-name'><span>stepsize</span></div><div class='xr-var-dims'>(chain, draw)</div><div class='xr-var-dtype'>float64</div><div class='xr-var-preview xr-preview'>...</div><input id='attrs-4e9298b4-1fc5-4f83-9d43-301869dd9cda' class='xr-var-attrs-in' type='checkbox' disabled><label for='attrs-4e9298b4-1fc5-4f83-9d43-301869dd9cda' title='Show/Hide attributes'><svg class='icon xr-icon-file-text2'><use xlink:href='#icon-file-text2'></use></svg></label><input id='data-b3c494b9-c5f2-49d6-8909-fac1aea67b24' class='xr-var-data-in' type='checkbox'><label for='data-b3c494b9-c5f2-49d6-8909-fac1aea67b24' title='Show/Hide data repr'><svg class='icon xr-icon-database'><use xlink:href='#icon-database'></use></svg></label><div class='xr-var-attrs'><dl class='xr-attrs'></dl></div><div class='xr-var-data'><pre>array([[0.016813, 0.016813, 0.016813, ..., 0.016813, 0.016813, 0.016813],\n",
       "       [0.015763, 0.015763, 0.015763, ..., 0.015763, 0.015763, 0.015763],\n",
       "       [0.018311, 0.018311, 0.018311, ..., 0.018311, 0.018311, 0.018311],\n",
       "       [0.013742, 0.013742, 0.013742, ..., 0.013742, 0.013742, 0.013742]])</pre></div></li><li class='xr-var-item'><div class='xr-var-name'><span>treedepth</span></div><div class='xr-var-dims'>(chain, draw)</div><div class='xr-var-dtype'>int64</div><div class='xr-var-preview xr-preview'>...</div><input id='attrs-981049d9-b830-4815-aa66-898c0b3e095c' class='xr-var-attrs-in' type='checkbox' disabled><label for='attrs-981049d9-b830-4815-aa66-898c0b3e095c' title='Show/Hide attributes'><svg class='icon xr-icon-file-text2'><use xlink:href='#icon-file-text2'></use></svg></label><input id='data-06ee146e-08f1-4c70-b397-a8acfe43a6f5' class='xr-var-data-in' type='checkbox'><label for='data-06ee146e-08f1-4c70-b397-a8acfe43a6f5' title='Show/Hide data repr'><svg class='icon xr-icon-database'><use xlink:href='#icon-database'></use></svg></label><div class='xr-var-attrs'><dl class='xr-attrs'></dl></div><div class='xr-var-data'><pre>array([[8, 8, 8, ..., 9, 8, 8],\n",
       "       [8, 9, 8, ..., 8, 8, 9],\n",
       "       [8, 8, 9, ..., 8, 8, 8],\n",
       "       [9, 9, 9, ..., 9, 9, 9]], dtype=int64)</pre></div></li><li class='xr-var-item'><div class='xr-var-name'><span>n_leapfrog</span></div><div class='xr-var-dims'>(chain, draw)</div><div class='xr-var-dtype'>int64</div><div class='xr-var-preview xr-preview'>...</div><input id='attrs-1fac53b4-fa44-480a-a5d2-a79a3f5004be' class='xr-var-attrs-in' type='checkbox' disabled><label for='attrs-1fac53b4-fa44-480a-a5d2-a79a3f5004be' title='Show/Hide attributes'><svg class='icon xr-icon-file-text2'><use xlink:href='#icon-file-text2'></use></svg></label><input id='data-7a504a85-7a2b-4b81-b9d5-f36e8d746ea2' class='xr-var-data-in' type='checkbox'><label for='data-7a504a85-7a2b-4b81-b9d5-f36e8d746ea2' title='Show/Hide data repr'><svg class='icon xr-icon-database'><use xlink:href='#icon-database'></use></svg></label><div class='xr-var-attrs'><dl class='xr-attrs'></dl></div><div class='xr-var-data'><pre>array([[ 255,  511,  511, ...,  511,  511,  255],\n",
       "       [ 255,  511,  511, ...,  511,  255,  511],\n",
       "       [ 255,  511,  511, ...,  511,  255,  255],\n",
       "       [ 511,  511,  511, ...,  511, 1023,  511]], dtype=int64)</pre></div></li><li class='xr-var-item'><div class='xr-var-name'><span>diverging</span></div><div class='xr-var-dims'>(chain, draw)</div><div class='xr-var-dtype'>bool</div><div class='xr-var-preview xr-preview'>...</div><input id='attrs-16306203-295e-40a9-8599-103b4ae10de2' class='xr-var-attrs-in' type='checkbox' disabled><label for='attrs-16306203-295e-40a9-8599-103b4ae10de2' title='Show/Hide attributes'><svg class='icon xr-icon-file-text2'><use xlink:href='#icon-file-text2'></use></svg></label><input id='data-bafd201e-a9cb-447d-a9c7-7b42c19b014b' class='xr-var-data-in' type='checkbox'><label for='data-bafd201e-a9cb-447d-a9c7-7b42c19b014b' title='Show/Hide data repr'><svg class='icon xr-icon-database'><use xlink:href='#icon-database'></use></svg></label><div class='xr-var-attrs'><dl class='xr-attrs'></dl></div><div class='xr-var-data'><pre>array([[False, False, False, ..., False, False, False],\n",
       "       [False, False, False, ..., False, False, False],\n",
       "       [False, False, False, ..., False, False, False],\n",
       "       [False, False, False, ..., False, False, False]])</pre></div></li><li class='xr-var-item'><div class='xr-var-name'><span>energy</span></div><div class='xr-var-dims'>(chain, draw)</div><div class='xr-var-dtype'>float64</div><div class='xr-var-preview xr-preview'>...</div><input id='attrs-0da56d19-222c-4a6d-a4c4-789ecbdc0fa6' class='xr-var-attrs-in' type='checkbox' disabled><label for='attrs-0da56d19-222c-4a6d-a4c4-789ecbdc0fa6' title='Show/Hide attributes'><svg class='icon xr-icon-file-text2'><use xlink:href='#icon-file-text2'></use></svg></label><input id='data-050561ba-0270-4739-a3cb-c0c06ba90656' class='xr-var-data-in' type='checkbox'><label for='data-050561ba-0270-4739-a3cb-c0c06ba90656' title='Show/Hide data repr'><svg class='icon xr-icon-database'><use xlink:href='#icon-database'></use></svg></label><div class='xr-var-attrs'><dl class='xr-attrs'></dl></div><div class='xr-var-data'><pre>array([[10000.483449, 10005.634527, 10014.023272, ..., 10003.103004,\n",
       "        10021.996475, 10012.361777],\n",
       "       [10012.03494 , 10008.240333, 10010.842649, ...,  9983.434209,\n",
       "         9979.882979, 10005.106038],\n",
       "       [10000.666036, 10010.949654,  9999.311609, ..., 10009.910308,\n",
       "        10006.788868, 10012.788217],\n",
       "       [10016.295481,  9994.156976,  9987.388379, ..., 10009.098309,\n",
       "        10003.056799, 10003.52618 ]])</pre></div></li><li class='xr-var-item'><div class='xr-var-name'><span>lp</span></div><div class='xr-var-dims'>(chain, draw)</div><div class='xr-var-dtype'>float64</div><div class='xr-var-preview xr-preview'>...</div><input id='attrs-4b71fd9e-da9b-423a-812b-64f82e96dad2' class='xr-var-attrs-in' type='checkbox' disabled><label for='attrs-4b71fd9e-da9b-423a-812b-64f82e96dad2' title='Show/Hide attributes'><svg class='icon xr-icon-file-text2'><use xlink:href='#icon-file-text2'></use></svg></label><input id='data-0cc34712-40ea-4726-96e6-b9795ccd9f09' class='xr-var-data-in' type='checkbox'><label for='data-0cc34712-40ea-4726-96e6-b9795ccd9f09' title='Show/Hide data repr'><svg class='icon xr-icon-database'><use xlink:href='#icon-database'></use></svg></label><div class='xr-var-attrs'><dl class='xr-attrs'></dl></div><div class='xr-var-data'><pre>array([[-9947.485501, -9949.655088, -9950.719673, ..., -9963.306395,\n",
       "        -9964.502939, -9962.502994],\n",
       "       [-9956.648546, -9954.553165, -9965.010929, ..., -9936.828257,\n",
       "        -9938.398561, -9961.064454],\n",
       "       [-9962.541503, -9943.03312 , -9948.596802, ..., -9955.914113,\n",
       "        -9951.280776, -9963.04268 ],\n",
       "       [-9951.727005, -9938.938396, -9936.327326, ..., -9958.048558,\n",
       "        -9953.62457 , -9952.978539]])</pre></div></li></ul></div></li><li class='xr-section-item'><input id='section-1b8f7f1b-64d9-4d8f-a917-296944e9aad7' class='xr-section-summary-in' type='checkbox'  checked><label for='section-1b8f7f1b-64d9-4d8f-a917-296944e9aad7' class='xr-section-summary' >Attributes: <span>(8)</span></label><div class='xr-section-inline-details'></div><div class='xr-section-details'><dl class='xr-attrs'><dt><span>created_at :</span></dt><dd>2021-07-12T23:59:34.559991</dd><dt><span>arviz_version :</span></dt><dd>0.11.2</dd><dt><span>inference_library :</span></dt><dd>stan</dd><dt><span>num_chains :</span></dt><dd>4</dd><dt><span>num_samples :</span></dt><dd>1000</dd><dt><span>num_thin :</span></dt><dd>1</dd><dt><span>num_warmup :</span></dt><dd>1000</dd><dt><span>save_warmup :</span></dt><dd>0</dd></dl></div></li></ul></div></div><br></div>\n",
       "                      </ul>\n",
       "                  </div>\n",
       "            </li>\n",
       "            \n",
       "              </ul>\n",
       "            </div>\n",
       "            <style> /* CSS stylesheet for displaying InferenceData objects in jupyterlab.\n",
       " *\n",
       " */\n",
       "\n",
       ":root {\n",
       "  --xr-font-color0: var(--jp-content-font-color0, rgba(0, 0, 0, 1));\n",
       "  --xr-font-color2: var(--jp-content-font-color2, rgba(0, 0, 0, 0.54));\n",
       "  --xr-font-color3: var(--jp-content-font-color3, rgba(0, 0, 0, 0.38));\n",
       "  --xr-border-color: var(--jp-border-color2, #e0e0e0);\n",
       "  --xr-disabled-color: var(--jp-layout-color3, #bdbdbd);\n",
       "  --xr-background-color: var(--jp-layout-color0, white);\n",
       "  --xr-background-color-row-even: var(--jp-layout-color1, white);\n",
       "  --xr-background-color-row-odd: var(--jp-layout-color2, #eeeeee);\n",
       "}\n",
       "\n",
       "html[theme=dark],\n",
       "body.vscode-dark {\n",
       "  --xr-font-color0: rgba(255, 255, 255, 1);\n",
       "  --xr-font-color2: rgba(255, 255, 255, 0.54);\n",
       "  --xr-font-color3: rgba(255, 255, 255, 0.38);\n",
       "  --xr-border-color: #1F1F1F;\n",
       "  --xr-disabled-color: #515151;\n",
       "  --xr-background-color: #111111;\n",
       "  --xr-background-color-row-even: #111111;\n",
       "  --xr-background-color-row-odd: #313131;\n",
       "}\n",
       "\n",
       ".xr-wrap {\n",
       "  display: block;\n",
       "  min-width: 300px;\n",
       "  max-width: 700px;\n",
       "}\n",
       "\n",
       ".xr-text-repr-fallback {\n",
       "  /* fallback to plain text repr when CSS is not injected (untrusted notebook) */\n",
       "  display: none;\n",
       "}\n",
       "\n",
       ".xr-header {\n",
       "  padding-top: 6px;\n",
       "  padding-bottom: 6px;\n",
       "  margin-bottom: 4px;\n",
       "  border-bottom: solid 1px var(--xr-border-color);\n",
       "}\n",
       "\n",
       ".xr-header > div,\n",
       ".xr-header > ul {\n",
       "  display: inline;\n",
       "  margin-top: 0;\n",
       "  margin-bottom: 0;\n",
       "}\n",
       "\n",
       ".xr-obj-type,\n",
       ".xr-array-name {\n",
       "  margin-left: 2px;\n",
       "  margin-right: 10px;\n",
       "}\n",
       "\n",
       ".xr-obj-type {\n",
       "  color: var(--xr-font-color2);\n",
       "}\n",
       "\n",
       ".xr-sections {\n",
       "  padding-left: 0 !important;\n",
       "  display: grid;\n",
       "  grid-template-columns: 150px auto auto 1fr 20px 20px;\n",
       "}\n",
       "\n",
       ".xr-sections.group-sections {\n",
       "  grid-template-columns: auto;\n",
       "}\n",
       "\n",
       ".xr-section-item {\n",
       "  display: contents;\n",
       "}\n",
       "\n",
       ".xr-section-item input {\n",
       "  display: none;\n",
       "}\n",
       "\n",
       ".xr-section-item input + label {\n",
       "  color: var(--xr-disabled-color);\n",
       "}\n",
       "\n",
       ".xr-section-item input:enabled + label {\n",
       "  cursor: pointer;\n",
       "  color: var(--xr-font-color2);\n",
       "}\n",
       "\n",
       ".xr-section-item input:enabled + label:hover {\n",
       "  color: var(--xr-font-color0);\n",
       "}\n",
       "\n",
       ".xr-section-summary {\n",
       "  grid-column: 1;\n",
       "  color: var(--xr-font-color2);\n",
       "  font-weight: 500;\n",
       "}\n",
       "\n",
       ".xr-section-summary > span {\n",
       "  display: inline-block;\n",
       "  padding-left: 0.5em;\n",
       "}\n",
       "\n",
       ".xr-section-summary-in:disabled + label {\n",
       "  color: var(--xr-font-color2);\n",
       "}\n",
       "\n",
       ".xr-section-summary-in + label:before {\n",
       "  display: inline-block;\n",
       "  content: '►';\n",
       "  font-size: 11px;\n",
       "  width: 15px;\n",
       "  text-align: center;\n",
       "}\n",
       "\n",
       ".xr-section-summary-in:disabled + label:before {\n",
       "  color: var(--xr-disabled-color);\n",
       "}\n",
       "\n",
       ".xr-section-summary-in:checked + label:before {\n",
       "  content: '▼';\n",
       "}\n",
       "\n",
       ".xr-section-summary-in:checked + label > span {\n",
       "  display: none;\n",
       "}\n",
       "\n",
       ".xr-section-summary,\n",
       ".xr-section-inline-details {\n",
       "  padding-top: 4px;\n",
       "  padding-bottom: 4px;\n",
       "}\n",
       "\n",
       ".xr-section-inline-details {\n",
       "  grid-column: 2 / -1;\n",
       "}\n",
       "\n",
       ".xr-section-details {\n",
       "  display: none;\n",
       "  grid-column: 1 / -1;\n",
       "  margin-bottom: 5px;\n",
       "}\n",
       "\n",
       ".xr-section-summary-in:checked ~ .xr-section-details {\n",
       "  display: contents;\n",
       "}\n",
       "\n",
       ".xr-array-wrap {\n",
       "  grid-column: 1 / -1;\n",
       "  display: grid;\n",
       "  grid-template-columns: 20px auto;\n",
       "}\n",
       "\n",
       ".xr-array-wrap > label {\n",
       "  grid-column: 1;\n",
       "  vertical-align: top;\n",
       "}\n",
       "\n",
       ".xr-preview {\n",
       "  color: var(--xr-font-color3);\n",
       "}\n",
       "\n",
       ".xr-array-preview,\n",
       ".xr-array-data {\n",
       "  padding: 0 5px !important;\n",
       "  grid-column: 2;\n",
       "}\n",
       "\n",
       ".xr-array-data,\n",
       ".xr-array-in:checked ~ .xr-array-preview {\n",
       "  display: none;\n",
       "}\n",
       "\n",
       ".xr-array-in:checked ~ .xr-array-data,\n",
       ".xr-array-preview {\n",
       "  display: inline-block;\n",
       "}\n",
       "\n",
       ".xr-dim-list {\n",
       "  display: inline-block !important;\n",
       "  list-style: none;\n",
       "  padding: 0 !important;\n",
       "  margin: 0;\n",
       "}\n",
       "\n",
       ".xr-dim-list li {\n",
       "  display: inline-block;\n",
       "  padding: 0;\n",
       "  margin: 0;\n",
       "}\n",
       "\n",
       ".xr-dim-list:before {\n",
       "  content: '(';\n",
       "}\n",
       "\n",
       ".xr-dim-list:after {\n",
       "  content: ')';\n",
       "}\n",
       "\n",
       ".xr-dim-list li:not(:last-child):after {\n",
       "  content: ',';\n",
       "  padding-right: 5px;\n",
       "}\n",
       "\n",
       ".xr-has-index {\n",
       "  font-weight: bold;\n",
       "}\n",
       "\n",
       ".xr-var-list,\n",
       ".xr-var-item {\n",
       "  display: contents;\n",
       "}\n",
       "\n",
       ".xr-var-item > div,\n",
       ".xr-var-item label,\n",
       ".xr-var-item > .xr-var-name span {\n",
       "  background-color: var(--xr-background-color-row-even);\n",
       "  margin-bottom: 0;\n",
       "}\n",
       "\n",
       ".xr-var-item > .xr-var-name:hover span {\n",
       "  padding-right: 5px;\n",
       "}\n",
       "\n",
       ".xr-var-list > li:nth-child(odd) > div,\n",
       ".xr-var-list > li:nth-child(odd) > label,\n",
       ".xr-var-list > li:nth-child(odd) > .xr-var-name span {\n",
       "  background-color: var(--xr-background-color-row-odd);\n",
       "}\n",
       "\n",
       ".xr-var-name {\n",
       "  grid-column: 1;\n",
       "}\n",
       "\n",
       ".xr-var-dims {\n",
       "  grid-column: 2;\n",
       "}\n",
       "\n",
       ".xr-var-dtype {\n",
       "  grid-column: 3;\n",
       "  text-align: right;\n",
       "  color: var(--xr-font-color2);\n",
       "}\n",
       "\n",
       ".xr-var-preview {\n",
       "  grid-column: 4;\n",
       "}\n",
       "\n",
       ".xr-var-name,\n",
       ".xr-var-dims,\n",
       ".xr-var-dtype,\n",
       ".xr-preview,\n",
       ".xr-attrs dt {\n",
       "  white-space: nowrap;\n",
       "  overflow: hidden;\n",
       "  text-overflow: ellipsis;\n",
       "  padding-right: 10px;\n",
       "}\n",
       "\n",
       ".xr-var-name:hover,\n",
       ".xr-var-dims:hover,\n",
       ".xr-var-dtype:hover,\n",
       ".xr-attrs dt:hover {\n",
       "  overflow: visible;\n",
       "  width: auto;\n",
       "  z-index: 1;\n",
       "}\n",
       "\n",
       ".xr-var-attrs,\n",
       ".xr-var-data {\n",
       "  display: none;\n",
       "  background-color: var(--xr-background-color) !important;\n",
       "  padding-bottom: 5px !important;\n",
       "}\n",
       "\n",
       ".xr-var-attrs-in:checked ~ .xr-var-attrs,\n",
       ".xr-var-data-in:checked ~ .xr-var-data {\n",
       "  display: block;\n",
       "}\n",
       "\n",
       ".xr-var-data > table {\n",
       "  float: right;\n",
       "}\n",
       "\n",
       ".xr-var-name span,\n",
       ".xr-var-data,\n",
       ".xr-attrs {\n",
       "  padding-left: 25px !important;\n",
       "}\n",
       "\n",
       ".xr-attrs,\n",
       ".xr-var-attrs,\n",
       ".xr-var-data {\n",
       "  grid-column: 1 / -1;\n",
       "}\n",
       "\n",
       "dl.xr-attrs {\n",
       "  padding: 0;\n",
       "  margin: 0;\n",
       "  display: grid;\n",
       "  grid-template-columns: 125px auto;\n",
       "}\n",
       "\n",
       ".xr-attrs dt, dd {\n",
       "  padding: 0;\n",
       "  margin: 0;\n",
       "  float: left;\n",
       "  padding-right: 10px;\n",
       "  width: auto;\n",
       "}\n",
       "\n",
       ".xr-attrs dt {\n",
       "  font-weight: normal;\n",
       "  grid-column: 1;\n",
       "}\n",
       "\n",
       ".xr-attrs dt:hover span {\n",
       "  display: inline-block;\n",
       "  background: var(--xr-background-color);\n",
       "  padding-right: 10px;\n",
       "}\n",
       "\n",
       ".xr-attrs dd {\n",
       "  grid-column: 2;\n",
       "  white-space: pre-wrap;\n",
       "  word-break: break-all;\n",
       "}\n",
       "\n",
       ".xr-icon-database,\n",
       ".xr-icon-file-text2 {\n",
       "  display: inline-block;\n",
       "  vertical-align: middle;\n",
       "  width: 1em;\n",
       "  height: 1.5em !important;\n",
       "  stroke-width: 0;\n",
       "  stroke: currentColor;\n",
       "  fill: currentColor;\n",
       "}\n",
       ".xr-wrap{width:700px!important;} </style>"
      ],
      "text/plain": [
       "Inference data with groups:\n",
       "\t> posterior\n",
       "\t> sample_stats"
      ]
     },
     "execution_count": 4,
     "metadata": {},
     "output_type": "execute_result"
    }
   ],
   "source": [
    "uncued_basic_fit"
   ]
  },
  {
   "cell_type": "code",
   "execution_count": null,
   "metadata": {
    "jupyter": {
     "source_hidden": true
    }
   },
   "outputs": [],
   "source": [
    "sbf_df = standard_basic_fit.posterior.beta.to_dataframe()\n",
    "sbf_df_etaP = standard_basic_fit.posterior.etaPositive.to_dataframe()\n",
    "sbf_df_etaP"
   ]
  },
  {
   "cell_type": "code",
   "execution_count": null,
   "metadata": {
    "jupyter": {
     "source_hidden": true
    }
   },
   "outputs": [],
   "source": [
    "beta_values = sbf_df[sbf_df.index.get_level_values('beta_dim_0').isin([0])]"
   ]
  },
  {
   "cell_type": "code",
   "execution_count": null,
   "metadata": {
    "jupyter": {
     "source_hidden": true
    }
   },
   "outputs": [],
   "source": [
    "etaP_values = sbf_df_etaP[sbf_df_etaP.index.get_level_values('etaPositive_dim_0').isin([0])]"
   ]
  },
  {
   "cell_type": "code",
   "execution_count": null,
   "metadata": {
    "jupyter": {
     "source_hidden": true
    }
   },
   "outputs": [],
   "source": [
    "np.concatenate([beta_values, etaP_values], axis = 1)"
   ]
  },
  {
   "cell_type": "code",
   "execution_count": 5,
   "metadata": {},
   "outputs": [],
   "source": [
    "def get_params_basic_4_chains(fit, s):\n",
    "    \"\"\"takes in fit, s (subject number), and outputs params_s using ALL CHAINS\n",
    "    function is called basic due to the parameters chosen\"\"\"\n",
    "    \n",
    "    fit_beta_df = fit.posterior.beta.to_dataframe()\n",
    "    fit_etaP_df = fit.posterior.etaPositive.to_dataframe()\n",
    "    fit_etaN_df = fit.posterior.etaNegative.to_dataframe()\n",
    "    \n",
    "    params_s = np.concatenate([fit_beta_df[fit_beta_df.index.get_level_values('beta_dim_0').isin([s])],\n",
    "                              fit_etaP_df[fit_etaP_df.index.get_level_values('etaPositive_dim_0').isin([s])],\n",
    "                              fit_etaN_df[fit_etaN_df.index.get_level_values('etaNegative_dim_0').isin([s])]], \n",
    "                              axis = 1)\n",
    "    return params_s"
   ]
  },
  {
   "cell_type": "code",
   "execution_count": null,
   "metadata": {},
   "outputs": [],
   "source": [
    "params_all_4 = get_params_basic_4_chains(standard_basic_fit, 0)\n",
    "params_all_4"
   ]
  },
  {
   "cell_type": "code",
   "execution_count": null,
   "metadata": {
    "jupyter": {
     "source_hidden": true
    }
   },
   "outputs": [],
   "source": [
    "standard_basic_fit.posterior.beta #beta's DataArray \n",
    "# standard_basic_fit.posterior.beta.beta_dim_0 #beta's subjects\n",
    "standard_basic_fit.posterior.beta[0] #first chain, storing an array of beta values\n",
    "chain_1_beta = standard_basic_fit.posterior.beta[0] #first chain, each column represents a subject; each column stores the posterior values of beta\n",
    "chain_1_beta_df = pd.DataFrame(data = chain_1_beta) #chain_1 as a df\n",
    "chain_1_beta[:,0] #first column of the first chain, representing the beta values of the posterior "
   ]
  },
  {
   "cell_type": "code",
   "execution_count": null,
   "metadata": {
    "jupyter": {
     "source_hidden": true
    }
   },
   "outputs": [],
   "source": [
    "chain_1_beta"
   ]
  },
  {
   "cell_type": "code",
   "execution_count": null,
   "metadata": {
    "jupyter": {
     "source_hidden": true
    }
   },
   "outputs": [],
   "source": [
    "standard_basic_fit.posterior.etaPositive #etaPositive's DataArray\n",
    "standard_basic_fit.posterior.etaPositive[0] #first chain\n",
    "chain_1_etaP = standard_basic_fit.posterior.etaPositive[0]\n",
    "\n",
    "standard_basic_fit.posterior.etaNegative #etaNegative's DataArray\n",
    "standard_basic_fit.posterior.etaNegative[0] #first chain\n",
    "chain_1_etaN = standard_basic_fit.posterior.etaNegative[0]\n",
    "\n",
    "standard_basic_fit.posterior.m #m's DataArray \n",
    "standard_basic_fit.posterior.m[0] #first chain\n",
    "chain_1_m = standard_basic_fit.posterior.m[0]"
   ]
  },
  {
   "cell_type": "code",
   "execution_count": null,
   "metadata": {
    "jupyter": {
     "source_hidden": true
    }
   },
   "outputs": [],
   "source": [
    "chain_1_etaP\n",
    "chain_1_etaN\n",
    "chain_1_m"
   ]
  },
  {
   "cell_type": "code",
   "execution_count": null,
   "metadata": {
    "jupyter": {
     "source_hidden": true
    }
   },
   "outputs": [],
   "source": [
    "chain_1_etaP[:,[0]]\n",
    "chain_1_etaN[:,[0]]\n",
    "chain_1_m[:,[0]]"
   ]
  },
  {
   "cell_type": "markdown",
   "metadata": {},
   "source": [
    "## Goal: create params for one subject (params_s)\n",
    "\n",
    "params_s will be 4 columns (representing beta, etaP, etaN and m) and 1000 rows (representing the 1000 draws)\n",
    "\n",
    "## Goal 2: write for loop such that the code can run multiple times, using a different subject each time ***\n",
    "- This will involve taking the first column from each parameter's dataarray (for subject 0), appending them (side-by-side), then running the code"
   ]
  },
  {
   "cell_type": "code",
   "execution_count": null,
   "metadata": {
    "jupyter": {
     "source_hidden": true
    }
   },
   "outputs": [],
   "source": [
    "array1 = np.array([[1, 1, 1], [2, 2, 2]])\n",
    "array2 = np.array([[3, 3, 3], [4, 4, 4]])\n",
    "\n",
    "appended = np.concatenate([array1, array2], axis = 1)\n",
    "appended"
   ]
  },
  {
   "cell_type": "code",
   "execution_count": null,
   "metadata": {
    "jupyter": {
     "source_hidden": true
    }
   },
   "outputs": [],
   "source": [
    "array1 = np.array([[1,2,3]])\n",
    "array2 = np.array([[4,5,6]])\n",
    "\n",
    "appended = np.concatenate([array1, array2], axis = 0)\n",
    "# appended"
   ]
  },
  {
   "cell_type": "code",
   "execution_count": null,
   "metadata": {
    "jupyter": {
     "source_hidden": true
    }
   },
   "outputs": [],
   "source": [
    "parameters = np.concatenate([chain_1_beta[:,[0,1]], chain_1_etaP[:,[0,1]], chain_1_etaN[:,[0,1]]], axis = 1)\n",
    "# parameters #a workaround, but contains 2 beta values, 2 etaP, and 2etaN (as the 6 columns)"
   ]
  },
  {
   "cell_type": "code",
   "execution_count": null,
   "metadata": {
    "jupyter": {
     "source_hidden": true
    }
   },
   "outputs": [],
   "source": [
    "params_1 = np.concatenate([chain_1_beta[:,[0]], chain_1_etaP[:,[0]], chain_1_etaN[:,[0]], chain_1_m[:,[0]]], axis = 1) #extra square parentheses add a dimension\n",
    "params_1"
   ]
  },
  {
   "cell_type": "code",
   "execution_count": null,
   "metadata": {
    "jupyter": {
     "source_hidden": true
    }
   },
   "outputs": [],
   "source": [
    "def get_params_basic(fit, s):\n",
    "    \"\"\"takes in fit, s (subject number), and outputs params_s using the first chain\n",
    "    function is called basic due to the parameters chosen\"\"\"\n",
    "    params_s = np.concatenate([fit.posterior.beta[0][:,[s-1]], \n",
    "                               fit.posterior.etaPositive[0][:,[s-1]], \n",
    "                               fit.posterior.etaNegative[0][:,[s-1]]], \n",
    "                              axis = 1)\n",
    "    return params_s\n",
    "\n",
    "#fit.posterior.m[0][:,[s-1]]"
   ]
  },
  {
   "cell_type": "code",
   "execution_count": null,
   "metadata": {
    "jupyter": {
     "source_hidden": true
    }
   },
   "outputs": [],
   "source": [
    "params_1 = get_params_basic(standard_basic_fit, 1)\n",
    "params_1"
   ]
  },
  {
   "cell_type": "code",
   "execution_count": null,
   "metadata": {
    "jupyter": {
     "source_hidden": true
    }
   },
   "outputs": [],
   "source": [
    "def get_params(fit, subs): \n",
    "    \"\"\"gets params for subs, this function is not functional yet\"\"\"\n",
    "    for s in range(subs):\n",
    "        params = np.concatenate([fit.posterior.beta[:,[s]], fit.posterior.etaPositive[:,[s]], fit.posterior.etaNegative[:,[s]]], axis = 1)\n",
    "        #... rest of body \n",
    "    return params"
   ]
  },
  {
   "cell_type": "code",
   "execution_count": null,
   "metadata": {
    "jupyter": {
     "source_hidden": true
    }
   },
   "outputs": [],
   "source": [
    "# get_params(standard_basic_fit, 1)"
   ]
  },
  {
   "cell_type": "markdown",
   "metadata": {},
   "source": [
    "# Original simulation code"
   ]
  },
  {
   "cell_type": "code",
   "execution_count": null,
   "metadata": {
    "jupyter": {
     "source_hidden": true
    }
   },
   "outputs": [],
   "source": [
    "np.random.seed(\n",
    "ntr = 200 # num trials #might be 1000\n",
    "\n",
    "def mysimulation(params,ntr):\n",
    "    \n",
    "    # params is a 3 vector of beta, etaP, etaN\n",
    "    \n",
    "    V = np.zeros(4) # each option has a value\n",
    "    beta = params[0]\n",
    "    etaP = params[1]\n",
    "    etaN = params[2]\n",
    "    decay = params[3] # decay between zero and 1\n",
    "    \n",
    "#     V[3] = 4\n",
    "    \n",
    "    p_win = [0.9,0.8,0.5,0.4]\n",
    "    win_amount = [1,2,3,4]\n",
    "    pun_dur = [5,10,30,40]\n",
    "    \n",
    "    Q = np.zeros([4,ntr])\n",
    "    choice = []\n",
    "    win = []\n",
    "    probs = []\n",
    "    \n",
    "    \n",
    "    for t in range(ntr):\n",
    "#         print(t)\n",
    "\n",
    "        Q[:,t] = V\n",
    "        \n",
    "        # now we want to calculate the log likelihood of the choice on the current trial\n",
    "        # we assume the prob of each choice follows a softmax rule\n",
    "        # in log this looks like this\n",
    "        \n",
    "        p_action = np.exp(beta*V)/np.sum(np.exp(beta*V))\n",
    "        \n",
    "        # pick an action according to these probabilities\n",
    "        chosen = np.random.choice([0,1,2,3], size=None, replace=True, p=p_action)\n",
    "    \n",
    "        # now we want to learn from feedback on this trial\n",
    "        # win or lose?\n",
    "        outcome = np.random.choice([1,0], size=None, replace=True, p=[p_win[chosen], 1-p_win[chosen]])\n",
    "        \n",
    "        if outcome:\n",
    "            V[chosen] += etaP*(win_amount[chosen] - V[chosen])\n",
    "            # this is the same as writing\n",
    "            # V[chosen option] = V[chosen option] + eta*(reward - V[chosen option])\n",
    "        else:\n",
    "            V[chosen] += etaN*(-pun_dur[chosen] - V[chosen])\n",
    "        \n",
    "        # values decay with time if unchosen\n",
    "        ind = np.setdiff1d([0,1,2,3],chosen)\n",
    "#         print(ind)\n",
    "        V[ind] = decay*V[ind]\n",
    "        \n",
    "        choice.append(chosen)\n",
    "        win.append(outcome)\n",
    "        probs.append(p_action)\n",
    "        \n",
    "    return Q,choice,win,probs"
   ]
  },
  {
   "cell_type": "markdown",
   "metadata": {},
   "source": [
    "# New Simulation Code"
   ]
  },
  {
   "cell_type": "code",
   "execution_count": null,
   "metadata": {
    "jupyter": {
     "source_hidden": true
    }
   },
   "outputs": [],
   "source": [
    "# import random\n",
    "# random.seed(10)"
   ]
  },
  {
   "cell_type": "code",
   "execution_count": null,
   "metadata": {
    "jupyter": {
     "source_hidden": true
    }
   },
   "outputs": [],
   "source": [
    "# params is a 3 vector of beta, etaP, etaN\n",
    "params = [2.52937956, 0.02981436, 0.11405636]\n",
    "ntr = 1000\n",
    "\n",
    "V = np.zeros(4) # [0,0,0,0]\n",
    "beta = params[0]\n",
    "etaP = params[1]\n",
    "etaN = params[2]\n",
    "# decay = params[3] # decay between zero and 1\n",
    "    \n",
    "p_win = [0.9,0.8,0.5,0.4]\n",
    "win_amount = [1,2,3,4]\n",
    "pun_dur = [5,10,30,40]\n",
    "\n",
    "Q = np.zeros([4,ntr]) #1 array of 4 rows and 1000 columns\n",
    "choice = []\n",
    "win = []\n",
    "probs = []"
   ]
  },
  {
   "cell_type": "code",
   "execution_count": null,
   "metadata": {
    "jupyter": {
     "source_hidden": true
    }
   },
   "outputs": [],
   "source": [
    "Q\n",
    "arr = np.array([[1, 2, 3, 4], [5, 6, 7, 8], [9, 10, 11, 12], [13, 14, 15, 16]])\n",
    "arr[2,:] = V\n",
    "arr"
   ]
  },
  {
   "cell_type": "code",
   "execution_count": null,
   "metadata": {
    "jupyter": {
     "source_hidden": true
    }
   },
   "outputs": [],
   "source": [
    "for t in range(ntr): #from 0 to 999\n",
    "\n",
    "    Q[:,t] = V #each column of Q (which represents a t) is now equal to V (4 zeros). This essentially makes each column equal to 4 rows of zero\n",
    "\n",
    "    p_action = np.exp(beta*V)/np.sum(np.exp(beta*V)) #p_action holds the probabilities of each action (P1-P4), starting at 0.25 for each\n",
    "\n",
    "    chosen = np.random.choice([0,1,2,3], size=None, replace=True, p=p_action) #a simulated sample of choices (0-3 rep: P1-P4) using the probabilities from p_action\n",
    "#     print(chosen)\n",
    "    outcome = np.random.choice([1,0], size=None, replace=True, p=[p_win[chosen], 1-p_win[chosen]]) #a simulated sample of outcomes based on the choice made (in chosen)\n",
    "\n",
    "    if outcome: #if outcome == 1:\n",
    "        V[chosen] += etaP*(win_amount[chosen] - V[chosen])\n",
    "        # this is the same as writing\n",
    "        # V[chosen option] = V[chosen option] + eta*(reward - V[chosen option])\n",
    "    else: #if outcome == 0:\n",
    "        V[chosen] += etaN*(-pun_dur[chosen] - V[chosen])\n",
    "\n",
    "    choice.append(chosen)\n",
    "    win.append(outcome)\n",
    "    probs.append(p_action)\n",
    "\n",
    "# return Q,choice,win,probs"
   ]
  },
  {
   "cell_type": "code",
   "execution_count": null,
   "metadata": {
    "jupyter": {
     "source_hidden": true
    }
   },
   "outputs": [],
   "source": [
    "len(probs) "
   ]
  },
  {
   "cell_type": "markdown",
   "metadata": {},
   "source": [
    "## Goal 3: we now need to acquire actual chosen and outcome data, and ntr... for a certain subject "
   ]
  },
  {
   "cell_type": "code",
   "execution_count": null,
   "metadata": {},
   "outputs": [],
   "source": [
    "os.chdir(\"C:\\\\Users\\\\dexte\\\\sparklyRGT\\\\sparklyRGT_tutorial\") \n",
    "import sparklyRGT as rgt\n",
    "os.chdir(\"C:\\\\Users\\\\dexte\\\\sparklyRGT\\\\Pystan\") \n",
    "import model_data as md"
   ]
  },
  {
   "cell_type": "code",
   "execution_count": null,
   "metadata": {},
   "outputs": [],
   "source": [
    "fnames = ['BH09_raw-free_S1-5_corrected.xlsx','CH02_corrected.xlsx','NA01_raw_free-choice_S8-18.xlsx',\"CH01_corrected.xlsx\"]\n",
    "df = rgt.load_multiple_data(fnames, reset_sessions = True)"
   ]
  },
  {
   "cell_type": "code",
   "execution_count": null,
   "metadata": {},
   "outputs": [],
   "source": [
    "#rename MSNs so that the rats on the outcome task don't have \"loss\" in the MSN\n",
    "for i in range(len(df)):\n",
    "    if df.at[i, 'MSN'] == 'LossrGT_A-losscue_v1':\n",
    "        df.at[i,'MSN'] = 'outcomeRGT_A'\n",
    "    if df.at[i, 'MSN'] == 'LossrGT_B-losscue_v1':\n",
    "        df.at[i,'MSN'] = 'outcomeRGT_B'\n",
    "        \n",
    "#rename MSNs so that the rats on the random task don't have \"loss\" in the MSN\n",
    "for i in range(len(df)):\n",
    "    if df.at[i,'MSN'] == 'AnarchyrGT_B-losscue_v6':\n",
    "        df.at[i,'MSN'] = 'RandomRGT_B'\n",
    "    if df.at[i,'MSN'] == 'AnarchyrGT_A-losscue_v6':\n",
    "        df.at[i,'MSN'] = 'RandomRGT_A'\n",
    "        \n",
    "        \n",
    "task_list = df.groupby(['MSN'])['Subject'].unique()"
   ]
  },
  {
   "cell_type": "code",
   "execution_count": null,
   "metadata": {},
   "outputs": [],
   "source": [
    "uncued_subs = np.concatenate(task_list[[task for task in df.MSN.unique() if 'Classic' in task]])\n",
    "standard_subs = np.concatenate((task_list['rGT_A-cue'], task_list['rGT_B-cue']))\n",
    "#concatenating together MisRGT tasks, and RevRGT tasks, as they both refer to reverse-cue RGT\n",
    "reverse_subs = np.concatenate((np.concatenate(task_list[[task for task in df.MSN.unique() if 'Mis' in task]]),\n",
    "                              np.concatenate(task_list[[task for task in df.MSN.unique() if 'Rev' in task]])))\n",
    "outcome_subs = np.concatenate(task_list[[task for task in df.MSN.unique() if 'outcome' in task]])\n",
    "random_subs = np.concatenate(task_list[[task for task in df.MSN.unique() if 'Random' in task]])\n",
    "loss_subs = np.concatenate(task_list[[task for task in df.MSN.unique() if 'oss' in task]])\n",
    "\n",
    "subs = [uncued_subs,standard_subs,reverse_subs,outcome_subs,random_subs,loss_subs]"
   ]
  },
  {
   "cell_type": "code",
   "execution_count": null,
   "metadata": {
    "jupyter": {
     "source_hidden": true
    }
   },
   "outputs": [],
   "source": [
    "uncued_subs"
   ]
  },
  {
   "cell_type": "code",
   "execution_count": null,
   "metadata": {
    "jupyter": {
     "source_hidden": true
    }
   },
   "outputs": [],
   "source": [
    "numsessions = 5 #***first 5 sessions?\n",
    "uncued = md.get_model_data(df, numsessions, subs[0])"
   ]
  },
  {
   "cell_type": "code",
   "execution_count": null,
   "metadata": {
    "jupyter": {
     "source_hidden": true
    }
   },
   "outputs": [],
   "source": [
    "uncued_df = pd.DataFrame.from_dict(uncued)\n",
    "uncued_df \n",
    "# C (chosen hole of 5), R (reward in pellets, 0 if loss), P (pun_dur, >0 if loss), O (P1-P4 option)"
   ]
  },
  {
   "cell_type": "code",
   "execution_count": null,
   "metadata": {
    "jupyter": {
     "source_hidden": true
    }
   },
   "outputs": [],
   "source": [
    "subjects = uncued_df.startSubject.unique()\n",
    "np.delete(subjects, 1)"
   ]
  },
  {
   "cell_type": "code",
   "execution_count": null,
   "metadata": {
    "jupyter": {
     "source_hidden": true
    }
   },
   "outputs": [],
   "source": [
    "uncued_df = uncued_df.drop(uncued_df[(uncued_df.C == 0) & (uncued_df.startSubject == 0)].index)\n",
    "uncued_df.reset_index(inplace = True)\n",
    "uncued_df.index"
   ]
  },
  {
   "cell_type": "code",
   "execution_count": null,
   "metadata": {
    "jupyter": {
     "source_hidden": true
    }
   },
   "outputs": [],
   "source": [
    "for row in uncued_df.index:\n",
    "    if uncued_df.at[row,'R'] == 0: #loss\n",
    "        uncued_df.at[row,'outcome'] = 0\n",
    "    if uncued_df.at[row,'P'] == 0: #win\n",
    "        uncued_df.at[row,'outcome'] = 1\n",
    "    \n",
    "uncued_df"
   ]
  },
  {
   "cell_type": "code",
   "execution_count": null,
   "metadata": {
    "jupyter": {
     "source_hidden": true
    }
   },
   "outputs": [],
   "source": [
    "uncued_df.index[uncued_df['startSubject'] == 2].tolist()\n",
    "value = uncued_df.index[uncued_df['startSubject'] == 2]\n",
    "value"
   ]
  },
  {
   "cell_type": "code",
   "execution_count": null,
   "metadata": {
    "jupyter": {
     "source_hidden": true
    }
   },
   "outputs": [],
   "source": [
    "uncued_1 = uncued_df[0:849] #df for subject 1 \n",
    "uncued_1[['O', 'outcome']]\n",
    "chosen_data = uncued_1['O']\n",
    "outcome_data = uncued_1['outcome']\n",
    "outcome_data[0]"
   ]
  },
  {
   "cell_type": "markdown",
   "metadata": {},
   "source": [
    "## Goal 4: after acquiring chosen_data (option, O) and outcome_data (0 or 1 depending on R and P), we now run the model on the data to acquire p_action for each trial"
   ]
  },
  {
   "cell_type": "code",
   "execution_count": null,
   "metadata": {
    "jupyter": {
     "source_hidden": true
    }
   },
   "outputs": [],
   "source": [
    "ntr = 509\n",
    "for t in range(ntr): #from 0 to 508\n",
    "\n",
    "    Q[:,t] = V #each column of Q (which represents a t) is now equal to V (4 zeros). This essentially makes each column equal to 4 rows of zero\n",
    "\n",
    "    p_action = np.exp(beta*V)/np.sum(np.exp(beta*V)) #p_action holds the probabilities of each action (P1-P4), starting at 0.25 for each\n",
    "\n",
    "    if outcome_data[t] == 1: #if outcome == 1:\n",
    "        V[chosen_data[t]-1] += etaP*(win_amount[chosen_data[t]-1] - V[chosen_data[t]-1]) #subtract 1 because chosen_data stores P1-P4 as 1-4 instead 0-3\n",
    "    else: #if outcome_data == 0:\n",
    "        V[chosen_data[t]-1] += etaN*(-pun_dur[chosen_data[t]-1] - V[chosen_data[t]-1])\n",
    "\n",
    "    probs.append(p_action)"
   ]
  },
  {
   "cell_type": "code",
   "execution_count": null,
   "metadata": {
    "jupyter": {
     "source_hidden": true
    }
   },
   "outputs": [],
   "source": [
    "#probs"
   ]
  },
  {
   "cell_type": "markdown",
   "metadata": {},
   "source": [
    "## Goal 5: we now want the log(p_action) for the option chosen. \n",
    "\n",
    "ex. p_action = [0.245, 0.28, 0.235, 0.24] ... and P4 was then chosen. We would take log(0.24) for this trial "
   ]
  },
  {
   "cell_type": "code",
   "execution_count": null,
   "metadata": {
    "jupyter": {
     "source_hidden": true
    }
   },
   "outputs": [],
   "source": [
    "len(probs)\n",
    "# probs #list of 509 arrays"
   ]
  },
  {
   "cell_type": "code",
   "execution_count": null,
   "metadata": {
    "jupyter": {
     "source_hidden": true
    }
   },
   "outputs": [],
   "source": [
    "len(chosen_data)\n",
    "# chosen_data #series object of 509 choices (1-4 representing P1-P4)"
   ]
  },
  {
   "cell_type": "code",
   "execution_count": null,
   "metadata": {
    "jupyter": {
     "source_hidden": true
    }
   },
   "outputs": [],
   "source": [
    "import math\n",
    "math.log10(10)\n",
    "probs[0][0]\n",
    "math.log10(probs[0][0]) #first array, first value\n",
    "log_lik = pd.DataFrame()\n",
    "log_lik\n",
    "math.log10(probs[0][chosen_data[1]-1])"
   ]
  },
  {
   "cell_type": "code",
   "execution_count": null,
   "metadata": {
    "jupyter": {
     "source_hidden": true
    }
   },
   "outputs": [],
   "source": [
    "d = {'col1': [0]}\n",
    "log_lik_test = pd.DataFrame(d)\n",
    "log_lik_test\n",
    "log_lik_test[f\"log_lik[{0}]\"] = math.log10(probs[0][chosen_data[1]-1])\n",
    "log_lik_test\n",
    "log_lik = pd.DataFrame(d)\n",
    "\n",
    "# log_lik_test.assign(log_lik_test=[92,81,66])"
   ]
  },
  {
   "cell_type": "code",
   "execution_count": null,
   "metadata": {
    "jupyter": {
     "source_hidden": true
    }
   },
   "outputs": [],
   "source": [
    "for t in range(len(probs)): \n",
    "    log_lik[f\"log_lik[{t}]\"] = math.log10(probs[t][chosen_data[t]-1])\n",
    "    \n",
    "log_lik['sum'] = log_lik.sum(axis = 1)\n",
    "log_lik"
   ]
  },
  {
   "cell_type": "markdown",
   "metadata": {},
   "source": [
    "## Goal 6: we now want each column (ex. log_lik[5]) to contain 1000 values (each value is a log likelihood) \n",
    "\n",
    "Procedure: \n",
    "- Figure out how to add a value to the next row of the same column (ex. add the next value to log_lik[0] as another row)\n",
    "    - either add a list as a new row\n",
    "    - or, add a single value to the bottom of a column\n",
    "- Form list comprehension of trials and params "
   ]
  },
  {
   "cell_type": "code",
   "execution_count": null,
   "metadata": {
    "jupyter": {
     "source_hidden": true
    }
   },
   "outputs": [],
   "source": [
    "d = {'col1': np.zeros(3)}\n",
    "log_lik_test = pd.DataFrame(d)\n",
    "log_lik_test.loc[log_lik_test.index[2], 'col1'] = 4\n",
    "# df.loc[df.index[someRowNumber], 'New Column Title'] = \"some value\"\n",
    "log_lik_test"
   ]
  },
  {
   "cell_type": "code",
   "execution_count": null,
   "metadata": {
    "jupyter": {
     "source_hidden": true
    }
   },
   "outputs": [],
   "source": [
    "ntr = 849\n",
    "\n",
    "paramsXtrial = [(p, t) for p in range(4000) for t in range(ntr)]\n",
    "# paramsXtrial\n",
    "\n",
    "# for (p, t) in paramsXtrial: #one set of parameters, for all the trials, then the next set of parameters (params[1]) for all the trials, etc. \n",
    "#     print(p, t)"
   ]
  },
  {
   "cell_type": "markdown",
   "metadata": {},
   "source": [
    "## Final goal: summarize the code (skip goal 4 and 5) \n",
    "- subject 1 of uncued_subs"
   ]
  },
  {
   "cell_type": "code",
   "execution_count": null,
   "metadata": {},
   "outputs": [],
   "source": [
    "# params is a 3 vector of beta, etaP, etaN\n",
    "import math\n",
    "params = params_all_4 #1000 sets of parameters\n",
    "\n",
    "V = np.zeros(4) # [0,0,0,0]\n",
    "# decay = params[3] # decay between zero and 1\n",
    "    \n",
    "p_win = [0.9,0.8,0.5,0.4]\n",
    "win_amount = [1,2,3,4]\n",
    "pun_dur = [5,10,30,40]\n",
    "ntr = 849\n",
    "\n",
    "Q = np.zeros([4,ntr]) #1 array of 4 rows and ntr columns\n",
    "probs = []\n",
    "\n",
    "d = {'col1': np.zeros(1000)}\n",
    "log_lik = pd.DataFrame(d)\n",
    "\n",
    "for (p, t) in paramsXtrial: #from 0 to 508\n",
    "\n",
    "    Q[:,t] = V #each column of Q (which represents a t) is now equal to V (4 zeros). This essentially makes each column equal to 4 rows of zero\n",
    "    \n",
    "    if t == 0: #if using a new set of parameters (if first trial, reset)...\n",
    "        V = np.zeros(4) #reset the V values\n",
    "\n",
    "    p_action = np.exp(params[p][0]*V)/np.sum(np.exp(params[p][0]*V)) #p_action holds the probabilities of each action (P1-P4), starting at 0.25 for each\n",
    "\n",
    "    if outcome_data[t] == 1: #if outcome == 1:\n",
    "        V[chosen_data[t]-1] += params[p][1]*(win_amount[chosen_data[t]-1] - V[chosen_data[t]-1]) #subtract 1 because chosen_data stores P1-P4 as 1-4 instead 0-3\n",
    "    else: #if outcome_data == 0:\n",
    "        V[chosen_data[t]-1] += params[p][2]*(-pun_dur[chosen_data[t]-1] - V[chosen_data[t]-1])\n",
    "         \n",
    "    log_lik.loc[log_lik.index[p], f\"log_lik[{t}]\"] = math.log10(p_action[chosen_data[t]-1]) #may want to change to natural log (ln) \n",
    "    \n",
    "    probs.append(p_action)"
   ]
  },
  {
   "cell_type": "code",
   "execution_count": null,
   "metadata": {
    "jupyter": {
     "source_hidden": true
    }
   },
   "outputs": [],
   "source": [
    "log_lik"
   ]
  },
  {
   "cell_type": "markdown",
   "metadata": {},
   "source": [
    "## Wrap-up: write function(s)\n",
    "- remove col1 \n",
    "- transform a sum column, or take the sum of the entire dataframe (log_lik) "
   ]
  },
  {
   "cell_type": "code",
   "execution_count": null,
   "metadata": {
    "jupyter": {
     "source_hidden": true
    }
   },
   "outputs": [],
   "source": [
    "# probs should be real probabilities\n",
    "\n",
    "# Q,choice,win,probs = mysimulation([2,0.1,0.02,0.9],ntr)"
   ]
  },
  {
   "cell_type": "code",
   "execution_count": null,
   "metadata": {
    "jupyter": {
     "source_hidden": true
    }
   },
   "outputs": [],
   "source": [
    "fig,ax = plt.subplots(1,2,figsize=[12,5])\n",
    "\n",
    "ax[0].plot(np.array(probs))\n",
    "ax[0].legend(['1','2','3','4'])\n",
    "\n",
    "ax[1].plot(np.arange(ntr),Q.transpose())"
   ]
  },
  {
   "cell_type": "code",
   "execution_count": null,
   "metadata": {
    "jupyter": {
     "source_hidden": true
    }
   },
   "outputs": [],
   "source": [
    "plt.hist(choice)"
   ]
  },
  {
   "cell_type": "code",
   "execution_count": null,
   "metadata": {
    "jupyter": {
     "source_hidden": true
    }
   },
   "outputs": [],
   "source": [
    "# let's check out what softmax does to choice probabilties for diff values\n",
    "\n",
    "def softmax(x,beta):\n",
    "    \n",
    "    return np.exp(beta*x)/np.sum(np.exp(beta*x))"
   ]
  },
  {
   "cell_type": "code",
   "execution_count": null,
   "metadata": {
    "jupyter": {
     "source_hidden": true
    }
   },
   "outputs": [],
   "source": [
    "plt.plot([10,40],softmax(np.array([10,40]),0),'*')\n",
    "plt.plot([10,40],softmax(np.array([10,40]),0.5),'*')\n",
    "plt.plot([10,40],softmax(np.array([10,40]),0.01),'*')"
   ]
  },
  {
   "cell_type": "markdown",
   "metadata": {},
   "source": [
    "Cleanup code"
   ]
  },
  {
   "cell_type": "code",
   "execution_count": null,
   "metadata": {
    "jupyter": {
     "source_hidden": true
    }
   },
   "outputs": [],
   "source": [
    "log_liks = log_lik.drop('col1', axis=1)"
   ]
  },
  {
   "cell_type": "code",
   "execution_count": null,
   "metadata": {
    "jupyter": {
     "source_hidden": true
    }
   },
   "outputs": [],
   "source": [
    "log_liks"
   ]
  },
  {
   "cell_type": "code",
   "execution_count": null,
   "metadata": {
    "jupyter": {
     "source_hidden": true
    }
   },
   "outputs": [],
   "source": [
    "log_liks['row sum'] = log_liks.sum(axis = 1) #watch out! if you run this cell multiple times, it will continue adding"
   ]
  },
  {
   "cell_type": "code",
   "execution_count": null,
   "metadata": {
    "jupyter": {
     "source_hidden": true
    }
   },
   "outputs": [],
   "source": [
    "pw_log_lik = log_liks['row sum'].sum()"
   ]
  },
  {
   "cell_type": "code",
   "execution_count": null,
   "metadata": {
    "jupyter": {
     "source_hidden": true
    }
   },
   "outputs": [],
   "source": [
    "pw_log_lik"
   ]
  },
  {
   "cell_type": "markdown",
   "metadata": {},
   "source": [
    "### Function (loglik_basic_sub) \n",
    "\n",
    "- parameters \n",
    "    - outcome_data\n",
    "    - chosen_data \n",
    "    - params \n",
    "    - sub\n",
    "\n",
    "- function template \n",
    "    - set variables (V, Q) \n",
    "    - set model (p_win, win_amount, pun_dur) \n",
    "    - 3 helper functions: \n",
    "        - get_outcome_data \n",
    "        - get_chosen_data\n",
    "        - get_ntr_sub\n",
    "    - run each ntr (should be a range from starting trial to end trial) X sub combination through the model \n",
    "    - output: sum of the log-likelihoods, for all subjects!\n",
    "    \n",
    "Workflow: \n",
    "- create df with subject, range(ntr), chosen_data, outcome_data as the columns \n",
    "- create df for each subject (by calling data in a row) "
   ]
  },
  {
   "cell_type": "code",
   "execution_count": null,
   "metadata": {},
   "outputs": [],
   "source": [
    "def md_subs(df, numsessions, subs): \n",
    "    \"\"\"gets md_df and unique subs (without subject 0)\"\"\"\n",
    "    md_dict = md.get_model_data(df, numsessions, subs) #model data as a dict\n",
    "    md_df = pd.DataFrame.from_dict(md_dict) #model data as a df\n",
    "#     md_df = md_df.drop(md_df[(md_df.C == 0) & (md_df.startSubject == 0)].index) #remove non-responses, while keeping changes in startSubject\n",
    "#     md_df.reset_index(inplace = True)\n",
    "    \n",
    "    subs_unique = md_df.startSubject.unique()\n",
    "    subs_unique = np.delete(subs_unique, 1) #remove subject 0 (not a real subject)\n",
    "    \n",
    "    return md_df, subs_unique"
   ]
  },
  {
   "cell_type": "code",
   "execution_count": null,
   "metadata": {},
   "outputs": [],
   "source": [
    "md_df, subs_unique = md_subs(df, 5, standard_subs)"
   ]
  },
  {
   "cell_type": "code",
   "execution_count": null,
   "metadata": {},
   "outputs": [],
   "source": [
    "md_df"
   ]
  },
  {
   "cell_type": "code",
   "execution_count": null,
   "metadata": {},
   "outputs": [],
   "source": [
    "def ntr_sub(md_df, subs_unique): \n",
    "    \"\"\"ntr_sub takes in md_df, and gets the range of trials for a given subject within subs\"\"\"\n",
    "    \n",
    "    ntr_sub_ranges = []\n",
    "    ntr_df = pd.DataFrame({'subject#': subs_unique})\n",
    "    \n",
    "    #get range for sub: \n",
    "    for s in subs_unique: \n",
    "        first_t = md_df.index[md_df['startSubject'] == s].tolist() #first trial\n",
    "        last_t = md_df.index[md_df['startSubject'] == (s+1)].tolist() #last trial\n",
    "        \n",
    "        if last_t != []: #if s+1 does not exist (when s = final subject#), last_t = []\n",
    "            ntr_sub = list(range(first_t[0], last_t[0]))\n",
    "            ntr_sub_ranges.append(ntr_sub)\n",
    "        elif last_t == []:\n",
    "            last_t = [len(md_df)] #last_t = length of md_df\n",
    "            ntr_sub = list(range(first_t[0], last_t[0]))\n",
    "            ntr_sub_ranges.append(ntr_sub)\n",
    "        \n",
    "    ntr_df['range_ntr'] = ntr_sub_ranges\n",
    "    return ntr_df #outputs df with subject, and range_ntr as the next column"
   ]
  },
  {
   "cell_type": "code",
   "execution_count": null,
   "metadata": {
    "jupyter": {
     "source_hidden": true
    }
   },
   "outputs": [],
   "source": [
    "sub_ranges = ntr_sub(df, 5, [202, 218, 222, 310, 314, 401, 403, 405, 407, 415, 204, 220, 224, 309, 313, 402, 404, 406, 408, 416, 325, 329, 326, 330])"
   ]
  },
  {
   "cell_type": "code",
   "execution_count": null,
   "metadata": {
    "jupyter": {
     "source_hidden": true
    }
   },
   "outputs": [],
   "source": [
    "sub_ranges"
   ]
  },
  {
   "cell_type": "code",
   "execution_count": null,
   "metadata": {},
   "outputs": [],
   "source": [
    "def chosen_outcome_data(md_df, ntr_df, subs_unique): \n",
    "    \"\"\"takes in md_df, subs_unique and gets chosen and outcome data\"\"\"\n",
    "    \n",
    "    for row in md_df.index: #add outcome column (where loss == 0, and win == 1)\n",
    "        if md_df.at[row,'R'] == 0: #loss\n",
    "            md_df.at[row,'outcome'] = 0\n",
    "        if md_df.at[row,'P'] == 0: #win\n",
    "            md_df.at[row,'outcome'] = 1\n",
    "    \n",
    "    chosen = []\n",
    "    outcome = []\n",
    "    ntr_df = ntr_sub(md_df, subs_unique)\n",
    "    \n",
    "    for row in ntr_df.index:\n",
    "        range_ts = ntr_df.at[row, 'range_ntr'] #range of trials\n",
    "        filtered_md_df = md_df[range_ts[0]:(range_ts[-1]+1)]\n",
    "        chosen.append(filtered_md_df['O'].values)\n",
    "        outcome.append(filtered_md_df['outcome'].values)\n",
    "                               \n",
    "    return chosen, outcome"
   ]
  },
  {
   "cell_type": "code",
   "execution_count": null,
   "metadata": {},
   "outputs": [],
   "source": [
    "def get_params_basic_4_chains(fit, subs_unique):\n",
    "    \"\"\"takes in fit, subs_unique (list of 1, final sub#), and outputs params_s using ALL CHAINS\n",
    "    function is called basic due to the parameters chosen\"\"\"\n",
    "    \n",
    "    fit_beta_df = fit.posterior.beta.to_dataframe()\n",
    "    fit_etaP_df = fit.posterior.etaPositive.to_dataframe()\n",
    "    fit_etaN_df = fit.posterior.etaNegative.to_dataframe()\n",
    "    \n",
    "    params_s = []\n",
    "    \n",
    "    for s in subs_unique:\n",
    "        params = np.concatenate([fit_beta_df[fit_beta_df.index.get_level_values('beta_dim_0').isin([s-1])],\n",
    "                                  fit_etaP_df[fit_etaP_df.index.get_level_values('etaPositive_dim_0').isin([s-1])],\n",
    "                                  fit_etaN_df[fit_etaN_df.index.get_level_values('etaNegative_dim_0').isin([s-1])]], \n",
    "                                  axis = 1)\n",
    "        params_s.append(params)\n",
    "    return params_s"
   ]
  },
  {
   "cell_type": "code",
   "execution_count": null,
   "metadata": {
    "jupyter": {
     "source_hidden": true
    }
   },
   "outputs": [],
   "source": [
    "chosen1, outcome1 = chosen_outcome_data(df, 5, [202, 218, 222, 310, 314, 401, 403, 405, 407, 415, 204, 220, 224, 309, 313, 402, 404, 406, 408, 416, 325, 329, 326, 330])"
   ]
  },
  {
   "cell_type": "code",
   "execution_count": null,
   "metadata": {},
   "outputs": [],
   "source": [
    "def sub_df_complete(df, numsessions, subs, fit):\n",
    "    \"\"\"takes the output from md_subs, ntr_sub and chosen_outcome_data functions and outputs the complete df\"\"\"\n",
    "    md_df, subs_unique = md_subs(df, numsessions, subs)\n",
    "    ntr_df = ntr_sub(md_df, subs_unique)\n",
    "    chosen_data, outcome_data = chosen_outcome_data(md_df, ntr_df, subs_unique)\n",
    "    params_s = get_params_basic_4_chains(fit, subs_unique)\n",
    "    \n",
    "    ntr_df['chosen_data'] = chosen_data\n",
    "    ntr_df['outcome_data'] = outcome_data\n",
    "    ntr_df['params_s'] = params_s\n",
    "    \n",
    "    return ntr_df, md_df"
   ]
  },
  {
   "cell_type": "code",
   "execution_count": null,
   "metadata": {},
   "outputs": [],
   "source": [
    "sub_df, md_df = sub_df_complete(df, 5, standard_subs, standard_basic_fit)"
   ]
  },
  {
   "cell_type": "code",
   "execution_count": null,
   "metadata": {},
   "outputs": [],
   "source": [
    "sub_df"
   ]
  },
  {
   "cell_type": "code",
   "execution_count": null,
   "metadata": {},
   "outputs": [],
   "source": [
    "md_df"
   ]
  },
  {
   "cell_type": "markdown",
   "metadata": {
    "jupyter": {
     "source_hidden": true
    }
   },
   "source": [
    "Does len(chosen_data) match range_ntr\n",
    "There's 0's in chosen_data - resolved"
   ]
  },
  {
   "cell_type": "markdown",
   "metadata": {},
   "source": [
    "# Building new dataset"
   ]
  },
  {
   "cell_type": "code",
   "execution_count": null,
   "metadata": {
    "jupyter": {
     "source_hidden": true
    }
   },
   "outputs": [],
   "source": [
    "uncued_basic_fit"
   ]
  },
  {
   "cell_type": "code",
   "execution_count": null,
   "metadata": {
    "jupyter": {
     "source_hidden": true
    }
   },
   "outputs": [],
   "source": [
    "uncued_4_chains = uncued_basic_fit.to_dataframe()\n",
    "uncued_4_chains\n",
    "uncued_1_chain = uncued_4_chains.iloc[0:1000]\n",
    "uncued_1_chain\n",
    "uncued_1_chain_no_index = uncued_1_chain.reset_index(drop = True)\n",
    "uncued_1_chain_no_index"
   ]
  },
  {
   "cell_type": "code",
   "execution_count": null,
   "metadata": {
    "jupyter": {
     "source_hidden": true
    }
   },
   "outputs": [],
   "source": [
    "log_liks = log_lik.drop('col1', axis=1)\n",
    "log_liks"
   ]
  },
  {
   "cell_type": "code",
   "execution_count": null,
   "metadata": {
    "jupyter": {
     "source_hidden": true
    }
   },
   "outputs": [],
   "source": [
    "uncued_1_chain_no_index.iloc[:,[0,1]]"
   ]
  },
  {
   "cell_type": "code",
   "execution_count": null,
   "metadata": {
    "jupyter": {
     "source_hidden": true
    }
   },
   "outputs": [],
   "source": [
    "df_concat = pd.concat([uncued_1_chain_no_index.iloc[:,[0,1]], log_liks], axis = 1)\n",
    "df_concat #df_concat is the complete dataframe for subject 1"
   ]
  },
  {
   "cell_type": "code",
   "execution_count": null,
   "metadata": {
    "jupyter": {
     "source_hidden": true
    }
   },
   "outputs": [],
   "source": [
    "df_concat = df_concat.set_index([\"chain\", \"draw\"])\n",
    "x_concat = xr.Dataset.from_dataframe(df_concat)\n",
    "x_concat"
   ]
  },
  {
   "cell_type": "code",
   "execution_count": null,
   "metadata": {
    "jupyter": {
     "source_hidden": true
    }
   },
   "outputs": [],
   "source": [
    "dataset_concat = az.InferenceData(sample_stats=x_concat)\n",
    "dataset_concat"
   ]
  },
  {
   "cell_type": "code",
   "execution_count": null,
   "metadata": {
    "jupyter": {
     "source_hidden": true
    }
   },
   "outputs": [],
   "source": [
    "# az.waic(dataset_concat, var_name = 'log_lik')"
   ]
  },
  {
   "cell_type": "markdown",
   "metadata": {
    "jupyter": {
     "source_hidden": true
    }
   },
   "source": [
    "# add df as an xarray to inferenceData"
   ]
  },
  {
   "cell_type": "code",
   "execution_count": null,
   "metadata": {
    "jupyter": {
     "source_hidden": true
    }
   },
   "outputs": [],
   "source": [
    "log_liks = log_lik.drop('col1', axis = 1)"
   ]
  },
  {
   "cell_type": "code",
   "execution_count": null,
   "metadata": {
    "jupyter": {
     "source_hidden": true
    }
   },
   "outputs": [],
   "source": [
    "log_liks"
   ]
  },
  {
   "cell_type": "markdown",
   "metadata": {},
   "source": [
    "Xarray example"
   ]
  },
  {
   "cell_type": "code",
   "execution_count": null,
   "metadata": {
    "jupyter": {
     "source_hidden": true
    }
   },
   "outputs": [],
   "source": [
    "x = xr.Dataset(\n",
    "    {\n",
    "        \"temperature_c\": (\n",
    "            (\"lat\", \"lon\"),\n",
    "            20 * np.random.rand(4).reshape(2, 2),\n",
    "        ),\n",
    "        \"precipitation\": ((\"lat\", \"lon\"), np.random.rand(4).reshape(2, 2)),\n",
    "    },\n",
    "    coords={\"lat\": [10, 20], \"lon\": [150, 160]},"
   ]
  },
  {
   "cell_type": "code",
   "execution_count": null,
   "metadata": {
    "jupyter": {
     "source_hidden": true
    }
   },
   "outputs": [],
   "source": [
    "x.assign(temperature_f=lambda x: x.temperature_c * 9 / 5 + 32)"
   ]
  },
  {
   "cell_type": "code",
   "execution_count": null,
   "metadata": {
    "jupyter": {
     "source_hidden": true
    }
   },
   "outputs": [],
   "source": [
    "x.assign(temperature_f=x[\"temperature_c\"] * 9 / 5 + 32)"
   ]
  },
  {
   "cell_type": "code",
   "execution_count": null,
   "metadata": {
    "jupyter": {
     "source_hidden": true
    }
   },
   "outputs": [],
   "source": [
    "temperature_f=x[\"temperature_c\"] * 9 / 5 + 32"
   ]
  },
  {
   "cell_type": "code",
   "execution_count": null,
   "metadata": {
    "jupyter": {
     "source_hidden": true
    }
   },
   "outputs": [],
   "source": [
    "temperature_f"
   ]
  },
  {
   "cell_type": "markdown",
   "metadata": {},
   "source": [
    "to_xarray example"
   ]
  },
  {
   "cell_type": "code",
   "execution_count": null,
   "metadata": {
    "jupyter": {
     "source_hidden": true
    }
   },
   "outputs": [],
   "source": [
    "df = pd.DataFrame([('falcon', 'bird', 389.0, 2),\n",
    "                   ('parrot', 'bird', 24.0, 2),\n",
    "                   ('lion', 'mammal', 80.5, 4),\n",
    "                   ('monkey', 'mammal', np.nan, 4)],\n",
    "                  columns=['name', 'class', 'max_speed',\n",
    "                           'num_legs'])\n",
    "df"
   ]
  },
  {
   "cell_type": "code",
   "execution_count": null,
   "metadata": {
    "jupyter": {
     "source_hidden": true
    }
   },
   "outputs": [],
   "source": [
    "df.to_xarray()"
   ]
  },
  {
   "cell_type": "code",
   "execution_count": null,
   "metadata": {
    "jupyter": {
     "source_hidden": true
    }
   },
   "outputs": [],
   "source": [
    "df['max_speed'].to_xarray()"
   ]
  },
  {
   "cell_type": "code",
   "execution_count": null,
   "metadata": {
    "jupyter": {
     "source_hidden": true
    }
   },
   "outputs": [],
   "source": [
    "log_liks_dataset = log_liks.to_xarray()"
   ]
  },
  {
   "cell_type": "code",
   "execution_count": null,
   "metadata": {
    "jupyter": {
     "source_hidden": true
    }
   },
   "outputs": [],
   "source": [
    "uncued_basic_fit_log_lik = uncued_basic_fit.assign(log_liks_dataset)"
   ]
  },
  {
   "cell_type": "code",
   "execution_count": null,
   "metadata": {
    "jupyter": {
     "source_hidden": true
    }
   },
   "outputs": [],
   "source": [
    "uncued_basic_fit_log_lik"
   ]
  },
  {
   "cell_type": "code",
   "execution_count": null,
   "metadata": {
    "jupyter": {
     "source_hidden": true
    }
   },
   "outputs": [],
   "source": [
    "az.waic(uncued_basic_fit_log_lik, var_name = log_lik)"
   ]
  },
  {
   "cell_type": "markdown",
   "metadata": {},
   "source": [
    "Centered eight example of az.waic"
   ]
  },
  {
   "cell_type": "markdown",
   "metadata": {
    "jupyter": {
     "source_hidden": true
    }
   },
   "source": [
    "data = az.load_arviz_data(\"centered_eight\")"
   ]
  },
  {
   "cell_type": "code",
   "execution_count": null,
   "metadata": {
    "jupyter": {
     "source_hidden": true
    }
   },
   "outputs": [],
   "source": [
    "data"
   ]
  },
  {
   "cell_type": "code",
   "execution_count": null,
   "metadata": {
    "jupyter": {
     "source_hidden": true
    }
   },
   "outputs": [],
   "source": [
    "data.sample_stats.log_likelihood.to_dataframe()"
   ]
  },
  {
   "cell_type": "markdown",
   "metadata": {},
   "source": [
    "indices are chain, draw, trial\n",
    "and the values are log_likelihood values"
   ]
  },
  {
   "cell_type": "code",
   "execution_count": null,
   "metadata": {
    "jupyter": {
     "source_hidden": true
    }
   },
   "outputs": [],
   "source": [
    "log_liks"
   ]
  },
  {
   "cell_type": "markdown",
   "metadata": {},
   "source": [
    "Multiindex example --> completed with log_likelihood added to standard_basic_fit"
   ]
  },
  {
   "cell_type": "code",
   "execution_count": null,
   "metadata": {
    "jupyter": {
     "source_hidden": true
    }
   },
   "outputs": [],
   "source": [
    "ntr = sub_df.at[1, 'range_ntr']\n",
    "ntr[-1]\n",
    "# ntr[-1] - ntr[0] # 445\n",
    "# list(range(ntr[-1]+1 - ntr[0]))"
   ]
  },
  {
   "cell_type": "code",
   "execution_count": null,
   "metadata": {
    "jupyter": {
     "source_hidden": true
    }
   },
   "outputs": [],
   "source": [
    "paramsXtrial = [(p, t) for p in range(4000) for t in range(ntr[-1] - ntr[0])]"
   ]
  },
  {
   "cell_type": "code",
   "execution_count": null,
   "metadata": {},
   "outputs": [],
   "source": [
    "def get_log_lik_values_s(sub_df):\n",
    "    \"\"\"takes in sub_df, and gets all the log_likelihood values in a list\"\"\"\n",
    "    \n",
    "    log_lik_values = [] #stores log_lik_values for all subjects\n",
    "    for s in sub_df.index: #note: s is 0-indexed\n",
    "        \n",
    "        #subject data\n",
    "        ntr = sub_df.at[s,'range_ntr']\n",
    "        chosen_data = sub_df.at[s,'chosen_data']\n",
    "        outcome_data = sub_df.at[s,'outcome_data']\n",
    "        params = sub_df.at[s, 'params_s'] #4000 sets of parameters \n",
    "        \n",
    "        #updating model values\n",
    "        V = np.zeros(4) # [0,0,0,0]\n",
    "#         Q = np.zeros([4,ntr]) #1 array of 4 rows and ntr columns\n",
    "        \n",
    "        #model\n",
    "        p_win = [0.9,0.8,0.5,0.4]\n",
    "        win_amount = [1,2,3,4]\n",
    "        pun_dur = [5,10,30,40]\n",
    "        \n",
    "        paramsXtrial = [(p, t) for p in range(4000) for t in range(ntr[-1]+1 - ntr[0])] #4000 sets of parameters, for ntr trials\n",
    "        for (p, t) in paramsXtrial: \n",
    "\n",
    "            if t == 0: #if using a new set of parameters (if first trial, reset)...\n",
    "                V = np.zeros(4) #reset the V values\n",
    "\n",
    "            p_action = np.exp(params[p][0]*V)/np.sum(np.exp(params[p][0]*V)) #p_action holds the probabilities of each action (P1-P4), starting at 0.25 for each\n",
    "\n",
    "            if outcome_data[t] == 1: \n",
    "                V[chosen_data[t]-1] += params[p][1]*(win_amount[chosen_data[t]-1] - V[chosen_data[t]-1]) #subtract 1 because chosen_data stores P1-P4 as 1-4 instead 0-3\n",
    "            else: \n",
    "                V[chosen_data[t]-1] += params[p][2]*(-pun_dur[chosen_data[t]-1] - V[chosen_data[t]-1])\n",
    "            print(p_action[chosen_data[t]-1])\n",
    "            log_lik_values.append(math.log(p_action[chosen_data[t]-1])) \n",
    "    \n",
    "    return log_lik_values"
   ]
  },
  {
   "cell_type": "code",
   "execution_count": null,
   "metadata": {},
   "outputs": [],
   "source": [
    "log_lik_values = get_log_lik_values_s(sub_df) #24 minutes"
   ]
  },
  {
   "cell_type": "code",
   "execution_count": null,
   "metadata": {},
   "outputs": [],
   "source": [
    "len(log_lik_values)"
   ]
  },
  {
   "cell_type": "code",
   "execution_count": null,
   "metadata": {
    "jupyter": {
     "source_hidden": true
    }
   },
   "outputs": [],
   "source": [
    "# params is a 3 vector of beta, etaP, etaN\n",
    "params = params_all_4 #1000 sets of parameters\n",
    "\n",
    "V = np.zeros(4) # [0,0,0,0]\n",
    "# decay = params[3] # decay between zero and 1\n",
    "    \n",
    "p_win = [0.9,0.8,0.5,0.4]\n",
    "win_amount = [1,2,3,4]\n",
    "pun_dur = [5,10,30,40]\n",
    "ntr = 849\n",
    "\n",
    "Q = np.zeros([4,ntr]) #1 array of 4 rows and ntr columns\n",
    "probs = []\n",
    "\n",
    "s = []\n",
    "for (p, t) in paramsXtrial: #from 0 to 508\n",
    "    \n",
    "    if t == 0: #if using a new set of parameters (if first trial, reset)...\n",
    "        V = np.zeros(4) #reset the V values\n",
    "\n",
    "    p_action = np.exp(params[p][0]*V)/np.sum(np.exp(params[p][0]*V)) #p_action holds the probabilities of each action (P1-P4), starting at 0.25 for each\n",
    "\n",
    "    if outcome_data[t] == 1: #if outcome == 1:\n",
    "        V[chosen_data[t]-1] += params[p][1]*(win_amount[chosen_data[t]-1] - V[chosen_data[t]-1]) #subtract 1 because chosen_data stores P1-P4 as 1-4 instead 0-3\n",
    "    else: #if outcome_data == 0:\n",
    "        V[chosen_data[t]-1] += params[p][2]*(-pun_dur[chosen_data[t]-1] - V[chosen_data[t]-1])\n",
    "         \n",
    "    s.append(math.log10(p_action[chosen_data[t]-1])) #may want to change to natural log (ln) "
   ]
  },
  {
   "cell_type": "code",
   "execution_count": null,
   "metadata": {
    "jupyter": {
     "source_hidden": true
    }
   },
   "outputs": [],
   "source": [
    "log_lik_values = s "
   ]
  },
  {
   "cell_type": "code",
   "execution_count": null,
   "metadata": {
    "jupyter": {
     "source_hidden": true
    }
   },
   "outputs": [],
   "source": [
    "len(log_lik_values)"
   ]
  },
  {
   "cell_type": "markdown",
   "metadata": {},
   "source": [
    "Add log_lik_values to MultiIndex (chain, draw, trial) "
   ]
  },
  {
   "cell_type": "code",
   "execution_count": null,
   "metadata": {},
   "outputs": [],
   "source": [
    "iterables = [[0,1,2,3], list(range(0,1000)), list(range(0, 25091))] #4 chains, 1000 draws, ntr trials\n",
    "index = pd.MultiIndex.from_product(iterables, names=[\"chain\", \"draw\", \"trial\"])\n",
    "log_lik_s = pd.Series(log_lik_values, index=index)\n",
    "df_log_likelihood = log_lik_s.to_frame(name = \"log_likelihood\")\n",
    "x_log_likelihood = df_log_likelihood.to_xarray()\n",
    "\n",
    "id_log_likelihood = standard_basic_fit.assign(x_log_likelihood)\n",
    "id_log_likelihood #2 minutes"
   ]
  },
  {
   "cell_type": "code",
   "execution_count": null,
   "metadata": {},
   "outputs": [],
   "source": [
    "def get_inference_data_log_lik(md_df, log_lik_values, fit):\n",
    "    \"\"\"takes in log_lik_values from get_log_lik_values, and creates an inference data object\"\"\"\n",
    "    \n",
    "    total_ntr = md_df.at[0, 'ntr'] #total trials in md_df, which represents the total number of trials for a cue variant \n",
    "    print(total_ntr)\n",
    "    print(4000)\n",
    "    print(len(log_lik_values))\n",
    "    \n",
    "    #build index\n",
    "    iterables = [[0,1,2,3], list(range(0,1000)), list(range(0, total_ntr))] #4 chains, 1000 draws, total_ntr trials\n",
    "    index = pd.MultiIndex.from_product(iterables, names=[\"chain\", \"draw\", \"trial\"])\n",
    "    \n",
    "    #build InferenceData (id) object \n",
    "    s_log_likelihood = pd.Series(log_lik_values, index=index)\n",
    "    df_log_likelihood = s_log_likelihood.to_frame(name = \"log_likelihood\")\n",
    "    x_log_likelihood = df_log_likelihood.to_xarray()\n",
    "    id_log_likelihood = fit.assign(x_log_likelihood)\n",
    "    \n",
    "    return id_log_likelihood"
   ]
  },
  {
   "cell_type": "code",
   "execution_count": null,
   "metadata": {},
   "outputs": [],
   "source": [
    "get_inference_data_log_lik(md_df, log_lik_values, standard_basic_fit)"
   ]
  },
  {
   "cell_type": "code",
   "execution_count": null,
   "metadata": {},
   "outputs": [],
   "source": [
    "def waic_basic_fit(df, numsessions, subs, fit):\n",
    "    \"\"\"summary function: takes in all parameters and outputs WAIC table using az.waic() // parameters:\n",
    "    df - product of rgt.load_multiple_data,\n",
    "    numsessions = 5,\n",
    "    subs = cue variant (list), \n",
    "    fit = .nc object storing the model and fit\"\"\"\n",
    "    \n",
    "    sub_df, md_df = sub_df_complete(df, numsessions, subs, fit)\n",
    "    log_lik_values = get_log_lik_values_s(sub_df)\n",
    "    id_log_likelihood = get_inference_data_log_lik(md_df, log_lik_values, fit)\n",
    "    \n",
    "    waic = az.waic(id_log_likelihood)\n",
    "    return waic"
   ]
  }
 ],
 "metadata": {
  "kernelspec": {
   "display_name": "Python 3",
   "language": "python",
   "name": "python3"
  },
  "language_info": {
   "codemirror_mode": {
    "name": "ipython",
    "version": 3
   },
   "file_extension": ".py",
   "mimetype": "text/x-python",
   "name": "python",
   "nbconvert_exporter": "python",
   "pygments_lexer": "ipython3",
   "version": "3.8.5"
  }
 },
 "nbformat": 4,
 "nbformat_minor": 4
}
