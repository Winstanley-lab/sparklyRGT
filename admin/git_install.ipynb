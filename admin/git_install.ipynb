{
 "cells": [
  {
   "cell_type": "markdown",
   "metadata": {},
   "source": [
    "This notebook is for downloading softwares and packages \n",
    "\n",
    "This notebook is no longer used, as softwares and packages can be downloaded permanently and more efficiently using the anaconda3 prompt (using conda-forge) "
   ]
  },
  {
   "cell_type": "code",
   "execution_count": null,
   "metadata": {},
   "outputs": [],
   "source": [
    "conda install -c conda-forge jupyterlab jupyterlab-git"
   ]
  },
  {
   "cell_type": "code",
   "execution_count": null,
   "metadata": {},
   "outputs": [],
   "source": [
    "import sys\n",
    "!conda install --yes --prefix {sys.prefix} numpy"
   ]
  },
  {
   "cell_type": "code",
   "execution_count": null,
   "metadata": {},
   "outputs": [],
   "source": [
    "import sys\n",
    "!conda install --yes --prefix {sys.prefix} pandas"
   ]
  },
  {
   "cell_type": "code",
   "execution_count": null,
   "metadata": {},
   "outputs": [],
   "source": [
    "import sys\n",
    "!conda install --yes --prefix {sys.prefix} matplotlib scipy"
   ]
  },
  {
   "cell_type": "code",
   "execution_count": null,
   "metadata": {},
   "outputs": [],
   "source": [
    "import sys \n",
    "!conda install -c conda-forge r-rstan"
   ]
  },
  {
   "cell_type": "code",
   "execution_count": 2,
   "metadata": {},
   "outputs": [
    {
     "name": "stdout",
     "output_type": "stream",
     "text": [
      "Requirement already satisfied: pystan in c:\\users\\dexte\\anaconda3\\lib\\site-packages (2.19.1.1)\n",
      "Requirement already satisfied: Cython!=0.25.1,>=0.22 in c:\\users\\dexte\\anaconda3\\lib\\site-packages (from pystan) (0.29.21)\n",
      "Requirement already satisfied: numpy>=1.7 in c:\\users\\dexte\\anaconda3\\lib\\site-packages (from pystan) (1.19.2)\n",
      "Note: you may need to restart the kernel to use updated packages.\n"
     ]
    }
   ],
   "source": [
    "pip install pystan"
   ]
  },
  {
   "cell_type": "code",
   "execution_count": null,
   "metadata": {},
   "outputs": [],
   "source": [
    "pip install stan"
   ]
  },
  {
   "cell_type": "code",
   "execution_count": 1,
   "metadata": {},
   "outputs": [
    {
     "ename": "SyntaxError",
     "evalue": "invalid syntax (<ipython-input-1-7371cf1dfc24>, line 1)",
     "output_type": "error",
     "traceback": [
      "\u001b[1;36m  File \u001b[1;32m\"<ipython-input-1-7371cf1dfc24>\"\u001b[1;36m, line \u001b[1;32m1\u001b[0m\n\u001b[1;33m    python3 -m pip install pystan\u001b[0m\n\u001b[1;37m               ^\u001b[0m\n\u001b[1;31mSyntaxError\u001b[0m\u001b[1;31m:\u001b[0m invalid syntax\n"
     ]
    }
   ],
   "source": [
    "python3 -m pip install pystan"
   ]
  },
  {
   "cell_type": "code",
   "execution_count": 1,
   "metadata": {},
   "outputs": [
    {
     "name": "stdout",
     "output_type": "stream",
     "text": [
      "Requirement already satisfied: statsmodels in c:\\users\\dexte\\anaconda3\\lib\\site-packages (0.12.0)\n",
      "Requirement already satisfied: numpy>=1.15 in c:\\users\\dexte\\anaconda3\\lib\\site-packages (from statsmodels) (1.19.2)\n",
      "Requirement already satisfied: scipy>=1.1 in c:\\users\\dexte\\anaconda3\\lib\\site-packages (from statsmodels) (1.5.2)\n",
      "Requirement already satisfied: pandas>=0.21 in c:\\users\\dexte\\anaconda3\\lib\\site-packages (from statsmodels) (1.1.3)\n",
      "Requirement already satisfied: patsy>=0.5 in c:\\users\\dexte\\anaconda3\\lib\\site-packages (from statsmodels) (0.5.1)\n",
      "Requirement already satisfied: python-dateutil>=2.7.3 in c:\\users\\dexte\\anaconda3\\lib\\site-packages (from pandas>=0.21->statsmodels) (2.8.1)\n",
      "Requirement already satisfied: pytz>=2017.2 in c:\\users\\dexte\\anaconda3\\lib\\site-packages (from pandas>=0.21->statsmodels) (2020.1)\n",
      "Requirement already satisfied: six in c:\\users\\dexte\\anaconda3\\lib\\site-packages (from patsy>=0.5->statsmodels) (1.15.0)\n",
      "Note: you may need to restart the kernel to use updated packages.\n"
     ]
    }
   ],
   "source": [
    "pip install statsmodels"
   ]
  },
  {
   "cell_type": "code",
   "execution_count": 3,
   "metadata": {},
   "outputs": [
    {
     "name": "stdout",
     "output_type": "stream",
     "text": [
      "Requirement already satisfied: pingouin in c:\\users\\dexte\\anaconda3\\lib\\site-packages (0.3.12)\n",
      "Requirement already satisfied: statsmodels>=0.10.0 in c:\\users\\dexte\\anaconda3\\lib\\site-packages (from pingouin) (0.12.0)\n",
      "Requirement already satisfied: numpy>=1.15 in c:\\users\\dexte\\anaconda3\\lib\\site-packages (from pingouin) (1.19.2)\n",
      "Requirement already satisfied: pandas>=0.24 in c:\\users\\dexte\\anaconda3\\lib\\site-packages (from pingouin) (1.1.3)\n",
      "Requirement already satisfied: scikit-learn in c:\\users\\dexte\\anaconda3\\lib\\site-packages (from pingouin) (0.23.2)\n",
      "Requirement already satisfied: outdated in c:\\users\\dexte\\anaconda3\\lib\\site-packages (from pingouin) (0.2.1)\n",
      "Requirement already satisfied: scipy>=1.3 in c:\\users\\dexte\\anaconda3\\lib\\site-packages (from pingouin) (1.5.2)\n",
      "Requirement already satisfied: pandas-flavor>=0.1.2 in c:\\users\\dexte\\anaconda3\\lib\\site-packages (from pingouin) (0.2.0)\n",
      "Requirement already satisfied: seaborn>=0.9.0 in c:\\users\\dexte\\anaconda3\\lib\\site-packages (from pingouin) (0.11.0)\n",
      "Requirement already satisfied: tabulate in c:\\users\\dexte\\anaconda3\\lib\\site-packages (from pingouin) (0.8.9)\n",
      "Requirement already satisfied: matplotlib>=3.0.2 in c:\\users\\dexte\\anaconda3\\lib\\site-packages (from pingouin) (3.3.2)\n",
      "Requirement already satisfied: patsy>=0.5 in c:\\users\\dexte\\anaconda3\\lib\\site-packages (from statsmodels>=0.10.0->pingouin) (0.5.1)\n",
      "Requirement already satisfied: python-dateutil>=2.7.3 in c:\\users\\dexte\\anaconda3\\lib\\site-packages (from pandas>=0.24->pingouin) (2.8.1)\n",
      "Requirement already satisfied: pytz>=2017.2 in c:\\users\\dexte\\anaconda3\\lib\\site-packages (from pandas>=0.24->pingouin) (2020.1)\n",
      "Requirement already satisfied: joblib>=0.11 in c:\\users\\dexte\\anaconda3\\lib\\site-packages (from scikit-learn->pingouin) (0.17.0)\n",
      "Requirement already satisfied: threadpoolctl>=2.0.0 in c:\\users\\dexte\\anaconda3\\lib\\site-packages (from scikit-learn->pingouin) (2.1.0)\n",
      "Requirement already satisfied: littleutils in c:\\users\\dexte\\anaconda3\\lib\\site-packages (from outdated->pingouin) (0.2.2)\n",
      "Requirement already satisfied: requests in c:\\users\\dexte\\anaconda3\\lib\\site-packages (from outdated->pingouin) (2.24.0)\n",
      "Requirement already satisfied: xarray in c:\\users\\dexte\\anaconda3\\lib\\site-packages (from pandas-flavor>=0.1.2->pingouin) (0.18.2)\n",
      "Requirement already satisfied: pillow>=6.2.0 in c:\\users\\dexte\\anaconda3\\lib\\site-packages (from matplotlib>=3.0.2->pingouin) (8.0.1)\n",
      "Requirement already satisfied: cycler>=0.10 in c:\\users\\dexte\\anaconda3\\lib\\site-packages (from matplotlib>=3.0.2->pingouin) (0.10.0)\n",
      "Requirement already satisfied: certifi>=2020.06.20 in c:\\users\\dexte\\anaconda3\\lib\\site-packages (from matplotlib>=3.0.2->pingouin) (2020.6.20)\n",
      "Requirement already satisfied: pyparsing!=2.0.4,!=2.1.2,!=2.1.6,>=2.0.3 in c:\\users\\dexte\\anaconda3\\lib\\site-packages (from matplotlib>=3.0.2->pingouin) (2.4.7)\n",
      "Requirement already satisfied: kiwisolver>=1.0.1 in c:\\users\\dexte\\anaconda3\\lib\\site-packages (from matplotlib>=3.0.2->pingouin) (1.3.0)\n",
      "Requirement already satisfied: six in c:\\users\\dexte\\anaconda3\\lib\\site-packages (from patsy>=0.5->statsmodels>=0.10.0->pingouin) (1.15.0)\n",
      "Requirement already satisfied: idna<3,>=2.5 in c:\\users\\dexte\\anaconda3\\lib\\site-packages (from requests->outdated->pingouin) (2.10)\n",
      "Requirement already satisfied: chardet<4,>=3.0.2 in c:\\users\\dexte\\anaconda3\\lib\\site-packages (from requests->outdated->pingouin) (3.0.4)\n",
      "Requirement already satisfied: urllib3!=1.25.0,!=1.25.1,<1.26,>=1.21.1 in c:\\users\\dexte\\anaconda3\\lib\\site-packages (from requests->outdated->pingouin) (1.25.11)\n",
      "Requirement already satisfied: setuptools>=40.4 in c:\\users\\dexte\\anaconda3\\lib\\site-packages (from xarray->pandas-flavor>=0.1.2->pingouin) (50.3.1.post20201107)\n"
     ]
    }
   ],
   "source": [
    "!pip install pingouin"
   ]
  },
  {
   "cell_type": "code",
   "execution_count": 6,
   "metadata": {},
   "outputs": [
    {
     "name": "stdout",
     "output_type": "stream",
     "text": [
      "Processing c:\\users\\dexte\\appdata\\local\\pip\\cache\\wheels\\ec\\70\\de\\1e3c7a601836488b2cf43111bbf06c569e2a0b8d01b7d727a1\\pingouin-0.4.0-py3-none-any.whlNote: you may need to restart the kernel to use updated packages.\n",
      "Requirement already satisfied, skipping upgrade: statsmodels>=0.12.0 in c:\\users\\dexte\\anaconda3\\lib\\site-packages (from pingouin) (0.12.0)\n",
      "Requirement already satisfied, skipping upgrade: seaborn>=0.9.0 in c:\\users\\dexte\\anaconda3\\lib\\site-packages (from pingouin) (0.11.0)\n",
      "Requirement already satisfied, skipping upgrade: scikit-learn in c:\\users\\dexte\\anaconda3\\lib\\site-packages (from pingouin) (0.23.2)\n",
      "Requirement already satisfied, skipping upgrade: pandas-flavor>=0.2.0 in c:\\users\\dexte\\anaconda3\\lib\\site-packages (from pingouin) (0.2.0)\n",
      "Requirement already satisfied, skipping upgrade: matplotlib>=3.0.2 in c:\\users\\dexte\\anaconda3\\lib\\site-packages (from pingouin) (3.3.2)\n",
      "Requirement already satisfied, skipping upgrade: numpy>=1.19 in c:\\users\\dexte\\anaconda3\\lib\\site-packages (from pingouin) (1.19.2)\n",
      "Requirement already satisfied, skipping upgrade: tabulate in c:\\users\\dexte\\anaconda3\\lib\\site-packages (from pingouin) (0.8.9)\n",
      "Requirement already satisfied, skipping upgrade: scipy>=1.7 in c:\\users\\dexte\\anaconda3\\lib\\site-packages (from pingouin) (1.7.1)\n",
      "Requirement already satisfied, skipping upgrade: outdated in c:\\users\\dexte\\anaconda3\\lib\\site-packages (from pingouin) (0.2.1)\n",
      "Requirement already satisfied, skipping upgrade: pandas>=1.0 in c:\\users\\dexte\\anaconda3\\lib\\site-packages (from pingouin) (1.1.3)\n",
      "Requirement already satisfied, skipping upgrade: patsy>=0.5 in c:\\users\\dexte\\anaconda3\\lib\\site-packages (from statsmodels>=0.12.0->pingouin) (0.5.1)\n",
      "Requirement already satisfied, skipping upgrade: joblib>=0.11 in c:\\users\\dexte\\anaconda3\\lib\\site-packages (from scikit-learn->pingouin) (0.17.0)\n",
      "Requirement already satisfied, skipping upgrade: threadpoolctl>=2.0.0 in c:\\users\\dexte\\anaconda3\\lib\\site-packages (from scikit-learn->pingouin) (2.1.0)\n",
      "Requirement already satisfied, skipping upgrade: xarray in c:\\users\\dexte\\anaconda3\\lib\\site-packages (from pandas-flavor>=0.2.0->pingouin) (0.18.2)\n",
      "Requirement already satisfied, skipping upgrade: cycler>=0.10 in c:\\users\\dexte\\anaconda3\\lib\\site-packages (from matplotlib>=3.0.2->pingouin) (0.10.0)\n",
      "Requirement already satisfied, skipping upgrade: kiwisolver>=1.0.1 in c:\\users\\dexte\\anaconda3\\lib\\site-packages (from matplotlib>=3.0.2->pingouin) (1.3.0)\n",
      "Requirement already satisfied, skipping upgrade: certifi>=2020.06.20 in c:\\users\\dexte\\anaconda3\\lib\\site-packages (from matplotlib>=3.0.2->pingouin) (2020.6.20)\n",
      "Requirement already satisfied, skipping upgrade: pyparsing!=2.0.4,!=2.1.2,!=2.1.6,>=2.0.3 in c:\\users\\dexte\\anaconda3\\lib\\site-packages (from matplotlib>=3.0.2->pingouin) (2.4.7)\n",
      "Requirement already satisfied, skipping upgrade: pillow>=6.2.0 in c:\\users\\dexte\\anaconda3\\lib\\site-packages (from matplotlib>=3.0.2->pingouin) (8.0.1)\n",
      "Requirement already satisfied, skipping upgrade: python-dateutil>=2.1 in c:\\users\\dexte\\anaconda3\\lib\\site-packages (from matplotlib>=3.0.2->pingouin) (2.8.1)\n",
      "Requirement already satisfied, skipping upgrade: littleutils in c:\\users\\dexte\\anaconda3\\lib\\site-packages (from outdated->pingouin) (0.2.2)\n",
      "Requirement already satisfied, skipping upgrade: requests in c:\\users\\dexte\\anaconda3\\lib\\site-packages (from outdated->pingouin) (2.24.0)\n",
      "Requirement already satisfied, skipping upgrade: pytz>=2017.2 in c:\\users\\dexte\\anaconda3\\lib\\site-packages (from pandas>=1.0->pingouin) (2020.1)\n",
      "Requirement already satisfied, skipping upgrade: six in c:\\users\\dexte\\anaconda3\\lib\\site-packages (from patsy>=0.5->statsmodels>=0.12.0->pingouin) (1.15.0)\n",
      "Requirement already satisfied, skipping upgrade: setuptools>=40.4 in c:\\users\\dexte\\anaconda3\\lib\\site-packages (from xarray->pandas-flavor>=0.2.0->pingouin) (50.3.1.post20201107)\n",
      "Requirement already satisfied, skipping upgrade: idna<3,>=2.5 in c:\\users\\dexte\\anaconda3\\lib\\site-packages (from requests->outdated->pingouin) (2.10)\n",
      "Requirement already satisfied, skipping upgrade: urllib3!=1.25.0,!=1.25.1,<1.26,>=1.21.1 in c:\\users\\dexte\\anaconda3\\lib\\site-packages (from requests->outdated->pingouin) (1.25.11)\n",
      "Requirement already satisfied, skipping upgrade: chardet<4,>=3.0.2 in c:\\users\\dexte\\anaconda3\\lib\\site-packages (from requests->outdated->pingouin) (3.0.4)\n",
      "Installing collected packages: pingouin\n",
      "Successfully installed pingouin-0.4.0\n",
      "\n"
     ]
    }
   ],
   "source": [
    "pip install --user --upgrade pingouin"
   ]
  },
  {
   "cell_type": "code",
   "execution_count": 1,
   "metadata": {},
   "outputs": [
    {
     "name": "stdout",
     "output_type": "stream",
     "text": [
      "Collecting pymc3Note: you may need to restart the kernel to use updated packages.\n",
      "\n",
      "  Downloading pymc3-3.11.2-py3-none-any.whl (869 kB)\n",
      "Collecting semver\n",
      "  Downloading semver-2.13.0-py2.py3-none-any.whl (12 kB)\n",
      "Requirement already satisfied: typing-extensions>=3.7.4 in c:\\users\\dexte\\anaconda3\\lib\\site-packages (from pymc3) (3.7.4.3)\n",
      "Requirement already satisfied: arviz>=0.11.0 in c:\\users\\dexte\\anaconda3\\lib\\site-packages (from pymc3) (0.11.2)\n",
      "Requirement already satisfied: patsy>=0.5.1 in c:\\users\\dexte\\anaconda3\\lib\\site-packages (from pymc3) (0.5.1)\n",
      "Collecting theano-pymc==1.1.2\n",
      "  Downloading Theano-PyMC-1.1.2.tar.gz (1.8 MB)\n",
      "Collecting fastprogress>=0.2.0\n",
      "  Downloading fastprogress-1.0.0-py3-none-any.whl (12 kB)\n",
      "Requirement already satisfied: pandas>=0.24.0 in c:\\users\\dexte\\anaconda3\\lib\\site-packages (from pymc3) (1.1.3)\n",
      "Requirement already satisfied: scipy>=1.2.0 in c:\\users\\dexte\\anaconda3\\lib\\site-packages (from pymc3) (1.5.2)\n",
      "Collecting cachetools>=4.2.1\n",
      "  Downloading cachetools-4.2.2-py3-none-any.whl (11 kB)\n",
      "Requirement already satisfied: numpy>=1.15.0 in c:\\users\\dexte\\anaconda3\\lib\\site-packages (from pymc3) (1.19.2)\n",
      "Collecting dill\n",
      "  Downloading dill-0.3.4-py2.py3-none-any.whl (86 kB)\n",
      "Requirement already satisfied: matplotlib>=3.0 in c:\\users\\dexte\\anaconda3\\lib\\site-packages (from arviz>=0.11.0->pymc3) (3.3.2)\n",
      "Requirement already satisfied: xarray>=0.16.1 in c:\\users\\dexte\\anaconda3\\lib\\site-packages (from arviz>=0.11.0->pymc3) (0.18.2)\n",
      "Requirement already satisfied: netcdf4 in c:\\users\\dexte\\anaconda3\\lib\\site-packages (from arviz>=0.11.0->pymc3) (1.5.3)\n",
      "Requirement already satisfied: setuptools>=38.4 in c:\\users\\dexte\\anaconda3\\lib\\site-packages (from arviz>=0.11.0->pymc3) (50.3.1.post20201107)\n",
      "Requirement already satisfied: packaging in c:\\users\\dexte\\anaconda3\\lib\\site-packages (from arviz>=0.11.0->pymc3) (20.4)\n",
      "Requirement already satisfied: six in c:\\users\\dexte\\anaconda3\\lib\\site-packages (from patsy>=0.5.1->pymc3) (1.15.0)\n",
      "Requirement already satisfied: filelock in c:\\users\\dexte\\anaconda3\\lib\\site-packages (from theano-pymc==1.1.2->pymc3) (3.0.12)\n",
      "Requirement already satisfied: python-dateutil>=2.7.3 in c:\\users\\dexte\\anaconda3\\lib\\site-packages (from pandas>=0.24.0->pymc3) (2.8.1)\n",
      "Requirement already satisfied: pytz>=2017.2 in c:\\users\\dexte\\anaconda3\\lib\\site-packages (from pandas>=0.24.0->pymc3) (2020.1)\n",
      "Requirement already satisfied: certifi>=2020.06.20 in c:\\users\\dexte\\anaconda3\\lib\\site-packages (from matplotlib>=3.0->arviz>=0.11.0->pymc3) (2020.6.20)\n",
      "Requirement already satisfied: cycler>=0.10 in c:\\users\\dexte\\anaconda3\\lib\\site-packages (from matplotlib>=3.0->arviz>=0.11.0->pymc3) (0.10.0)\n",
      "Requirement already satisfied: kiwisolver>=1.0.1 in c:\\users\\dexte\\anaconda3\\lib\\site-packages (from matplotlib>=3.0->arviz>=0.11.0->pymc3) (1.3.0)\n",
      "Requirement already satisfied: pyparsing!=2.0.4,!=2.1.2,!=2.1.6,>=2.0.3 in c:\\users\\dexte\\anaconda3\\lib\\site-packages (from matplotlib>=3.0->arviz>=0.11.0->pymc3) (2.4.7)\n",
      "Requirement already satisfied: pillow>=6.2.0 in c:\\users\\dexte\\anaconda3\\lib\\site-packages (from matplotlib>=3.0->arviz>=0.11.0->pymc3) (8.0.1)\n",
      "Requirement already satisfied: cftime in c:\\users\\dexte\\anaconda3\\lib\\site-packages (from netcdf4->arviz>=0.11.0->pymc3) (1.5.0)\n",
      "Building wheels for collected packages: theano-pymc\n",
      "  Building wheel for theano-pymc (setup.py): started\n",
      "  Building wheel for theano-pymc (setup.py): finished with status 'done'\n",
      "  Created wheel for theano-pymc: filename=Theano_PyMC-1.1.2-py3-none-any.whl size=1529964 sha256=528897e591ee1829cedb6a675174a9bac1b4a9453e4bf3f6b6222ff7a90549c1\n",
      "  Stored in directory: c:\\users\\dexte\\appdata\\local\\pip\\cache\\wheels\\0e\\41\\d2\\82c7b771236f987def7fe2e51855cce22b270327f3fedec57c\n",
      "Successfully built theano-pymc\n",
      "Installing collected packages: semver, theano-pymc, fastprogress, cachetools, dill, pymc3\n",
      "Successfully installed cachetools-4.2.2 dill-0.3.4 fastprogress-1.0.0 pymc3-3.11.2 semver-2.13.0 theano-pymc-1.1.2\n"
     ]
    }
   ],
   "source": [
    "pip install pymc3"
   ]
  },
  {
   "cell_type": "code",
   "execution_count": 7,
   "metadata": {},
   "outputs": [
    {
     "name": "stdout",
     "output_type": "stream",
     "text": [
      "Note: you may need to restart the kernel to use updated packages.\n"
     ]
    },
    {
     "name": "stderr",
     "output_type": "stream",
     "text": [
      "ERROR: After October 2020 you may experience errors when installing or updating packages. This is because pip will change the way that it resolves dependency conflicts.\n",
      "\n",
      "We recommend you use --use-feature=2020-resolver to test your packages with the new resolver before it becomes the default.\n",
      "\n",
      "panel 0.12.1 requires bokeh<2.4.0,>=2.3.0, but you'll have bokeh 2.2.3 which is incompatible.\n"
     ]
    },
    {
     "name": "stdout",
     "output_type": "stream",
     "text": [
      "Collecting bebi103\n",
      "  Downloading bebi103-0.1.8-py2.py3-none-any.whl (97 kB)\n",
      "Requirement already satisfied, skipping upgrade: bokeh in c:\\users\\dexte\\anaconda3\\lib\\site-packages (from bebi103) (2.2.3)\n",
      "Requirement already satisfied, skipping upgrade: scipy in c:\\users\\dexte\\anaconda3\\lib\\site-packages (from bebi103) (1.7.1)\n",
      "Requirement already satisfied, skipping upgrade: tqdm in c:\\users\\dexte\\anaconda3\\lib\\site-packages (from bebi103) (4.50.2)\n",
      "Requirement already satisfied, skipping upgrade: pandas in c:\\users\\dexte\\anaconda3\\lib\\site-packages (from bebi103) (1.1.3)\n",
      "Requirement already satisfied, skipping upgrade: numpy in c:\\users\\dexte\\anaconda3\\lib\\site-packages (from bebi103) (1.19.2)\n",
      "Collecting holoviews\n",
      "  Downloading holoviews-1.14.5-py3-none-any.whl (4.3 MB)\n",
      "Collecting cmdstanpy>=0.9.68\n",
      "  Downloading cmdstanpy-0.9.77-py3-none-any.whl (56 kB)\n",
      "Requirement already satisfied, skipping upgrade: matplotlib in c:\\users\\dexte\\anaconda3\\lib\\site-packages (from bebi103) (3.3.2)\n",
      "Collecting arviz==0.11.1\n",
      "  Downloading arviz-0.11.1-py3-none-any.whl (1.5 MB)\n",
      "Requirement already satisfied, skipping upgrade: numba in c:\\users\\dexte\\anaconda3\\lib\\site-packages (from bebi103) (0.51.2)\n",
      "Requirement already satisfied, skipping upgrade: xarray in c:\\users\\dexte\\anaconda3\\lib\\site-packages (from bebi103) (0.18.2)\n",
      "Collecting colorcet\n",
      "  Downloading colorcet-2.0.6-py2.py3-none-any.whl (1.6 MB)\n",
      "Requirement already satisfied, skipping upgrade: Jinja2>=2.7 in c:\\users\\dexte\\anaconda3\\lib\\site-packages (from bokeh->bebi103) (2.11.2)\n",
      "Requirement already satisfied, skipping upgrade: typing-extensions>=3.7.4 in c:\\users\\dexte\\anaconda3\\lib\\site-packages (from bokeh->bebi103) (3.7.4.3)\n",
      "Requirement already satisfied, skipping upgrade: pillow>=7.1.0 in c:\\users\\dexte\\anaconda3\\lib\\site-packages (from bokeh->bebi103) (8.0.1)\n",
      "Requirement already satisfied, skipping upgrade: PyYAML>=3.10 in c:\\users\\dexte\\anaconda3\\lib\\site-packages (from bokeh->bebi103) (5.3.1)\n",
      "Requirement already satisfied, skipping upgrade: packaging>=16.8 in c:\\users\\dexte\\anaconda3\\lib\\site-packages (from bokeh->bebi103) (20.4)\n",
      "Requirement already satisfied, skipping upgrade: python-dateutil>=2.1 in c:\\users\\dexte\\anaconda3\\lib\\site-packages (from bokeh->bebi103) (2.8.1)\n",
      "Requirement already satisfied, skipping upgrade: tornado>=5.1 in c:\\users\\dexte\\anaconda3\\lib\\site-packages (from bokeh->bebi103) (6.1)\n",
      "Requirement already satisfied, skipping upgrade: pytz>=2017.2 in c:\\users\\dexte\\anaconda3\\lib\\site-packages (from pandas->bebi103) (2020.1)\n",
      "Collecting pyviz-comms>=0.7.4\n",
      "  Downloading pyviz_comms-2.1.0-py2.py3-none-any.whl (40 kB)\n",
      "Collecting panel>=0.8.0\n",
      "  Downloading panel-0.12.1-py2.py3-none-any.whl (12.8 MB)\n",
      "Collecting param<2.0,>=1.9.3\n",
      "  Downloading param-1.11.1-py2.py3-none-any.whl (79 kB)\n",
      "Requirement already satisfied, skipping upgrade: ujson in c:\\users\\dexte\\anaconda3\\lib\\site-packages (from cmdstanpy>=0.9.68->bebi103) (4.0.1)\n",
      "Requirement already satisfied, skipping upgrade: cycler>=0.10 in c:\\users\\dexte\\anaconda3\\lib\\site-packages (from matplotlib->bebi103) (0.10.0)\n",
      "Requirement already satisfied, skipping upgrade: kiwisolver>=1.0.1 in c:\\users\\dexte\\anaconda3\\lib\\site-packages (from matplotlib->bebi103) (1.3.0)\n",
      "Requirement already satisfied, skipping upgrade: pyparsing!=2.0.4,!=2.1.2,!=2.1.6,>=2.0.3 in c:\\users\\dexte\\anaconda3\\lib\\site-packages (from matplotlib->bebi103) (2.4.7)\n",
      "Requirement already satisfied, skipping upgrade: certifi>=2020.06.20 in c:\\users\\dexte\\anaconda3\\lib\\site-packages (from matplotlib->bebi103) (2020.6.20)\n",
      "Requirement already satisfied, skipping upgrade: setuptools>=38.4 in c:\\users\\dexte\\anaconda3\\lib\\site-packages (from arviz==0.11.1->bebi103) (50.3.1.post20201107)\n",
      "Requirement already satisfied, skipping upgrade: netcdf4 in c:\\users\\dexte\\anaconda3\\lib\\site-packages (from arviz==0.11.1->bebi103) (1.5.3)\n",
      "Requirement already satisfied, skipping upgrade: llvmlite<0.35,>=0.34.0.dev0 in c:\\users\\dexte\\anaconda3\\lib\\site-packages (from numba->bebi103) (0.34.0)\n",
      "Collecting pyct>=0.4.4\n",
      "  Downloading pyct-0.4.8-py2.py3-none-any.whl (15 kB)\n",
      "Requirement already satisfied, skipping upgrade: MarkupSafe>=0.23 in c:\\users\\dexte\\anaconda3\\lib\\site-packages (from Jinja2>=2.7->bokeh->bebi103) (1.1.1)\n",
      "Requirement already satisfied, skipping upgrade: six in c:\\users\\dexte\\anaconda3\\lib\\site-packages (from packaging>=16.8->bokeh->bebi103) (1.15.0)\n",
      "Requirement already satisfied, skipping upgrade: requests in c:\\users\\dexte\\anaconda3\\lib\\site-packages (from panel>=0.8.0->holoviews->bebi103) (2.24.0)\n",
      "Collecting markdown\n",
      "  Downloading Markdown-3.3.4-py3-none-any.whl (97 kB)\n",
      "Requirement already satisfied, skipping upgrade: bleach in c:\\users\\dexte\\anaconda3\\lib\\site-packages (from panel>=0.8.0->holoviews->bebi103) (3.2.1)\n",
      "Requirement already satisfied, skipping upgrade: cftime in c:\\users\\dexte\\anaconda3\\lib\\site-packages (from netcdf4->arviz==0.11.1->bebi103) (1.5.0)\n",
      "Requirement already satisfied, skipping upgrade: urllib3!=1.25.0,!=1.25.1,<1.26,>=1.21.1 in c:\\users\\dexte\\anaconda3\\lib\\site-packages (from requests->panel>=0.8.0->holoviews->bebi103) (1.25.11)\n",
      "Requirement already satisfied, skipping upgrade: idna<3,>=2.5 in c:\\users\\dexte\\anaconda3\\lib\\site-packages (from requests->panel>=0.8.0->holoviews->bebi103) (2.10)\n",
      "Requirement already satisfied, skipping upgrade: chardet<4,>=3.0.2 in c:\\users\\dexte\\anaconda3\\lib\\site-packages (from requests->panel>=0.8.0->holoviews->bebi103) (3.0.4)\n",
      "Requirement already satisfied, skipping upgrade: webencodings in c:\\users\\dexte\\anaconda3\\lib\\site-packages (from bleach->panel>=0.8.0->holoviews->bebi103) (0.5.1)\n",
      "Installing collected packages: param, pyviz-comms, markdown, pyct, panel, colorcet, holoviews, cmdstanpy, arviz, bebi103\n",
      "  Attempting uninstall: arviz\n",
      "    Found existing installation: arviz 0.11.2\n",
      "    Uninstalling arviz-0.11.2:\n",
      "      Successfully uninstalled arviz-0.11.2\n",
      "Successfully installed arviz-0.11.1 bebi103-0.1.8 cmdstanpy-0.9.77 colorcet-2.0.6 holoviews-1.14.5 markdown-3.3.4 panel-0.12.1 param-1.11.1 pyct-0.4.8 pyviz-comms-2.1.0\n"
     ]
    }
   ],
   "source": [
    "pip install --upgrade bebi103"
   ]
  },
  {
   "cell_type": "code",
   "execution_count": null,
   "metadata": {},
   "outputs": [],
   "source": []
  }
 ],
 "metadata": {
  "kernelspec": {
   "display_name": "Python 3",
   "language": "python",
   "name": "python3"
  },
  "language_info": {
   "codemirror_mode": {
    "name": "ipython",
    "version": 3
   },
   "file_extension": ".py",
   "mimetype": "text/x-python",
   "name": "python",
   "nbconvert_exporter": "python",
   "pygments_lexer": "ipython3",
   "version": "3.8.5"
  }
 },
 "nbformat": 4,
 "nbformat_minor": 4
}
