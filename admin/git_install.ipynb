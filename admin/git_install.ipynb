{
 "cells": [
  {
   "cell_type": "markdown",
   "metadata": {},
   "source": [
    "This notebook is for downloading softwares and packages \n",
    "\n",
    "This notebook is no longer used, as softwares and packages can be downloaded permanently and more efficiently using the anaconda3 prompt (using conda-forge) "
   ]
  },
  {
   "cell_type": "code",
   "execution_count": null,
   "metadata": {},
   "outputs": [],
   "source": [
    "conda install -c conda-forge jupyterlab jupyterlab-git"
   ]
  },
  {
   "cell_type": "code",
   "execution_count": null,
   "metadata": {},
   "outputs": [],
   "source": [
    "import sys\n",
    "!conda install --yes --prefix {sys.prefix} numpy"
   ]
  },
  {
   "cell_type": "code",
   "execution_count": null,
   "metadata": {},
   "outputs": [],
   "source": [
    "import sys\n",
    "!conda install --yes --prefix {sys.prefix} pandas"
   ]
  },
  {
   "cell_type": "code",
   "execution_count": null,
   "metadata": {},
   "outputs": [],
   "source": [
    "import sys\n",
    "!conda install --yes --prefix {sys.prefix} matplotlib scipy"
   ]
  },
  {
   "cell_type": "code",
   "execution_count": null,
   "metadata": {},
   "outputs": [],
   "source": [
    "import sys \n",
    "!conda install -c conda-forge r-rstan"
   ]
  },
  {
   "cell_type": "code",
   "execution_count": 1,
   "metadata": {},
   "outputs": [
    {
     "name": "stdout",
     "output_type": "stream",
     "text": [
      "Collecting pystanNote: you may need to restart the kernel to use updated packages.\n",
      "\n"
     ]
    },
    {
     "name": "stderr",
     "output_type": "stream",
     "text": [
      "ERROR: Could not find a version that satisfies the requirement httpstan<4.6,>=4.5 (from pystan) (from versions: 0.2.5, 0.3.0, 0.3.1, 0.4.0, 0.5.0, 0.6.0, 0.7.2, 0.7.3, 0.7.5, 0.7.6, 0.8.0, 0.9.0, 0.10.1)\n",
      "ERROR: No matching distribution found for httpstan<4.6,>=4.5 (from pystan)\n"
     ]
    },
    {
     "name": "stdout",
     "output_type": "stream",
     "text": [
      "  Downloading pystan-3.2.0-py3-none-any.whl (13 kB)\n",
      "Collecting pysimdjson<4.0,>=3.2\n",
      "  Downloading pysimdjson-3.2.0-cp38-cp38-win_amd64.whl (151 kB)\n"
     ]
    }
   ],
   "source": [
    "pip install pystan"
   ]
  },
  {
   "cell_type": "code",
   "execution_count": 1,
   "metadata": {},
   "outputs": [
    {
     "name": "stdout",
     "output_type": "stream",
     "text": [
      "Collecting stanNote: you may need to restart the kernel to use updated packages.\n",
      "  Downloading stan-1.0.tar.gz (717 bytes)\n",
      "Building wheels for collected packages: stan\n",
      "  Building wheel for stan (setup.py): started\n",
      "  Building wheel for stan (setup.py): finished with status 'error'\n",
      "  Running setup.py clean for stan\n",
      "Failed to build stan\n",
      "Installing collected packages: stan\n",
      "    Running setup.py install for stan: started\n",
      "    Running setup.py install for stan: finished with status 'error'\n",
      "\n"
     ]
    },
    {
     "name": "stderr",
     "output_type": "stream",
     "text": [
      "  ERROR: Command errored out with exit status 1:\n",
      "   command: 'C:\\Users\\dexte\\anaconda3\\python.exe' -u -c 'import sys, setuptools, tokenize; sys.argv[0] = '\"'\"'C:\\\\Users\\\\dexte\\\\AppData\\\\Local\\\\Temp\\\\pip-install-15ag_szr\\\\stan\\\\setup.py'\"'\"'; __file__='\"'\"'C:\\\\Users\\\\dexte\\\\AppData\\\\Local\\\\Temp\\\\pip-install-15ag_szr\\\\stan\\\\setup.py'\"'\"';f=getattr(tokenize, '\"'\"'open'\"'\"', open)(__file__);code=f.read().replace('\"'\"'\\r\\n'\"'\"', '\"'\"'\\n'\"'\"');f.close();exec(compile(code, __file__, '\"'\"'exec'\"'\"'))' bdist_wheel -d 'C:\\Users\\dexte\\AppData\\Local\\Temp\\pip-wheel-jsu6_7v8'\n",
      "       cwd: C:\\Users\\dexte\\AppData\\Local\\Temp\\pip-install-15ag_szr\\stan\\\n",
      "  Complete output (5 lines):\n",
      "  Traceback (most recent call last):\n",
      "    File \"<string>\", line 1, in <module>\n",
      "    File \"C:\\Users\\dexte\\AppData\\Local\\Temp\\pip-install-15ag_szr\\stan\\setup.py\", line 13, in <module>\n",
      "      raise Exception(message)\n",
      "  Exception: You tried to install \"stan\". The package for PyStan is named \"pystan\".\n",
      "  ----------------------------------------\n",
      "  ERROR: Failed building wheel for stan\n",
      "    ERROR: Command errored out with exit status 1:\n",
      "     command: 'C:\\Users\\dexte\\anaconda3\\python.exe' -u -c 'import sys, setuptools, tokenize; sys.argv[0] = '\"'\"'C:\\\\Users\\\\dexte\\\\AppData\\\\Local\\\\Temp\\\\pip-install-15ag_szr\\\\stan\\\\setup.py'\"'\"'; __file__='\"'\"'C:\\\\Users\\\\dexte\\\\AppData\\\\Local\\\\Temp\\\\pip-install-15ag_szr\\\\stan\\\\setup.py'\"'\"';f=getattr(tokenize, '\"'\"'open'\"'\"', open)(__file__);code=f.read().replace('\"'\"'\\r\\n'\"'\"', '\"'\"'\\n'\"'\"');f.close();exec(compile(code, __file__, '\"'\"'exec'\"'\"'))' install --record 'C:\\Users\\dexte\\AppData\\Local\\Temp\\pip-record-imhbkxli\\install-record.txt' --single-version-externally-managed --compile --install-headers 'C:\\Users\\dexte\\anaconda3\\Include\\stan'\n",
      "         cwd: C:\\Users\\dexte\\AppData\\Local\\Temp\\pip-install-15ag_szr\\stan\\\n",
      "    Complete output (5 lines):\n",
      "    Traceback (most recent call last):\n",
      "      File \"<string>\", line 1, in <module>\n",
      "      File \"C:\\Users\\dexte\\AppData\\Local\\Temp\\pip-install-15ag_szr\\stan\\setup.py\", line 9, in <module>\n",
      "        raise Exception(message)\n",
      "    Exception: You tried to install \"stan\". The package for PyStan is named \"pystan\".\n",
      "    ----------------------------------------\n",
      "ERROR: Command errored out with exit status 1: 'C:\\Users\\dexte\\anaconda3\\python.exe' -u -c 'import sys, setuptools, tokenize; sys.argv[0] = '\"'\"'C:\\\\Users\\\\dexte\\\\AppData\\\\Local\\\\Temp\\\\pip-install-15ag_szr\\\\stan\\\\setup.py'\"'\"'; __file__='\"'\"'C:\\\\Users\\\\dexte\\\\AppData\\\\Local\\\\Temp\\\\pip-install-15ag_szr\\\\stan\\\\setup.py'\"'\"';f=getattr(tokenize, '\"'\"'open'\"'\"', open)(__file__);code=f.read().replace('\"'\"'\\r\\n'\"'\"', '\"'\"'\\n'\"'\"');f.close();exec(compile(code, __file__, '\"'\"'exec'\"'\"'))' install --record 'C:\\Users\\dexte\\AppData\\Local\\Temp\\pip-record-imhbkxli\\install-record.txt' --single-version-externally-managed --compile --install-headers 'C:\\Users\\dexte\\anaconda3\\Include\\stan' Check the logs for full command output.\n"
     ]
    }
   ],
   "source": [
    "pip install stan"
   ]
  },
  {
   "cell_type": "code",
   "execution_count": null,
   "metadata": {},
   "outputs": [],
   "source": []
  }
 ],
 "metadata": {
  "kernelspec": {
   "display_name": "Python 3",
   "language": "python",
   "name": "python3"
  },
  "language_info": {
   "codemirror_mode": {
    "name": "ipython",
    "version": 3
   },
   "file_extension": ".py",
   "mimetype": "text/x-python",
   "name": "python",
   "nbconvert_exporter": "python",
   "pygments_lexer": "ipython3",
   "version": "3.8.5"
  }
 },
 "nbformat": 4,
 "nbformat_minor": 4
}
