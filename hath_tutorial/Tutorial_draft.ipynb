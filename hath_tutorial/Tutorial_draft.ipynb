{
 "cells": [
  {
   "cell_type": "markdown",
   "metadata": {},
   "source": [
    "# MEDPC Data Tutorial\n",
    "\n",
    "**About:** The purpose of this tutorial is to tidy and plot data. \n",
    "\n",
    "**Contact:**\n",
    "* Dexter Kim: dexterkim2000@gmail.com\n",
    "* Brett Hathaway: bretthathaway@psych.ubc.ca\n",
    "\n",
    "**Requirements**\n",
    "* The data must be an excel file from MEDPC2XL (trial by trial data) \n",
    "* The data, rgt_functions.py file, and this notebook must be in your current working directory\n",
    "\n",
    "**Note: This tutorial is split into multiple sections**\n",
    "* Section 1: Loading Data into Python \n",
    "* Section 2: Acquisition Analysis and Plotting*\n",
    "* Section 3: Latin Square Analysis and Plotting*\n",
    "* Section 4: Miscellaneous (optional)\n",
    "\n",
    "*Depending on your data, you should only have to complete one of section 2 and 3\n",
    "\n",
    "**Please run the following cell!**"
   ]
  },
  {
   "cell_type": "code",
   "execution_count": null,
   "metadata": {},
   "outputs": [],
   "source": [
    "%load_ext autoreload\n",
    "%autoreload 2"
   ]
  },
  {
   "cell_type": "code",
   "execution_count": null,
   "metadata": {},
   "outputs": [],
   "source": [
    "#MEDPC rat gambling task functions imports, will print \"I am being executed!\" if functional\n",
    "import rgt_functions as rgt\n",
    "\n",
    "#main imports \n",
    "import os\n",
    "import pandas as pd\n",
    "import numpy as np\n",
    "\n",
    "# plotting imports \n",
    "import matplotlib.pyplot as plt\n",
    "from matplotlib.ticker import MaxNLocator\n",
    "\n",
    "# stats imports \n",
    "import scipy.stats as stats\n",
    "\n",
    "#the following line prevents pandas from giving unecessary errors \n",
    "pd.options.mode.chained_assignment = None"
   ]
  },
  {
   "cell_type": "markdown",
   "metadata": {},
   "source": [
    "***\n",
    "# 1) Load data into Python\n",
    "* Assign the names of the files that you want to analyze to `file_names`\n",
    "* `load_data()` outputs a table similar to the excel sheet(s) you loaded in. (in the order established in `file_names`) \n",
    "    * note: `df` means dataframe, and is an object that will store your dataframe (table containing your data) \n",
    "* passing `reset_sessions = True` ###makes the session numbers start from 1 again (you may want to do this for baseline analysis)\n",
    "* `load_multiple_data()` ###loads in multiple cohorts (with the same subject numbers) and assigns them unique subject numbers (ex. subject 1 of cohort 1 --> subject 101) "
   ]
  },
  {
   "cell_type": "code",
   "execution_count": null,
   "metadata": {},
   "outputs": [],
   "source": [
    "file_names = ['BH06_raw_round1-infusions.xlsx', 'BH06_raw_round1-makeup.xlsx'] \n",
    "\n",
    "df = rgt.load_data(file_names)\n",
    "\n",
    "#load_data won't output a dataframe itself. Use the following function to view the top of your dataframe. Note: it should look the exact same as your first excel file. \n",
    "\n",
    "df.head()"
   ]
  },
  {
   "cell_type": "markdown",
   "metadata": {},
   "source": [
    "***\n",
    "# 2A) Acquisition Analysis Section (Analysis by Session)\n",
    "\n",
    "**Please Note! If you are trying to do Latin Square Analysis, skip section 2A and 2B and finish section 3A and 3B**\n",
    "\n",
    "Set your objects! These will be used in the rest of section 2A and 2B. Examples are left in for clarity\n",
    "* Assign the names of the control and experimental group **in order** to `group_names`\n",
    "* Assign the title of the figures to `title`\n",
    "* Assign the range of sessions you want to analyze to `startsess` and `endsess`\n",
    "* Assign the names of the control and experimental group **in order** to `group_names`### as a dictionary \n",
    "* Assign the rat subject numbers to `exp_group` and `control_group`"
   ]
  },
  {
   "cell_type": "code",
   "execution_count": null,
   "metadata": {},
   "outputs": [],
   "source": [
    "group_names = ['Tg negative','Tg positive'] \n",
    "\n",
    "title = 'Nigrostriatal activation during acquisition' \n",
    "startsess = 29 #first session in this dataset\n",
    "endsess = 30 #last session in this dataset\n",
    "\n",
    "group_names_2 = {0: 'tg negative',\n",
    "              1: 'tg positive'} \n",
    "\n",
    "exp_group = [1, 2, 7, 8, 11, 12, 16, 19, 20, 21, 22, 25, 26, 29, 32] #Tg positive\n",
    "\n",
    "control_group = [3, 4, 5, 6, 9, 13, 14, 15, 17, 18, 23, 24, 27, 28, 30, 31] #Tg negative"
   ]
  },
  {
   "cell_type": "markdown",
   "metadata": {},
   "source": [
    "**Check your session data**\n",
    "* `check_sessions` gives us a summary for each rat (subject) including session numbers, session dates and # trials for each session.\n",
    "* This allows us to see if there are any missing/incorrect session numbers, and if MED-PC exported all of the desired data into the Excel file you loaded in (`file_names`).  "
   ]
  },
  {
   "cell_type": "code",
   "execution_count": null,
   "metadata": {},
   "outputs": [],
   "source": [
    "rgt.check_sessions(df)"
   ]
  },
  {
   "cell_type": "markdown",
   "metadata": {},
   "source": [
    "**To drop/edit data from certain session(s)**\n",
    "* In `rgt.drop_sessions`, write the `session_num` with the session number data you want to remove\n",
    "    * For example, to remove all data from session 28 and 29, I would write: `rgt.drop_sessions(df, [28, 29])`\n",
    "    * **Make sure to remove the correct session(s)**, if you remove the wrong session and want to put the data back, you'll have to restart the Kernel and restart from `load_data`\n",
    "    * Requirement: session number must exist in the session column of df\n",
    "    \n",
    "    \n",
    "* In `rgt.edit_sessions`, write the original session numbers you want to remove, and the numbers you want to replace them with, in the correct order \n",
    "    * For example, to change **all** 30s to 29s, and 31s to 30s, I would write: `rgt.edit_sessions(df2, [30, 31], [29, 30], subs = \"all\")`\n",
    "    * If you want to make edits, **for certain subjects**, I would assign `subs` to the subject numbers. For example, I would write `subs = [17, 21]\n"
   ]
  },
  {
   "cell_type": "code",
   "execution_count": null,
   "metadata": {},
   "outputs": [],
   "source": [
    "# rgt.drop_sessions(df, session_num) \n",
    "#needs to be assigned to new object\n",
    "df2 = rgt.drop_sessions(df, [28])"
   ]
  },
  {
   "cell_type": "code",
   "execution_count": null,
   "metadata": {},
   "outputs": [],
   "source": [
    "# rgt.edit_sessions(df2, [30, 31], [29, 30], subs = \"all\")"
   ]
  },
  {
   "cell_type": "markdown",
   "metadata": {},
   "source": [
    "**Check that you dropped/edited the desired session(s)**"
   ]
  },
  {
   "cell_type": "code",
   "execution_count": null,
   "metadata": {},
   "outputs": [],
   "source": [
    "rgt.check_sessions(df2) #df2"
   ]
  },
  {
   "cell_type": "markdown",
   "metadata": {},
   "source": [
    "**Run the following cell to acquire a summary of your data.**\n",
    "\n",
    "The rows represent subjects (rats 1 to n)\n",
    "\n",
    "The columns are explained below:\n",
    "* `##P#` represents the percent choice of each option. For example, `29P1` represents the percentage of times P1 was selected during the 29th session. \n",
    "* `risk##` represents the risk score for each session: (P1 + P2) - (P3 + P4) \n",
    "* `collect_lat##` represents the mean collect latency for each session\n",
    "* `choice_lat##` represents the mean choice latency for each session \n",
    "* `trial##` represents the number of trials (not including premature responses or omissions) for each session\n",
    "* `prem##` represents the number of premature responses for each session"
   ]
  },
  {
   "cell_type": "code",
   "execution_count": null,
   "metadata": {},
   "outputs": [],
   "source": [
    "df_sum = rgt.get_summary_data(df2)\n",
    "df_sum #prints the dataset "
   ]
  },
  {
   "cell_type": "markdown",
   "metadata": {},
   "source": [
    "**Get the risk status of the rats using the following code**\n",
    "* Note: \n",
    "    * `risk_status == 1` indicates a positive risk score (optimal) \n",
    "    * `risk_status == 2` indicates a negative risk score (risky)\n",
    "    * `mean_risk` is the mean risk score averaged across the sessions between `startsess` and `endsess` for a given subject\n",
    "        * You can change `startsess` and `endsess` by passing the session numbers instead. For example, `rgt.get_risk_status(df_sum, 28, 30)`\n",
    "        * Requirement: `startsess` and `endsess` must be in the df\n",
    "    * `print(risky, optimal)` prints out 2 list of rat subjects: the risky rats, and the optimal rats "
   ]
  },
  {
   "cell_type": "code",
   "execution_count": null,
   "metadata": {},
   "outputs": [],
   "source": [
    "df_summary, risky, optimal = rgt.get_risk_status(df_sum, startsess, endsess)\n",
    "\n",
    "print(df_summary[['mean_risk','risk_status']]) \n",
    "print(risky, optimal) "
   ]
  },
  {
   "cell_type": "markdown",
   "metadata": {},
   "source": [
    "**Export your data to an Excel file!** \n",
    "* Assign the name of the column that will specify the control vs. experimental group. Ex) `tg_status`\n",
    "* Assign the name of the **new** Excel file `new_file_name`"
   ]
  },
  {
   "cell_type": "code",
   "execution_count": null,
   "metadata": {},
   "outputs": [],
   "source": [
    "rgt.export_to_excel(df_summary, [control_group, exp_group], column_name = 'tg_status', new_file_name = 'BH07_free_S29-30.xlsx')"
   ]
  },
  {
   "cell_type": "markdown",
   "metadata": {},
   "source": [
    "**Summarize your data by experimental/control set**\n",
    "* If you only want to view certain columns, specify them in mean_scores \n",
    "    * For example, `mean_scores[['risk29', 'risk30']]` will create a table with only those 2 columns\n",
    "* Each value is the mean for that column (ex. `29P1`) within the set (`tg negative` or `tg positive`) "
   ]
  },
  {
   "cell_type": "code",
   "execution_count": null,
   "metadata": {},
   "outputs": [],
   "source": [
    "mean_scores, stderror = rgt.get_group_means_sem(df_summary, [control_group, exp_group], group_names_2) ###[control_group, exp_group] = groups \n",
    "mean_scores #all mean scores\n",
    "# mean_scores[['risk29', 'risk30']] #specify columns"
   ]
  },
  {
   "cell_type": "markdown",
   "metadata": {},
   "source": [
    "# 2B) Acquisition Analysis (Plotting Section)\n",
    "\n",
    "**Graph of the table above**\n",
    "* `variable` specifies the variable you want to plot. \n",
    "    * For example, if I want to plot `choice_lat` over sessions for the experimental and control group, I would replace `variable` with `'choice_lat'`\n",
    "    * Requirement: you must replace `variable` with a column name without the session numbers. For example, to plot mean risk scores, I would write `risk`, not `risk29`\n",
    "* `startsess` and `endsess` can also be replaced with the range of session numbers you'd like to plot \n",
    "    * For example, if I want to plot `choice_lat` over sessions 29 to 31, I would replace `startsess` and `endsess` with `29` and `31` respectively\n",
    "    * Requirement: `startsess` and `endsess` must be in the df"
   ]
  },
  {
   "cell_type": "code",
   "execution_count": null,
   "metadata": {},
   "outputs": [],
   "source": [
    "rgt.rgt_plot('risk', startsess, endsess, group_names_2, title, mean_scores, stderror, var_title = 'risk score') ##group_names_2 has to be a dict not a list "
   ]
  },
  {
   "cell_type": "markdown",
   "metadata": {},
   "source": [
    "**Transform the above data from a line plot, to a bar plot** "
   ]
  },
  {
   "cell_type": "code",
   "execution_count": null,
   "metadata": {},
   "outputs": [],
   "source": [
    "rgt.rgt_bar_plot('risk', startsess, endsess, group_names, title, mean_scores, stderror, var_title = None)"
   ]
  },
  {
   "cell_type": "markdown",
   "metadata": {},
   "source": [
    "**Bar plot of P1-P4 choices**\n",
    "* The following bar plot plots the mean P1-P4 choices for the tg negative and tg positive groups "
   ]
  },
  {
   "cell_type": "code",
   "execution_count": null,
   "metadata": {},
   "outputs": [],
   "source": [
    "rgt.choice_bar_plot(startsess, endsess, mean_scores, stderror)"
   ]
  },
  {
   "cell_type": "markdown",
   "metadata": {},
   "source": [
    "***\n",
    "# 3A) Latin Square Analysis (Analysis by Group) \n",
    "\n",
    "**Please note! If you are trying to perform Acquisition Analysis, finish section 2A and 2B, and skip section 3A and 3B**\n",
    "\n",
    "Set your objects! These will be used in the rest of section 4A and 4B. Examples are left in for clarity \n",
    "* Assign the names of the files that you want to analyze to `file_names`\n",
    "* Assign the names of the control and experimental group### **in order** to `group_names`### as a dictionary \n",
    "* Assign the rat subject numbers to `lOFC` and `PrL`"
   ]
  },
  {
   "cell_type": "code",
   "execution_count": null,
   "metadata": {},
   "outputs": [],
   "source": [
    "ls_group_names = {0:'lOFC',\n",
    "               1:'PrL'} \n",
    "\n",
    "lOFC = [1,2,3,4,5,8,9,11,12,13,14,15,16]\n",
    "\n",
    "PrL = [6,7] ##have to change this back with the new data\n",
    "\n",
    "ls_groups = [lOFC, PrL]"
   ]
  },
  {
   "cell_type": "markdown",
   "metadata": {},
   "source": [
    "**Check your group data for errors**\n",
    "* This will show you the number of trials performed by each subject-group pairing. "
   ]
  },
  {
   "cell_type": "code",
   "execution_count": null,
   "metadata": {},
   "outputs": [],
   "source": [
    "rgt.check_groups(df)"
   ]
  },
  {
   "cell_type": "markdown",
   "metadata": {},
   "source": [
    "**Drop/Edit your group data**\n",
    "* For example, if I want to change `group = 0` to `group = 1` for all subjects, I would write `rgt.edit_groups(df, orig_group = [0], new_group = [1], subs = \"all\")`\n",
    "    * If I want to do the same thing but only for subject 2 and 3, change `subs = \"all\"` to `subs = [2,3]`\n",
    "* For example, if I want to remove the data for subjects 5, 9 and 12, I would write `rgt.drop_subjects(df, subs = [5, 9, 12])`"
   ]
  },
  {
   "cell_type": "code",
   "execution_count": null,
   "metadata": {},
   "outputs": [],
   "source": [
    "rgt.edit_groups(df, orig_group = [0], new_group = [3], subs = [5])\n",
    "\n",
    "# rgt.drop_subjects(df, subs = [5, 9, 12])"
   ]
  },
  {
   "cell_type": "markdown",
   "metadata": {},
   "source": [
    "**Check that you edited the group desired**"
   ]
  },
  {
   "cell_type": "code",
   "execution_count": null,
   "metadata": {},
   "outputs": [],
   "source": [
    "rgt.check_groups(df)"
   ]
  },
  {
   "cell_type": "markdown",
   "metadata": {},
   "source": [
    "**Run the following cell to acquire a summary of your data.**\n",
    "\n",
    "The rows represent subjects (rats 1 to n)\n",
    "\n",
    "The columns are explained below:\n",
    "* `##P#` represents the percent choice of each option. For example `1P1` represents the percent choice of P1 \n",
    "* `risk##` represents the risk score for each group: (P1 + P2) - (P3 + P4) \n",
    "* `collect_lat##` represents the mean collect latency for each group\n",
    "* `choice_lat##` represents the mean choice latency for each group\n",
    "* `trial##` represents the number of trials (not including premature responses or omissions) for each group\n",
    "* `prem##` represents the number of premature responses for each group"
   ]
  },
  {
   "cell_type": "code",
   "execution_count": null,
   "metadata": {},
   "outputs": [],
   "source": [
    "df1 = rgt.get_summary_data(df, mode = 'Group')\n",
    "df1"
   ]
  },
  {
   "cell_type": "markdown",
   "metadata": {},
   "source": [
    "**Impute missing data (if necessary)**\n",
    "* For example, if you have missing data for subject 12, session 2, you can impute (take the mean of the session before and after). \n",
    "    * Code: `rgt.impute_missing_data(df, session = 2, subject = 12, choice = 'all', vars = 'all')`"
   ]
  },
  {
   "cell_type": "code",
   "execution_count": null,
   "metadata": {},
   "outputs": [],
   "source": [
    "df_group_summary = rgt.impute_missing_data(df1, session = 2, subject = 12, choice = 'all', vars = 'all')\n",
    "df_group_summary"
   ]
  },
  {
   "cell_type": "markdown",
   "metadata": {},
   "source": [
    "**Get risk status of the vehicle**\n",
    "\n",
    "###This skipped a lot of steps included in the BH06 LS analysis ###have risky vs optimal graphs, and also have by lOFC/PrL "
   ]
  },
  {
   "cell_type": "code",
   "execution_count": null,
   "metadata": {},
   "outputs": [],
   "source": [
    "df1,risky,optimal = rgt.get_risk_status_vehicle(df1) \n",
    "df1"
   ]
  },
  {
   "cell_type": "code",
   "execution_count": null,
   "metadata": {},
   "outputs": [],
   "source": [
    "#make lists for risky and optimal rats in each group\n",
    "#magical function that does that (value for value)\n",
    "\n",
    "#calculate means for risky and optimal by group\n",
    "\n",
    "\n",
    "#group_means_risk, sem_risk = rgt.get_group_means_sem(df1, ls_groups_risk, ls_group_names_risk) "
   ]
  },
  {
   "cell_type": "markdown",
   "metadata": {},
   "source": [
    "**Export your data to an Excel file!** \n",
    "* Assign the name of the column that will specify the control vs. experimental group. Ex) `brain_region`\n",
    "* Assign the name of the **new** Excel file `new_file_name` "
   ]
  },
  {
   "cell_type": "code",
   "execution_count": null,
   "metadata": {},
   "outputs": [],
   "source": [
    "rgt.export_to_excel(df1, ls_groups, 'brain_region', new_file_name = 'BH06_all-data2.xlsx')"
   ]
  },
  {
   "cell_type": "markdown",
   "metadata": {},
   "source": [
    "**Summarize your data by experimental/control set**\n",
    "* If you only want to view certain columns, specify them in group_means \n",
    "    * For example, `group_means[['omit3', 'omit4']]` will create a table with only those 2 columns ###change\n",
    "    * Each value is the mean for that column (ex. `omit3`) within the set (`lOFC` or `PrL`) ###is this correct?\n",
    "    * Requirements: PrL and lOFC must contain subject numbers that are present in the df, and must contain at least 2 elements (numbers) "
   ]
  },
  {
   "cell_type": "code",
   "execution_count": null,
   "metadata": {},
   "outputs": [],
   "source": [
    "group_means, sem = rgt.get_group_means_sem(df1, ls_groups, ls_group_names) \n",
    "group_means\n",
    "# group_means[['omit3', 'omit4']]"
   ]
  },
  {
   "cell_type": "markdown",
   "metadata": {},
   "source": [
    "# 3B) Plotting Section (by Groups) \n",
    "\n",
    "**Graphs of the table above**\n",
    "* Data is separated by brain region: `lOFC` and `PrL` "
   ]
  },
  {
   "cell_type": "code",
   "execution_count": null,
   "metadata": {},
   "outputs": [],
   "source": [
    "rgt.ls_bar_plot('lOFC',group_means,sem)"
   ]
  },
  {
   "cell_type": "code",
   "execution_count": null,
   "metadata": {},
   "outputs": [],
   "source": [
    "rgt.ls_bar_plot('PrL',group_means,sem)"
   ]
  },
  {
   "cell_type": "markdown",
   "metadata": {},
   "source": [
    "**Graph certain variables from the table above**\n",
    "\n",
    "* `variable` specifies the variable you want to plot. \n",
    "    * For example, if I want to plot `choice_lat` over sessions for the experimental and control group, I would replace `variable` with `'choice_lat'`\n",
    "    * Requirement: you must replace `variable` with a column name without the session numbers. For example, to plot mean risk scores, I would write `risk`, not `risk1`\n",
    "* `startsess` and `endsess` can also be replaced with the range of session numbers you'd like to plot \n",
    "    * For example, if I want to plot `choice_lat` over sessions 29 to 31, I would replace `startsess` and `endsess` with `29` and `31` respectively ###not sure about this line\n",
    "    * Requirement: `startsess` and `endsess` must be in the df"
   ]
  },
  {
   "cell_type": "code",
   "execution_count": null,
   "metadata": {},
   "outputs": [],
   "source": [
    "rgt.rgt_plot('omit',1,4,ls_group_names,'5-HT2c Antagonist',group_means,sem,var_title = 'Premature response')"
   ]
  },
  {
   "cell_type": "code",
   "execution_count": null,
   "metadata": {},
   "outputs": [],
   "source": [
    "#plots for risky vs optimal \n",
    "#use group names to specify choice plot for risky or optimal rats "
   ]
  },
  {
   "cell_type": "code",
   "execution_count": null,
   "metadata": {},
   "outputs": [],
   "source": [
    "#line plot with risky and optimal rats from both groups"
   ]
  },
  {
   "cell_type": "markdown",
   "metadata": {},
   "source": [
    "***\n",
    "# 4) Miscellaneous Section (more advanced code) "
   ]
  },
  {
   "cell_type": "markdown",
   "metadata": {},
   "source": [
    "**Change your working directory**\n",
    "\n",
    "Instructions: \n",
    "* Check your current working directory by running `os.getcwd()` \n",
    "* From your working directory, make a data folder (call it: data), and add your .xlsx file into that folder. \n",
    "* Change `('C:\\\\Users\\\\dexte\\\\hathaway_1\\\\data')` to your current working directory and add '\\\\data'\n",
    "* For example, my current working directory is `'C:\\\\Users\\\\dexte\\\\hathaway_1'`, so I enter `'C:\\\\Users\\\\dexte\\\\hathaway_1\\\\data'` into the brackets (slashes will be different if you are not using windows). \n",
    "* This saves all data in your data folder, instead of your current working directory. "
   ]
  },
  {
   "cell_type": "code",
   "execution_count": null,
   "metadata": {},
   "outputs": [],
   "source": [
    "#checks current working directory\n",
    "os.getcwd()\n",
    "\n",
    "#changes working directory to whatever is included in brackets\n",
    "os.chdir('C:\\\\Users\\\\dexte\\\\hathaway_1\\\\data') "
   ]
  }
 ],
 "metadata": {
  "kernelspec": {
   "display_name": "Python 3",
   "language": "python",
   "name": "python3"
  },
  "language_info": {
   "codemirror_mode": {
    "name": "ipython",
    "version": 3
   },
   "file_extension": ".py",
   "mimetype": "text/x-python",
   "name": "python",
   "nbconvert_exporter": "python",
   "pygments_lexer": "ipython3",
   "version": "3.8.5"
  }
 },
 "nbformat": 4,
 "nbformat_minor": 4
}
