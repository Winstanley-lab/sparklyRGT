{
 "cells": [
  {
   "cell_type": "markdown",
   "metadata": {},
   "source": [
    "# rGT functions for data manipulation and visualization\n",
    "\n",
    "**About:** The purpose of this Notebook is to demonstrate how to summarize, manipulate, and plot rGT data using the rgt_functions package. \n",
    "\n",
    "**Contact:**\n",
    "* Dexter Kim: dexterkim2000@gmail.com\n",
    "* Brett Hathaway: bretthathaway@psych.ubc.ca\n",
    "\n",
    "**Requirements**\n",
    "* The data must be an excel file from MEDPC2XL (trial by trial data) \n",
    "* The data, rgt_functions.py file, and this notebook must all be in the same folder\n",
    "    * See [Section 4](#Changing-your-working-directory) if you want to have your data stored in a different folder\n",
    "\n",
    "## Table of contents\n",
    "* Section 1: [Loading data into Python](#1\\)-Load-data-into-Python)\n",
    "* Section 2: Baseline & Acquisition Analysis\n",
    "    * 2A: [Data cleaning and processing](#2A\\)-Baseline-&-Acquisition-Analysis)\n",
    "    * 2B: [Plotting](#2B\\)-Baseline-&-Acquisition-Analysis:-Plotting)\n",
    "* Section 3: Latin Square Analysis and Plotting\n",
    "    * 3A: [Data cleaning and processing](#3A\\)-Latin-Square-Analysis)\n",
    "    * 3B: [Plotting](#3B\\)-Latin-Square-Analysis:-Plotting)\n",
    "* Section 4: [Miscellaneous](#4\\)-Miscellaneous)\n",
    "\n",
    "\n",
    "**Please run the following cell before starting!**"
   ]
  },
  {
   "cell_type": "code",
   "metadata": {},
   "outputs": [
    {
     "name": "stdout",
     "output_type": "stream",
     "text": [
      "I am being executed!\n"
     ]
    }
   ],
   "source": [
    "#MEDPC rat gambling task functions imports, will print \"I am being executed!\" if functional\n",
    "import rgt_functions as rgt\n",
    "\n",
    "#main imports \n",
    "import os\n",
    "import pandas as pd\n",
    "import numpy as np\n",
    "\n",
    "# plotting imports \n",
    "import matplotlib.pyplot as plt\n",
    "from matplotlib.ticker import MaxNLocator\n",
    "\n",
    "# stats imports \n",
    "import scipy.stats as stats\n",
    "\n",
    "#the following lines prevents pandas from giving unecessary errors and increases the number of rows you can view \n",
    "pd.options.mode.chained_assignment = None\n",
    "pd.set_option('display.max_rows',100)"
   ]
  },
  {
   "cell_type": "markdown",
   "metadata": {},
   "source": [
    "***\n",
    "# 1) Load data into Python\n",
    "\n",
    "[back to top](#rGT-functions-for-data-manipulation-and-visualization)\n",
    "\n",
    "* Write the names of the files that you want to load in as a list to `file_names`\n",
    "\n",
    "`df = load_data(file_names, reset_sessions = False)` \n",
    "* creates a table similar to the excel sheet(s) you loaded in. (in the order established in `file_names`) \n",
    "* `df` stands for dataframe, and will store the data you load in as a table\n",
    "* passing `reset_sessions = True`:\n",
    "    * makes the session numbers start from 1 again (you may want to do this for baseline analysis or if you're loading in multiple projects)\n",
    "    \n",
    "`df = load_multiple_data(file_names, reset_sessions = False)` \n",
    "* loads in multiple cohorts (with the same subject numbers) and assigns them unique subject numbers (ex. subject 1 of cohort 1 --> subject 101) "
   ]
  },
  {
   "cell_type": "code",
   "execution_count": null,
   "metadata": {},
   "outputs": [],
   "source": [
    "file_names = ['BH07_raw_free_S29-30.xlsx'] \n",
    "\n",
    "df = rgt.load_data(file_names)\n",
    "\n",
    "#load_data won't print the dataframe. Use the following function to view the top of your dataframe. \n",
    "#Note: it should look the exact same as your first excel file. \n",
    "\n",
    "df.head()"
   ]
  },
  {
   "cell_type": "markdown",
   "metadata": {},
   "source": [
    "***\n",
    "# 2A) Baseline & Acquisition Analysis\n",
    "\n",
    "[back to top](#rGT-functions-for-data-manipulation-and-visualization)\n",
    "\n",
    "Set your objects! These will be used in the rest of section 2A and 2B. Examples are left in for clarity.\n",
    "* Assign the rat subject numbers for each group to `exp_group` and `control_group`\n",
    "    * you can add additional groups - just ensure you also add them to the group_list and group_names\n",
    "* Assign the names of your groups to `group_names`\n",
    "    * as a dictionary\n",
    "* Put your groups together into a list\n",
    "    * **must** be in the same order as they are in group_names \n",
    "* For plotting:\n",
    "    * Assign the title of the project to `title`\n",
    "    * Assign the range of sessions you want to include in figures to `startsess` and `endsess`\n"
   ]
  },
  {
   "cell_type": "code",
   "execution_count": null,
   "metadata": {},
   "outputs": [],
   "source": [
    "control_group = [3, 4, 5, 6, 9, 13, 14, 15, 17, 18, 23, 24, 27, 28, 30, 31] #In this example: Tg negative rats\n",
    "\n",
    "exp_group = [1, 2, 7, 8, 11, 12, 16, 19, 20, 21, 22, 25, 26, 29, 32] #In this example: Tg positive rats\n",
    "\n",
    "group_names = {0: 'Tg negative',\n",
    "              1: 'Tg positive'} \n",
    "\n",
    "group_list = [control_group, exp_group]\n",
    "\n",
    "#for plotting: \n",
    "title = 'Nigrostriatal activation during acquisition' \n",
    "\n",
    "startsess = 29 #first session you would like to include in figures\n",
    "endsess = 30 #last session you would like to include in figures"
   ]
  },
  {
   "cell_type": "markdown",
   "metadata": {},
   "source": [
    "## Data cleaning\n",
    "\n",
    "### Check your session data\n",
    "* `check_sessions` gives us a summary for each rat including session numbers, session dates and # of trials for each session.\n",
    "* This allows us to see if there are any missing/incorrect session numbers, and if MED-PC exported all of the desired data into the Excel file you loaded in (`file_names`).  "
   ]
  },
  {
   "cell_type": "code",
   "execution_count": null,
   "metadata": {},
   "outputs": [],
   "source": [
    "rgt.check_sessions(df)"
   ]
  },
  {
   "cell_type": "markdown",
   "metadata": {},
   "source": [
    "### Dropping & editing session numbers\n",
    "* `rgt.drop_sessions(df, [session numbers])`\n",
    "    * pass the df you loaded in and the session number(s) you'd like to remove (as a list)\n",
    "    * For example, to remove all data from session 28 and 29, I would write: `rgt.drop_sessions(df, [28, 29])`\n",
    "    * Requirement: session number must exist in the session column of df\n",
    "    \n",
    "    \n",
    "* `rgt.edit_sessions(df, orig_sess = [list], new_sess = [list], subs = 'all')`\n",
    "    * write the original session numbers you want to remove in `orig_sess`, and the numbers you want to replace them with in `new_sess`, in the correct order \n",
    "    * For example, to change **all** 30s to 29s, and 31s to 30s, I would write: `rgt.edit_sessions(df2, orig_sess = [30, 31], new_sess = [29, 30], subs = \"all\")`\n",
    "    * If you want to make edits, **for certain subjects**, I would assign the subject numbers to  `subs`. For example, I would write `subs = [17, 21]`\n",
    "    \n",
    "\n",
    "* **in both cases:** assign to a new object (i.e., `df2`), or if you are sure you want to make these edits, you can save over the original df (assign to `df`)\n"
   ]
  },
  {
   "cell_type": "code",
   "execution_count": null,
   "metadata": {},
   "outputs": [],
   "source": [
    "df2 = rgt.drop_sessions(df, [28])\n",
    "\n",
    "#example for edit_sessions: \n",
    "# df2 = rgt.edit_sessions(df2, [30, 31], [29, 30], subs = \"all\")"
   ]
  },
  {
   "cell_type": "markdown",
   "metadata": {},
   "source": [
    "#### Check that you dropped/edited the desired session(s)"
   ]
  },
  {
   "cell_type": "code",
   "execution_count": null,
   "metadata": {},
   "outputs": [],
   "source": [
    "rgt.check_sessions(df2) "
   ]
  },
  {
   "cell_type": "markdown",
   "metadata": {},
   "source": [
    "## Data processing\n",
    "\n",
    "### Calculate variables for each rat\n",
    "\n",
    "`df_sum = rgt.get_summary_data(df, mode = 'Session')`\n",
    "\n",
    "In df_sum, the rows represent subjects (rats 1 to n)\n",
    "\n",
    "The columns are explained below:\n",
    "* `##P#` represents the percent choice of each option. For example, `29P1` represents the percentage of times P1 was selected during the 29th session. \n",
    "* `risk##` represents the risk score for each session: (P1 + P2) - (P3 + P4) \n",
    "* `collect_lat##` represents the mean collect latency for each session\n",
    "* `choice_lat##` represents the mean choice latency for each session \n",
    "* `omit##` represents the number of omissions for each session\n",
    "* `trial##` represents the number of trials completed for each session\n",
    "* `prem##` represents the percentage of premature responses for each session"
   ]
  },
  {
   "cell_type": "code",
   "execution_count": null,
   "metadata": {},
   "outputs": [],
   "source": [
    "df_sum = rgt.get_summary_data(df2) #change to df instead of df2 if you didn't do any session editing\n",
    "df_sum #prints the dataset "
   ]
  },
  {
   "cell_type": "markdown",
   "metadata": {},
   "source": [
    "### Missing data\n",
    "\n",
    "Check out the `impute_missing_data()` function in the [Miscellaneous section](#Impute-missing-data-by-taking-the-mean)\n",
    "\n",
    "\n",
    "### Get the risk status of the rats\n",
    "\n",
    "`df_sum, risky, optimal = rgt.get_risk_status(df_sum, startsess, endsess)`\n",
    "\n",
    "\n",
    "This code adds two columns to your df: `mean_risk` and `risk_status`\n",
    "\n",
    "\n",
    "* `risk_status == 1` indicates a positive risk score (optimal) \n",
    "* `risk_status == 2` indicates a negative risk score (risky)\n",
    "* `mean_risk` is the mean risk score averaged across the sessions between `startsess` and `endsess` for a given subject\n",
    "    * You can change `startsess` and `endsess` by passing the session numbers instead. For example, `rgt.get_risk_status(df_sum, 28, 30)`\n",
    "    * Requirement: `startsess` and `endsess` must be in the df\n",
    "* `print(risky, optimal)` prints out 2 lists of rat subjects: the risky rats, and the optimal rats "
   ]
  },
  {
   "cell_type": "code",
   "execution_count": null,
   "metadata": {},
   "outputs": [],
   "source": [
    "df_sum, risky, optimal = rgt.get_risk_status(df_sum, startsess, endsess)\n",
    "\n",
    "print(df_sum[['mean_risk','risk_status']]) \n",
    "print(risky, optimal) "
   ]
  },
  {
   "cell_type": "markdown",
   "metadata": {},
   "source": [
    "### Export your data to an Excel file \n",
    "\n",
    "`export_to_excel(df, groups = None, column_name = 'group', new_file_name = 'summary_data', asin = False)`\n",
    "\n",
    "* `groups`(optional): pass the group_list defined at the beginning of this Notebook to add a column that specifies which experimental group each rat is in\n",
    "    * numbers will be assigned according to their order in group_list (in this example: `Tg negative rats == 0`, `Tg positive rat == 1`)\n",
    "* `column_name`: Assign a name to the column in the exported Excel file that will specify the control vs. experimental group. In this example: `tg_status`\n",
    "* `new_file_name`: Assign the name of the **new** Excel file that you're exporting\n",
    "* `asin`: False by default; passing `asin = True` will perform an arcsine transformation on percentage variables: P1-P4 and premature responding\n",
    "    * can then be imported into SPSS for analysis"
   ]
  },
  {
   "cell_type": "code",
   "execution_count": null,
   "metadata": {},
   "outputs": [],
   "source": [
    "rgt.export_to_excel(df_sum, groups = group_list, column_name = 'tg_status', new_file_name = 'BH07_free_S29-30.xlsx')"
   ]
  },
  {
   "cell_type": "markdown",
   "metadata": {},
   "source": [
    "## Calculate means and SEMs for your experimental groups\n",
    "\n",
    "`mean_scores, SEM = rgt.get_means_sem(df_sum, groups = None, group_names = None)`\n",
    "\n",
    "* `df_sum`: the summary dataframe you created above, with the variables calculated per rat\n",
    "* `groups`: the list of groups created at the start of this section (`group_list`)\n",
    "* `group_names`: the dictionary of group names created at the start of this section (`group_names`)\n",
    "\n",
    "Output:\n",
    "* `mean_scores`: each value is the mean for that variable (ex. `29P1`) for each experimental group (in this example: `tg negative` and `tg positive`) \n",
    "* `SEM`: each value is the standard error of the mean for that variable for each experimental group\n",
    "* If you want to view certain columns, specify them as a list in square brackets following `mean_scores` or `SEM`\n",
    "    * For example, `mean_scores[['risk29', 'risk30']]` will display a table with only those 2 columns\n",
    "\n",
    "\n",
    "These can also be exported to an excel file, using `mean_scores.to_excel('file name.xlsx')` or `SEM.to_excel('file name.xlsx')`\n",
    "* check out [this link](https://pandas.pydata.org/docs/reference/api/pandas.DataFrame.to_excel.html) for more details\n"
   ]
  },
  {
   "cell_type": "code",
   "execution_count": 1,
   "metadata": {},
   "outputs": [
    {
     "ename": "NameError",
     "evalue": "name 'rgt' is not defined",
     "output_type": "error",
     "traceback": [
      "\u001b[1;31m---------------------------------------------------------------------------\u001b[0m",
      "\u001b[1;31mNameError\u001b[0m                                 Traceback (most recent call last)",
      "\u001b[1;32m<ipython-input-1-5a40fd9a00cc>\u001b[0m in \u001b[0;36m<module>\u001b[1;34m\u001b[0m\n\u001b[1;32m----> 1\u001b[1;33m \u001b[0mmean_scores\u001b[0m\u001b[1;33m,\u001b[0m \u001b[0mSEM\u001b[0m \u001b[1;33m=\u001b[0m \u001b[0mrgt\u001b[0m\u001b[1;33m.\u001b[0m\u001b[0mget_means_sem\u001b[0m\u001b[1;33m(\u001b[0m\u001b[0mdf_sum\u001b[0m\u001b[1;33m,\u001b[0m \u001b[0mgroup_list\u001b[0m\u001b[1;33m,\u001b[0m \u001b[0mgroup_names\u001b[0m\u001b[1;33m)\u001b[0m\u001b[1;33m\u001b[0m\u001b[1;33m\u001b[0m\u001b[0m\n\u001b[0m\u001b[0;32m      2\u001b[0m \u001b[0mmean_scores\u001b[0m \u001b[1;31m#view all mean scores (truncated with many columns)\u001b[0m\u001b[1;33m\u001b[0m\u001b[1;33m\u001b[0m\u001b[0m\n\u001b[0;32m      3\u001b[0m \u001b[1;31m# mean_scores[['risk29', 'risk30']] #view certain columns\u001b[0m\u001b[1;33m\u001b[0m\u001b[1;33m\u001b[0m\u001b[1;33m\u001b[0m\u001b[0m\n",
      "\u001b[1;31mNameError\u001b[0m: name 'rgt' is not defined"
     ]
    }
   ],
   "source": [
    "mean_scores, SEM = rgt.get_means_sem(df_sum, group_list, group_names)\n",
    "mean_scores #view all mean scores (truncated)\n",
    "# mean_scores[['risk29', 'risk30']] #view certain columns\n"
   ]
  },
  {
   "cell_type": "markdown",
   "metadata": {},
   "source": [
    "### Calculate means and SEMS for your experimental groups, split by risk status and/or sex\n",
    "\n",
    "* Can use a technique called list comprehension to create lists of experimental risky rats, experimental optimal rats, etc.\n",
    "    * example given below\n",
    "    \n",
    "    \n",
    "* Alternatively, you can just manually type in the lists: \n",
    "    * e.g., `control_risky` = [1,2,3]\n",
    "    \n",
    "    \n",
    "* You can adapt this code to split by sex, or further split risk groups by sex:\n",
    "    * First, create a list of female and male subjects: `female = [1,2,3]`; `male = [4,5,6]`\n",
    "    * `control_female = [subject for subject in control_group if subject in female]`\n",
    "    * `control_risky_female = [subject for subject in control_risky if subject in female]`\n",
    "\n",
    "\n",
    "* You can create as many groups as you like, just make sure you add them to `group_list_risk` and `group_names_risk`!"
   ]
  },
  {
   "cell_type": "code",
   "execution_count": null,
   "metadata": {},
   "outputs": [],
   "source": [
    "\n",
    "control_risky = [subject for subject in control_group if subject in risky]\n",
    "exp_risky = [subject for subject in exp_group if subject in risky]\n",
    "\n",
    "control_optimal = [subject for subject in control_group if subject in optimal]\n",
    "exp_optimal = [subject for subject in exp_group if subject in optimal]\n",
    "\n",
    "\n",
    "group_list_risk = [control_risky,exp_risky, control_optimal, exp_optimal]\n",
    "\n",
    "#make sure the group names are in the same order as the group list!\n",
    "group_names_risk = {0:'Control risky', \n",
    "                    1: 'Experimental risky',\n",
    "                    2: 'Control optimal',\n",
    "                    3: 'Experimental optimal'}\n",
    "\n",
    "mean_scores_risk, SEM_risk = rgt.get_means_sem(df_sum, group_list_risk, group_names_risk)\n",
    "\n",
    "mean_scores_risk\n",
    "\n",
    "    "
   ]
  },
  {
   "cell_type": "markdown",
   "metadata": {},
   "source": [
    "# 2B) Baseline & Acquisition Analysis: Plotting\n",
    "\n",
    "[back to top](#rGT-functions-for-data-manipulation-and-visualization)\n",
    "\n",
    "**For all plotting functions**: If you are missing data for a particular rat, error bars will not appear on the figures"
   ]
  },
  {
   "cell_type": "markdown",
   "metadata": {},
   "source": [
    "## Bar plot of P1-P4 % choice\n",
    "\n",
    "`rgt.choice_bar_plot(startsess, endsess, mean_scores, SEM)`\n",
    "\n",
    "* This function plots the mean P1-P4 choices for the experimental groups \n",
    "    * You can change startsess and endsess to calculate the mean over whichever sessions you like"
   ]
  },
  {
   "cell_type": "code",
   "execution_count": null,
   "metadata": {},
   "outputs": [],
   "source": [
    "rgt.choice_bar_plot(startsess, endsess, mean_scores, SEM)"
   ]
  },
  {
   "cell_type": "markdown",
   "metadata": {},
   "source": [
    "## Line plot of other variables\n",
    "\n",
    "`rgt.rgt_plot('variable', startsess, endsess, title, mean_scores, SEM, group_names = group_names, y_label = 'variable name')`\n",
    "* `variable`: specifies the variable you want to plot. \n",
    "    * For example, if I want to plot `choice_lat`, I would replace `variable` with `'choice_lat'` (just the variable name, don't include session numbers)\n",
    "* `startsess` and `endsess`: specifies the range of session numbers you'd like to plot \n",
    "    * For example, if I want to plot `choice_lat` over sessions 29 to 31, I would replace `startsess` and `endsess` with `29` and `31` respectively\n",
    "    * Requirement: `startsess` and `endsess` must be in the df\n",
    "* `group_names`: pass a dictionary with the `mean_scores` index for each group as the keys and the names of groups as the values (defined at beginning of this Notebook)\n",
    "* `y_label`: specifies the Y axis label"
   ]
  },
  {
   "cell_type": "code",
   "execution_count": null,
   "metadata": {},
   "outputs": [],
   "source": [
    "rgt.rgt_plot('risk', startsess, endsess, title, mean_scores, SEM, group_names = group_names, y_label = 'Risk score') "
   ]
  },
  {
   "cell_type": "markdown",
   "metadata": {},
   "source": [
    "## Bar plot of other variables\n",
    "\n",
    "`rgt.rgt_bar_plot('variable', startsess, endsess, title, mean_scores, SEM, group_names = group_names, y_label = 'Variable name')`\n",
    "\n",
    "* takes the mean of specified `variable` over session range specified by `startsess` and `endsess`\n",
    "* plots as bar plot for each group specified in `group_names` dictionary\n",
    "* `y_label`: Y axis label"
   ]
  },
  {
   "cell_type": "code",
   "execution_count": null,
   "metadata": {},
   "outputs": [],
   "source": [
    "rgt.rgt_bar_plot('risk', startsess, endsess, title, mean_scores, SEM, group_names, y_label = 'Risk score')"
   ]
  },
  {
   "cell_type": "markdown",
   "metadata": {},
   "source": [
    "## Plotting by risk status\n",
    "\n",
    "### Bar plot of P1-P4 % Choice\n",
    "\n",
    "* Use the functions above but pass `group_names_risk`, `mean_scores_risk` and `SEM_risk` instead"
   ]
  },
  {
   "cell_type": "code",
   "execution_count": null,
   "metadata": {},
   "outputs": [],
   "source": [
    "rgt.choice_bar_plot(startsess, endsess, mean_scores_risk, SEM_risk)"
   ]
  },
  {
   "cell_type": "code",
   "execution_count": null,
   "metadata": {},
   "outputs": [],
   "source": [
    "rgt.rgt_plot('risk', startsess, endsess, title, mean_scores_risk, SEM_risk, group_names = group_names_risk, y_label = 'Risk score') "
   ]
  },
  {
   "cell_type": "code",
   "execution_count": null,
   "metadata": {},
   "outputs": [],
   "source": [
    "rgt.rgt_bar_plot('prem', startsess, endsess, title, mean_scores_risk, SEM_risk, group_names = group_names_risk,y_label = 'Premature responding')"
   ]
  },
  {
   "cell_type": "markdown",
   "metadata": {},
   "source": [
    "***\n",
    "# 3A) Latin Square Analysis\n",
    "\n",
    "[back to top](#rGT-functions-for-data-manipulation-and-visualization)\n",
    "\n",
    "**This section assumes you have assigned dosing information to the 'Group' variable in MEDPC**\n",
    "* in this example: vehicle = 1 in Group column, low dose = 2, mid dose = 3, high dose = 4\n",
    "\n",
    "Set your objects! These will be used in the rest of section 3A and 3B. Examples are left in for clarity.\n",
    "* Assign the names of the files that you want to analyze to `file_names`\n",
    "* Assign a title, for plotting\n",
    "* Assign the startdose and enddose variables - 1 and 4 in this example \n",
    "\n",
    "**Note:** This section assumes all of your rats received the same manipulation; if you have multiple experimental groups (e.g., different brain regions, Tg+/Tg-) in your dataset, see [Miscellaneous section](#Example:-between-subjects-analysis-for-Latin-Square-dataset) for an example of how to do so"
   ]
  },
  {
   "cell_type": "code",
   "execution_count": null,
   "metadata": {},
   "outputs": [],
   "source": [
    "file_names = ['BH06_raw_round1-infusions.xlsx', 'BH06_raw_round1-makeup.xlsx'] \n",
    "\n",
    "df = rgt.load_data(file_names)\n",
    "\n",
    "#for plotting: \n",
    "title = '5-HT2c Antagonist' \n",
    "\n",
    "#lowest group number\n",
    "startdose =  1\n",
    "#highest group number\n",
    "enddose = 4"
   ]
  },
  {
   "cell_type": "markdown",
   "metadata": {},
   "source": [
    "## Data cleaning\n",
    "\n",
    "### Check the Group numbers for each rat\n",
    "\n",
    "`rgt.check_groups(df)`\n",
    "* This function will show you the Group numbers and trials completed for each rat"
   ]
  },
  {
   "cell_type": "code",
   "execution_count": null,
   "metadata": {},
   "outputs": [],
   "source": [
    "rgt.check_groups(df)"
   ]
  },
  {
   "cell_type": "markdown",
   "metadata": {},
   "source": [
    "### Drop subjects & edit Group numbers\n",
    "\n",
    "`df2 = rgt.edit_groups(df, orig_group = [list], new_group = [list], subs = 'all')`\n",
    "\n",
    "* `orig_group`: enter the group number(s) that you want to change in square brackets \n",
    "* `new_group`: enter the new group number(s) you want to change to \n",
    "    * pay attention to order: first group number in `orig_group` will be changed to first group number in `new_group`, and so on for additional numbers    \n",
    "* `subs`: by default this equals 'all' (changes will be made for all subjects)\n",
    "    * pass a list of subject numbers if you only want to change the group numbers for certain subjects\n",
    "\n",
    "`df2 = rgt.drop_subjects(df, subs = [list])`\n",
    "\n",
    "* `subs`: enter a list of subjects that you want to remove the data for\n",
    "\n",
    "**in both cases:** assign to a new object (i.e., `df2`), or if you are sure you want to make these edits, you can save over the original df (assign to `df`)\n"
   ]
  },
  {
   "cell_type": "code",
   "execution_count": null,
   "metadata": {},
   "outputs": [],
   "source": [
    "df2 = rgt.edit_groups(df, orig_group = [0], new_group = [3], subs = [5])\n",
    "\n",
    "df2 = rgt.drop_subjects(df, subs = [7])\n"
   ]
  },
  {
   "cell_type": "markdown",
   "metadata": {},
   "source": [
    "### Check that you edited the Group number/dropped subjects as desired"
   ]
  },
  {
   "cell_type": "code",
   "execution_count": null,
   "metadata": {},
   "outputs": [],
   "source": [
    "rgt.check_groups(df2)"
   ]
  },
  {
   "cell_type": "markdown",
   "metadata": {},
   "source": [
    "## Data processing\n",
    "\n",
    "### Calculate variables for each rat at each dose\n",
    "\n",
    "`df_sum = rgt.get_summary_data(df, mode = 'Group')`\n",
    "* **for Latin Square data, make sure you pass `mode = 'Group'` to this function (will calculate by Session by default)**\n",
    "\n",
    "The rows represent subjects (rats 1 to n)\n",
    "\n",
    "The columns are explained below:\n",
    "* `##P#` represents the percent choice of each option. For example `1P1` represents the percent choice of P1 at dose 1\n",
    "* `risk##` represents the risk score for each dose: (P1 + P2) - (P3 + P4) \n",
    "* `collect_lat##` represents the mean collect latency for each dose\n",
    "* `choice_lat##` represents the mean choice latency for each dose\n",
    "* `omit##` represents the number of omissions for each dose\n",
    "* `trial##` represents the number of trials completed for each dose\n",
    "* `prem##` represents the number of premature responses for each dose"
   ]
  },
  {
   "cell_type": "code",
   "execution_count": null,
   "metadata": {},
   "outputs": [],
   "source": [
    "df_sum = rgt.get_summary_data(df2, mode = 'Group')\n",
    "df_sum"
   ]
  },
  {
   "cell_type": "markdown",
   "metadata": {},
   "source": [
    "### Impute missing data\n",
    "`rgt.impute_missing_data(df, session = None, subject = None, choice = 'all', vars = 'all')`\n",
    "\n",
    "* This function is described in the [Miscellaneous section](#Impute-missing-data-by-taking-the-mean)\n"
   ]
  },
  {
   "cell_type": "code",
   "execution_count": null,
   "metadata": {},
   "outputs": [],
   "source": [
    "df_sum = rgt.impute_missing_data(df_sum, session = 2, subject = 12, choice = 'all', vars = 'all')"
   ]
  },
  {
   "cell_type": "markdown",
   "metadata": {},
   "source": [
    "### Get risk status based on Vehicle dose data\n",
    "\n",
    "`df_sum,risky,optimal = rgt.get_risk_status_vehicle(df_sum)`\n",
    "\n",
    "This function adds a column to your df: `risk_status`, calculated from the Vehicle dose data\n",
    "\n",
    "* Note: \n",
    "    * `risk_status == 1` indicates a positive risk score (optimal) \n",
    "    * `risk_status == 2` indicates a negative risk score (risky)\n",
    "    * `print(risky, optimal)` prints out 2 lists of rat subjects: the risky rats, and the optimal rats \n"
   ]
  },
  {
   "cell_type": "code",
   "execution_count": null,
   "metadata": {},
   "outputs": [],
   "source": [
    "df_sum,risky,optimal = rgt.get_risk_status_vehicle(df_sum)\n",
    "print(risky, optimal)"
   ]
  },
  {
   "cell_type": "markdown",
   "metadata": {},
   "source": [
    "### Export your data to an Excel file!\n",
    "\n",
    "`export_to_excel(df, groups = None, column_name = 'group', new_file_name = 'summary_data', asin = False)`\n",
    "\n",
    "* In this example: only one experimental condition, so optional groups and column_name arguments are not included\n",
    "* `new_file_name`: Assign the name of the **new** Excel file that you're exporting\n",
    "* `asin`: False by default; passing `asin = True` will perform an arcsine transformation on percentage variables: P1-P4 and premature responding\n",
    "    * can then be imported into SPSS for analysis "
   ]
  },
  {
   "cell_type": "code",
   "execution_count": null,
   "metadata": {},
   "outputs": [],
   "source": [
    "rgt.export_to_excel(df_sum, new_file_name = 'BH06_all-data.xlsx')"
   ]
  },
  {
   "cell_type": "markdown",
   "metadata": {},
   "source": [
    "## Calculate means and SEMs for each dose\n",
    "\n",
    "`mean_scores, SEM = rgt.get_means_sem(df_sum, groups = None, group_names = None)`\n",
    "\n",
    "* `df_sum`: the summary dataframe you created above, with the variables calculated per rat\n",
    "* `groups`: None by default, so doesn't need to be included \n",
    "* `group_names`: None by default, so doesn't need to be included\n",
    "    * if not included, group name will be automatically assigned as 'All rats'\n",
    "\n",
    "Output:\n",
    "* `mean_scores`: each value is the mean for that variable (ex. `29P1`) for all rats \n",
    "* `SEM`: each value is the standard error of the mean for that variable for all rats\n",
    "* If you want to view certain columns, specify them as a list in square brackets following `mean_scores` or `SEM`\n",
    "    * For example, `mean_scores[['risk1', 'risk2']]` will display a table with only those 2 columns\n",
    "\n",
    "\n",
    "These can also be exported to an excel file, using `mean_scores.to_excel('file name.xlsx')` or `SEM.to_excel('file name.xlsx')`\n",
    "* check out [this link](https://pandas.pydata.org/docs/reference/api/pandas.DataFrame.to_excel.html) for more details"
   ]
  },
  {
   "cell_type": "code",
   "execution_count": null,
   "metadata": {},
   "outputs": [],
   "source": [
    "mean_scores, SEM = rgt.get_means_sem(df_sum) \n",
    "mean_scores\n",
    "# mean_scores[['omit3', 'omit4']]"
   ]
  },
  {
   "cell_type": "markdown",
   "metadata": {},
   "source": [
    "### Calculating means and SEMS separately for risky and optimal rats\n",
    "\n",
    "* you can pass risky and optimal lists, along with the group names, to the `get_means_sem` function to calculate mean/SEM values separately"
   ]
  },
  {
   "cell_type": "code",
   "execution_count": null,
   "metadata": {},
   "outputs": [],
   "source": [
    "\n",
    "groups_risk = [risky,optimal]\n",
    "group_names_risk = {0: 'Risky',\n",
    "                    1: 'Optimal'}\n",
    "\n",
    "means_risk, SEM_risk = rgt.get_means_sem(df_sum, groups = groups_risk, group_names = group_names_risk)\n",
    "\n",
    "means_risk\n"
   ]
  },
  {
   "cell_type": "markdown",
   "metadata": {},
   "source": [
    "# 3B) Latin Square Analysis: Plotting\n",
    "\n",
    "[back to top](#rGT-functions-for-data-manipulation-and-visualization)\n",
    "\n",
    "**For all plotting functions**: If you are missing data for a particular rat, error bars will not appear on the figures\n",
    "\n",
    "## Bar plot for P1-P4 % Choice\n",
    "\n",
    "`rgt.ls_bar_plot('group name',mean_scores,SEM)`\n",
    "\n",
    "* `group name`: replace with the group name that you would like to plot\n",
    "    * assigned as 'All rats' if group names are not passed to the function `rgt.get_means_SEM`"
   ]
  },
  {
   "cell_type": "code",
   "execution_count": null,
   "metadata": {},
   "outputs": [],
   "source": [
    "rgt.ls_bar_plot('All rats',mean_scores,SEM)"
   ]
  },
  {
   "cell_type": "markdown",
   "metadata": {},
   "source": [
    "## Line plot of other variables\n",
    "\n",
    "`rgt.rgt_plot('variable', startsess, endsess, title, mean_scores, SEM, y_label = 'variable', x_label = 'Session')`\n",
    "* `variable`: specifies the variable you want to plot. \n",
    "    * For example, if I want to plot `choice_lat`, I would replace `variable` with `'choice_lat'` (just the variable name, don't include session numbers)\n",
    "* `startsess` and `endsess`: specifies the range of session numbers you'd like to plot \n",
    "    * **For Latin Square analysis**: We will pass the start and end Dose numbers (assigned to Group in MEDPC) - 1 and 4 in this example (startdose and enddose defined at beginning of this section)\n",
    "* `y_label`: specifies the Y axis label\n",
    "* `x_label`: specifies the X axis label; 'Session' by default, but here we want it to be 'Dose'\n"
   ]
  },
  {
   "cell_type": "code",
   "execution_count": null,
   "metadata": {},
   "outputs": [],
   "source": [
    "rgt.rgt_plot('risk',startdose,enddose,title,mean_scores,SEM,y_label = 'Risk score', x_label = 'Dose')"
   ]
  },
  {
   "cell_type": "markdown",
   "metadata": {},
   "source": [
    "## Plotting by risk status\n",
    "\n",
    "for `rgt.ls_bar_plot('group', means, SEM)`:\n",
    "* pass 'Risky' or 'Optimal' as the first argument, instead of 'All rats'\n",
    "* use `means_risk` and `SEM_risk` instead"
   ]
  },
  {
   "cell_type": "code",
   "execution_count": null,
   "metadata": {},
   "outputs": [],
   "source": [
    "rgt.ls_bar_plot('Risky',means_risk,SEM_risk)"
   ]
  },
  {
   "cell_type": "code",
   "execution_count": null,
   "metadata": {},
   "outputs": [],
   "source": [
    "rgt.ls_bar_plot('Optimal',means_risk,SEM_risk)"
   ]
  },
  {
   "cell_type": "markdown",
   "metadata": {},
   "source": [
    "### Line plots for other variables by risk status\n",
    "\n",
    "`rgt.rgt_plot('variable',startdose,enddose,title,means,SEM,group_names = None, y_label = 'variable', x_label = 'Dose')`\n",
    "\n",
    "* pass an additional argument to `rgt.rgt_plot`: group_names = group_names_risk\n",
    "* use means_risk and SEM_risk instead \n",
    "* assign `x_label` as 'Dose' (`x_label = 'Session'` by default)\n"
   ]
  },
  {
   "cell_type": "code",
   "execution_count": null,
   "metadata": {},
   "outputs": [],
   "source": [
    "\n",
    "rgt.rgt_plot('risk',startdose,enddose,title,means_risk,SEM_risk,group_names = group_names_risk, y_label = 'Risk score', x_label = 'Dose')\n"
   ]
  },
  {
   "cell_type": "markdown",
   "metadata": {},
   "source": [
    "***\n",
    "# 4) Miscellaneous\n",
    "\n",
    "[back to top](#rGT-functions-for-data-manipulation-and-visualization)"
   ]
  },
  {
   "cell_type": "markdown",
   "metadata": {},
   "source": [
    "## Changing your working directory\n",
    "\n",
    "* Check your current working directory by running `os.getcwd()` \n",
    "    * by default, this will be wherever the jupyter notebook file is saved\n",
    "* After loading in rgt_functions.py, you may want to move to the folder where your data is saved\n",
    "* Change your working directory using `os.chdir('C:\\\\...)`\n",
    "    * can be absolute or relative file path\n",
    "* For example, my current working directory is `'C:\\\\Users\\\\dexte\\\\hathaway_1'`, I can change this by running `os.chdir('C:\\\\Users\\\\dexte\\\\hathaway_1\\\\data')` \n",
    "    * slashes will be different if you are not using Windows\n",
    "* Data files can now be loaded in from and saved to the folder you moved to"
   ]
  },
  {
   "cell_type": "code",
   "execution_count": null,
   "metadata": {},
   "outputs": [],
   "source": [
    "#checks current working directory\n",
    "os.getcwd()\n",
    "\n",
    "#changes working directory to whatever is included in brackets\n",
    "os.chdir('C:\\\\Users\\\\dexte\\\\hathaway_1\\\\data') "
   ]
  },
  {
   "cell_type": "markdown",
   "metadata": {},
   "source": [
    "## Impute missing data by taking the mean\n",
    "\n",
    "`rgt.impute_missing_data(df, session = None, subject = None, choice = 'all', vars = 'all')`\n",
    "\n",
    "* this function takes the mean of the session before and after the missing data, for the specified session and subject\n",
    "    * You can also specify a Group number in the session variable for Latin Square analysis\n",
    "* For example, if you have missing data for subject 12, dose 2, this function will calculate the mean of dose 1 and 3\n",
    "    * Code: `rgt.impute_missing_data(df, session = 2, subject = 12, choice = 'all', vars = 'all')`\n",
    "* You can specify which P1-P4 options you'd like to impute by passing a list to `choice`\n",
    "    * `choice = [1,3]`\n",
    "* You can specify which variables by passing the variable names as a list to `vars`\n",
    "    * `vars = ['prem', 'choice_lat']`"
   ]
  },
  {
   "cell_type": "markdown",
   "metadata": {},
   "source": [
    "## Making changes to the rgt_functions.py file\n",
    "\n",
    "* If you make changes in the .py file, run the following cell\n",
    "* Every time you change & save the .py file, the changes will automatically be loaded into the Notebook!"
   ]
  },
  {
   "cell_type": "code",
   "execution_count": null,
   "metadata": {},
   "outputs": [],
   "source": [
    "%load_ext autoreload\n",
    "%autoreload 2"
   ]
  },
  {
   "cell_type": "markdown",
   "metadata": {},
   "source": [
    "## Example: between-subjects analysis for Latin Square dataset\n",
    "\n",
    "* This example combines information from Section 2 and Section 3\n",
    "* See Section 2 for guidance on how to export to excel, further split by risky/optimal, etc while taking experimental group information into account\n",
    "\n",
    "### Define objects\n",
    "\n",
    "This is similar to defining experimental groups in 2A:\n",
    "* `group_names`: create a dictionary for your group names (here, I'm specifying different brain regions, but you could also specify any number of different experimental groups, e.g., Tg positive and Tg negative, as done in 2A) \n",
    "* `group_list`: create lists of subject numbers for your different groups, then put them together into group_list\n",
    "* load in data using the `load_data(file_names)` function, as described in Section 1"
   ]
  },
  {
   "cell_type": "code",
   "execution_count": 18,
   "metadata": {},
   "outputs": [],
   "source": [
    "group_names = {0:'lOFC',\n",
    "               1:'PrL'} \n",
    "\n",
    "lOFC = [1,2,3,4,5,6,8,9,11,12,13,14,15,16,24,25,26,32]\n",
    "\n",
    "PrL = [18,19,20,21,22,23,27,28,29,30,31]\n",
    "\n",
    "group_list = [lOFC, PrL]\n",
    "\n",
    "file_names = ['BH06_raw_round1-infusions.xlsx',\n",
    "              'BH06_raw_round1-makeup.xlsx',\n",
    "              'BH06_raw_round2-infusions.xlsx']\n",
    "\n",
    "#for plotting:\n",
    "startdose = 1\n",
    "enddose = 4\n",
    "title = '5-HT2c Antagonist'\n"
   ]
  },
  {
   "cell_type": "code",
   "execution_count": 24,
   "metadata": {},
   "outputs": [],
   "source": [
    "df = rgt.load_data(file_names)\n",
    "df = rgt.edit_groups(df, orig_group = [0], new_group = [3], subs = [5])"
   ]
  },
  {
   "cell_type": "markdown",
   "metadata": {},
   "source": [
    "### Calculate descriptive statistics\n",
    "\n",
    "* This is very similar to Section 3A, except that you are passing your group_list and group_names to the `rgt.get_means_sem` function"
   ]
  },
  {
   "cell_type": "code",
   "execution_count": 25,
   "metadata": {},
   "outputs": [],
   "source": [
    "df_sum = rgt.get_summary_data(df, mode = 'Group')\n",
    "\n",
    "df_sum = rgt.impute_missing_data(df_sum, session = 2, subject = 12, choice = 'all', vars = 'all')\n",
    "\n",
    "mean_scores, SEM = rgt.get_means_sem(df_sum, groups = group_list, group_names = group_names)\n",
    "\n"
   ]
  },
  {
   "cell_type": "markdown",
   "metadata": {},
   "source": [
    "### Plotting\n",
    "\n",
    "* Again, this is similar to 3B, except that you will pass the group names for the Choice bar plot instead of 'All rats'\n",
    "* And pass `group_names = group_names` to the `rgt.rgt_plot()` function"
   ]
  },
  {
   "cell_type": "code",
   "execution_count": 28,
   "metadata": {},
   "outputs": [
    {
     "data": {
      "image/png": "[encoded data removed]",
      "text/plain": [
       "<Figure size 720x360 with 1 Axes>"
      ]
     },
     "metadata": {
      "needs_background": "light"
     },
     "output_type": "display_data"
    },
    {
     "data": {
      "image/png": "[encoded data removed]",
      "text/plain": [
       "<Figure size 720x360 with 1 Axes>"
      ]
     },
     "metadata": {
      "needs_background": "light"
     },
     "output_type": "display_data"
    }
   ],
   "source": [
    "rgt.ls_bar_plot('lOFC',mean_scores,SEM)\n",
    "rgt.ls_bar_plot('PrL',mean_scores,SEM)"
   ]
  },
  {
   "cell_type": "code",
   "execution_count": 29,
   "metadata": {},
   "outputs": [
    {
     "data": {
      "image/png": "[encoded data removed]",
      "text/plain": [
       "<Figure size 1080x576 with 1 Axes>"
      ]
     },
     "metadata": {
      "needs_background": "light"
     },
     "output_type": "display_data"
    }
   ],
   "source": [
    "rgt.rgt_plot('prem',startdose,enddose,title,mean_scores,SEM, group_names = group_names, y_label = 'Premature response',x_label = 'Dose')"
   ]
  }
 ],
 "metadata": {
  "kernelspec": {
   "display_name": "Python 3",
   "language": "python",
   "name": "python3"
  },
  "language_info": {
   "codemirror_mode": {
    "name": "ipython",
    "version": 3
   },
   "file_extension": ".py",
   "mimetype": "text/x-python",
   "name": "python",
   "nbconvert_exporter": "python",
   "pygments_lexer": "ipython3",
   "version": "3.8.5"
  }
 },
 "nbformat": 4,
 "nbformat_minor": 4
}
