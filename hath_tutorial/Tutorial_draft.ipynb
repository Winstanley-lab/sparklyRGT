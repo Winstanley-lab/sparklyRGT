{
 "cells": [
  {
   "cell_type": "markdown",
   "metadata": {},
   "source": [
    "# MEDPC Data Tutorial\n",
    "\n",
    "**About:** The purpose of this tutorial is to tidy and plot data. \n",
    "\n",
    "**Contact:**\n",
    "* Dexter Kim: dexterkim2000@gmail.com\n",
    "* Brett Hathaway: bretthathaway@psych.ubc.ca\n",
    "\n",
    "**Requirements**\n",
    "* The data must be an excel file from MEDPC2XL (trial by trial data) \n",
    "* The data, rgt_functions.py file, and this notebook must be in your current working directory\n",
    "\n",
    "**Note: This tutorial is split into multiple sections**\n",
    "* Section 1: Setting Variables (objects) \n",
    "* Section 2: Loading Data into Python \n",
    "* Section 3: Acquisition analysis and plotting\n",
    "* Section 4: Latin Square analysis and plotting\n",
    "* Section 5: Miscellaneous\n",
    "\n",
    "**Please run the following cell!**"
   ]
  },
  {
   "cell_type": "code",
   "execution_count": null,
   "metadata": {},
   "outputs": [],
   "source": [
    "%load_ext autoreload\n",
    "%autoreload 2"
   ]
  },
  {
   "cell_type": "code",
   "execution_count": null,
   "metadata": {},
   "outputs": [],
   "source": [
    "#MEDPC rat gambling task functions imports, will print \"I am being executed!\" if functional\n",
    "import rgt_functions as rgt\n",
    "\n",
    "#main imports \n",
    "import os\n",
    "import pandas as pd\n",
    "import numpy as np\n",
    "\n",
    "# plotting imports \n",
    "import matplotlib.pyplot as plt\n",
    "from matplotlib.ticker import MaxNLocator\n",
    "\n",
    "# stats imports \n",
    "import scipy.stats as stats\n",
    "\n",
    "#the following line prevents pandas from giving unecessary errors \n",
    "pd.options.mode.chained_assignment = None"
   ]
  },
  {
   "cell_type": "markdown",
   "metadata": {},
   "source": [
    "# 1) Setting Variables (objects) \n",
    "\n",
    "Set your variables! These will be used later in the code. Example arguments are left in for clarity.\n",
    "\n",
    "###Brett will edit"
   ]
  },
  {
   "cell_type": "code",
   "execution_count": null,
   "metadata": {},
   "outputs": [],
   "source": [
    "#in file_names (List[str]), add the file names you wish to read into Python \n",
    "# file_names = ['BH07_raw_free_S29-30.xlsx']\n",
    "\n",
    "#in group_names (List[str]), add the names of the control and experimental group, respectively \n",
    "group_names = ['Tg negative','Tg positive'] \n",
    "\n",
    "title = 'Nigrostriatal activation during acquisition' #title for figures, describing the experiment\n",
    "startsess = 29 #first session in this dataset\n",
    "endsess = 30 #last session in this dataset\n",
    "\n",
    "group_names_2 = {0: 'tg negative',\n",
    "              1: 'tg positive'} ###group_names is used twice (as a list, and as a dict)\n",
    "\n",
    "#the following two lines of code assign the rat subject numbers to the experimental and control group lists\n",
    "exp_group = [1, 2, 7, 8, 11, 12, 16, 19, 20, 21, 22, 25, 26, 29, 32] #Tg positive\n",
    "\n",
    "control_group = [3, 4, 5, 6, 9, 13, 14, 15, 17, 18, 23, 24, 27, 28, 30, 31] #Tg negative\n",
    "\n",
    "###for Latin Square analysis\n",
    "file_names = ['BH06_raw_round1-infusions.xlsx', 'BH06_raw_round1-makeup.xlsx']\n",
    "\n",
    "ls_group_names = {0:'lOFC',\n",
    "               1:'PrL'} \n",
    "\n",
    "lOFC = [1,2,3,4,5,8,9,11,12,13,14,15,16]\n",
    "\n",
    "PrL = [6,7] ##have to change this back with the new data\n",
    "\n",
    "ls_groups = [lOFC, PrL]\n",
    "\n",
    "###suggestion, make a data cell for section 3 and 4\n",
    "###solution: move the variables to section 3 and 4 "
   ]
  },
  {
   "cell_type": "markdown",
   "metadata": {},
   "source": [
    "# 2) Load data into Python\n",
    "* `load_data()` takes in one argument: file_names \n",
    "* `load_data()` outputs a table similar to the excel sheet(s) you loaded in. (in the order established in `file_names`) \n",
    "* note: `df` means dataframe, and is an object that will store your dataframe (table containing your data) \n",
    "* passing `reset_sessions = True` ###makes the sessions start from 1 again (you may want to do this for baseline analysis)\n",
    "* `load_multiple_data()` ###loads in multiple cohorts (with the same subject numbers) and assigns them unique subject numbers (ex. subject 1 of cohort 1 --> subject 101) "
   ]
  },
  {
   "cell_type": "code",
   "execution_count": null,
   "metadata": {},
   "outputs": [],
   "source": [
    "df = rgt.load_data(file_names)\n",
    "\n",
    "#load_data won't output a dataframe itself. Use the following function to view the top of your dataframe. Note: it should look the exact same as your first excel file. \n",
    "\n",
    "df.head()"
   ]
  },
  {
   "cell_type": "markdown",
   "metadata": {},
   "source": [
    "# 3A) Acquisition Analysis Section (Analysis by Session)\n",
    "\n",
    "**Check your session data**\n",
    "* `check_sessions` gives us a summary for each rat (subject) including session numbers, session dates and # trials for each session.\n",
    "* This allows us to see if there are any missing/incorrect session numbers, and if MED-PC exported all of the desired data into the Excel file you loaded in (`file_names`). \n",
    "* `edit_sessions()` can change session numbers (not included in the tutorial) "
   ]
  },
  {
   "cell_type": "code",
   "execution_count": null,
   "metadata": {},
   "outputs": [],
   "source": [
    "rgt.check_sessions(df)"
   ]
  },
  {
   "cell_type": "markdown",
   "metadata": {},
   "source": [
    "**To drop/remove data from certain session(s)**\n",
    "* replace `session_num` with the session number data you want to remove\n",
    "* for example, to remove all data from session 28 and 29, I would write: `rgt.drop_sessions(df, [28, 29])`\n",
    "* **make sure to remove the correct session(s)**, if you remove the wrong session and want to put the data back, you'll have to restart the Kernel and restart from `load_data`\n",
    "\n",
    "###do you want drop_sessions to be part of the tutorial? Or edit_sessions()? ###solution: include "
   ]
  },
  {
   "cell_type": "code",
   "execution_count": null,
   "metadata": {},
   "outputs": [],
   "source": [
    "# rgt.drop_sessions(df, session_num) #session_num is a list of integers\n",
    "#needs to be assigned to new object\n",
    "df2 = rgt.drop_sessions(df, [28])"
   ]
  },
  {
   "cell_type": "code",
   "execution_count": null,
   "metadata": {},
   "outputs": [],
   "source": [
    "### this is a cell showing that it works --> 30 becomes 29, and 31 becomes 30, for subjects 17 to 32\n",
    "\n",
    "# rgt.edit_sessions(df2, [30, 31], [29, 30], subs = list(range(17,33)))"
   ]
  },
  {
   "cell_type": "markdown",
   "metadata": {},
   "source": [
    "**Check that you dropped the session desired (in this example, we dropped data from session 28)**"
   ]
  },
  {
   "cell_type": "code",
   "execution_count": null,
   "metadata": {},
   "outputs": [],
   "source": [
    "rgt.check_sessions(df) #df2"
   ]
  },
  {
   "cell_type": "markdown",
   "metadata": {},
   "source": [
    "**Run the following cell to acquire a summary of your data.**\n",
    "\n",
    "The rows represent subjects (rats 1 to n)\n",
    "\n",
    "The columns are explained below:\n",
    "* `##P#` represents the percent choice of each option. For example, `29P1` represents the percentage of times P1 was selected during the 29th session. \n",
    "* `risk##` represents the risk score for each session: (P1 + P2) - (P3 + P4) \n",
    "* `collect_lat##` represents the mean collect latency for each session\n",
    "* `choice_lat##` represents the mean choice latency for each session \n",
    "* `trial##` represents the number of trials (not including premature responses or omissions) for each session\n",
    "* `prem##` represents the number of premature responses for each session"
   ]
  },
  {
   "cell_type": "code",
   "execution_count": null,
   "metadata": {},
   "outputs": [],
   "source": [
    "df_sum = rgt.get_summary_data(df)\n",
    "df_sum #prints the dataset "
   ]
  },
  {
   "cell_type": "markdown",
   "metadata": {},
   "source": [
    "**Get the risk status of the rats using the following code**\n",
    "* Note: \n",
    "    * `risk_status == 1` indicates a positive risk score (optimal) \n",
    "    * `risk_status == 2` indicates a negative risk score (risky)\n",
    "    * `mean_risk` is the mean risk score averaged across the sessions between `startsess` and `endsess` for a given subject\n",
    "        * you can change `startsess` and `endsess` by passing the session numbers instead. For example, `rgt.get_risk_status(df_sum, 28, 30)`\n",
    "    * `print(risky, optimal)` prints out 2 list of rat subjects: the risky rats, and the optimal rats "
   ]
  },
  {
   "cell_type": "code",
   "execution_count": null,
   "metadata": {},
   "outputs": [],
   "source": [
    "df_summary, risky, optimal = rgt.get_risk_status(df_sum, startsess, endsess)\n",
    "\n",
    "print(df_summary[['mean_risk','risk_status']]) #printed 2 of many columns in df_summary ###this could be removed? ###solution: keep it\n",
    "print(risky, optimal) #prints 2 lists: the subject numbers of the risky rats, and the subject numbers of the optimal rats"
   ]
  },
  {
   "cell_type": "markdown",
   "metadata": {},
   "source": [
    "**Export your data to an Excel file!** \n",
    "* Note: `'tg_status'` is the column name that specifies the control vs. experimental group\n",
    "* Note2: `'BH07_free_S29-30.xlsx'` specifies the name of the **new** Excel file \n",
    "\n",
    "###may want to change file_name to new_file_name for clarity ###change it "
   ]
  },
  {
   "cell_type": "code",
   "execution_count": null,
   "metadata": {},
   "outputs": [],
   "source": [
    "rgt.export_to_excel(df_summary, [control_group, exp_group], column_name = 'tg_status', file_name = 'BH07_free_S29-30.xlsx')\n",
    "\n",
    "##Brett will edit control_group"
   ]
  },
  {
   "cell_type": "markdown",
   "metadata": {},
   "source": [
    "**Summarize your data by experimental/control set**\n",
    "* if you only want to view certain columns, specify them in mean_scores \n",
    "    * For example, `mean_scores[['risk29', 'risk30']]` will create a table with only those 2 columns\n",
    "    * Each value is the mean for that column (ex. `29P1`) within the set (`tg negative` or `tg positive`) ###is this correct?\n",
    "    \n",
    "###in addition, it's strange that we have control_group and exp_group as the objects for 'tg_negative' and 'tg_positive', but I think you already noticed this. "
   ]
  },
  {
   "cell_type": "code",
   "execution_count": null,
   "metadata": {},
   "outputs": [],
   "source": [
    "mean_scores, stderror = rgt.get_group_means_sem(df_summary, [control_group, exp_group], group_names_2) ###[control_group, exp_group] = groups \n",
    "mean_scores #all mean scores\n",
    "# mean_scores[['risk29', 'risk30']] #specify columns"
   ]
  },
  {
   "cell_type": "markdown",
   "metadata": {},
   "source": [
    "# 3B) Acquisition Analysis (Plotting Section)\n",
    "\n",
    "**Graph of the table above**\n",
    "* `variable` specifies the variable you want to plot. \n",
    "    * For example, if I want to plot `choice_lat` over sessions for the experimental and control group, I would replace `variable` with `'choice_lat'`\n",
    "* `startsess` and `endsess` can also be replaced with the range of session numbers you'd like to plot \n",
    "    * For example, if I want to plot `choice_lat` over sessions 29 to 31, I would replace `startsess` and `endsess` with `29` and `31` respectively\n",
    "\n",
    "###this could be improved in description - \n",
    "###why does typing 'risk' work? ###explain what they can type into variables "
   ]
  },
  {
   "cell_type": "code",
   "execution_count": null,
   "metadata": {},
   "outputs": [],
   "source": [
    "rgt.rgt_plot('risk', startsess, endsess, group_names_2, title, mean_scores, stderror, var_title = 'risk score') ##group_names_2 has to be a dict not a list "
   ]
  },
  {
   "cell_type": "markdown",
   "metadata": {},
   "source": [
    "**Transforms the above data from a line plot, to a bar plot** \n",
    "* Must use the same arguments ##hard for me to tell why this would occur"
   ]
  },
  {
   "cell_type": "code",
   "execution_count": null,
   "metadata": {},
   "outputs": [],
   "source": [
    "rgt.rgt_bar_plot('risk', startsess, endsess, group_names, title, mean_scores, stderror, var_title = None)"
   ]
  },
  {
   "cell_type": "markdown",
   "metadata": {},
   "source": [
    "**Bar plot of P1-P4 choices**\n",
    "* The following bar plot plots the mean P1-P4 choices for the tg negative and tg positive groups "
   ]
  },
  {
   "cell_type": "code",
   "execution_count": null,
   "metadata": {},
   "outputs": [],
   "source": [
    "rgt.choice_bar_plot(startsess, endsess, mean_scores, stderror)"
   ]
  },
  {
   "cell_type": "markdown",
   "metadata": {},
   "source": [
    "# 4A) Latin Square Analysis (Analysis by Group) \n",
    "\n",
    "* Please note! This is the same workflow as the acquisition analysis "
   ]
  },
  {
   "cell_type": "markdown",
   "metadata": {},
   "source": [
    "**Check your group data**\n",
    "* This will show you the number of trials performed by each subject-group pairing. "
   ]
  },
  {
   "cell_type": "code",
   "execution_count": null,
   "metadata": {},
   "outputs": [],
   "source": [
    "rgt.check_groups(df)"
   ]
  },
  {
   "cell_type": "markdown",
   "metadata": {},
   "source": [
    "**Edit your group data**\n",
    "* For example, if I want to change 0 to 1 for all subjects, I would write `rgt.edit_groups(df, orig_sess = [0], new_sess = [1], subs = \"all\")`\n",
    "    * If I want to do the same thing but only for subject 2 and 3, change `subs = \"all\"` to `subs = [2,3]`\n",
    "* For example, if I want to remove the data for subjects 5, 9 and 12, I would write `rgt.drop_subjects(df, subs = [5, 9, 12])`"
   ]
  },
  {
   "cell_type": "code",
   "execution_count": null,
   "metadata": {},
   "outputs": [],
   "source": [
    "rgt.edit_groups(df, orig_group = [0], new_group = [3], subs = [5])\n",
    "\n",
    "# rgt.drop_subjects(df, subs = [5, 9, 12])"
   ]
  },
  {
   "cell_type": "markdown",
   "metadata": {},
   "source": [
    "**Check that you edited the group desired**"
   ]
  },
  {
   "cell_type": "code",
   "execution_count": null,
   "metadata": {},
   "outputs": [],
   "source": [
    "rgt.check_groups(df)"
   ]
  },
  {
   "cell_type": "markdown",
   "metadata": {},
   "source": [
    "**Run the following cell to acquire a summary of your data.**\n",
    "\n",
    "The rows represent subjects (rats 1 to n)\n",
    "\n",
    "The columns are explained below:\n",
    "* `##P#` represents the percent choice of each option. For example `1P1` represents the percent choice of P1 \n",
    "* `risk##` represents the risk score for each group: (P1 + P2) - (P3 + P4) \n",
    "* `collect_lat##` represents the mean collect latency for each group\n",
    "* `choice_lat##` represents the mean choice latency for each group\n",
    "* `trial##` represents the number of trials (not including premature responses or omissions) for each group\n",
    "* `prem##` represents the number of premature responses for each group"
   ]
  },
  {
   "cell_type": "code",
   "execution_count": null,
   "metadata": {},
   "outputs": [],
   "source": [
    "df1 = rgt.get_summary_data(df, mode = 'Group')\n",
    "df1"
   ]
  },
  {
   "cell_type": "markdown",
   "metadata": {},
   "source": [
    "###Impute your missing data \n",
    "* For example, if you have missing data for subject 12, session 2, you can impute (take the mean of the session before and after). \n",
    "    * Code: `rgt.impute_missing_data(df, session = 2, subject = 12, choice = 'all', vars = 'all')`"
   ]
  },
  {
   "cell_type": "code",
   "execution_count": null,
   "metadata": {},
   "outputs": [],
   "source": [
    "df_group_summary = rgt.impute_missing_data(df1, session = 2, subject = 12, choice = 'all', vars = 'all')\n",
    "df_group_summary"
   ]
  },
  {
   "cell_type": "markdown",
   "metadata": {},
   "source": [
    "**Summarize your data by experimental/control set**\n",
    "* If you only want to view certain columns, specify them in group_means \n",
    "    * For example, `group_means[['omit3', 'omit4']]` will create a table with only those 2 columns ###change\n",
    "    * Each value is the mean for that column (ex. `omit3`) within the set (`lOFC` or `PrL`) ###is this correct?\n",
    "    \n",
    "###this doesn't work - something about stuff being not supported... didn't have time to rewrite it. I really tried...\n",
    "###solutionY: PrL and lOFC cannot contain subject labels that aren't present in the data --> KeyError\n",
    "###solutionX: PrL and lOFC must contain at least 2 subjects. \n",
    "###solution: check that you have X and Y "
   ]
  },
  {
   "cell_type": "code",
   "execution_count": null,
   "metadata": {},
   "outputs": [],
   "source": [
    "group_means, sem = rgt.get_group_means_sem(df1, ls_groups, ls_group_names) \n",
    "group_means\n",
    "# group_means[['omit3', 'omit4']]"
   ]
  },
  {
   "cell_type": "markdown",
   "metadata": {},
   "source": [
    "**Get risk status of the vehicle**\n",
    "\n",
    "###This skipped a lot of steps included in the BH06 LS analysis ###have risky vs optimal graphs, and also have by lOFC/PrL \n",
    "###This is obviously not exported... but I can include it before export"
   ]
  },
  {
   "cell_type": "code",
   "execution_count": null,
   "metadata": {},
   "outputs": [],
   "source": [
    "df1,risky,optimal = rgt.get_risk_status_vehicle(df1) \n",
    "df1"
   ]
  },
  {
   "cell_type": "code",
   "execution_count": null,
   "metadata": {},
   "outputs": [],
   "source": [
    "#make lists for risky and optimal rats in each group\n",
    "#magical function that does that (value for value)\n",
    "\n",
    "#calculate means for risky and optimal by group\n",
    "\n",
    "\n",
    "#group_means_risk, sem_risk = rgt.get_group_means_sem(df1, ls_groups_risk, ls_group_names_risk) "
   ]
  },
  {
   "cell_type": "markdown",
   "metadata": {},
   "source": [
    "**Export your data to an Excel file!** \n",
    "* Note: `'tg_status'` is the column name that specifies the control vs. experimental group\n",
    "* Note2: `'BH07_free_S29-30.xlsx'` specifies the name of the **new** Excel file \n",
    "\n",
    "###may want to change file_name to new_file_name for clarity \n",
    "###does work!"
   ]
  },
  {
   "cell_type": "code",
   "execution_count": null,
   "metadata": {},
   "outputs": [],
   "source": [
    "rgt.export_to_excel(df1,ls_groups,'brain_region','BH06_all-data2.xlsx')"
   ]
  },
  {
   "cell_type": "markdown",
   "metadata": {},
   "source": [
    "# 4B) Plotting Section (by Groups) \n",
    "\n",
    "**Graph of the table above**\n",
    "* `variable` specifies the variable you want to plot. \n",
    "* For example, if I want to plot `choice_lat` over sessions for the experimental and control group, I would replace `variable` with `'choice_lat'`\n",
    "\n",
    "##this could be improved in description"
   ]
  },
  {
   "cell_type": "code",
   "execution_count": null,
   "metadata": {},
   "outputs": [],
   "source": [
    "rgt.ls_bar_plot('lOFC',group_means,sem)"
   ]
  },
  {
   "cell_type": "code",
   "execution_count": null,
   "metadata": {},
   "outputs": [],
   "source": [
    "rgt.ls_bar_plot('PrL',group_means,sem)"
   ]
  },
  {
   "cell_type": "code",
   "execution_count": null,
   "metadata": {},
   "outputs": [],
   "source": [
    "rgt.rgt_plot('omit',1,4,ls_group_names,'5-HT2c Antagonist',group_means,sem,var_title = 'Premature response')"
   ]
  },
  {
   "cell_type": "code",
   "execution_count": null,
   "metadata": {},
   "outputs": [],
   "source": [
    "#plots for risky vs optimal \n",
    "#use group names to specify choice plot for risky or optimal rats "
   ]
  },
  {
   "cell_type": "code",
   "execution_count": null,
   "metadata": {},
   "outputs": [],
   "source": [
    "#line plot with risky and optimal rats from both groups"
   ]
  },
  {
   "cell_type": "markdown",
   "metadata": {},
   "source": [
    "# 5) Miscellaneous Section (more advanced code) "
   ]
  },
  {
   "cell_type": "markdown",
   "metadata": {},
   "source": [
    "**Change your working directory**\n",
    "\n",
    "Instructions: \n",
    "* Check your current working directory by running line 2. \n",
    "* From your working directory, make a data folder (call it: data), and add your .xlsx file into that folder. \n",
    "* Change `('C:\\\\Users\\\\dexte\\\\hathaway_1\\\\data')` to your current working directory and add '\\\\data'\n",
    "* For example, my current working directory is `'C:\\\\Users\\\\dexte\\\\hathaway_1'`, so I enter `'C:\\\\Users\\\\dexte\\\\hathaway_1\\\\data'` into the brackets (slashes will be different if you are not using windows). \n",
    "* This saves all data in your data folder, instead of your current working directory. \n",
    "\n",
    "##default: just have their data in their cwd (easier option)\n",
    "##future: write a function that will save files in separate folder (for them)"
   ]
  },
  {
   "cell_type": "code",
   "execution_count": null,
   "metadata": {},
   "outputs": [],
   "source": [
    "#checks current working directory\n",
    "os.getcwd()\n",
    "\n",
    "#changes working directory to whatever is included in brackets\n",
    "os.chdir('C:\\\\Users\\\\dexte\\\\hathaway_1\\\\data') "
   ]
  }
 ],
 "metadata": {
  "kernelspec": {
   "display_name": "Python 3",
   "language": "python",
   "name": "python3"
  },
  "language_info": {
   "codemirror_mode": {
    "name": "ipython",
    "version": 3
   },
   "file_extension": ".py",
   "mimetype": "text/x-python",
   "name": "python",
   "nbconvert_exporter": "python",
   "pygments_lexer": "ipython3",
   "version": "3.8.5"
  }
 },
 "nbformat": 4,
 "nbformat_minor": 4
}
