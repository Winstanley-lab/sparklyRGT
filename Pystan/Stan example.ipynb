{
 "cells": [
  {
   "cell_type": "code",
   "execution_count": null,
   "metadata": {},
   "outputs": [],
   "source": [
    "import stan #install pystan using pip first\n",
    "import os\n",
    "import model_data as md \n",
    "import pandas as pd\n",
    "import numpy as np\n",
    "import pickle\n",
    "\n",
    "#arviz is for visualization of stan output\n",
    "import arviz as az #install using pip first\n",
    "import sparklyRGT as rgt\n",
    "\n",
    "#the following package allows us to use pystan in jupyter lab/notebook\n",
    "#note: must be installed using pip first\n",
    "import nest_asyncio\n",
    "nest_asyncio.apply()\n",
    "pd.options.mode.chained_assignment = None"
   ]
  },
  {
   "cell_type": "code",
   "execution_count": null,
   "metadata": {},
   "outputs": [],
   "source": [
    "#compile stan model\n",
    "#eight schools example from pystan \"getting started\" guide\n",
    "\n",
    "schools_code = \"\"\"\n",
    "data {\n",
    "  int<lower=0> J;         // number of schools\n",
    "  real y[J];              // estimated treatment effects\n",
    "  real<lower=0> sigma[J]; // standard error of effect estimates\n",
    "}\n",
    "parameters {\n",
    "  real mu;                // population treatment effect\n",
    "  real<lower=0> tau;      // standard deviation in treatment effects\n",
    "  vector[J] eta;          // unscaled deviation from mu by school\n",
    "}\n",
    "transformed parameters {\n",
    "  vector[J] theta = mu + tau * eta;        // school treatment effects\n",
    "}\n",
    "model {\n",
    "  target += normal_lpdf(eta | 0, 1);       // prior log-density\n",
    "  target += normal_lpdf(y | theta, sigma); // log-likelihood\n",
    "}\n",
    "\"\"\"\n",
    "\n",
    "#data stored as dictionary\n",
    "schools_data = {\"J\": 8,\n",
    "                \"y\": [28,  8, -3,  7, -1,  1, 18, 12],\n",
    "                \"sigma\": [15, 10, 16, 11,  9, 11, 10, 18]}\n",
    "\n",
    "#compile model\n",
    "#converts stan model into C++ code and then compiles that code\n",
    "posterior = stan.build(schools_code, data=schools_data)\n",
    "#compiled model is stored in \"build\" folder in cwd"
   ]
  },
  {
   "cell_type": "code",
   "execution_count": null,
   "metadata": {},
   "outputs": [],
   "source": [
    "#draw samples\n",
    "#setting num_chains = 4 draws samples in parallel using 4 CPU cores\n",
    "fit = posterior.sample(num_chains=4, num_samples=1000)\n",
    "#output \"fit\" holds everything produced by the Stan sampler"
   ]
  },
  {
   "cell_type": "code",
   "execution_count": null,
   "metadata": {},
   "outputs": [],
   "source": [
    "#extract draws associated with a single variable\n",
    "eta = fit[\"eta\"]\n",
    "\n",
    "#extract all variables into Pandas dataframe\n",
    "df = fit.to_frame() \n",
    "print(df.describe().T)"
   ]
  }
 ],
 "metadata": {
  "kernelspec": {
   "display_name": "Python 3",
   "language": "python",
   "name": "python3"
  },
  "language_info": {
   "codemirror_mode": {
    "name": "ipython",
    "version": 3
   },
   "file_extension": ".py",
   "mimetype": "text/x-python",
   "name": "python",
   "nbconvert_exporter": "python",
   "pygments_lexer": "ipython3",
   "version": "3.8.3"
  }
 },
 "nbformat": 4,
 "nbformat_minor": 4
}
