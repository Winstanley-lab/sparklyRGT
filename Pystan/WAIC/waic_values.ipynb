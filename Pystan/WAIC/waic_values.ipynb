{
 "cells": [
  {
   "cell_type": "code",
   "execution_count": 3,
   "metadata": {},
   "outputs": [
    {
     "name": "stdout",
     "output_type": "stream",
     "text": [
      "I am being executed!\n"
     ]
    }
   ],
   "source": [
    "import numpy as np\n",
    "import os \n",
    "import arviz as az\n",
    "import scipy as sp\n",
    "import scipy.io as sio\n",
    "import scipy.stats as stats\n",
    "from scipy.optimize import minimize\n",
    "import matplotlib.pyplot as plt\n",
    "import seaborn as sns\n",
    "import pandas as pd\n",
    "import pickle\n",
    "import importlib\n",
    "import math\n",
    "import xarray as xr\n",
    "import waic as wc\n",
    "os.chdir(\"C:\\\\Users\\\\dexte\\\\sparklyRGT\\\\sparklyRGT_tutorial\") \n",
    "import sparklyRGT as rgt\n",
    "os.chdir(\"C:\\\\Users\\\\dexte\\\\sparklyRGT\\\\Pystan\") \n",
    "import model_data as md"
   ]
  },
  {
   "cell_type": "code",
   "execution_count": 4,
   "metadata": {},
   "outputs": [],
   "source": [
    "%load_ext autoreload\n",
    "%autoreload 2"
   ]
  },
  {
   "cell_type": "code",
   "execution_count": 5,
   "metadata": {},
   "outputs": [],
   "source": [
    "os.chdir('nc_files')"
   ]
  },
  {
   "cell_type": "code",
   "execution_count": 6,
   "metadata": {},
   "outputs": [],
   "source": [
    "loss_basic_fit = az.from_netcdf('loss_basic_fit.nc')\n",
    "outcome_basic_fit = az.from_netcdf('outcome_basic_fit.nc')\n",
    "random_basic_fit = az.from_netcdf('random_basic_fit.nc')\n",
    "reverse_basic_fit = az.from_netcdf('reverse_basic_fit.nc')\n",
    "standard_basic_fit = az.from_netcdf('standard_basic_fit.nc')\n",
    "uncued_basic_fit = az.from_netcdf('uncued_basic_fit.nc')\n",
    "\n",
    "loss_basicstar_fit = az.from_netcdf('loss_basic-star_fit.nc')\n",
    "outcome_basicstar_fit = az.from_netcdf('outcome_basic-star_fit.nc')\n",
    "random_basicstar_fit = az.from_netcdf('random_basic-star_fit.nc')\n",
    "reverse_basicstar_fit = az.from_netcdf('reverse_basic-star_fit.nc')\n",
    "standard_basicstar_fit = az.from_netcdf('standard_basic-star_fit.nc')\n",
    "uncued_basicstar_fit = az.from_netcdf('uncued_basic-star_fit.nc')\n",
    "\n",
    "loss_pscale_fit = az.from_netcdf('loss_pscale_fit.nc')\n",
    "outcome_pscale_fit = az.from_netcdf('outcome_pscale_fit.nc')\n",
    "random_pscale_fit = az.from_netcdf('random_pscale_fit.nc')\n",
    "# reverse_pscale_fit = az.from_netcdf('reverse_pscale_fit.nc')\n",
    "standard_pscale_fit = az.from_netcdf('standard_pscale_fit.nc')\n",
    "uncued_pscale_fit = az.from_netcdf('uncued_pscale_fit.nc')\n",
    "\n",
    "loss_pscalestar_fit = az.from_netcdf('loss_pscale-star_fit.nc')\n",
    "outcome_pscalestar_fit = az.from_netcdf('outcome_pscale-star_fit.nc')\n",
    "random_pscalestar_fit = az.from_netcdf('random_pscale-star_fit.nc')\n",
    "reverse_pscalestar_fit = az.from_netcdf('reverse_pscale-star_fit.nc')\n",
    "standard_pscalestar_fit = az.from_netcdf('standard_pscale-star_fit.nc')\n",
    "uncued_pscalestar_fit = az.from_netcdf('uncued_pscale-star_fit.nc')"
   ]
  },
  {
   "cell_type": "code",
   "execution_count": 12,
   "metadata": {},
   "outputs": [],
   "source": [
    "os.chdir(\"..\") \n",
    "fnames = ['BH09_raw-free_S1-5_corrected.xlsx','CH02_corrected.xlsx','NA01_raw_free-choice_S8-18.xlsx',\"CH01_corrected.xlsx\"]\n",
    "df = rgt.load_multiple_data(fnames, reset_sessions = True)"
   ]
  },
  {
   "cell_type": "code",
   "execution_count": 13,
   "metadata": {},
   "outputs": [],
   "source": [
    "#rename MSNs so that the rats on the outcome task don't have \"loss\" in the MSN\n",
    "for i in range(len(df)):\n",
    "    if df.at[i, 'MSN'] == 'LossrGT_A-losscue_v1':\n",
    "        df.at[i,'MSN'] = 'outcomeRGT_A'\n",
    "    if df.at[i, 'MSN'] == 'LossrGT_B-losscue_v1':\n",
    "        df.at[i,'MSN'] = 'outcomeRGT_B'\n",
    "        \n",
    "#rename MSNs so that the rats on the random task don't have \"loss\" in the MSN\n",
    "for i in range(len(df)):\n",
    "    if df.at[i,'MSN'] == 'AnarchyrGT_B-losscue_v6':\n",
    "        df.at[i,'MSN'] = 'RandomRGT_B'\n",
    "    if df.at[i,'MSN'] == 'AnarchyrGT_A-losscue_v6':\n",
    "        df.at[i,'MSN'] = 'RandomRGT_A'\n",
    "        \n",
    "task_list = df.groupby(['MSN'])['Subject'].unique()"
   ]
  },
  {
   "cell_type": "code",
   "execution_count": 14,
   "metadata": {},
   "outputs": [],
   "source": [
    "uncued_subs = np.concatenate(task_list[[task for task in df.MSN.unique() if 'Classic' in task]])\n",
    "standard_subs = np.concatenate((task_list['rGT_A-cue'], task_list['rGT_B-cue']))\n",
    "reverse_subs = np.concatenate((np.concatenate(task_list[[task for task in df.MSN.unique() if 'Mis' in task]]),\n",
    "                              np.concatenate(task_list[[task for task in df.MSN.unique() if 'Rev' in task]])))\n",
    "outcome_subs = np.concatenate(task_list[[task for task in df.MSN.unique() if 'outcome' in task]])\n",
    "random_subs = np.concatenate(task_list[[task for task in df.MSN.unique() if 'Random' in task]])\n",
    "loss_subs = np.concatenate(task_list[[task for task in df.MSN.unique() if 'oss' in task]])\n",
    "\n",
    "subs = [uncued_subs,standard_subs,reverse_subs,outcome_subs,random_subs,loss_subs]"
   ]
  },
  {
   "cell_type": "code",
   "execution_count": 16,
   "metadata": {},
   "outputs": [
    {
     "name": "stdout",
     "output_type": "stream",
     "text": [
      "12788\n",
      "4000\n",
      "51152000\n"
     ]
    },
    {
     "name": "stderr",
     "output_type": "stream",
     "text": [
      "C:\\Users\\dexte\\anaconda3\\lib\\site-packages\\arviz\\stats\\stats.py:1466: UserWarning: For one or more samples the posterior variance of the log predictive densities exceeds 0.4. This could be indication of WAIC starting to fail. \n",
      "See http://arxiv.org/abs/1507.04544 for details\n",
      "  warnings.warn(\n"
     ]
    },
    {
     "data": {
      "text/plain": [
       "Computed from 4000 by 12788 log-likelihood matrix\n",
       "\n",
       "          Estimate       SE\n",
       "elpd_waic -16517.43     4.15\n",
       "p_waic     7820.88        -\n",
       "\n",
       "There has been a warning during the calculation. Please check the results."
      ]
     },
     "execution_count": 16,
     "metadata": {},
     "output_type": "execute_result"
    }
   ],
   "source": [
    "loss_basic_waic = wc.waic_basic_fit(df, 5, loss_subs, loss_basic_fit)\n",
    "loss_basic_waic"
   ]
  },
  {
   "cell_type": "code",
   "execution_count": null,
   "metadata": {},
   "outputs": [],
   "source": [
    "loss_basic_waic = wc.waic_basic_fit(df, 5, loss_subs, loss_basic_fit)\n",
    "outcome_basic_waic = wc.waic_basic_fit(df, 5, outcome_subs, outcome_basic_fit)\n",
    "random_basic_waic = wc.waic_basic_fit(df, 5, random_subs, random_basic_fit)\n",
    "reverse_basic_waic = wc.waic_basic_fit(df, 5, reverse_subs, reverse_basic_fit)\n",
    "standard_basic_waic = wc.waic_basic_fit(df, 5, standard_subs, standard_basic_fit)\n",
    "uncued_basic_waic = wc.waic_basic_fit(df, 5, uncued_subs, uncued_basic_fit)"
   ]
  },
  {
   "cell_type": "code",
   "execution_count": null,
   "metadata": {},
   "outputs": [],
   "source": [
    "loss_basicstar_waic = wc.waic_basicstar_fit(df, 5, loss_subs, loss_basicstar_fit)\n",
    "outcome_basicstar_waic = wc.waic_basicstar_fit(df, 5, outcome_subs, outcome_basicstar_fit)\n",
    "random_basicstar_waic = wc.waic_basicstar_fit(df, 5, random_subs, random_basicstar_fit)\n",
    "reverse_basicstar_waic = wc.waic_basicstar_fit(df, 5, reverse_subs, reverse_basicstar_fit)\n",
    "standard_basicstar_waic = wc.waic_basicstar_fit(df, 5, standard_subs, standard_basicstar_fit)\n",
    "uncued_basicstar_waic = wc.waic_basicstar_fit(df, 5, uncued_subs, uncued_basicstar_fit)"
   ]
  },
  {
   "cell_type": "code",
   "execution_count": null,
   "metadata": {},
   "outputs": [],
   "source": [
    "loss_pscale_waic = wc.waic_pscale_fit(df, 5, loss_subs, loss_pscale_fit)\n",
    "outcome_pscale_waic = wc.waic_pscale_fit(df, 5, outcome_subs, outcome_pscale_fit)\n",
    "random_pscale_waic = wc.waic_pscale_fit(df, 5, random_subs, random_pscale_fit)\n",
    "reverse_pscale_waic = wc.waic_pscale_fit(df, 5, reverse_subs, reverse_pscale_fit)\n",
    "standard_pscale_waic = wc.waic_pscale_fit(df, 5, standard_subs, standard_pscale_fit)\n",
    "uncued_pscale_waic = wc.waic_pscale_fit(df, 5, uncued_subs, uncued_pscale_fit)"
   ]
  },
  {
   "cell_type": "code",
   "execution_count": null,
   "metadata": {},
   "outputs": [],
   "source": [
    "loss_pscalestar_waic = wc.waic_pscalestar_fit(df, 5, loss_subs, loss_pscalestar_fit)\n",
    "outcome_pscalestar_waic = wc.waic_pscalestar_fit(df, 5, outcome_subs, outcome_pscalestar_fit)\n",
    "random_pscalestar_waic = wc.waic_pscalestar_fit(df, 5, random_subs, random_pscalestar_fit)\n",
    "reverse_pscalestar_waic = wc.waic_pscalestar_fit(df, 5, reverse_subs, reverse_pscalestar_fit)\n",
    "standard_pscalestar_waic = wc.waic_pscalestar_fit(df, 5, standard_subs, standard_pscalestar_fit)\n",
    "uncued_pscalestar_waic = wc.waic_pscalestar_fit(df, 5, uncued_subs, uncued_pscalestar_fit)"
   ]
  }
 ],
 "metadata": {
  "kernelspec": {
   "display_name": "Python 3",
   "language": "python",
   "name": "python3"
  },
  "language_info": {
   "codemirror_mode": {
    "name": "ipython",
    "version": 3
   },
   "file_extension": ".py",
   "mimetype": "text/x-python",
   "name": "python",
   "nbconvert_exporter": "python",
   "pygments_lexer": "ipython3",
   "version": "3.8.5"
  }
 },
 "nbformat": 4,
 "nbformat_minor": 4
}
