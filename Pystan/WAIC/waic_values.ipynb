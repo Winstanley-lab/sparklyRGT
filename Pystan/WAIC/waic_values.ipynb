{
 "cells": [
  {
   "cell_type": "code",
   "execution_count": 3,
   "metadata": {},
   "outputs": [
    {
     "name": "stdout",
     "output_type": "stream",
     "text": [
      "I am being executed!\n"
     ]
    }
   ],
   "source": [
    "import numpy as np\n",
    "import os \n",
    "import arviz as az\n",
    "import pandas as pd\n",
    "import math\n",
    "import xarray as xr\n",
    "import model_data as md"
   ]
  },
  {
   "cell_type": "code",
   "execution_count": 5,
   "metadata": {},
   "outputs": [],
   "source": [
    "os.chdir('nc_files')"
   ]
  },
  {
   "cell_type": "code",
   "execution_count": 6,
   "metadata": {},
   "outputs": [],
   "source": [
    "loss_basic_fit = az.from_netcdf('loss_basic_fit.nc')\n",
    "outcome_basic_fit = az.from_netcdf('outcome_basic_fit.nc')\n",
    "random_basic_fit = az.from_netcdf('random_basic_fit.nc')\n",
    "reverse_basic_fit = az.from_netcdf('reverse_basic_fit.nc')\n",
    "standard_basic_fit = az.from_netcdf('standard_basic_fit.nc')\n",
    "uncued_basic_fit = az.from_netcdf('uncued_basic_fit.nc')\n",
    "\n",
    "loss_basicstar_fit = az.from_netcdf('loss_basic-star_fit.nc')\n",
    "outcome_basicstar_fit = az.from_netcdf('outcome_basic-star_fit.nc')\n",
    "random_basicstar_fit = az.from_netcdf('random_basic-star_fit.nc')\n",
    "reverse_basicstar_fit = az.from_netcdf('reverse_basic-star_fit.nc')\n",
    "standard_basicstar_fit = az.from_netcdf('standard_basic-star_fit.nc')\n",
    "uncued_basicstar_fit = az.from_netcdf('uncued_basic-star_fit.nc')\n",
    "\n",
    "loss_pscale_fit = az.from_netcdf('loss_pscale_fit.nc')\n",
    "outcome_pscale_fit = az.from_netcdf('outcome_pscale_fit.nc')\n",
    "random_pscale_fit = az.from_netcdf('random_pscale_fit.nc')\n",
    "reverse_pscale_fit = az.from_netcdf('reverse_pscale_fit.nc')\n",
    "standard_pscale_fit = az.from_netcdf('standard_pscale_fit.nc')\n",
    "uncued_pscale_fit = az.from_netcdf('uncued_pscale_fit.nc')\n",
    "\n",
    "loss_pscalestar_fit = az.from_netcdf('loss_pscale-star_fit.nc')\n",
    "outcome_pscalestar_fit = az.from_netcdf('outcome_pscale-star_fit.nc')\n",
    "random_pscalestar_fit = az.from_netcdf('random_pscale-star_fit.nc')\n",
    "reverse_pscalestar_fit = az.from_netcdf('reverse_pscale-star_fit.nc')\n",
    "standard_pscalestar_fit = az.from_netcdf('standard_pscale-star_fit.nc')\n",
    "uncued_pscalestar_fit = az.from_netcdf('uncued_pscale-star_fit.nc')"
   ]
  },
  {
   "cell_type": "code",
   "execution_count": 2,
   "metadata": {},
   "outputs": [
    {
     "ename": "NameError",
     "evalue": "name 'md' is not defined",
     "output_type": "error",
     "traceback": [
      "\u001b[1;31m---------------------------------------------------------------------------\u001b[0m",
      "\u001b[1;31mNameError\u001b[0m                                 Traceback (most recent call last)",
      "\u001b[1;32m<ipython-input-2-835c95c510c7>\u001b[0m in \u001b[0;36m<module>\u001b[1;34m\u001b[0m\n\u001b[0;32m      1\u001b[0m \u001b[1;31m# os.chdir(\"..\")\u001b[0m\u001b[1;33m\u001b[0m\u001b[1;33m\u001b[0m\u001b[1;33m\u001b[0m\u001b[0m\n\u001b[0;32m      2\u001b[0m \u001b[0mfnames\u001b[0m \u001b[1;33m=\u001b[0m \u001b[1;33m[\u001b[0m\u001b[1;34m'BH09_raw-free_S1-5_corrected.xlsx'\u001b[0m\u001b[1;33m,\u001b[0m\u001b[1;34m'CH02_corrected.xlsx'\u001b[0m\u001b[1;33m,\u001b[0m\u001b[1;34m'NA01_raw_free-choice_S8-18.xlsx'\u001b[0m\u001b[1;33m,\u001b[0m\u001b[1;34m\"CH01_corrected.xlsx\"\u001b[0m\u001b[1;33m]\u001b[0m\u001b[1;33m\u001b[0m\u001b[1;33m\u001b[0m\u001b[0m\n\u001b[1;32m----> 3\u001b[1;33m \u001b[0mdf\u001b[0m \u001b[1;33m=\u001b[0m \u001b[0mmd\u001b[0m\u001b[1;33m.\u001b[0m\u001b[0mload_multiple_data\u001b[0m\u001b[1;33m(\u001b[0m\u001b[0mfnames\u001b[0m\u001b[1;33m,\u001b[0m \u001b[0mreset_sessions\u001b[0m \u001b[1;33m=\u001b[0m \u001b[1;32mTrue\u001b[0m\u001b[1;33m)\u001b[0m\u001b[1;33m\u001b[0m\u001b[1;33m\u001b[0m\u001b[0m\n\u001b[0m",
      "\u001b[1;31mNameError\u001b[0m: name 'md' is not defined"
     ]
    }
   ],
   "source": [
    "# os.chdir(\"..\") \n",
    "fnames = ['BH09_raw-free_S1-5_corrected.xlsx','CH02_corrected.xlsx','NA01_raw_free-choice_S8-18.xlsx',\"CH01_corrected.xlsx\"]\n",
    "df = md.load_multiple_data(fnames, reset_sessions = True)"
   ]
  },
  {
   "cell_type": "code",
   "execution_count": 13,
   "metadata": {},
   "outputs": [],
   "source": [
    "#rename MSNs so that the rats on the outcome task don't have \"loss\" in the MSN\n",
    "for i in range(len(df)):\n",
    "    if df.at[i, 'MSN'] == 'LossrGT_A-losscue_v1':\n",
    "        df.at[i,'MSN'] = 'outcomeRGT_A'\n",
    "    if df.at[i, 'MSN'] == 'LossrGT_B-losscue_v1':\n",
    "        df.at[i,'MSN'] = 'outcomeRGT_B'\n",
    "        \n",
    "#rename MSNs so that the rats on the random task don't have \"loss\" in the MSN\n",
    "for i in range(len(df)):\n",
    "    if df.at[i,'MSN'] == 'AnarchyrGT_B-losscue_v6':\n",
    "        df.at[i,'MSN'] = 'RandomRGT_B'\n",
    "    if df.at[i,'MSN'] == 'AnarchyrGT_A-losscue_v6':\n",
    "        df.at[i,'MSN'] = 'RandomRGT_A'\n",
    "        \n",
    "task_list = df.groupby(['MSN'])['Subject'].unique()"
   ]
  },
  {
   "cell_type": "code",
   "execution_count": 14,
   "metadata": {},
   "outputs": [],
   "source": [
    "uncued_subs = np.concatenate(task_list[[task for task in df.MSN.unique() if 'Classic' in task]])\n",
    "standard_subs = np.concatenate((task_list['rGT_A-cue'], task_list['rGT_B-cue']))\n",
    "reverse_subs = np.concatenate((np.concatenate(task_list[[task for task in df.MSN.unique() if 'Mis' in task]]),\n",
    "                              np.concatenate(task_list[[task for task in df.MSN.unique() if 'Rev' in task]])))\n",
    "outcome_subs = np.concatenate(task_list[[task for task in df.MSN.unique() if 'outcome' in task]])\n",
    "random_subs = np.concatenate(task_list[[task for task in df.MSN.unique() if 'Random' in task]])\n",
    "loss_subs = np.concatenate(task_list[[task for task in df.MSN.unique() if 'oss' in task]])"
   ]
  },
  {
   "cell_type": "code",
   "execution_count": null,
   "metadata": {},
   "outputs": [],
   "source": [
    "loss_basic_waic = wc.waic_fit(df, 5, loss_subs, loss_basic_fit, \"basic\")\n",
    "outcome_basic_waic = wc.waic_fit(df, 5, outcome_subs, outcome_basic_fit, \"basic\")\n",
    "random_basic_waic = wc.waic_fit(df, 5, random_subs, random_basic_fit, \"basic\")\n",
    "reverse_basic_waic = wc.waic_fit(df, 5, reverse_subs, reverse_basic_fit, \"basic\")\n",
    "standard_basic_waic = wc.waic_fit(df, 5, standard_subs, standard_basic_fit, \"basic\")\n",
    "uncued_basic_waic = wc.waic_fit(df, 5, uncued_subs, uncued_basic_fit, \"basic\")\n",
    "\n",
    "basic_list = [loss_basic_waic.waic, outcome_basic_waic.waic, random_basic_waic.waic, reverse_basic_waic.waic, standard_basic_waic.waic, uncued_basic_waic.waic]\n",
    "basic_list_SE = [loss_basic_waic.waic_se, outcome_basic_waic.waic_se, random_basic_waic.waic_se, reverse_basic_waic.waic_se, standard_basic_waic.waic_se, uncued_basic_waic.waic_se]"
   ]
  },
  {
   "cell_type": "code",
   "execution_count": null,
   "metadata": {},
   "outputs": [],
   "source": [
    "loss_basicstar_waic = wc.waic_fit(df, 5, loss_subs, loss_basicstar_fit, \"basicstar\")\n",
    "outcome_basicstar_waic = wc.waic_fit(df, 5, outcome_subs, outcome_basicstar_fit, \"basicstar\")\n",
    "random_basicstar_waic = wc.waic_fit(df, 5, random_subs, random_basicstar_fit, \"basicstar\")\n",
    "reverse_basicstar_waic = wc.waic_fit(df, 5, reverse_subs, reverse_basicstar_fit, \"basicstar\")\n",
    "standard_basicstar_waic = wc.waic_fit(df, 5, standard_subs, standard_basicstar_fit, \"basicstar\")\n",
    "uncued_basicstar_waic = wc.waic_fit(df, 5, uncued_subs, uncued_basicstar_fit, \"basicstar\")\n",
    "\n",
    "basicstar_list = [loss_basicstar_waic.waic, outcome_basicstar_waic.waic, random_basicstar_waic.waic, reverse_basicstar_waic.waic, standard_basicstar_waic.waic, uncued_basicstar_waic.waic]\n",
    "basicstar_list_SE = [loss_basicstar_waic.waic_se, outcome_basicstar_waic.waic_se, random_basicstar_waic.waic_se, reverse_basicstar_waic.waic_se, standard_basicstar_waic.waic_se, uncued_basicstar_waic.waic_se]"
   ]
  },
  {
   "cell_type": "code",
   "execution_count": null,
   "metadata": {},
   "outputs": [],
   "source": [
    "loss_pscale_waic = wc.waic_fit(df, 5, loss_subs, loss_pscale_fit, \"pscale\")\n",
    "outcome_pscale_waic = wc.waic_fit(df, 5, outcome_subs, outcome_pscale_fit, \"pscale\")\n",
    "random_pscale_waic = wc.waic_fit(df, 5, random_subs, random_pscale_fit, \"pscale\")\n",
    "reverse_pscale_waic = wc.waic_fit(df, 5, reverse_subs, reverse_pscale_fit, \"pscale\")\n",
    "standard_pscale_waic = wc.waic_fit(df, 5, standard_subs, standard_pscale_fit, \"pscale\")\n",
    "uncued_pscale_waic = wc.waic_fit(df, 5, uncued_subs, uncued_pscale_fit, \"pscale\")\n",
    "\n",
    "pscale_list = [loss_pscale_waic.waic, outcome_pscale_waic.waic, random_pscale_waic.waic, reverse_pscale_waic.waic, standard_pscale_waic.waic, uncued_pscale_waic.waic]\n",
    "pscale_list_SE = [loss_pscale_waic.waic_se, outcome_pscale_waic.waic_se, random_pscale_waic.waic_se, reverse_pscale_waic.waic_se, standard_pscale_waic.waic_se, uncued_pscale_waic.waic_se]"
   ]
  },
  {
   "cell_type": "code",
   "execution_count": null,
   "metadata": {},
   "outputs": [],
   "source": [
    "loss_pscalestar_waic = wc.waic_fit(df, 5, loss_subs, loss_pscalestar_fit, \"pscalestar\")\n",
    "outcome_pscalestar_waic = wc.waic_fit(df, 5, outcome_subs, outcome_pscalestar_fit, \"pscalestar\")\n",
    "random_pscalestar_waic = wc.waic_fit(df, 5, random_subs, random_pscalestar_fit, \"pscalestar\")\n",
    "reverse_pscalestar_waic = wc.waic_fit(df, 5, reverse_subs, reverse_pscalestar_fit, \"pscalestar\")\n",
    "standard_pscalestar_waic = wc.waic_fit(df, 5, standard_subs, standard_pscalestar_fit, \"pscalestar\")\n",
    "uncued_pscalestar_waic = wc.waic_fit(df, 5, uncued_subs, uncued_pscalestar_fit, \"pscalestar\")\n",
    "\n",
    "pscalestar_list = [loss_pscalestar_waic.waic, outcome_pscalestar_waic.waic, random_pscalestar_waic.waic, reverse_pscalestar_waic.waic, standard_pscalestar_waic.waic, uncued_pscalestar_waic.waic]\n",
    "pscalestar_list_SE = [loss_pscalestar_waic.waic_se, outcome_pscalestar_waic.waic_se, random_pscalestar_waic.waic_se, reverse_pscalestar_waic.waic_se, standard_pscalestar_waic.waic_se, uncued_pscalestar_waic.waic_se]"
   ]
  },
  {
   "cell_type": "code",
   "execution_count": null,
   "metadata": {},
   "outputs": [],
   "source": [
    "loss_pindep_waic = wc.waic_fit(df, 5, loss_subs, loss_pindep_fit, \"pindep\")\n",
    "outcome_pindep_waic = wc.waic_fit(df, 5, outcome_subs, outcome_pindep_fit, \"pindep\")\n",
    "random_pindep_waic = wc.waic_fit(df, 5, random_subs, random_pindep_fit, \"pindep\")\n",
    "reverse_pindep_waic = wc.waic_fit(df, 5, reverse_subs, reverse_pindep_fit, \"pindep\")\n",
    "standard_pindep_waic = wc.waic_fit(df, 5, standard_subs, standard_pindep_fit, \"pindep\")\n",
    "uncued_pindep_waic = wc.waic_fit(df, 5, uncued_subs, uncued_pindep_fit, \"pindep\")\n",
    "\n",
    "pindep_list = [loss_pindep_waic.waic, outcome_pindep_waic.waic, random_pindep_waic.waic, reverse_pindep_waic.waic, standard_pindep_waic.waic, uncued_pindep_waic.waic]\n",
    "pindep_list_SE = [loss_pindep_waic.waic_se, outcome_pindep_waic.waic_se, random_pindep_waic.waic_se, reverse_pindep_waic.waic_se, standard_pindep_waic.waic_se, uncued_pindep_waic.waic_se]"
   ]
  },
  {
   "cell_type": "code",
   "execution_count": null,
   "metadata": {},
   "outputs": [],
   "source": [
    "loss_pindepstar_waic = wc.waic_fit(df, 5, loss_subs, loss_pindepstar_fit, \"pindepstar\")\n",
    "outcome_pindepstar_waic = wc.waic_fit(df, 5, outcome_subs, outcome_pindepstar_fit, \"pindepstar\")\n",
    "random_pindepstar_waic = wc.waic_fit(df, 5, random_subs, random_pindepstar_fit, \"pindepstar\")\n",
    "reverse_pindepstar_waic = wc.waic_fit(df, 5, reverse_subs, reverse_pindepstar_fit, \"pindepstar\")\n",
    "standard_pindepstar_waic = wc.waic_fit(df, 5, standard_subs, standard_pindepstar_fit, \"pindepstar\")\n",
    "uncued_pindepstar_waic = wc.waic_fit(df, 5, uncued_subs, uncued_pindepstar_fit, \"pindepstar\")\n",
    "\n",
    "pindepstar_list = [loss_pindepstar_waic.waic, outcome_pindepstar_waic.waic, random_pindepstar_waic.waic, reverse_pindepstar_waic.waic, standard_pindepstar_waic.waic, uncued_pindepstar_waic.waic]\n",
    "pindepstar_list_SE = [loss_pindepstar_waic.waic_se, outcome_pindepstar_waic.waic_se, random_pindepstar_waic.waic_se, reverse_pindepstar_waic.waic_se, standard_pindepstar_waic.waic_se, uncued_pindepstar_waic.waic_se]"
   ]
  },
  {
   "cell_type": "code",
   "execution_count": 1,
   "metadata": {
    "collapsed": true,
    "jupyter": {
     "outputs_hidden": true
    }
   },
   "outputs": [
    {
     "ename": "NameError",
     "evalue": "name 'pd' is not defined",
     "output_type": "error",
     "traceback": [
      "\u001b[1;31m---------------------------------------------------------------------------\u001b[0m",
      "\u001b[1;31mNameError\u001b[0m                                 Traceback (most recent call last)",
      "\u001b[1;32m<ipython-input-1-a0051e2def31>\u001b[0m in \u001b[0;36m<module>\u001b[1;34m\u001b[0m\n\u001b[1;32m----> 1\u001b[1;33m waic_values = pd.DataFrame(\n\u001b[0m\u001b[0;32m      2\u001b[0m     {'basic_waic': basic_list,\n\u001b[0;32m      3\u001b[0m      \u001b[1;34m'basic_waic_SE'\u001b[0m\u001b[1;33m:\u001b[0m \u001b[0mbasic_list_SE\u001b[0m\u001b[1;33m,\u001b[0m\u001b[1;33m\u001b[0m\u001b[1;33m\u001b[0m\u001b[0m\n\u001b[0;32m      4\u001b[0m      \u001b[1;34m'basicstar_waic'\u001b[0m\u001b[1;33m:\u001b[0m \u001b[0mbasicstar_list\u001b[0m\u001b[1;33m,\u001b[0m\u001b[1;33m\u001b[0m\u001b[1;33m\u001b[0m\u001b[0m\n\u001b[0;32m      5\u001b[0m      \u001b[1;34m'basicstar_waic_SE'\u001b[0m\u001b[1;33m:\u001b[0m \u001b[0mbasicstar_list_SE\u001b[0m\u001b[1;33m,\u001b[0m\u001b[1;33m\u001b[0m\u001b[1;33m\u001b[0m\u001b[0m\n",
      "\u001b[1;31mNameError\u001b[0m: name 'pd' is not defined"
     ]
    }
   ],
   "source": [
    "waic_values = pd.DataFrame(\n",
    "    {'basic_waic': basic_list,\n",
    "     'basic_waic_SE': basic_list_SE, \n",
    "     'basicstar_waic': basicstar_list,\n",
    "     'basicstar_waic_SE': basicstar_list_SE,\n",
    "     'pscale_waic': pscale_list,\n",
    "     'pscale_waic_SE': pscale_list_SE,\n",
    "     'pscalestar_waic': pscalestar_list,\n",
    "     'pscalestar_SE': pscalestar_list_SE,\n",
    "     'pindep_waic': pindep_list,\n",
    "     'pindep_waic_SE': pindep_list_SE,\n",
    "     'pindepstar_waic': pindepstar_list,\n",
    "     'pindepstar_waic_SE': pindepstar_list_SE},\n",
    "     index = [\"loss\", \"outcome\", \"random\", \"reverse\", \"standard\", \"uncued\"])\n",
    "\n",
    "waic_values.to_excel(\"waic_values.xlsx\")"
   ]
  }
 ],
 "metadata": {
  "kernelspec": {
   "display_name": "Python 3",
   "language": "python",
   "name": "python3"
  },
  "language_info": {
   "codemirror_mode": {
    "name": "ipython",
    "version": 3
   },
   "file_extension": ".py",
   "mimetype": "text/x-python",
   "name": "python",
   "nbconvert_exporter": "python",
   "pygments_lexer": "ipython3",
   "version": "3.8.5"
  }
 },
 "nbformat": 4,
 "nbformat_minor": 4
}
