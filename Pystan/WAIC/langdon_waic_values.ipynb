{
 "cells": [
  {
   "cell_type": "code",
   "execution_count": 4,
   "metadata": {},
   "outputs": [],
   "source": [
    "import numpy as np\n",
    "import os \n",
    "import arviz as az\n",
    "import pandas as pd\n",
    "import math\n",
    "import xarray as xr\n",
    "os.chdir('..')\n",
    "import waic as wc\n",
    "import model_data as md"
   ]
  },
  {
   "cell_type": "code",
   "execution_count": 5,
   "metadata": {},
   "outputs": [
    {
     "name": "stderr",
     "output_type": "stream",
     "text": [
      "C:\\Users\\brett\\anaconda3\\lib\\site-packages\\IPython\\core\\interactiveshell.py:3338: DtypeWarning: Columns (7) have mixed types.Specify dtype option on import or set low_memory=False.\n",
      "  if (await self.run_code(code, result,  async_=asy)):\n"
     ]
    }
   ],
   "source": [
    "os.chdir('../data')\n",
    "fnames = ['sockeye_data.csv']\n",
    "df = md.load_data(fnames, reset_sessions = True)"
   ]
  },
  {
   "cell_type": "code",
   "execution_count": 6,
   "metadata": {},
   "outputs": [],
   "source": [
    "os.chdir('../Pystan/cmdstan_output')"
   ]
  },
  {
   "cell_type": "code",
   "execution_count": 7,
   "metadata": {},
   "outputs": [],
   "source": [
    "cued_basic_fit = az.from_netcdf('cue_basic_fit.nc')\n",
    "classic_basic_fit = az.from_netcdf('Classic_basic_classic_fit.nc')\n",
    "\n",
    "cued_pscale_fit = az.from_netcdf('cue_pscale_fit.nc')\n",
    "classic_pscale_fit = az.from_netcdf('Classic_pscale_fit.nc')\n",
    "\n",
    "cued_pindep_fit = az.from_netcdf('cue_pindep_fit.nc')\n",
    "classic_pindep_fit = az.from_netcdf('Classic_pindep_fit.nc')"
   ]
  },
  {
   "cell_type": "code",
   "execution_count": 8,
   "metadata": {},
   "outputs": [],
   "source": [
    "task_list = df.groupby(['MSN'])['Subject'].unique()"
   ]
  },
  {
   "cell_type": "code",
   "execution_count": 9,
   "metadata": {},
   "outputs": [
    {
     "data": {
      "text/plain": [
       "MSN\n",
       "RGT_ClassicA     [325, 326, 327, 328, 609, 610, 611, 612, 709, ...\n",
       "RGT_ClassicB     [329, 330, 331, 332, 613, 614, 615, 616, 713, ...\n",
       "RIGT_ClassicA                       [1001, 1002, 1016, 1011, 1012]\n",
       "RIGT_ClassicB                                   [1015, 1009, 1010]\n",
       "rGT_A-cue        [173, 174, 185, 186, 177, 178, 179, 180, 429, ...\n",
       "rGT_B-cue        [175, 187, 188, 181, 182, 183, 184, 176, 425, ...\n",
       "rGT_ClassicA     [301, 302, 317, 318, 319, 320, 333, 334, 335, ...\n",
       "rGT_ClassicB     [307, 308, 321, 322, 323, 324, 337, 338, 339, ...\n",
       "Name: Subject, dtype: object"
      ]
     },
     "execution_count": 9,
     "metadata": {},
     "output_type": "execute_result"
    }
   ],
   "source": [
    "task_list"
   ]
  },
  {
   "cell_type": "code",
   "execution_count": 10,
   "metadata": {},
   "outputs": [],
   "source": [
    "classic_subs = np.concatenate(task_list[[task for task in df.MSN.unique() if 'Classic' in task]])\n",
    "cued_subs = np.concatenate((task_list['rGT_A-cue'], task_list['rGT_B-cue']))"
   ]
  },
  {
   "cell_type": "code",
   "execution_count": 19,
   "metadata": {},
   "outputs": [
    {
     "data": {
      "text/plain": [
       "array([ 173,  174,  185,  186,  177,  178,  179,  180,  429,  430,  431,\n",
       "        432,  417,  418,  419,  420,  501,  503,  507,  505,  524,  520,\n",
       "        518,  522,  530,  532,  509,  513,  515,  511,  625,  626,  627,\n",
       "        628,  617,  618,  619,  620, 1021, 1022, 1003, 1004, 1006, 1008,\n",
       "       1101, 1102, 1103, 1104, 1205, 1206, 1229, 1230, 1221, 1222, 1311,\n",
       "       1312, 1314, 1315, 1301, 1302, 1305, 1306, 1409, 1410, 1411, 1417,\n",
       "       1428, 1401, 1402, 1403, 1509, 1511, 1513, 1515, 1501, 1503, 1505,\n",
       "       1507,  175,  187,  188,  181,  182,  183,  184,  176,  425,  426,\n",
       "        427,  428,  421,  422,  423,  424,  502,  506,  504,  508,  517,\n",
       "        519,  523,  521,  531,  529,  510,  512,  514,  516,  629,  630,\n",
       "        631,  632,  621,  622,  623,  624, 1028, 1023, 1024, 1005, 1007,\n",
       "       1013, 1014, 1105, 1106, 1107, 1108, 1207, 1208, 1231, 1232, 1223,\n",
       "       1224, 1309, 1310, 1313, 1316, 1303, 1304, 1307, 1308, 1413, 1414,\n",
       "       1415, 1416, 1421, 1423, 1431, 1432, 1405, 1406, 1510, 1512, 1514,\n",
       "       1516, 1502, 1504, 1506, 1508], dtype=int64)"
      ]
     },
     "execution_count": 19,
     "metadata": {},
     "output_type": "execute_result"
    }
   ],
   "source": [
    "cued_subs"
   ]
  },
  {
   "cell_type": "code",
   "execution_count": 16,
   "metadata": {},
   "outputs": [
    {
     "name": "stderr",
     "output_type": "stream",
     "text": [
      "C:\\Users\\brett\\sparklyRGT\\Pystan\\model_data.py:100: SettingWithCopyWarning: \n",
      "A value is trying to be set on a copy of a slice from a DataFrame\n",
      "\n",
      "See the caveats in the documentation: https://pandas.pydata.org/pandas-docs/stable/user_guide/indexing.html#returning-a-view-versus-a-copy\n",
      "  df['Option'][i] = 0\n",
      "C:\\Users\\brett\\sparklyRGT\\Pystan\\model_data.py:117: SettingWithCopyWarning: \n",
      "A value is trying to be set on a copy of a slice from a DataFrame\n",
      "\n",
      "See the caveats in the documentation: https://pandas.pydata.org/pandas-docs/stable/user_guide/indexing.html#returning-a-view-versus-a-copy\n",
      "  df['Sub'][i] = sub_dict[df['Subject'][i]]\n"
     ]
    },
    {
     "ename": "IndexError",
     "evalue": "index 3200 is out of bounds for axis 0 with size 3200",
     "output_type": "error",
     "traceback": [
      "\u001b[1;31m---------------------------------------------------------------------------\u001b[0m",
      "\u001b[1;31mIndexError\u001b[0m                                Traceback (most recent call last)",
      "\u001b[1;32m<ipython-input-16-94403d006ba2>\u001b[0m in \u001b[0;36m<module>\u001b[1;34m\u001b[0m\n\u001b[0;32m      3\u001b[0m \u001b[0mstart\u001b[0m \u001b[1;33m=\u001b[0m \u001b[0mtimer\u001b[0m\u001b[1;33m(\u001b[0m\u001b[1;33m)\u001b[0m\u001b[1;33m\u001b[0m\u001b[1;33m\u001b[0m\u001b[0m\n\u001b[0;32m      4\u001b[0m \u001b[1;33m\u001b[0m\u001b[0m\n\u001b[1;32m----> 5\u001b[1;33m \u001b[0mcued_basic_waic\u001b[0m \u001b[1;33m=\u001b[0m \u001b[0mwc\u001b[0m\u001b[1;33m.\u001b[0m\u001b[0mwaic_fit\u001b[0m\u001b[1;33m(\u001b[0m\u001b[0mdf\u001b[0m\u001b[1;33m,\u001b[0m \u001b[1;36m5\u001b[0m\u001b[1;33m,\u001b[0m \u001b[0mcued_subs\u001b[0m\u001b[1;33m,\u001b[0m \u001b[0mcued_basic_fit\u001b[0m\u001b[1;33m,\u001b[0m \u001b[1;34m\"basic\"\u001b[0m\u001b[1;33m)\u001b[0m\u001b[1;33m\u001b[0m\u001b[1;33m\u001b[0m\u001b[0m\n\u001b[0m\u001b[0;32m      6\u001b[0m \u001b[0mend\u001b[0m \u001b[1;33m=\u001b[0m \u001b[0mtimer\u001b[0m\u001b[1;33m(\u001b[0m\u001b[1;33m)\u001b[0m\u001b[1;33m\u001b[0m\u001b[1;33m\u001b[0m\u001b[0m\n\u001b[0;32m      7\u001b[0m \u001b[0mprint\u001b[0m\u001b[1;33m(\u001b[0m\u001b[0mend\u001b[0m \u001b[1;33m-\u001b[0m \u001b[0mstart\u001b[0m\u001b[1;33m)\u001b[0m \u001b[1;31m# Time in seconds\u001b[0m\u001b[1;33m\u001b[0m\u001b[1;33m\u001b[0m\u001b[0m\n",
      "\u001b[1;32m~\\sparklyRGT\\Pystan\\WAIC\\waic.py\u001b[0m in \u001b[0;36mwaic_fit\u001b[1;34m(df, numsessions, subs, fit, model)\u001b[0m\n\u001b[0;32m    266\u001b[0m \u001b[1;33m\u001b[0m\u001b[0m\n\u001b[0;32m    267\u001b[0m     \u001b[0msubs_df\u001b[0m\u001b[1;33m,\u001b[0m \u001b[0mmd_df\u001b[0m \u001b[1;33m=\u001b[0m \u001b[0mget_sub_df\u001b[0m\u001b[1;33m(\u001b[0m\u001b[0mdf\u001b[0m\u001b[1;33m,\u001b[0m \u001b[0mnumsessions\u001b[0m\u001b[1;33m,\u001b[0m \u001b[0msubs\u001b[0m\u001b[1;33m,\u001b[0m \u001b[0mfit\u001b[0m\u001b[1;33m,\u001b[0m \u001b[0mmodel\u001b[0m\u001b[1;33m)\u001b[0m \u001b[1;31m#calculating subs twice\u001b[0m\u001b[1;33m\u001b[0m\u001b[1;33m\u001b[0m\u001b[0m\n\u001b[1;32m--> 268\u001b[1;33m     \u001b[0mlog_lik_values_list\u001b[0m \u001b[1;33m=\u001b[0m \u001b[0mlog_lik_values\u001b[0m\u001b[1;33m(\u001b[0m\u001b[0msubs_df\u001b[0m\u001b[1;33m,\u001b[0m \u001b[0mmodel\u001b[0m\u001b[1;33m)\u001b[0m\u001b[1;33m\u001b[0m\u001b[1;33m\u001b[0m\u001b[0m\n\u001b[0m\u001b[0;32m    269\u001b[0m     \u001b[0mid_log_likelihood\u001b[0m \u001b[1;33m=\u001b[0m \u001b[0mget_inference_data_log_lik\u001b[0m\u001b[1;33m(\u001b[0m\u001b[0mmd_df\u001b[0m\u001b[1;33m,\u001b[0m \u001b[0mlog_lik_values_list\u001b[0m\u001b[1;33m,\u001b[0m \u001b[0mfit\u001b[0m\u001b[1;33m)\u001b[0m\u001b[1;33m\u001b[0m\u001b[1;33m\u001b[0m\u001b[0m\n\u001b[0;32m    270\u001b[0m \u001b[1;33m\u001b[0m\u001b[0m\n",
      "\u001b[1;32m~\\sparklyRGT\\Pystan\\WAIC\\waic.py\u001b[0m in \u001b[0;36mlog_lik_values\u001b[1;34m(sub_df, model)\u001b[0m\n\u001b[0;32m    216\u001b[0m                 \u001b[0mV\u001b[0m \u001b[1;33m=\u001b[0m \u001b[0mnp\u001b[0m\u001b[1;33m.\u001b[0m\u001b[0mzeros\u001b[0m\u001b[1;33m(\u001b[0m\u001b[1;36m4\u001b[0m\u001b[1;33m)\u001b[0m \u001b[1;31m#reset the V values\u001b[0m\u001b[1;33m\u001b[0m\u001b[1;33m\u001b[0m\u001b[0m\n\u001b[0;32m    217\u001b[0m \u001b[1;33m\u001b[0m\u001b[0m\n\u001b[1;32m--> 218\u001b[1;33m             \u001b[0mp_action\u001b[0m \u001b[1;33m=\u001b[0m \u001b[0mnp\u001b[0m\u001b[1;33m.\u001b[0m\u001b[0mexp\u001b[0m\u001b[1;33m(\u001b[0m\u001b[0mparams\u001b[0m\u001b[1;33m[\u001b[0m\u001b[0mp\u001b[0m\u001b[1;33m]\u001b[0m\u001b[1;33m[\u001b[0m\u001b[1;36m0\u001b[0m\u001b[1;33m]\u001b[0m\u001b[1;33m*\u001b[0m\u001b[0mV\u001b[0m\u001b[1;33m)\u001b[0m\u001b[1;33m/\u001b[0m\u001b[0mnp\u001b[0m\u001b[1;33m.\u001b[0m\u001b[0msum\u001b[0m\u001b[1;33m(\u001b[0m\u001b[0mnp\u001b[0m\u001b[1;33m.\u001b[0m\u001b[0mexp\u001b[0m\u001b[1;33m(\u001b[0m\u001b[0mparams\u001b[0m\u001b[1;33m[\u001b[0m\u001b[0mp\u001b[0m\u001b[1;33m]\u001b[0m\u001b[1;33m[\u001b[0m\u001b[1;36m0\u001b[0m\u001b[1;33m]\u001b[0m\u001b[1;33m*\u001b[0m\u001b[0mV\u001b[0m\u001b[1;33m)\u001b[0m\u001b[1;33m)\u001b[0m \u001b[1;31m#p_action holds the probabilities of each action (P1-P4), starting at 0.25 for each\u001b[0m\u001b[1;33m\u001b[0m\u001b[1;33m\u001b[0m\u001b[0m\n\u001b[0m\u001b[0;32m    219\u001b[0m \u001b[1;33m\u001b[0m\u001b[0m\n\u001b[0;32m    220\u001b[0m             \u001b[1;32mif\u001b[0m \u001b[0moutcome_data\u001b[0m\u001b[1;33m[\u001b[0m\u001b[0mt\u001b[0m\u001b[1;33m]\u001b[0m \u001b[1;33m==\u001b[0m \u001b[1;36m1\u001b[0m\u001b[1;33m:\u001b[0m\u001b[1;33m\u001b[0m\u001b[1;33m\u001b[0m\u001b[0m\n",
      "\u001b[1;31mIndexError\u001b[0m: index 3200 is out of bounds for axis 0 with size 3200"
     ]
    }
   ],
   "source": [
    "from timeit import default_timer as timer\n",
    "\n",
    "start = timer()\n",
    "\n",
    "cued_basic_waic = wc.waic_fit(df, 5, cued_subs, cued_basic_fit, \"basic\")\n",
    "end = timer()\n",
    "print(end - start) # Time in seconds\n",
    "\n",
    "loss_basic_waic"
   ]
  },
  {
   "cell_type": "code",
   "execution_count": null,
   "metadata": {},
   "outputs": [],
   "source": [
    "cued_basic_waic = wc.waic_fit(df, 5, cued_subs, cued_basic_fit, \"basic\")\n",
    "classic_basic_waic = wc.waic_fit(df, 5, classic_subs, classic_basic_fit, \"basic\")\n",
    "\n",
    "basic_list = [loss_basic_waic.waic, outcome_basic_waic.waic, random_basic_waic.waic, reverse_basic_waic.waic, standard_basic_waic.waic, uncued_basic_waic.waic]\n",
    "basic_list_SE = [loss_basic_waic.waic_se, outcome_basic_waic.waic_se, random_basic_waic.waic_se, reverse_basic_waic.waic_se, standard_basic_waic.waic_se, uncued_basic_waic.waic_se]"
   ]
  },
  {
   "cell_type": "code",
   "execution_count": null,
   "metadata": {},
   "outputs": [],
   "source": [
    "loss_basicstar_waic = wc.waic_fit(df, 5, loss_subs, loss_basicstar_fit, \"basicstar\")\n",
    "outcome_basicstar_waic = wc.waic_fit(df, 5, outcome_subs, outcome_basicstar_fit, \"basicstar\")\n",
    "random_basicstar_waic = wc.waic_fit(df, 5, random_subs, random_basicstar_fit, \"basicstar\")\n",
    "reverse_basicstar_waic = wc.waic_fit(df, 5, reverse_subs, reverse_basicstar_fit, \"basicstar\")\n",
    "standard_basicstar_waic = wc.waic_fit(df, 5, standard_subs, standard_basicstar_fit, \"basicstar\")\n",
    "uncued_basicstar_waic = wc.waic_fit(df, 5, uncued_subs, uncued_basicstar_fit, \"basicstar\")\n",
    "\n",
    "basicstar_list = [loss_basicstar_waic.waic, outcome_basicstar_waic.waic, random_basicstar_waic.waic, reverse_basicstar_waic.waic, standard_basicstar_waic.waic, uncued_basicstar_waic.waic]\n",
    "basicstar_list_SE = [loss_basicstar_waic.waic_se, outcome_basicstar_waic.waic_se, random_basicstar_waic.waic_se, reverse_basicstar_waic.waic_se, standard_basicstar_waic.waic_se, uncued_basicstar_waic.waic_se]"
   ]
  },
  {
   "cell_type": "code",
   "execution_count": null,
   "metadata": {},
   "outputs": [],
   "source": [
    "loss_pscale_waic = wc.waic_fit(df, 5, loss_subs, loss_pscale_fit, \"pscale\")\n",
    "outcome_pscale_waic = wc.waic_fit(df, 5, outcome_subs, outcome_pscale_fit, \"pscale\")\n",
    "random_pscale_waic = wc.waic_fit(df, 5, random_subs, random_pscale_fit, \"pscale\")\n",
    "reverse_pscale_waic = wc.waic_fit(df, 5, reverse_subs, reverse_pscale_fit, \"pscale\")\n",
    "standard_pscale_waic = wc.waic_fit(df, 5, standard_subs, standard_pscale_fit, \"pscale\")\n",
    "uncued_pscale_waic = wc.waic_fit(df, 5, uncued_subs, uncued_pscale_fit, \"pscale\")\n",
    "\n",
    "pscale_list = [loss_pscale_waic.waic, outcome_pscale_waic.waic, random_pscale_waic.waic, reverse_pscale_waic.waic, standard_pscale_waic.waic, uncued_pscale_waic.waic]\n",
    "pscale_list_SE = [loss_pscale_waic.waic_se, outcome_pscale_waic.waic_se, random_pscale_waic.waic_se, reverse_pscale_waic.waic_se, standard_pscale_waic.waic_se, uncued_pscale_waic.waic_se]"
   ]
  },
  {
   "cell_type": "code",
   "execution_count": null,
   "metadata": {},
   "outputs": [],
   "source": [
    "loss_pscalestar_waic = wc.waic_fit(df, 5, loss_subs, loss_pscalestar_fit, \"pscalestar\")\n",
    "outcome_pscalestar_waic = wc.waic_fit(df, 5, outcome_subs, outcome_pscalestar_fit, \"pscalestar\")\n",
    "random_pscalestar_waic = wc.waic_fit(df, 5, random_subs, random_pscalestar_fit, \"pscalestar\")\n",
    "reverse_pscalestar_waic = wc.waic_fit(df, 5, reverse_subs, reverse_pscalestar_fit, \"pscalestar\")\n",
    "standard_pscalestar_waic = wc.waic_fit(df, 5, standard_subs, standard_pscalestar_fit, \"pscalestar\")\n",
    "uncued_pscalestar_waic = wc.waic_fit(df, 5, uncued_subs, uncued_pscalestar_fit, \"pscalestar\")\n",
    "\n",
    "pscalestar_list = [loss_pscalestar_waic.waic, outcome_pscalestar_waic.waic, random_pscalestar_waic.waic, reverse_pscalestar_waic.waic, standard_pscalestar_waic.waic, uncued_pscalestar_waic.waic]\n",
    "pscalestar_list_SE = [loss_pscalestar_waic.waic_se, outcome_pscalestar_waic.waic_se, random_pscalestar_waic.waic_se, reverse_pscalestar_waic.waic_se, standard_pscalestar_waic.waic_se, uncued_pscalestar_waic.waic_se]"
   ]
  },
  {
   "cell_type": "code",
   "execution_count": null,
   "metadata": {},
   "outputs": [],
   "source": [
    "loss_pindep_waic = wc.waic_fit(df, 5, loss_subs, loss_pindep_fit, \"pindep\")\n",
    "outcome_pindep_waic = wc.waic_fit(df, 5, outcome_subs, outcome_pindep_fit, \"pindep\")\n",
    "random_pindep_waic = wc.waic_fit(df, 5, random_subs, random_pindep_fit, \"pindep\")\n",
    "reverse_pindep_waic = wc.waic_fit(df, 5, reverse_subs, reverse_pindep_fit, \"pindep\")\n",
    "standard_pindep_waic = wc.waic_fit(df, 5, standard_subs, standard_pindep_fit, \"pindep\")\n",
    "uncued_pindep_waic = wc.waic_fit(df, 5, uncued_subs, uncued_pindep_fit, \"pindep\")\n",
    "\n",
    "pindep_list = [loss_pindep_waic.waic, outcome_pindep_waic.waic, random_pindep_waic.waic, reverse_pindep_waic.waic, standard_pindep_waic.waic, uncued_pindep_waic.waic]\n",
    "pindep_list_SE = [loss_pindep_waic.waic_se, outcome_pindep_waic.waic_se, random_pindep_waic.waic_se, reverse_pindep_waic.waic_se, standard_pindep_waic.waic_se, uncued_pindep_waic.waic_se]"
   ]
  },
  {
   "cell_type": "code",
   "execution_count": null,
   "metadata": {},
   "outputs": [],
   "source": [
    "loss_pindepstar_waic = wc.waic_fit(df, 5, loss_subs, loss_pindepstar_fit, \"pindepstar\")\n",
    "outcome_pindepstar_waic = wc.waic_fit(df, 5, outcome_subs, outcome_pindepstar_fit, \"pindepstar\")\n",
    "random_pindepstar_waic = wc.waic_fit(df, 5, random_subs, random_pindepstar_fit, \"pindepstar\")\n",
    "reverse_pindepstar_waic = wc.waic_fit(df, 5, reverse_subs, reverse_pindepstar_fit, \"pindepstar\")\n",
    "standard_pindepstar_waic = wc.waic_fit(df, 5, standard_subs, standard_pindepstar_fit, \"pindepstar\")\n",
    "uncued_pindepstar_waic = wc.waic_fit(df, 5, uncued_subs, uncued_pindepstar_fit, \"pindepstar\")\n",
    "\n",
    "pindepstar_list = [loss_pindepstar_waic.waic, outcome_pindepstar_waic.waic, random_pindepstar_waic.waic, reverse_pindepstar_waic.waic, standard_pindepstar_waic.waic, uncued_pindepstar_waic.waic]\n",
    "pindepstar_list_SE = [loss_pindepstar_waic.waic_se, outcome_pindepstar_waic.waic_se, random_pindepstar_waic.waic_se, reverse_pindepstar_waic.waic_se, standard_pindepstar_waic.waic_se, uncued_pindepstar_waic.waic_se]"
   ]
  },
  {
   "cell_type": "code",
   "execution_count": null,
   "metadata": {},
   "outputs": [],
   "source": [
    "waic_values = pd.DataFrame(\n",
    "    {'basic_waic': basic_list,\n",
    "     'basic_waic_SE': basic_list_SE, \n",
    "     'basicstar_waic': basicstar_list,\n",
    "     'basicstar_waic_SE': basicstar_list_SE,\n",
    "     'pscale_waic': pscale_list,\n",
    "     'pscale_waic_SE': pscale_list_SE,\n",
    "     'pscalestar_waic': pscalestar_list,\n",
    "     'pscalestar_SE': pscalestar_list_SE,\n",
    "     'pindep_waic': pindep_list,\n",
    "     'pindep_waic_SE': pindep_list_SE,\n",
    "     'pindepstar_waic': pindepstar_list,\n",
    "     'pindepstar_waic_SE': pindepstar_list_SE},\n",
    "     index = [\"loss\", \"outcome\", \"random\", \"reverse\", \"standard\", \"uncued\"])\n",
    "\n",
    "waic_values.to_excel(\"waic_values.xlsx\")"
   ]
  }
 ],
 "metadata": {
  "kernelspec": {
   "display_name": "Python 3",
   "language": "python",
   "name": "python3"
  },
  "language_info": {
   "codemirror_mode": {
    "name": "ipython",
    "version": 3
   },
   "file_extension": ".py",
   "mimetype": "text/x-python",
   "name": "python",
   "nbconvert_exporter": "python",
   "pygments_lexer": "ipython3",
   "version": "3.8.5"
  }
 },
 "nbformat": 4,
 "nbformat_minor": 4
}
