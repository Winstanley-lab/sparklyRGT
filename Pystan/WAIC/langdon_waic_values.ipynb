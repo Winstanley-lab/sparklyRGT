{
 "cells": [
  {
   "cell_type": "code",
   "execution_count": 1,
   "metadata": {},
   "outputs": [],
   "source": [
    "import numpy as np\n",
    "import os \n",
    "import arviz as az\n",
    "import pandas as pd\n",
    "import math\n",
    "import xarray as xr\n",
    "os.chdir('..')\n",
    "import waic as wc\n",
    "import model_data as md"
   ]
  },
  {
   "cell_type": "code",
   "execution_count": 4,
   "metadata": {},
   "outputs": [
    {
     "name": "stderr",
     "output_type": "stream",
     "text": [
      "C:\\Users\\brett\\anaconda3\\lib\\site-packages\\IPython\\core\\interactiveshell.py:3338: DtypeWarning: Columns (9) have mixed types.Specify dtype option on import or set low_memory=False.\n",
      "  if (await self.run_code(code, result,  async_=asy)):\n"
     ]
    }
   ],
   "source": [
    "os.chdir('../data')\n",
    "fnames = ['sockeye_data.csv']\n",
    "df = md.load_data(fnames)"
   ]
  },
  {
   "cell_type": "code",
   "execution_count": 5,
   "metadata": {},
   "outputs": [],
   "source": [
    "os.chdir('../Pystan/cmdstan_output')"
   ]
  },
  {
   "cell_type": "code",
   "execution_count": 6,
   "metadata": {},
   "outputs": [],
   "source": [
    "cued_basic_fit = az.from_netcdf('cue_basic_fit.nc')\n",
    "classic_basic_fit = az.from_netcdf('Classic_basic_classic_fit.nc')\n",
    "\n",
    "cued_pscale_fit = az.from_netcdf('cue_pscale_fit.nc')\n",
    "classic_pscale_fit = az.from_netcdf('Classic_pscale_fit.nc')\n",
    "\n",
    "cued_pindep_fit = az.from_netcdf('cue_pindep_fit.nc')\n",
    "classic_pindep_fit = az.from_netcdf('Classic_pindep_fit.nc')\n",
    "\n",
    "cued_basicstar_fit = az.from_netcdf('cue_basicstar_fit.nc')\n",
    "classic_basicstar_fit = az.from_netcdf('Classic_basicstar_fit.nc')\n",
    "\n",
    "cued_pscalestar_fit = az.from_netcdf('cue_pscale_fit.nc')\n",
    "classic_pscalestar_fit = az.from_netcdf('Classic_pscalestar_fit.nc')\n",
    "\n",
    "cued_pindepstar_fit = az.from_netcdf('cue_pindepstar_fit.nc')\n",
    "classic_pindepstar_fit = az.from_netcdf('Classic_pindepstar_fit.nc')"
   ]
  },
  {
   "cell_type": "code",
   "execution_count": 7,
   "metadata": {},
   "outputs": [],
   "source": [
    "task_list = df.groupby(['MSN'])['Subject'].unique()"
   ]
  },
  {
   "cell_type": "code",
   "execution_count": 8,
   "metadata": {},
   "outputs": [
    {
     "data": {
      "text/plain": [
       "MSN\n",
       "RGT_ClassicA     [225, 226, 227, 228, 509, 510, 511, 512, 625, ...\n",
       "RGT_ClassicB     [229, 230, 231, 232, 513, 514, 515, 516, 613, ...\n",
       "RIGT_ClassicA                                      [901, 902, 916]\n",
       "RIGT_ClassicB                                                [915]\n",
       "rGT_A-cue        [173, 174, 177, 178, 179, 180, 329, 330, 331, ...\n",
       "rGT_B-cue        [175, 181, 182, 183, 184, 325, 326, 327, 328, ...\n",
       "rGT_ClassicA     [201, 202, 217, 218, 219, 220, 233, 234, 235, ...\n",
       "rGT_ClassicB     [207, 208, 221, 222, 223, 224, 237, 238, 239, ...\n",
       "Name: Subject, dtype: object"
      ]
     },
     "execution_count": 8,
     "metadata": {},
     "output_type": "execute_result"
    }
   ],
   "source": [
    "task_list"
   ]
  },
  {
   "cell_type": "code",
   "execution_count": 9,
   "metadata": {},
   "outputs": [],
   "source": [
    "classic_subs = np.concatenate(task_list[[task for task in df.MSN.unique() if 'Classic' in task]])\n",
    "cued_subs = np.concatenate((task_list['rGT_A-cue'], task_list['rGT_B-cue']))"
   ]
  },
  {
   "cell_type": "code",
   "execution_count": 10,
   "metadata": {},
   "outputs": [
    {
     "data": {
      "text/plain": [
       "78"
      ]
     },
     "execution_count": 10,
     "metadata": {},
     "output_type": "execute_result"
    }
   ],
   "source": [
    "len(classic_subs)"
   ]
  },
  {
   "cell_type": "code",
   "execution_count": 11,
   "metadata": {},
   "outputs": [
    {
     "name": "stderr",
     "output_type": "stream",
     "text": [
      "C:\\Users\\brett\\sparklyRGT\\Pystan\\model_data.py:100: SettingWithCopyWarning: \n",
      "A value is trying to be set on a copy of a slice from a DataFrame\n",
      "\n",
      "See the caveats in the documentation: https://pandas.pydata.org/pandas-docs/stable/user_guide/indexing.html#returning-a-view-versus-a-copy\n",
      "  df['Option'][i] = 0\n",
      "C:\\Users\\brett\\sparklyRGT\\Pystan\\model_data.py:117: SettingWithCopyWarning: \n",
      "A value is trying to be set on a copy of a slice from a DataFrame\n",
      "\n",
      "See the caveats in the documentation: https://pandas.pydata.org/pandas-docs/stable/user_guide/indexing.html#returning-a-view-versus-a-copy\n",
      "  df['Sub'][i] = sub_dict[df['Subject'][i]]\n"
     ]
    },
    {
     "ename": "KeyboardInterrupt",
     "evalue": "",
     "output_type": "error",
     "traceback": [
      "\u001b[1;31m---------------------------------------------------------------------------\u001b[0m",
      "\u001b[1;31mKeyboardInterrupt\u001b[0m                         Traceback (most recent call last)",
      "\u001b[1;32m<ipython-input-11-b8e803fc2915>\u001b[0m in \u001b[0;36m<module>\u001b[1;34m\u001b[0m\n\u001b[0;32m      3\u001b[0m \u001b[0mstart\u001b[0m \u001b[1;33m=\u001b[0m \u001b[0mtimer\u001b[0m\u001b[1;33m(\u001b[0m\u001b[1;33m)\u001b[0m\u001b[1;33m\u001b[0m\u001b[1;33m\u001b[0m\u001b[0m\n\u001b[0;32m      4\u001b[0m \u001b[1;33m\u001b[0m\u001b[0m\n\u001b[1;32m----> 5\u001b[1;33m \u001b[0mcued_basic_waic\u001b[0m \u001b[1;33m=\u001b[0m \u001b[0mwc\u001b[0m\u001b[1;33m.\u001b[0m\u001b[0mwaic_fit\u001b[0m\u001b[1;33m(\u001b[0m\u001b[0mdf\u001b[0m\u001b[1;33m,\u001b[0m \u001b[1;36m5\u001b[0m\u001b[1;33m,\u001b[0m \u001b[0mcued_subs\u001b[0m\u001b[1;33m,\u001b[0m \u001b[0mcued_basic_fit\u001b[0m\u001b[1;33m,\u001b[0m \u001b[1;34m\"basic\"\u001b[0m\u001b[1;33m)\u001b[0m\u001b[1;33m\u001b[0m\u001b[1;33m\u001b[0m\u001b[0m\n\u001b[0m\u001b[0;32m      6\u001b[0m \u001b[0mend\u001b[0m \u001b[1;33m=\u001b[0m \u001b[0mtimer\u001b[0m\u001b[1;33m(\u001b[0m\u001b[1;33m)\u001b[0m\u001b[1;33m\u001b[0m\u001b[1;33m\u001b[0m\u001b[0m\n\u001b[0;32m      7\u001b[0m \u001b[0mprint\u001b[0m\u001b[1;33m(\u001b[0m\u001b[0mend\u001b[0m \u001b[1;33m-\u001b[0m \u001b[0mstart\u001b[0m\u001b[1;33m)\u001b[0m \u001b[1;31m# Time in seconds\u001b[0m\u001b[1;33m\u001b[0m\u001b[1;33m\u001b[0m\u001b[0m\n",
      "\u001b[1;32m~\\sparklyRGT\\Pystan\\WAIC\\waic.py\u001b[0m in \u001b[0;36mwaic_fit\u001b[1;34m(df, numsessions, subs, fit, model)\u001b[0m\n\u001b[0;32m    266\u001b[0m \u001b[1;33m\u001b[0m\u001b[0m\n\u001b[0;32m    267\u001b[0m     \u001b[0msubs_df\u001b[0m\u001b[1;33m,\u001b[0m \u001b[0mmd_df\u001b[0m \u001b[1;33m=\u001b[0m \u001b[0mget_sub_df\u001b[0m\u001b[1;33m(\u001b[0m\u001b[0mdf\u001b[0m\u001b[1;33m,\u001b[0m \u001b[0mnumsessions\u001b[0m\u001b[1;33m,\u001b[0m \u001b[0msubs\u001b[0m\u001b[1;33m,\u001b[0m \u001b[0mfit\u001b[0m\u001b[1;33m,\u001b[0m \u001b[0mmodel\u001b[0m\u001b[1;33m)\u001b[0m \u001b[1;31m#calculating subs twice\u001b[0m\u001b[1;33m\u001b[0m\u001b[1;33m\u001b[0m\u001b[0m\n\u001b[1;32m--> 268\u001b[1;33m     \u001b[0mlog_lik_values_list\u001b[0m \u001b[1;33m=\u001b[0m \u001b[0mlog_lik_values\u001b[0m\u001b[1;33m(\u001b[0m\u001b[0msubs_df\u001b[0m\u001b[1;33m,\u001b[0m \u001b[0mmodel\u001b[0m\u001b[1;33m)\u001b[0m\u001b[1;33m\u001b[0m\u001b[1;33m\u001b[0m\u001b[0m\n\u001b[0m\u001b[0;32m    269\u001b[0m     \u001b[0mid_log_likelihood\u001b[0m \u001b[1;33m=\u001b[0m \u001b[0mget_inference_data_log_lik\u001b[0m\u001b[1;33m(\u001b[0m\u001b[0mmd_df\u001b[0m\u001b[1;33m,\u001b[0m \u001b[0mlog_lik_values_list\u001b[0m\u001b[1;33m,\u001b[0m \u001b[0mfit\u001b[0m\u001b[1;33m)\u001b[0m\u001b[1;33m\u001b[0m\u001b[1;33m\u001b[0m\u001b[0m\n\u001b[0;32m    270\u001b[0m \u001b[1;33m\u001b[0m\u001b[0m\n",
      "\u001b[1;32m~\\sparklyRGT\\Pystan\\WAIC\\waic.py\u001b[0m in \u001b[0;36mlog_lik_values\u001b[1;34m(sub_df, model)\u001b[0m\n\u001b[0;32m    216\u001b[0m                 \u001b[0mV\u001b[0m \u001b[1;33m=\u001b[0m \u001b[0mnp\u001b[0m\u001b[1;33m.\u001b[0m\u001b[0mzeros\u001b[0m\u001b[1;33m(\u001b[0m\u001b[1;36m4\u001b[0m\u001b[1;33m)\u001b[0m \u001b[1;31m#reset the V values\u001b[0m\u001b[1;33m\u001b[0m\u001b[1;33m\u001b[0m\u001b[0m\n\u001b[0;32m    217\u001b[0m \u001b[1;33m\u001b[0m\u001b[0m\n\u001b[1;32m--> 218\u001b[1;33m             \u001b[0mp_action\u001b[0m \u001b[1;33m=\u001b[0m \u001b[0mnp\u001b[0m\u001b[1;33m.\u001b[0m\u001b[0mexp\u001b[0m\u001b[1;33m(\u001b[0m\u001b[0mparams\u001b[0m\u001b[1;33m[\u001b[0m\u001b[0mp\u001b[0m\u001b[1;33m]\u001b[0m\u001b[1;33m[\u001b[0m\u001b[1;36m0\u001b[0m\u001b[1;33m]\u001b[0m\u001b[1;33m*\u001b[0m\u001b[0mV\u001b[0m\u001b[1;33m)\u001b[0m\u001b[1;33m/\u001b[0m\u001b[0mnp\u001b[0m\u001b[1;33m.\u001b[0m\u001b[0msum\u001b[0m\u001b[1;33m(\u001b[0m\u001b[0mnp\u001b[0m\u001b[1;33m.\u001b[0m\u001b[0mexp\u001b[0m\u001b[1;33m(\u001b[0m\u001b[0mparams\u001b[0m\u001b[1;33m[\u001b[0m\u001b[0mp\u001b[0m\u001b[1;33m]\u001b[0m\u001b[1;33m[\u001b[0m\u001b[1;36m0\u001b[0m\u001b[1;33m]\u001b[0m\u001b[1;33m*\u001b[0m\u001b[0mV\u001b[0m\u001b[1;33m)\u001b[0m\u001b[1;33m)\u001b[0m \u001b[1;31m#p_action holds the probabilities of each action (P1-P4), starting at 0.25 for each\u001b[0m\u001b[1;33m\u001b[0m\u001b[1;33m\u001b[0m\u001b[0m\n\u001b[0m\u001b[0;32m    219\u001b[0m \u001b[1;33m\u001b[0m\u001b[0m\n\u001b[0;32m    220\u001b[0m             \u001b[1;32mif\u001b[0m \u001b[0moutcome_data\u001b[0m\u001b[1;33m[\u001b[0m\u001b[0mt\u001b[0m\u001b[1;33m]\u001b[0m \u001b[1;33m==\u001b[0m \u001b[1;36m1\u001b[0m\u001b[1;33m:\u001b[0m\u001b[1;33m\u001b[0m\u001b[1;33m\u001b[0m\u001b[0m\n",
      "\u001b[1;31mKeyboardInterrupt\u001b[0m: "
     ]
    }
   ],
   "source": [
    "from timeit import default_timer as timer\n",
    "\n",
    "start = timer()\n",
    "\n",
    "cued_basic_waic = wc.waic_fit(df, 5, cued_subs, cued_basic_fit, \"basic\")\n",
    "end = timer()\n",
    "print(end - start) # Time in seconds\n",
    "\n",
    "\n",
    "##changed waic.py to be 3200 instead of 4000 parameter estimates "
   ]
  },
  {
   "cell_type": "code",
   "execution_count": null,
   "metadata": {},
   "outputs": [],
   "source": [
    "cued_basic_waic = wc.waic_fit(df, 5, cued_subs, cued_basic_fit, \"basic\")\n",
    "classic_basic_waic = wc.waic_fit(df, 5, classic_subs, classic_basic_fit, \"basic\")\n",
    "\n",
    "basic_list = [cued_basic_waic.waic, classic_basic_waic.waic]\n",
    "basic_list_SE = [cued_basic_waic.waic_se, classic_basic_waic.waic_se]"
   ]
  },
  {
   "cell_type": "code",
   "execution_count": null,
   "metadata": {},
   "outputs": [],
   "source": [
    "cued_basicstar_waic = wc.waic_fit(df, 5, cued_subs, cued_basicstar_fit, \"basicstar\")\n",
    "classic_basic_waic = wc.waic_fit(df, 5, classic_subs, classic_basicstar_fit, \"basicstar\")\n",
    "\n",
    "basicstar_list = [cued_basicstar_waic.waic, classic_basicstar_waic.waic]\n",
    "basicstar_list_SE = [cued_basicstar_waic.waic_se, classic_basicstar_waic.waic_se]"
   ]
  },
  {
   "cell_type": "code",
   "execution_count": null,
   "metadata": {},
   "outputs": [],
   "source": [
    "cued_pscale_waic = wc.waic_fit(df, 5, cued_subs, cued_pscale_fit, \"pscale\")\n",
    "classic_pscale_waic = wc.waic_fit(df, 5, classic_subs, classic_pscale_fit, \"pscale\")\n",
    "\n",
    "pscale_list = [cued_pscale_waic.waic, classic_pscale_waic.waic]\n",
    "pscale_list_SE = [cued_pscale_waic.waic_se, classic_pscale_waic.waic_se]"
   ]
  },
  {
   "cell_type": "code",
   "execution_count": null,
   "metadata": {},
   "outputs": [],
   "source": [
    "cued_pscalestar_waic = wc.waic_fit(df, 5, cued_subs, cued_pscalestar_fit, \"pscalestar\")\n",
    "classic_pscalestar_waic = wc.waic_fit(df, 5, classic_subs, classic_pscalestar_fit, \"pscalestar\")\n",
    "\n",
    "pscalestar_list = [cued_pscalestar_waic.waic, classic_pscalestar_waic.waic]\n",
    "pscalestar_list_SE = [cued_pscalestar_waic.waic_se, classic_pscalestar_waic.waic_se]"
   ]
  },
  {
   "cell_type": "code",
   "execution_count": null,
   "metadata": {},
   "outputs": [],
   "source": [
    "cued_pindep_waic = wc.waic_fit(df, 5, cued_subs, cued_pindep_fit, \"pindep\")\n",
    "classic_pindep_waic = wc.waic_fit(df, 5, classic_subs, classic_pindep_fit, \"pindep\")\n",
    "\n",
    "pindep_list = [cued_pindep_waic.waic, classic_pindep_waic.waic]\n",
    "pindep_list_SE = [cued_pindep_waic.waic_se, classic_pindep_waic.waic_se]"
   ]
  },
  {
   "cell_type": "code",
   "execution_count": null,
   "metadata": {},
   "outputs": [],
   "source": [
    "cued_pindepstar_waic = wc.waic_fit(df, 5, cued_subs, cued_pindepstar_fit, \"pindepstar\")\n",
    "classic_pindepstar_waic = wc.waic_fit(df, 5, classic_subs, classic_pindepstar_fit, \"pindepstar\")\n",
    "\n",
    "pindep_list = [cued_pindepstar_waic.waic, classic_pindepstar_waic.waic]\n",
    "pindep_list_SE = [cued_pindepstar_waic.waic_se, classic_pindepstar_waic.waic_se]"
   ]
  },
  {
   "cell_type": "code",
   "execution_count": null,
   "metadata": {},
   "outputs": [],
   "source": [
    "waic_values = pd.DataFrame(\n",
    "    {'basic_waic': basic_list,\n",
    "     'basic_waic_SE': basic_list_SE, \n",
    "     'basicstar_waic': basicstar_list,\n",
    "     'basicstar_waic_SE': basicstar_list_SE,\n",
    "     'pscale_waic': pscale_list,\n",
    "     'pscale_waic_SE': pscale_list_SE,\n",
    "     'pscalestar_waic': pscalestar_list,\n",
    "     'pscalestar_SE': pscalestar_list_SE,\n",
    "     'pindep_waic': pindep_list,\n",
    "     'pindep_waic_SE': pindep_list_SE,\n",
    "     'pindepstar_waic': pindepstar_list,\n",
    "     'pindepstar_waic_SE': pindepstar_list_SE},\n",
    "     index = [\"cued\", \"classic\"])\n",
    "\n",
    "waic_values.to_excel(\"langdon_waic_values.xlsx\")"
   ]
  }
 ],
 "metadata": {
  "kernelspec": {
   "display_name": "Python 3",
   "language": "python",
   "name": "python3"
  },
  "language_info": {
   "codemirror_mode": {
    "name": "ipython",
    "version": 3
   },
   "file_extension": ".py",
   "mimetype": "text/x-python",
   "name": "python",
   "nbconvert_exporter": "python",
   "pygments_lexer": "ipython3",
   "version": "3.8.5"
  }
 },
 "nbformat": 4,
 "nbformat_minor": 4
}
