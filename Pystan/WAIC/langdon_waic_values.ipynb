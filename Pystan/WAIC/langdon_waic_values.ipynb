{
 "cells": [
  {
   "cell_type": "code",
   "execution_count": 1,
   "metadata": {},
   "outputs": [],
   "source": [
    "import numpy as np\n",
    "import os \n",
    "import arviz as az\n",
    "import pandas as pd\n",
    "pd.options.mode.chained_assignment = None\n",
    "import math\n",
    "import xarray as xr\n",
    "os.chdir('..')\n",
    "import waic as wc\n",
    "import model_data as md\n",
    "\n",
    "%load_ext autoreload\n",
    "%autoreload 2"
   ]
  },
  {
   "cell_type": "code",
   "execution_count": 2,
   "metadata": {},
   "outputs": [
    {
     "name": "stderr",
     "output_type": "stream",
     "text": [
      "C:\\Users\\brett\\anaconda3\\lib\\site-packages\\IPython\\core\\interactiveshell.py:3338: DtypeWarning: Columns (9) have mixed types.Specify dtype option on import or set low_memory=False.\n",
      "  if (await self.run_code(code, result,  async_=asy)):\n"
     ]
    }
   ],
   "source": [
    "os.chdir('../data')\n",
    "fnames = ['sockeye_data.csv']\n",
    "df = md.load_data(fnames)"
   ]
  },
  {
   "cell_type": "code",
   "execution_count": 3,
   "metadata": {},
   "outputs": [],
   "source": [
    "os.chdir('../Pystan/cmdstan_output')"
   ]
  },
  {
   "cell_type": "code",
   "execution_count": 12,
   "metadata": {},
   "outputs": [],
   "source": [
    "cued_basic_fit = az.from_netcdf('cue_basic_fit.nc')\n",
    "classic_basic_fit = az.from_netcdf('Classic_basic_classic_fit.nc')\n",
    "\n",
    "cued_pscale_fit = az.from_netcdf('cue_pscale_fit.nc')\n",
    "classic_pscale_fit = az.from_netcdf('Classic_pscale_fit.nc')\n",
    "\n",
    "cued_pindep_fit = az.from_netcdf('cue_pindep_fit.nc')\n",
    "classic_pindep_fit = az.from_netcdf('Classic_pindep_fit.nc')\n",
    "\n",
    "cued_basicstar_fit = az.from_netcdf('cue_basicstar_fit.nc')\n",
    "classic_basicstar_fit = az.from_netcdf('Classic_basicstar_fit.nc')\n",
    "\n",
    "cued_pscalestar_fit = az.from_netcdf('cue_pscalestar_fit.nc')\n",
    "classic_pscalestar_fit = az.from_netcdf('Classic_pscalestar_fit.nc')\n",
    "\n",
    "cued_pindepstar_fit = az.from_netcdf('cue_pindepstar_fit.nc')\n",
    "classic_pindepstar_fit = az.from_netcdf('Classic_pindepstar_fit.nc')"
   ]
  },
  {
   "cell_type": "code",
   "execution_count": 3,
   "metadata": {},
   "outputs": [],
   "source": [
    "task_list = df.groupby(['MSN'])['Subject'].unique()"
   ]
  },
  {
   "cell_type": "code",
   "execution_count": 6,
   "metadata": {},
   "outputs": [
    {
     "data": {
      "text/plain": [
       "MSN\n",
       "RGT_ClassicA     [225, 226, 227, 228, 509, 510, 511, 512, 625, ...\n",
       "RGT_ClassicB     [229, 230, 231, 232, 513, 514, 515, 516, 613, ...\n",
       "RIGT_ClassicA                                      [901, 902, 916]\n",
       "RIGT_ClassicB                                                [915]\n",
       "rGT_A-cue        [173, 174, 177, 178, 179, 180, 329, 330, 331, ...\n",
       "rGT_B-cue        [175, 181, 182, 183, 184, 325, 326, 327, 328, ...\n",
       "rGT_ClassicA     [201, 202, 217, 218, 219, 220, 233, 234, 235, ...\n",
       "rGT_ClassicB     [207, 208, 221, 222, 223, 224, 237, 238, 239, ...\n",
       "Name: Subject, dtype: object"
      ]
     },
     "execution_count": 6,
     "metadata": {},
     "output_type": "execute_result"
    }
   ],
   "source": [
    "task_list"
   ]
  },
  {
   "cell_type": "code",
   "execution_count": 4,
   "metadata": {},
   "outputs": [],
   "source": [
    "classic_subs = np.concatenate(task_list[[task for task in df.MSN.unique() if 'Classic' in task]])\n",
    "cued_subs = np.concatenate((task_list['rGT_A-cue'], task_list['rGT_B-cue']))\n",
    "\n",
    "##changed waic.py to be 3200 instead of 4000 parameter estimates (repaled all 4000 with 3200 and 1000 with 800)\n",
    "\n",
    "#test all the code with one subject \n",
    "# cued_subs2 = [173]\n",
    "# classic_subs2 = [201]"
   ]
  },
  {
   "cell_type": "code",
   "execution_count": 6,
   "metadata": {},
   "outputs": [
    {
     "data": {
      "text/plain": [
       "125"
      ]
     },
     "execution_count": 6,
     "metadata": {},
     "output_type": "execute_result"
    }
   ],
   "source": [
    "len(cued_subs)"
   ]
  },
  {
   "cell_type": "code",
   "execution_count": 15,
   "metadata": {},
   "outputs": [],
   "source": [
    "subs_df, md_df = wc.get_sub_df(df, 5, cued_subs2, cued_basic_fit, 'basic')"
   ]
  },
  {
   "cell_type": "code",
   "execution_count": 17,
   "metadata": {},
   "outputs": [],
   "source": [
    "log_lik_values_list = wc.log_lik_values(subs_df, \"basic\")"
   ]
  },
  {
   "cell_type": "code",
   "execution_count": 23,
   "metadata": {},
   "outputs": [],
   "source": [
    "id_log_likelihood = wc.get_inference_data_log_lik(md_df, log_lik_values_list, cued_basic_fit)"
   ]
  },
  {
   "cell_type": "code",
   "execution_count": 25,
   "metadata": {},
   "outputs": [
    {
     "name": "stdout",
     "output_type": "stream",
     "text": [
      "Computed from 3200 by 947 log-likelihood matrix\n",
      "\n",
      "          Estimate       SE\n",
      "elpd_waic -1175.19    15.12\n",
      "p_waic        2.89        -\n"
     ]
    }
   ],
   "source": [
    "waic = az.waic(id_log_likelihood)\n",
    "print(waic)"
   ]
  },
  {
   "cell_type": "code",
   "execution_count": 26,
   "metadata": {},
   "outputs": [
    {
     "name": "stdout",
     "output_type": "stream",
     "text": [
      "72.06418570000017\n"
     ]
    }
   ],
   "source": [
    "#time for one subject to run for basic model \n",
    "\n",
    "from timeit import default_timer as timer\n",
    "\n",
    "start = timer()\n",
    "\n",
    "cued_basic_waic = wc.waic_fit(df, 5, cued_subs2, cued_basic_fit, \"basic\")\n",
    "end = timer()\n",
    "print(end - start) # Time in seconds\n"
   ]
  },
  {
   "cell_type": "code",
   "execution_count": 8,
   "metadata": {},
   "outputs": [],
   "source": [
    "cued_basic_waic = wc.waic_fit(df, 5, cued_subs2, cued_basic_fit, \"basic\")\n",
    "classic_basic_waic = wc.waic_fit(df, 5, classic_subs2, classic_basic_fit, \"basic\")\n",
    "\n",
    "basic_list = [cued_basic_waic.waic, classic_basic_waic.waic]\n",
    "basic_list_SE = [cued_basic_waic.waic_se, classic_basic_waic.waic_se]"
   ]
  },
  {
   "cell_type": "code",
   "execution_count": 9,
   "metadata": {},
   "outputs": [],
   "source": [
    "cued_basicstar_waic = wc.waic_fit(df, 5, cued_subs2, cued_basicstar_fit, \"basicstar\")\n",
    "classic_basicstar_waic = wc.waic_fit(df, 5, classic_subs2, classic_basicstar_fit, \"basicstar\")\n",
    "\n",
    "basicstar_list = [cued_basicstar_waic.waic, classic_basicstar_waic.waic]\n",
    "basicstar_list_SE = [cued_basicstar_waic.waic_se, classic_basicstar_waic.waic_se]"
   ]
  },
  {
   "cell_type": "code",
   "execution_count": 10,
   "metadata": {},
   "outputs": [],
   "source": [
    "cued_pscale_waic = wc.waic_fit(df, 5, cued_subs2, cued_pscale_fit, \"pscale\")\n",
    "classic_pscale_waic = wc.waic_fit(df, 5, classic_subs2, classic_pscale_fit, \"pscale\")\n",
    "\n",
    "pscale_list = [cued_pscale_waic.waic, classic_pscale_waic.waic]\n",
    "pscale_list_SE = [cued_pscale_waic.waic_se, classic_pscale_waic.waic_se]"
   ]
  },
  {
   "cell_type": "code",
   "execution_count": 13,
   "metadata": {},
   "outputs": [],
   "source": [
    "cued_pscalestar_waic = wc.waic_fit(df, 5, cued_subs2, cued_pscalestar_fit, \"pscalestar\")\n",
    "classic_pscalestar_waic = wc.waic_fit(df, 5, classic_subs2, classic_pscalestar_fit, \"pscalestar\")\n",
    "\n",
    "pscalestar_list = [cued_pscalestar_waic.waic, classic_pscalestar_waic.waic]\n",
    "pscalestar_list_SE = [cued_pscalestar_waic.waic_se, classic_pscalestar_waic.waic_se]"
   ]
  },
  {
   "cell_type": "code",
   "execution_count": 14,
   "metadata": {},
   "outputs": [],
   "source": [
    "cued_pindep_waic = wc.waic_fit(df, 5, cued_subs2, cued_pindep_fit, \"pindep\")\n",
    "classic_pindep_waic = wc.waic_fit(df, 5, classic_subs2, classic_pindep_fit, \"pindep\")\n",
    "\n",
    "pindep_list = [cued_pindep_waic.waic, classic_pindep_waic.waic]\n",
    "pindep_list_SE = [cued_pindep_waic.waic_se, classic_pindep_waic.waic_se]"
   ]
  },
  {
   "cell_type": "code",
   "execution_count": 17,
   "metadata": {},
   "outputs": [],
   "source": [
    "cued_pindepstar_waic = wc.waic_fit(df, 5, cued_subs2, cued_pindepstar_fit, \"pindepstar\")\n",
    "classic_pindepstar_waic = wc.waic_fit(df, 5, classic_subs2, classic_pindepstar_fit, \"pindepstar\")\n",
    "\n",
    "pindepstar_list = [cued_pindepstar_waic.waic, classic_pindepstar_waic.waic]\n",
    "pindepstar_list_SE = [cued_pindepstar_waic.waic_se, classic_pindepstar_waic.waic_se]"
   ]
  },
  {
   "cell_type": "code",
   "execution_count": 18,
   "metadata": {},
   "outputs": [],
   "source": [
    "waic_values = pd.DataFrame(\n",
    "    {'basic_waic': basic_list,\n",
    "     'basic_waic_SE': basic_list_SE, \n",
    "     'basicstar_waic': basicstar_list,\n",
    "     'basicstar_waic_SE': basicstar_list_SE,\n",
    "     'pscale_waic': pscale_list,\n",
    "     'pscale_waic_SE': pscale_list_SE,\n",
    "     'pscalestar_waic': pscalestar_list,\n",
    "     'pscalestar_SE': pscalestar_list_SE,\n",
    "     'pindep_waic': pindep_list,\n",
    "     'pindep_waic_SE': pindep_list_SE,\n",
    "     'pindepstar_waic': pindepstar_list,\n",
    "     'pindepstar_waic_SE': pindepstar_list_SE},\n",
    "     index = [\"cued\", \"classic\"])\n",
    "\n",
    "waic_values.to_excel(\"langdon_waic_values_test.xlsx\")"
   ]
  },
  {
   "cell_type": "code",
   "execution_count": 19,
   "metadata": {},
   "outputs": [
    {
     "data": {
      "text/plain": [
       "'C:\\\\Users\\\\brett\\\\sparklyRGT\\\\Pystan\\\\cmdstan_output'"
      ]
     },
     "execution_count": 19,
     "metadata": {},
     "output_type": "execute_result"
    }
   ],
   "source": [
    "os.getcwd()"
   ]
  }
 ],
 "metadata": {
  "kernelspec": {
   "display_name": "Python 3",
   "language": "python",
   "name": "python3"
  },
  "language_info": {
   "codemirror_mode": {
    "name": "ipython",
    "version": 3
   },
   "file_extension": ".py",
   "mimetype": "text/x-python",
   "name": "python",
   "nbconvert_exporter": "python",
   "pygments_lexer": "ipython3",
   "version": "3.8.5"
  }
 },
 "nbformat": 4,
 "nbformat_minor": 4
}
