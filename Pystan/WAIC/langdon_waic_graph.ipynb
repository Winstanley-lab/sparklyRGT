{
 "cells": [
  {
   "cell_type": "code",
   "execution_count": 1,
   "metadata": {},
   "outputs": [
    {
     "data": {
      "text/plain": [
       "'C:\\\\Users\\\\brett\\\\sparklyRGT\\\\Pystan'"
      ]
     },
     "execution_count": 1,
     "metadata": {},
     "output_type": "execute_result"
    }
   ],
   "source": [
    "import numpy as np\n",
    "import os \n",
    "import arviz as az\n",
    "import pandas as pd\n",
    "import math\n",
    "import xarray as xr\n",
    "import matplotlib.pyplot as plt\n",
    "os.chdir(\"..\")\n",
    "import model_data as md\n",
    "import waic as wc\n",
    "os.getcwd()"
   ]
  },
  {
   "cell_type": "code",
   "execution_count": 2,
   "metadata": {},
   "outputs": [],
   "source": [
    "os.chdir(\"WAIC\")"
   ]
  },
  {
   "cell_type": "code",
   "execution_count": 3,
   "metadata": {},
   "outputs": [
    {
     "data": {
      "text/html": [
       "<div>\n",
       "<style scoped>\n",
       "    .dataframe tbody tr th:only-of-type {\n",
       "        vertical-align: middle;\n",
       "    }\n",
       "\n",
       "    .dataframe tbody tr th {\n",
       "        vertical-align: top;\n",
       "    }\n",
       "\n",
       "    .dataframe thead th {\n",
       "        text-align: right;\n",
       "    }\n",
       "</style>\n",
       "<table border=\"1\" class=\"dataframe\">\n",
       "  <thead>\n",
       "    <tr style=\"text-align: right;\">\n",
       "      <th></th>\n",
       "      <th>basic_waic</th>\n",
       "      <th>basic_waic_SE</th>\n",
       "      <th>basicstar_waic</th>\n",
       "      <th>basicstar_waic_SE</th>\n",
       "      <th>pscale_waic</th>\n",
       "      <th>pscale_waic_SE</th>\n",
       "      <th>pscalestar_waic</th>\n",
       "      <th>pscalestar_SE</th>\n",
       "      <th>pindep_waic</th>\n",
       "      <th>pindep_waic_SE</th>\n",
       "      <th>pindepstar_waic</th>\n",
       "      <th>pindepstar_waic_SE</th>\n",
       "    </tr>\n",
       "    <tr>\n",
       "      <th>subs</th>\n",
       "      <th></th>\n",
       "      <th></th>\n",
       "      <th></th>\n",
       "      <th></th>\n",
       "      <th></th>\n",
       "      <th></th>\n",
       "      <th></th>\n",
       "      <th></th>\n",
       "      <th></th>\n",
       "      <th></th>\n",
       "      <th></th>\n",
       "      <th></th>\n",
       "    </tr>\n",
       "  </thead>\n",
       "  <tbody>\n",
       "    <tr>\n",
       "      <th>cued</th>\n",
       "      <td>-238386.520843</td>\n",
       "      <td>11.444801</td>\n",
       "      <td>-238910.429117</td>\n",
       "      <td>11.402445</td>\n",
       "      <td>-238978.529523</td>\n",
       "      <td>11.098161</td>\n",
       "      <td>-237727.924793</td>\n",
       "      <td>11.521083</td>\n",
       "      <td>-234979.202523</td>\n",
       "      <td>12.262771</td>\n",
       "      <td>-235138.346873</td>\n",
       "      <td>12.336943</td>\n",
       "    </tr>\n",
       "    <tr>\n",
       "      <th>classic</th>\n",
       "      <td>-190621.916967</td>\n",
       "      <td>12.056341</td>\n",
       "      <td>-190630.701104</td>\n",
       "      <td>12.465796</td>\n",
       "      <td>-188807.457847</td>\n",
       "      <td>12.613349</td>\n",
       "      <td>-189595.334956</td>\n",
       "      <td>12.615861</td>\n",
       "      <td>-186720.286446</td>\n",
       "      <td>12.768808</td>\n",
       "      <td>-187040.607631</td>\n",
       "      <td>12.711015</td>\n",
       "    </tr>\n",
       "  </tbody>\n",
       "</table>\n",
       "</div>"
      ],
      "text/plain": [
       "            basic_waic  basic_waic_SE  basicstar_waic  basicstar_waic_SE  \\\n",
       "subs                                                                       \n",
       "cued    -238386.520843      11.444801  -238910.429117          11.402445   \n",
       "classic -190621.916967      12.056341  -190630.701104          12.465796   \n",
       "\n",
       "           pscale_waic  pscale_waic_SE  pscalestar_waic  pscalestar_SE  \\\n",
       "subs                                                                     \n",
       "cued    -238978.529523       11.098161   -237727.924793      11.521083   \n",
       "classic -188807.457847       12.613349   -189595.334956      12.615861   \n",
       "\n",
       "           pindep_waic  pindep_waic_SE  pindepstar_waic  pindepstar_waic_SE  \n",
       "subs                                                                         \n",
       "cued    -234979.202523       12.262771   -235138.346873           12.336943  \n",
       "classic -186720.286446       12.768808   -187040.607631           12.711015  "
      ]
     },
     "execution_count": 3,
     "metadata": {},
     "output_type": "execute_result"
    }
   ],
   "source": [
    "waic_df = pd.read_excel(\"langdon_waic_values.xlsx\")\n",
    "waic_df = waic_df.rename(columns = {'Unnamed: 0': \"subs\"})\n",
    "waic_df = waic_df.set_index('subs')\n",
    "waic_df"
   ]
  },
  {
   "cell_type": "code",
   "execution_count": null,
   "metadata": {
    "jupyter": {
     "source_hidden": true
    }
   },
   "outputs": [],
   "source": [
    "subs = waic_df[\"Unnamed: 0\"]\n",
    "subs_list = list(subs)\n",
    "subs_list\n",
    "waic_df[[\"basic_waic\", \"basicstar_waic\"]]\n",
    "waic_df.iloc[[0]]"
   ]
  },
  {
   "cell_type": "code",
   "execution_count": null,
   "metadata": {
    "jupyter": {
     "source_hidden": true
    }
   },
   "outputs": [],
   "source": [
    "loss_row = waic_df.iloc[[0]]\n",
    "outcome_row = waic_df.iloc[[1]]\n",
    "random_row = waic_df.iloc[[2]]\n",
    "reverse_row = waic_df.iloc[[3]]\n",
    "standard_row = waic_df.iloc[[4]]\n",
    "uncued_row = waic_df.iloc[[5]]"
   ]
  },
  {
   "cell_type": "code",
   "execution_count": null,
   "metadata": {
    "jupyter": {
     "source_hidden": true
    }
   },
   "outputs": [],
   "source": [
    "labels = subs_list\n",
    "loss_waics = loss_row[[\"basic_waic\", \"basicstar_waic\", \"pscale_waic\", \"pscalestar_waic\", \"pindep_waic\", \"pindepstar_waic\"]]\n",
    "outcome_waics = outcome_row[[\"basic_waic\", \"basicstar_waic\", \"pscale_waic\", \"pscalestar_waic\", \"pindep_waic\", \"pindepstar_waic\"]]\n",
    "random_waics = random_row[[\"basic_waic\", \"basicstar_waic\", \"pscale_waic\", \"pscalestar_waic\", \"pindep_waic\", \"pindepstar_waic\"]]\n",
    "reverse_waics = reverse_row[[\"basic_waic\", \"basicstar_waic\", \"pscale_waic\", \"pscalestar_waic\", \"pindep_waic\", \"pindepstar_waic\"]]\n",
    "standard_waics = standard_row[[\"basic_waic\", \"basicstar_waic\", \"pscale_waic\", \"pscalestar_waic\", \"pindep_waic\", \"pindepstar_waic\"]]\n",
    "uncued_waics = uncued_row[[\"basic_waic\", \"basicstar_waic\", \"pscale_waic\", \"pscalestar_waic\", \"pindep_waic\", \"pindepstar_waic\"]]\n",
    "\n",
    "loss_values = loss_waics.values[0].tolist()\n",
    "outcome_values = outcome_waics.values[0].tolist()\n",
    "random_values = random_waics.values[0].tolist()\n",
    "reverse_values = reverse_waics.values[0].tolist()\n",
    "standard_values = standard_waics.values[0].tolist()\n",
    "uncued_values = uncued_waics.values[0].tolist()"
   ]
  },
  {
   "cell_type": "code",
   "execution_count": null,
   "metadata": {
    "jupyter": {
     "source_hidden": true
    }
   },
   "outputs": [],
   "source": [
    "basic_waics = waic_df[\"basic_waic\"].tolist()\n",
    "basicstar_waics = waic_df[\"basicstar_waic\"].tolist()\n",
    "pscale_waics = waic_df[\"pscale_waic\"].tolist()\n",
    "pscalestar_waics = waic_df[\"pscalestar_waic\"].tolist()\n",
    "pindep_waics = waic_df[\"pindep_waic\"].tolist()\n",
    "pindepstar_waics = waic_df[\"pindepstar_waic\"].tolist()"
   ]
  },
  {
   "cell_type": "code",
   "execution_count": null,
   "metadata": {
    "jupyter": {
     "source_hidden": true
    }
   },
   "outputs": [],
   "source": [
    "x = np.arange(len(labels))  # the label locations\n",
    "width = 0.1  # the width of the bars\n",
    "\n",
    "fig, ax = plt.subplots()\n",
    "rects1 = ax.bar(x - width/2, basic_waics, width, label='Loss')\n",
    "rects2 = ax.bar(x + width/2, basicstar_waics, width, label='Outcome')\n",
    "rects3 = ax.bar(x + 3*width/2, pscale_waics, width, label='Random')\n",
    "rects4 = ax.bar(x + 5*width/2, pscalestar_waics, width, label='Reverse')\n",
    "rects5 = ax.bar(x + 7*width/2, pindep_waics, width, label='Standard')\n",
    "rects6 = ax.bar(x + 9*width/2, pindepstar_waics, width, label='Uncued')\n",
    "\n",
    "ax.set_ylabel('Scores')\n",
    "ax.set_title('Scores by group and gender')\n",
    "ax.set_xticks(x)\n",
    "ax.set_xticklabels(labels)\n",
    "ax.legend()\n",
    "\n",
    "# ax.bar_label(rects1, padding=3)\n",
    "# ax.bar_label(rects2, padding=3)\n",
    "\n",
    "fig.tight_layout()\n",
    "\n",
    "plt.show()"
   ]
  },
  {
   "cell_type": "code",
   "execution_count": null,
   "metadata": {
    "jupyter": {
     "source_hidden": true
    }
   },
   "outputs": [],
   "source": [
    "labels = ['G1', 'G2', 'G3', 'G4', 'G5']\n",
    "men_means = [20, 34, 30, 35, 27]\n",
    "women_means = [25, 32, 34, 20, 25]\n",
    "\n",
    "x = np.arange(len(labels))  # the label locations\n",
    "width = 0.35  # the width of the bars\n",
    "\n",
    "fig, ax = plt.subplots()\n",
    "rects1 = ax.bar(x - width/2, men_means, width, label='Men')\n",
    "rects2 = ax.bar(x + width/2, women_means, width, label='Women')\n",
    "\n",
    "# Add some text for labels, title and custom x-axis tick labels, etc.\n",
    "ax.set_ylabel('Scores')\n",
    "ax.set_title('Scores by group and gender')\n",
    "ax.set_xticks(x)\n",
    "ax.set_xticklabels(labels)\n",
    "ax.legend()\n",
    "\n",
    "# ax.bar_label(rects1, padding=3)\n",
    "# ax.bar_label(rects2, padding=3)\n",
    "\n",
    "fig.tight_layout()\n",
    "\n",
    "plt.show()"
   ]
  },
  {
   "cell_type": "code",
   "execution_count": null,
   "metadata": {
    "jupyter": {
     "source_hidden": true
    }
   },
   "outputs": [],
   "source": [
    "speed = [0.1, 17.5, 40, 48, 52, 69, 88]\n",
    "lifespan = [2, 8, 70, 1.5, 25, 12, 28]\n",
    "index = ['snail', 'pig', 'elephant',\n",
    "         'rabbit', 'giraffe', 'coyote', 'horse']\n",
    "df = pd.DataFrame({'speed': speed,\n",
    "                   'lifespan': lifespan}, index=index)\n",
    "ax = df.plot.bar(rot=0)"
   ]
  },
  {
   "cell_type": "code",
   "execution_count": null,
   "metadata": {
    "jupyter": {
     "source_hidden": true
    }
   },
   "outputs": [],
   "source": [
    "df"
   ]
  },
  {
   "cell_type": "code",
   "execution_count": 4,
   "metadata": {},
   "outputs": [
    {
     "data": {
      "text/html": [
       "<div>\n",
       "<style scoped>\n",
       "    .dataframe tbody tr th:only-of-type {\n",
       "        vertical-align: middle;\n",
       "    }\n",
       "\n",
       "    .dataframe tbody tr th {\n",
       "        vertical-align: top;\n",
       "    }\n",
       "\n",
       "    .dataframe thead th {\n",
       "        text-align: right;\n",
       "    }\n",
       "</style>\n",
       "<table border=\"1\" class=\"dataframe\">\n",
       "  <thead>\n",
       "    <tr style=\"text-align: right;\">\n",
       "      <th></th>\n",
       "      <th>basic_waic_SE</th>\n",
       "      <th>basicstar_waic_SE</th>\n",
       "      <th>pscale_waic_SE</th>\n",
       "      <th>pscalestar_SE</th>\n",
       "      <th>pindep_waic_SE</th>\n",
       "      <th>pindepstar_waic_SE</th>\n",
       "    </tr>\n",
       "    <tr>\n",
       "      <th>subs</th>\n",
       "      <th></th>\n",
       "      <th></th>\n",
       "      <th></th>\n",
       "      <th></th>\n",
       "      <th></th>\n",
       "      <th></th>\n",
       "    </tr>\n",
       "  </thead>\n",
       "  <tbody>\n",
       "    <tr>\n",
       "      <th>cued</th>\n",
       "      <td>11.444801</td>\n",
       "      <td>11.402445</td>\n",
       "      <td>11.098161</td>\n",
       "      <td>11.521083</td>\n",
       "      <td>12.262771</td>\n",
       "      <td>12.336943</td>\n",
       "    </tr>\n",
       "    <tr>\n",
       "      <th>classic</th>\n",
       "      <td>12.056341</td>\n",
       "      <td>12.465796</td>\n",
       "      <td>12.613349</td>\n",
       "      <td>12.615861</td>\n",
       "      <td>12.768808</td>\n",
       "      <td>12.711015</td>\n",
       "    </tr>\n",
       "  </tbody>\n",
       "</table>\n",
       "</div>"
      ],
      "text/plain": [
       "         basic_waic_SE  basicstar_waic_SE  pscale_waic_SE  pscalestar_SE  \\\n",
       "subs                                                                       \n",
       "cued         11.444801          11.402445       11.098161      11.521083   \n",
       "classic      12.056341          12.465796       12.613349      12.615861   \n",
       "\n",
       "         pindep_waic_SE  pindepstar_waic_SE  \n",
       "subs                                         \n",
       "cued          12.262771           12.336943  \n",
       "classic       12.768808           12.711015  "
      ]
     },
     "execution_count": 4,
     "metadata": {},
     "output_type": "execute_result"
    }
   ],
   "source": [
    "waic_df_values = waic_df[[\"basic_waic\", \"basicstar_waic\", \"pscale_waic\", \"pscalestar_waic\", \"pindep_waic\", \"pindepstar_waic\"]]\n",
    "waic_df_se = waic_df[[\"basic_waic_SE\", \"basicstar_waic_SE\", \"pscale_waic_SE\", \"pscalestar_SE\", \"pindep_waic_SE\", \"pindepstar_waic_SE\"]]\n",
    "waic_df_values = waic_df_values.transform(func = lambda x : x * -1)\n",
    "# waic_df_se = waic_df_se.transform(func = lambda x : x * 10000)\n",
    "waic_df_se"
   ]
  },
  {
   "cell_type": "code",
   "execution_count": 6,
   "metadata": {},
   "outputs": [
    {
     "data": {
      "text/html": [
       "<div>\n",
       "<style scoped>\n",
       "    .dataframe tbody tr th:only-of-type {\n",
       "        vertical-align: middle;\n",
       "    }\n",
       "\n",
       "    .dataframe tbody tr th {\n",
       "        vertical-align: top;\n",
       "    }\n",
       "\n",
       "    .dataframe thead th {\n",
       "        text-align: right;\n",
       "    }\n",
       "</style>\n",
       "<table border=\"1\" class=\"dataframe\">\n",
       "  <thead>\n",
       "    <tr style=\"text-align: right;\">\n",
       "      <th></th>\n",
       "      <th>basic_waic</th>\n",
       "      <th>basicstar_waic</th>\n",
       "      <th>pscale_waic</th>\n",
       "      <th>pscalestar_waic</th>\n",
       "      <th>pindep_waic</th>\n",
       "      <th>pindepstar_waic</th>\n",
       "    </tr>\n",
       "    <tr>\n",
       "      <th>subs</th>\n",
       "      <th></th>\n",
       "      <th></th>\n",
       "      <th></th>\n",
       "      <th></th>\n",
       "      <th></th>\n",
       "      <th></th>\n",
       "    </tr>\n",
       "  </thead>\n",
       "  <tbody>\n",
       "    <tr>\n",
       "      <th>cued</th>\n",
       "      <td>238386.520843</td>\n",
       "      <td>238910.429117</td>\n",
       "      <td>238978.529523</td>\n",
       "      <td>237727.924793</td>\n",
       "      <td>234979.202523</td>\n",
       "      <td>235138.346873</td>\n",
       "    </tr>\n",
       "    <tr>\n",
       "      <th>classic</th>\n",
       "      <td>190621.916967</td>\n",
       "      <td>190630.701104</td>\n",
       "      <td>188807.457847</td>\n",
       "      <td>189595.334956</td>\n",
       "      <td>186720.286446</td>\n",
       "      <td>187040.607631</td>\n",
       "    </tr>\n",
       "  </tbody>\n",
       "</table>\n",
       "</div>"
      ],
      "text/plain": [
       "            basic_waic  basicstar_waic    pscale_waic  pscalestar_waic  \\\n",
       "subs                                                                     \n",
       "cued     238386.520843   238910.429117  238978.529523    237727.924793   \n",
       "classic  190621.916967   190630.701104  188807.457847    189595.334956   \n",
       "\n",
       "           pindep_waic  pindepstar_waic  \n",
       "subs                                     \n",
       "cued     234979.202523    235138.346873  \n",
       "classic  186720.286446    187040.607631  "
      ]
     },
     "execution_count": 6,
     "metadata": {},
     "output_type": "execute_result"
    }
   ],
   "source": [
    "waic_df_values"
   ]
  },
  {
   "cell_type": "code",
   "execution_count": 16,
   "metadata": {},
   "outputs": [
    {
     "data": {
      "image/png": "[encoded data removed]",
      "text/plain": [
       "<Figure size 1080x576 with 1 Axes>"
      ]
     },
     "metadata": {
      "needs_background": "light"
     },
     "output_type": "display_data"
    }
   ],
   "source": [
    "sub_groups = [\"Cued\",\"Classic\"]\n",
    "x_pos = np.arange(len(sub_groups))\n",
    "\n",
    "ax = waic_df_values.plot.bar(rot = 0, \n",
    "                        capsize = 8,\n",
    "                        yerr = waic_df_se.values.transpose(), \n",
    "                        figsize = (15,8))\n",
    "plt.rcParams.update({'font.size': 18})\n",
    "ax.set_xlabel('Subject Group', fontweight = 'bold', fontsize = 20)\n",
    "ax.set_ylabel('WAIC', fontweight = 'bold', fontsize = 20)\n",
    "ax.set_xticklabels(sub_groups)\n",
    "ax.set_title(\"WAIC values for each model: Langdon dataset\", \n",
    "             fontweight = 'bold',\n",
    "             fontsize = 22, pad = 20)\n",
    "ax.set_ylim(bottom = 150000)\n",
    "ax.spines['right'].set_linewidth(0)\n",
    "ax.spines['top'].set_linewidth(0)\n",
    "ax.spines['left'].set_linewidth(2)\n",
    "ax.spines['bottom'].set_linewidth(2)\n",
    "ax.legend([\"Scaled\", \"Scaled*\", \"Scaled + Offset\", \"Scaled + Offset*\", \"Independent\", \"Independent*\"], title = \"Model Name\")\n",
    "\n",
    "\n",
    "#plt.savefig('langdon_waic_graphic',facecolor = 'white')"
   ]
  },
  {
   "cell_type": "code",
   "execution_count": null,
   "metadata": {
    "jupyter": {
     "source_hidden": true
    }
   },
   "outputs": [],
   "source": [
    "waic_df_values[\"minimum\"] = waic_df_values.min(axis = 1)"
   ]
  },
  {
   "cell_type": "code",
   "execution_count": null,
   "metadata": {
    "jupyter": {
     "source_hidden": true
    }
   },
   "outputs": [],
   "source": [
    "waic_df_values"
   ]
  },
  {
   "cell_type": "code",
   "execution_count": null,
   "metadata": {
    "jupyter": {
     "source_hidden": true
    }
   },
   "outputs": [],
   "source": []
  }
 ],
 "metadata": {
  "kernelspec": {
   "display_name": "Python 3",
   "language": "python",
   "name": "python3"
  },
  "language_info": {
   "codemirror_mode": {
    "name": "ipython",
    "version": 3
   },
   "file_extension": ".py",
   "mimetype": "text/x-python",
   "name": "python",
   "nbconvert_exporter": "python",
   "pygments_lexer": "ipython3",
   "version": "3.8.5"
  }
 },
 "nbformat": 4,
 "nbformat_minor": 4
}
