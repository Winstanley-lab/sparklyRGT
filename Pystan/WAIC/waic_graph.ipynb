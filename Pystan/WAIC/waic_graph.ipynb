{
 "cells": [
  {
   "cell_type": "code",
   "execution_count": 1,
   "metadata": {},
   "outputs": [
    {
     "data": {
      "text/plain": [
       "'C:\\\\Users\\\\dexte\\\\sparklyRGT\\\\Pystan'"
      ]
     },
     "execution_count": 1,
     "metadata": {},
     "output_type": "execute_result"
    }
   ],
   "source": [
    "import numpy as np\n",
    "import os \n",
    "import arviz as az\n",
    "import pandas as pd\n",
    "import math\n",
    "import xarray as xr\n",
    "import matplotlib.pyplot as plt\n",
    "os.chdir(\"..\")\n",
    "import model_data as md\n",
    "import waic as wc\n",
    "os.getcwd()"
   ]
  },
  {
   "cell_type": "code",
   "execution_count": 2,
   "metadata": {},
   "outputs": [],
   "source": [
    "os.chdir(\"WAIC\")"
   ]
  },
  {
   "cell_type": "code",
   "execution_count": 3,
   "metadata": {},
   "outputs": [
    {
     "data": {
      "text/html": [
       "<div>\n",
       "<style scoped>\n",
       "    .dataframe tbody tr th:only-of-type {\n",
       "        vertical-align: middle;\n",
       "    }\n",
       "\n",
       "    .dataframe tbody tr th {\n",
       "        vertical-align: top;\n",
       "    }\n",
       "\n",
       "    .dataframe thead th {\n",
       "        text-align: right;\n",
       "    }\n",
       "</style>\n",
       "<table border=\"1\" class=\"dataframe\">\n",
       "  <thead>\n",
       "    <tr style=\"text-align: right;\">\n",
       "      <th></th>\n",
       "      <th>basic_waic</th>\n",
       "      <th>basic_waic_SE</th>\n",
       "      <th>basicstar_waic</th>\n",
       "      <th>basicstar_waic_SE</th>\n",
       "      <th>pscale_waic</th>\n",
       "      <th>pscale_waic_SE</th>\n",
       "      <th>pscalestar_waic</th>\n",
       "      <th>pscalestar_SE</th>\n",
       "      <th>pindep_waic</th>\n",
       "      <th>pindep_waic_SE</th>\n",
       "      <th>pindepstar_waic</th>\n",
       "      <th>pindepstar_waic_SE</th>\n",
       "    </tr>\n",
       "    <tr>\n",
       "      <th>subs</th>\n",
       "      <th></th>\n",
       "      <th></th>\n",
       "      <th></th>\n",
       "      <th></th>\n",
       "      <th></th>\n",
       "      <th></th>\n",
       "      <th></th>\n",
       "      <th></th>\n",
       "      <th></th>\n",
       "      <th></th>\n",
       "      <th></th>\n",
       "      <th></th>\n",
       "    </tr>\n",
       "  </thead>\n",
       "  <tbody>\n",
       "    <tr>\n",
       "      <th>loss</th>\n",
       "      <td>-16517.427212</td>\n",
       "      <td>4.152543</td>\n",
       "      <td>-16698.925599</td>\n",
       "      <td>4.359222</td>\n",
       "      <td>-16425.598279</td>\n",
       "      <td>4.241947</td>\n",
       "      <td>-16681.323139</td>\n",
       "      <td>4.392174</td>\n",
       "      <td>-16277.110943</td>\n",
       "      <td>4.133473</td>\n",
       "      <td>-16346.815732</td>\n",
       "      <td>4.232541</td>\n",
       "    </tr>\n",
       "    <tr>\n",
       "      <th>outcome</th>\n",
       "      <td>-15740.442956</td>\n",
       "      <td>1.846242</td>\n",
       "      <td>-15769.165498</td>\n",
       "      <td>2.102947</td>\n",
       "      <td>-15700.376306</td>\n",
       "      <td>1.889044</td>\n",
       "      <td>-15674.544179</td>\n",
       "      <td>2.027254</td>\n",
       "      <td>-15444.843511</td>\n",
       "      <td>1.847544</td>\n",
       "      <td>-15451.835650</td>\n",
       "      <td>1.980440</td>\n",
       "    </tr>\n",
       "    <tr>\n",
       "      <th>random</th>\n",
       "      <td>-26118.947991</td>\n",
       "      <td>5.489336</td>\n",
       "      <td>-32087.875008</td>\n",
       "      <td>12.633443</td>\n",
       "      <td>-24523.648346</td>\n",
       "      <td>4.062790</td>\n",
       "      <td>-32547.462994</td>\n",
       "      <td>15.813085</td>\n",
       "      <td>-23141.890611</td>\n",
       "      <td>3.579618</td>\n",
       "      <td>-23200.395180</td>\n",
       "      <td>3.644527</td>\n",
       "    </tr>\n",
       "    <tr>\n",
       "      <th>reverse</th>\n",
       "      <td>-31018.595878</td>\n",
       "      <td>6.931944</td>\n",
       "      <td>-31538.704672</td>\n",
       "      <td>7.367145</td>\n",
       "      <td>-29404.221532</td>\n",
       "      <td>5.474285</td>\n",
       "      <td>-32700.574507</td>\n",
       "      <td>7.842773</td>\n",
       "      <td>-26340.631191</td>\n",
       "      <td>3.307347</td>\n",
       "      <td>-26393.935470</td>\n",
       "      <td>3.345210</td>\n",
       "    </tr>\n",
       "    <tr>\n",
       "      <th>standard</th>\n",
       "      <td>-37385.103095</td>\n",
       "      <td>4.572181</td>\n",
       "      <td>-37530.138846</td>\n",
       "      <td>4.598955</td>\n",
       "      <td>-37230.533323</td>\n",
       "      <td>4.837552</td>\n",
       "      <td>-38432.181192</td>\n",
       "      <td>5.495276</td>\n",
       "      <td>-33119.792469</td>\n",
       "      <td>3.900934</td>\n",
       "      <td>-33128.725420</td>\n",
       "      <td>3.928093</td>\n",
       "    </tr>\n",
       "    <tr>\n",
       "      <th>uncued</th>\n",
       "      <td>-36095.100924</td>\n",
       "      <td>6.178981</td>\n",
       "      <td>-45813.577261</td>\n",
       "      <td>13.576177</td>\n",
       "      <td>-33270.255670</td>\n",
       "      <td>5.136851</td>\n",
       "      <td>-44950.630424</td>\n",
       "      <td>12.760540</td>\n",
       "      <td>-30010.218928</td>\n",
       "      <td>3.969756</td>\n",
       "      <td>-30061.757553</td>\n",
       "      <td>4.027125</td>\n",
       "    </tr>\n",
       "  </tbody>\n",
       "</table>\n",
       "</div>"
      ],
      "text/plain": [
       "            basic_waic  basic_waic_SE  basicstar_waic  basicstar_waic_SE  \\\n",
       "subs                                                                       \n",
       "loss     -16517.427212       4.152543   -16698.925599           4.359222   \n",
       "outcome  -15740.442956       1.846242   -15769.165498           2.102947   \n",
       "random   -26118.947991       5.489336   -32087.875008          12.633443   \n",
       "reverse  -31018.595878       6.931944   -31538.704672           7.367145   \n",
       "standard -37385.103095       4.572181   -37530.138846           4.598955   \n",
       "uncued   -36095.100924       6.178981   -45813.577261          13.576177   \n",
       "\n",
       "           pscale_waic  pscale_waic_SE  pscalestar_waic  pscalestar_SE  \\\n",
       "subs                                                                     \n",
       "loss     -16425.598279        4.241947    -16681.323139       4.392174   \n",
       "outcome  -15700.376306        1.889044    -15674.544179       2.027254   \n",
       "random   -24523.648346        4.062790    -32547.462994      15.813085   \n",
       "reverse  -29404.221532        5.474285    -32700.574507       7.842773   \n",
       "standard -37230.533323        4.837552    -38432.181192       5.495276   \n",
       "uncued   -33270.255670        5.136851    -44950.630424      12.760540   \n",
       "\n",
       "           pindep_waic  pindep_waic_SE  pindepstar_waic  pindepstar_waic_SE  \n",
       "subs                                                                         \n",
       "loss     -16277.110943        4.133473    -16346.815732            4.232541  \n",
       "outcome  -15444.843511        1.847544    -15451.835650            1.980440  \n",
       "random   -23141.890611        3.579618    -23200.395180            3.644527  \n",
       "reverse  -26340.631191        3.307347    -26393.935470            3.345210  \n",
       "standard -33119.792469        3.900934    -33128.725420            3.928093  \n",
       "uncued   -30010.218928        3.969756    -30061.757553            4.027125  "
      ]
     },
     "execution_count": 3,
     "metadata": {},
     "output_type": "execute_result"
    }
   ],
   "source": [
    "waic_df = pd.read_excel(\"waic_values.xlsx\")\n",
    "waic_df = waic_df.rename(columns = {'Unnamed: 0': \"subs\"})\n",
    "waic_df = waic_df.set_index('subs')\n",
    "waic_df"
   ]
  },
  {
   "cell_type": "code",
   "execution_count": null,
   "metadata": {
    "jupyter": {
     "source_hidden": true
    }
   },
   "outputs": [],
   "source": [
    "subs = waic_df[\"Unnamed: 0\"]\n",
    "subs_list = list(subs)\n",
    "subs_list\n",
    "waic_df[[\"basic_waic\", \"basicstar_waic\"]]\n",
    "waic_df.iloc[[0]]"
   ]
  },
  {
   "cell_type": "code",
   "execution_count": null,
   "metadata": {
    "jupyter": {
     "source_hidden": true
    }
   },
   "outputs": [],
   "source": [
    "loss_row = waic_df.iloc[[0]]\n",
    "outcome_row = waic_df.iloc[[1]]\n",
    "random_row = waic_df.iloc[[2]]\n",
    "reverse_row = waic_df.iloc[[3]]\n",
    "standard_row = waic_df.iloc[[4]]\n",
    "uncued_row = waic_df.iloc[[5]]"
   ]
  },
  {
   "cell_type": "code",
   "execution_count": null,
   "metadata": {
    "jupyter": {
     "source_hidden": true
    }
   },
   "outputs": [],
   "source": [
    "labels = subs_list\n",
    "loss_waics = loss_row[[\"basic_waic\", \"basicstar_waic\", \"pscale_waic\", \"pscalestar_waic\", \"pindep_waic\", \"pindepstar_waic\"]]\n",
    "outcome_waics = outcome_row[[\"basic_waic\", \"basicstar_waic\", \"pscale_waic\", \"pscalestar_waic\", \"pindep_waic\", \"pindepstar_waic\"]]\n",
    "random_waics = random_row[[\"basic_waic\", \"basicstar_waic\", \"pscale_waic\", \"pscalestar_waic\", \"pindep_waic\", \"pindepstar_waic\"]]\n",
    "reverse_waics = reverse_row[[\"basic_waic\", \"basicstar_waic\", \"pscale_waic\", \"pscalestar_waic\", \"pindep_waic\", \"pindepstar_waic\"]]\n",
    "standard_waics = standard_row[[\"basic_waic\", \"basicstar_waic\", \"pscale_waic\", \"pscalestar_waic\", \"pindep_waic\", \"pindepstar_waic\"]]\n",
    "uncued_waics = uncued_row[[\"basic_waic\", \"basicstar_waic\", \"pscale_waic\", \"pscalestar_waic\", \"pindep_waic\", \"pindepstar_waic\"]]\n",
    "\n",
    "loss_values = loss_waics.values[0].tolist()\n",
    "outcome_values = outcome_waics.values[0].tolist()\n",
    "random_values = random_waics.values[0].tolist()\n",
    "reverse_values = reverse_waics.values[0].tolist()\n",
    "standard_values = standard_waics.values[0].tolist()\n",
    "uncued_values = uncued_waics.values[0].tolist()"
   ]
  },
  {
   "cell_type": "code",
   "execution_count": null,
   "metadata": {
    "jupyter": {
     "source_hidden": true
    }
   },
   "outputs": [],
   "source": [
    "basic_waics = waic_df[\"basic_waic\"].tolist()\n",
    "basicstar_waics = waic_df[\"basicstar_waic\"].tolist()\n",
    "pscale_waics = waic_df[\"pscale_waic\"].tolist()\n",
    "pscalestar_waics = waic_df[\"pscalestar_waic\"].tolist()\n",
    "pindep_waics = waic_df[\"pindep_waic\"].tolist()\n",
    "pindepstar_waics = waic_df[\"pindepstar_waic\"].tolist()"
   ]
  },
  {
   "cell_type": "code",
   "execution_count": null,
   "metadata": {
    "jupyter": {
     "source_hidden": true
    }
   },
   "outputs": [],
   "source": [
    "x = np.arange(len(labels))  # the label locations\n",
    "width = 0.1  # the width of the bars\n",
    "\n",
    "fig, ax = plt.subplots()\n",
    "rects1 = ax.bar(x - width/2, basic_waics, width, label='Loss')\n",
    "rects2 = ax.bar(x + width/2, basicstar_waics, width, label='Outcome')\n",
    "rects3 = ax.bar(x + 3*width/2, pscale_waics, width, label='Random')\n",
    "rects4 = ax.bar(x + 5*width/2, pscalestar_waics, width, label='Reverse')\n",
    "rects5 = ax.bar(x + 7*width/2, pindep_waics, width, label='Standard')\n",
    "rects6 = ax.bar(x + 9*width/2, pindepstar_waics, width, label='Uncued')\n",
    "\n",
    "ax.set_ylabel('Scores')\n",
    "ax.set_title('Scores by group and gender')\n",
    "ax.set_xticks(x)\n",
    "ax.set_xticklabels(labels)\n",
    "ax.legend()\n",
    "\n",
    "# ax.bar_label(rects1, padding=3)\n",
    "# ax.bar_label(rects2, padding=3)\n",
    "\n",
    "fig.tight_layout()\n",
    "\n",
    "plt.show()"
   ]
  },
  {
   "cell_type": "code",
   "execution_count": null,
   "metadata": {
    "jupyter": {
     "source_hidden": true
    }
   },
   "outputs": [],
   "source": [
    "labels = ['G1', 'G2', 'G3', 'G4', 'G5']\n",
    "men_means = [20, 34, 30, 35, 27]\n",
    "women_means = [25, 32, 34, 20, 25]\n",
    "\n",
    "x = np.arange(len(labels))  # the label locations\n",
    "width = 0.35  # the width of the bars\n",
    "\n",
    "fig, ax = plt.subplots()\n",
    "rects1 = ax.bar(x - width/2, men_means, width, label='Men')\n",
    "rects2 = ax.bar(x + width/2, women_means, width, label='Women')\n",
    "\n",
    "# Add some text for labels, title and custom x-axis tick labels, etc.\n",
    "ax.set_ylabel('Scores')\n",
    "ax.set_title('Scores by group and gender')\n",
    "ax.set_xticks(x)\n",
    "ax.set_xticklabels(labels)\n",
    "ax.legend()\n",
    "\n",
    "# ax.bar_label(rects1, padding=3)\n",
    "# ax.bar_label(rects2, padding=3)\n",
    "\n",
    "fig.tight_layout()\n",
    "\n",
    "plt.show()"
   ]
  },
  {
   "cell_type": "code",
   "execution_count": null,
   "metadata": {
    "jupyter": {
     "source_hidden": true
    }
   },
   "outputs": [],
   "source": [
    "speed = [0.1, 17.5, 40, 48, 52, 69, 88]\n",
    "lifespan = [2, 8, 70, 1.5, 25, 12, 28]\n",
    "index = ['snail', 'pig', 'elephant',\n",
    "         'rabbit', 'giraffe', 'coyote', 'horse']\n",
    "df = pd.DataFrame({'speed': speed,\n",
    "                   'lifespan': lifespan}, index=index)\n",
    "ax = df.plot.bar(rot=0)"
   ]
  },
  {
   "cell_type": "code",
   "execution_count": null,
   "metadata": {
    "jupyter": {
     "source_hidden": true
    }
   },
   "outputs": [],
   "source": [
    "df"
   ]
  },
  {
   "cell_type": "code",
   "execution_count": 39,
   "metadata": {},
   "outputs": [
    {
     "data": {
      "text/html": [
       "<div>\n",
       "<style scoped>\n",
       "    .dataframe tbody tr th:only-of-type {\n",
       "        vertical-align: middle;\n",
       "    }\n",
       "\n",
       "    .dataframe tbody tr th {\n",
       "        vertical-align: top;\n",
       "    }\n",
       "\n",
       "    .dataframe thead th {\n",
       "        text-align: right;\n",
       "    }\n",
       "</style>\n",
       "<table border=\"1\" class=\"dataframe\">\n",
       "  <thead>\n",
       "    <tr style=\"text-align: right;\">\n",
       "      <th></th>\n",
       "      <th>basic_waic_SE</th>\n",
       "      <th>basicstar_waic_SE</th>\n",
       "      <th>pscale_waic_SE</th>\n",
       "      <th>pscalestar_SE</th>\n",
       "      <th>pindep_waic_SE</th>\n",
       "      <th>pindepstar_waic_SE</th>\n",
       "    </tr>\n",
       "    <tr>\n",
       "      <th>subs</th>\n",
       "      <th></th>\n",
       "      <th></th>\n",
       "      <th></th>\n",
       "      <th></th>\n",
       "      <th></th>\n",
       "      <th></th>\n",
       "    </tr>\n",
       "  </thead>\n",
       "  <tbody>\n",
       "    <tr>\n",
       "      <th>loss</th>\n",
       "      <td>4.152543</td>\n",
       "      <td>4.359222</td>\n",
       "      <td>4.241947</td>\n",
       "      <td>4.392174</td>\n",
       "      <td>4.133473</td>\n",
       "      <td>4.232541</td>\n",
       "    </tr>\n",
       "    <tr>\n",
       "      <th>outcome</th>\n",
       "      <td>1.846242</td>\n",
       "      <td>2.102947</td>\n",
       "      <td>1.889044</td>\n",
       "      <td>2.027254</td>\n",
       "      <td>1.847544</td>\n",
       "      <td>1.980440</td>\n",
       "    </tr>\n",
       "    <tr>\n",
       "      <th>random</th>\n",
       "      <td>5.489336</td>\n",
       "      <td>12.633443</td>\n",
       "      <td>4.062790</td>\n",
       "      <td>15.813085</td>\n",
       "      <td>3.579618</td>\n",
       "      <td>3.644527</td>\n",
       "    </tr>\n",
       "    <tr>\n",
       "      <th>reverse</th>\n",
       "      <td>6.931944</td>\n",
       "      <td>7.367145</td>\n",
       "      <td>5.474285</td>\n",
       "      <td>7.842773</td>\n",
       "      <td>3.307347</td>\n",
       "      <td>3.345210</td>\n",
       "    </tr>\n",
       "    <tr>\n",
       "      <th>standard</th>\n",
       "      <td>4.572181</td>\n",
       "      <td>4.598955</td>\n",
       "      <td>4.837552</td>\n",
       "      <td>5.495276</td>\n",
       "      <td>3.900934</td>\n",
       "      <td>3.928093</td>\n",
       "    </tr>\n",
       "    <tr>\n",
       "      <th>uncued</th>\n",
       "      <td>6.178981</td>\n",
       "      <td>13.576177</td>\n",
       "      <td>5.136851</td>\n",
       "      <td>12.760540</td>\n",
       "      <td>3.969756</td>\n",
       "      <td>4.027125</td>\n",
       "    </tr>\n",
       "  </tbody>\n",
       "</table>\n",
       "</div>"
      ],
      "text/plain": [
       "          basic_waic_SE  basicstar_waic_SE  pscale_waic_SE  pscalestar_SE  \\\n",
       "subs                                                                        \n",
       "loss           4.152543           4.359222        4.241947       4.392174   \n",
       "outcome        1.846242           2.102947        1.889044       2.027254   \n",
       "random         5.489336          12.633443        4.062790      15.813085   \n",
       "reverse        6.931944           7.367145        5.474285       7.842773   \n",
       "standard       4.572181           4.598955        4.837552       5.495276   \n",
       "uncued         6.178981          13.576177        5.136851      12.760540   \n",
       "\n",
       "          pindep_waic_SE  pindepstar_waic_SE  \n",
       "subs                                          \n",
       "loss            4.133473            4.232541  \n",
       "outcome         1.847544            1.980440  \n",
       "random          3.579618            3.644527  \n",
       "reverse         3.307347            3.345210  \n",
       "standard        3.900934            3.928093  \n",
       "uncued          3.969756            4.027125  "
      ]
     },
     "execution_count": 39,
     "metadata": {},
     "output_type": "execute_result"
    }
   ],
   "source": [
    "waic_df_values = waic_df[[\"basic_waic\", \"basicstar_waic\", \"pscale_waic\", \"pscalestar_waic\", \"pindep_waic\", \"pindepstar_waic\"]]\n",
    "waic_df_se = waic_df[[\"basic_waic_SE\", \"basicstar_waic_SE\", \"pscale_waic_SE\", \"pscalestar_SE\", \"pindep_waic_SE\", \"pindepstar_waic_SE\"]]\n",
    "waic_df_values = waic_df_values.transform(func = lambda x : x * -1)\n",
    "# waic_df_se = waic_df_se.transform(func = lambda x : x * 10000)\n",
    "waic_df_se"
   ]
  },
  {
   "cell_type": "code",
   "execution_count": 42,
   "metadata": {},
   "outputs": [
    {
     "data": {
      "image/png": "[encoded data removed]",
      "text/plain": [
       "<Figure size 1080x576 with 1 Axes>"
      ]
     },
     "metadata": {
      "needs_background": "light"
     },
     "output_type": "display_data"
    }
   ],
   "source": [
    "sub_groups = [\"Loss\", \"Outcome\", \"Random\", \"Reverse\", \"Standard\", \"Uncued\"]\n",
    "x_pos = np.arange(len(sub_groups))\n",
    "\n",
    "ax = waic_df_values.plot.bar(rot = 0, \n",
    "                        yerr = waic_df_se.values, \n",
    "                        capsize = 8,\n",
    "                        figsize = (15,8))\n",
    "plt.rcParams.update({'font.size': 18})\n",
    "ax.set_xlabel('Subject Group', fontweight = 'bold', fontsize = 20)\n",
    "ax.set_ylabel('WAIC', fontweight = 'bold', fontsize = 20)\n",
    "ax.set_xticklabels(sub_groups)\n",
    "ax.set_title(\"WAIC Value for Each Model Applied to a Subject Group\", \n",
    "             fontweight = 'bold',\n",
    "             fontsize = 22, pad = 20)\n",
    "ax.set_ylim(bottom = 0)\n",
    "ax.spines['right'].set_linewidth(0)\n",
    "ax.spines['top'].set_linewidth(0)\n",
    "ax.spines['left'].set_linewidth(2)\n",
    "ax.spines['bottom'].set_linewidth(2)\n",
    "ax.legend([\"Scaled\", \"Scaled*\", \"Scaled + Offset\", \"Scaled + Offset*\", \"Independent\", \"Independent*\"], title = \"Model Name\")\n",
    "plt.savefig('waic_graphic',facecolor = 'white')"
   ]
  },
  {
   "cell_type": "code",
   "execution_count": null,
   "metadata": {
    "jupyter": {
     "source_hidden": true
    }
   },
   "outputs": [],
   "source": [
    "waic_df_values[\"minimum\"] = waic_df_values.min(axis = 1)"
   ]
  },
  {
   "cell_type": "code",
   "execution_count": null,
   "metadata": {
    "jupyter": {
     "source_hidden": true
    }
   },
   "outputs": [],
   "source": [
    "waic_df_values"
   ]
  },
  {
   "cell_type": "code",
   "execution_count": null,
   "metadata": {
    "jupyter": {
     "source_hidden": true
    }
   },
   "outputs": [],
   "source": []
  }
 ],
 "metadata": {
  "kernelspec": {
   "display_name": "Python 3",
   "language": "python",
   "name": "python3"
  },
  "language_info": {
   "codemirror_mode": {
    "name": "ipython",
    "version": 3
   },
   "file_extension": ".py",
   "mimetype": "text/x-python",
   "name": "python",
   "nbconvert_exporter": "python",
   "pygments_lexer": "ipython3",
   "version": "3.8.5"
  }
 },
 "nbformat": 4,
 "nbformat_minor": 4
}
